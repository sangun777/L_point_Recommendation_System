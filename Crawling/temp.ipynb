{
 "cells": [
  {
   "cell_type": "code",
   "execution_count": 1,
   "metadata": {},
   "outputs": [],
   "source": [
    "import pandas as pd"
   ]
  },
  {
   "cell_type": "code",
   "execution_count": 2,
   "metadata": {},
   "outputs": [],
   "source": [
    "# pd.read_csv?"
   ]
  },
  {
   "cell_type": "code",
   "execution_count": 4,
   "metadata": {},
   "outputs": [],
   "source": [
    "DF_ex = pd.read_csv(\"ex1.csv\")"
   ]
  },
  {
   "cell_type": "code",
   "execution_count": 5,
   "metadata": {},
   "outputs": [
    {
     "data": {
      "text/html": [
       "<div>\n",
       "<style scoped>\n",
       "    .dataframe tbody tr th:only-of-type {\n",
       "        vertical-align: middle;\n",
       "    }\n",
       "\n",
       "    .dataframe tbody tr th {\n",
       "        vertical-align: top;\n",
       "    }\n",
       "\n",
       "    .dataframe thead th {\n",
       "        text-align: right;\n",
       "    }\n",
       "</style>\n",
       "<table border=\"1\" class=\"dataframe\">\n",
       "  <thead>\n",
       "    <tr style=\"text-align: right;\">\n",
       "      <th></th>\n",
       "      <th>Unnamed: 0</th>\n",
       "      <th>start</th>\n",
       "      <th>0</th>\n",
       "      <th>1</th>\n",
       "      <th>2</th>\n",
       "      <th>3</th>\n",
       "      <th>4</th>\n",
       "    </tr>\n",
       "  </thead>\n",
       "  <tbody>\n",
       "    <tr>\n",
       "      <th>0</th>\n",
       "      <td>0</td>\n",
       "      <td>시작</td>\n",
       "      <td>패션의류/언더웨어</td>\n",
       "      <td>명품/쥬얼리</td>\n",
       "      <td>명품/쥬얼리</td>\n",
       "      <td>명품/쥬얼리</td>\n",
       "      <td>명품/쥬얼리</td>\n",
       "    </tr>\n",
       "    <tr>\n",
       "      <th>1</th>\n",
       "      <td>1</td>\n",
       "      <td>NaN</td>\n",
       "      <td>여성트랜드의류</td>\n",
       "      <td>수입명품/해외배송</td>\n",
       "      <td>수입명품/해외배송</td>\n",
       "      <td>수입명품/해외배송</td>\n",
       "      <td>수입명품/해외배송</td>\n",
       "    </tr>\n",
       "    <tr>\n",
       "      <th>2</th>\n",
       "      <td>2</td>\n",
       "      <td>NaN</td>\n",
       "      <td>여성브랜드의류</td>\n",
       "      <td>스포츠/레저</td>\n",
       "      <td>스포츠/레저</td>\n",
       "      <td>주방/생활/건강</td>\n",
       "      <td>시계/보석/쥬얼리</td>\n",
       "    </tr>\n",
       "    <tr>\n",
       "      <th>3</th>\n",
       "      <td>3</td>\n",
       "      <td>NaN</td>\n",
       "      <td>롯데백화점</td>\n",
       "      <td>스포츠패션/슈즈</td>\n",
       "      <td>스포츠패션/슈즈</td>\n",
       "      <td>문구/악기/도서/취미</td>\n",
       "      <td>패션의류/언더웨어</td>\n",
       "    </tr>\n",
       "    <tr>\n",
       "      <th>4</th>\n",
       "      <td>4</td>\n",
       "      <td>NaN</td>\n",
       "      <td>여성캐주얼</td>\n",
       "      <td>롯데백화점</td>\n",
       "      <td>잡화/슈즈</td>\n",
       "      <td>세제/욕실/위생</td>\n",
       "      <td>여성브랜드의류</td>\n",
       "    </tr>\n",
       "  </tbody>\n",
       "</table>\n",
       "</div>"
      ],
      "text/plain": [
       "   Unnamed: 0 start          0          1          2            3          4\n",
       "0           0    시작  패션의류/언더웨어     명품/쥬얼리     명품/쥬얼리       명품/쥬얼리     명품/쥬얼리\n",
       "1           1   NaN    여성트랜드의류  수입명품/해외배송  수입명품/해외배송    수입명품/해외배송  수입명품/해외배송\n",
       "2           2   NaN    여성브랜드의류     스포츠/레저     스포츠/레저     주방/생활/건강  시계/보석/쥬얼리\n",
       "3           3   NaN      롯데백화점   스포츠패션/슈즈   스포츠패션/슈즈  문구/악기/도서/취미  패션의류/언더웨어\n",
       "4           4   NaN      여성캐주얼      롯데백화점      잡화/슈즈     세제/욕실/위생    여성브랜드의류"
      ]
     },
     "execution_count": 5,
     "metadata": {},
     "output_type": "execute_result"
    }
   ],
   "source": [
    "DF_ex.head()"
   ]
  },
  {
   "cell_type": "code",
   "execution_count": 9,
   "metadata": {},
   "outputs": [],
   "source": [
    "DF_ex.drop(['Unnamed: 0', 'start'], axis=1, inplace=True)"
   ]
  },
  {
   "cell_type": "code",
   "execution_count": 10,
   "metadata": {},
   "outputs": [
    {
     "data": {
      "text/html": [
       "<div>\n",
       "<style scoped>\n",
       "    .dataframe tbody tr th:only-of-type {\n",
       "        vertical-align: middle;\n",
       "    }\n",
       "\n",
       "    .dataframe tbody tr th {\n",
       "        vertical-align: top;\n",
       "    }\n",
       "\n",
       "    .dataframe thead th {\n",
       "        text-align: right;\n",
       "    }\n",
       "</style>\n",
       "<table border=\"1\" class=\"dataframe\">\n",
       "  <thead>\n",
       "    <tr style=\"text-align: right;\">\n",
       "      <th></th>\n",
       "      <th>0</th>\n",
       "      <th>1</th>\n",
       "      <th>2</th>\n",
       "      <th>3</th>\n",
       "      <th>4</th>\n",
       "    </tr>\n",
       "  </thead>\n",
       "  <tbody>\n",
       "    <tr>\n",
       "      <th>0</th>\n",
       "      <td>패션의류/언더웨어</td>\n",
       "      <td>명품/쥬얼리</td>\n",
       "      <td>명품/쥬얼리</td>\n",
       "      <td>명품/쥬얼리</td>\n",
       "      <td>명품/쥬얼리</td>\n",
       "    </tr>\n",
       "    <tr>\n",
       "      <th>1</th>\n",
       "      <td>여성트랜드의류</td>\n",
       "      <td>수입명품/해외배송</td>\n",
       "      <td>수입명품/해외배송</td>\n",
       "      <td>수입명품/해외배송</td>\n",
       "      <td>수입명품/해외배송</td>\n",
       "    </tr>\n",
       "    <tr>\n",
       "      <th>2</th>\n",
       "      <td>여성브랜드의류</td>\n",
       "      <td>스포츠/레저</td>\n",
       "      <td>스포츠/레저</td>\n",
       "      <td>주방/생활/건강</td>\n",
       "      <td>시계/보석/쥬얼리</td>\n",
       "    </tr>\n",
       "    <tr>\n",
       "      <th>3</th>\n",
       "      <td>롯데백화점</td>\n",
       "      <td>스포츠패션/슈즈</td>\n",
       "      <td>스포츠패션/슈즈</td>\n",
       "      <td>문구/악기/도서/취미</td>\n",
       "      <td>패션의류/언더웨어</td>\n",
       "    </tr>\n",
       "    <tr>\n",
       "      <th>4</th>\n",
       "      <td>여성캐주얼</td>\n",
       "      <td>롯데백화점</td>\n",
       "      <td>잡화/슈즈</td>\n",
       "      <td>세제/욕실/위생</td>\n",
       "      <td>여성브랜드의류</td>\n",
       "    </tr>\n",
       "  </tbody>\n",
       "</table>\n",
       "</div>"
      ],
      "text/plain": [
       "           0          1          2            3          4\n",
       "0  패션의류/언더웨어     명품/쥬얼리     명품/쥬얼리       명품/쥬얼리     명품/쥬얼리\n",
       "1    여성트랜드의류  수입명품/해외배송  수입명품/해외배송    수입명품/해외배송  수입명품/해외배송\n",
       "2    여성브랜드의류     스포츠/레저     스포츠/레저     주방/생활/건강  시계/보석/쥬얼리\n",
       "3      롯데백화점   스포츠패션/슈즈   스포츠패션/슈즈  문구/악기/도서/취미  패션의류/언더웨어\n",
       "4      여성캐주얼      롯데백화점      잡화/슈즈     세제/욕실/위생    여성브랜드의류"
      ]
     },
     "execution_count": 10,
     "metadata": {},
     "output_type": "execute_result"
    }
   ],
   "source": [
    "DF_ex.head()"
   ]
  },
  {
   "cell_type": "code",
   "execution_count": 16,
   "metadata": {},
   "outputs": [
    {
     "data": {
      "text/plain": [
       "0    패션의류/언더웨어\n",
       "1       명품/쥬얼리\n",
       "2       명품/쥬얼리\n",
       "3       명품/쥬얼리\n",
       "4       명품/쥬얼리\n",
       "Name: 0, dtype: object"
      ]
     },
     "execution_count": 16,
     "metadata": {},
     "output_type": "execute_result"
    }
   ],
   "source": [
    "DF_ex.iloc[0]"
   ]
  },
  {
   "cell_type": "code",
   "execution_count": null,
   "metadata": {},
   "outputs": [],
   "source": [
    "type"
   ]
  },
  {
   "cell_type": "code",
   "execution_count": 17,
   "metadata": {},
   "outputs": [
    {
     "name": "stdout",
     "output_type": "stream",
     "text": [
      "0\n",
      "1\n",
      "2\n",
      "3\n",
      "4\n"
     ]
    }
   ],
   "source": [
    "for i in range(5):\n",
    "    print(i)"
   ]
  },
  {
   "cell_type": "code",
   "execution_count": 18,
   "metadata": {},
   "outputs": [
    {
     "name": "stdout",
     "output_type": "stream",
     "text": [
      "5\n",
      "6\n",
      "7\n",
      "8\n",
      "9\n"
     ]
    }
   ],
   "source": [
    "for i in range(5, 10):\n",
    "    print(i)"
   ]
  },
  {
   "cell_type": "code",
   "execution_count": 20,
   "metadata": {},
   "outputs": [],
   "source": [
    "a = {'name': 'pey', 'phone': '0119993323', 'birth': '1118'}"
   ]
  },
  {
   "cell_type": "code",
   "execution_count": 21,
   "metadata": {},
   "outputs": [
    {
     "data": {
      "text/plain": [
       "{'name': 'pey', 'phone': '0119993323', 'birth': '1118'}"
      ]
     },
     "execution_count": 21,
     "metadata": {},
     "output_type": "execute_result"
    }
   ],
   "source": [
    "a"
   ]
  },
  {
   "cell_type": "code",
   "execution_count": 22,
   "metadata": {},
   "outputs": [
    {
     "data": {
      "text/plain": [
       "dict_items([('name', 'pey'), ('phone', '0119993323'), ('birth', '1118')])"
      ]
     },
     "execution_count": 22,
     "metadata": {},
     "output_type": "execute_result"
    }
   ],
   "source": [
    "a.items()"
   ]
  },
  {
   "cell_type": "code",
   "execution_count": 23,
   "metadata": {},
   "outputs": [],
   "source": [
    "b = list(a.items())"
   ]
  },
  {
   "cell_type": "code",
   "execution_count": 24,
   "metadata": {},
   "outputs": [
    {
     "data": {
      "text/plain": [
       "[('name', 'pey'), ('phone', '0119993323'), ('birth', '1118')]"
      ]
     },
     "execution_count": 24,
     "metadata": {},
     "output_type": "execute_result"
    }
   ],
   "source": [
    "b"
   ]
  }
 ],
 "metadata": {
  "kernelspec": {
   "display_name": "aiffel",
   "language": "python",
   "name": "aiffel"
  },
  "language_info": {
   "codemirror_mode": {
    "name": "ipython",
    "version": 3
   },
   "file_extension": ".py",
   "mimetype": "text/x-python",
   "name": "python",
   "nbconvert_exporter": "python",
   "pygments_lexer": "ipython3",
   "version": "3.8.5"
  }
 },
 "nbformat": 4,
 "nbformat_minor": 4
}
