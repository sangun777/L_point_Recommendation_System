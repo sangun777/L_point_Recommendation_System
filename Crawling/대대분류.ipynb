{
 "cells": [
  {
   "cell_type": "code",
   "execution_count": 1,
   "metadata": {},
   "outputs": [],
   "source": [
    "import pandas as pd\n",
    "import numpy as np\n",
    "import seaborn as sns\n",
    "import os\n",
    "import warnings\n",
    "import missingno as msno\n",
    "import matplotlib.pyplot as plt\n",
    "import seaborn as sns\n",
    "from tqdm import tqdm_notebook as tq\n",
    "pd.set_option('display.max_row',300)\n",
    "%matplotlib inline\n",
    "warnings.filterwarnings(action='ignore')"
   ]
  },
  {
   "cell_type": "code",
   "execution_count": 2,
   "metadata": {},
   "outputs": [],
   "source": [
    "path=os.getenv(\"HOME\") + ('/repo/Hackathon/Lpoint Competition/data/')\n",
    "filename = [\"01.Grade_online.csv\",  \"02.Transaction.csv\",\"04.demographic.csv\", \"03.Product classification.csv\", \"clac_nm0.csv\"]"
   ]
  },
  {
   "cell_type": "code",
   "execution_count": 3,
   "metadata": {},
   "outputs": [],
   "source": [
    "online = pd.read_csv(path + filename[0])\n",
    "trade = pd.read_csv(path + filename[1])\n",
    "customer = pd.read_csv(path + filename[2])\n",
    "item = pd.read_csv(path + filename[3])\n",
    "clac = pd.read_csv(path + filename[4])"
   ]
  },
  {
   "cell_type": "code",
   "execution_count": 4,
   "metadata": {},
   "outputs": [
    {
     "data": {
      "text/html": [
       "<div>\n",
       "<style scoped>\n",
       "    .dataframe tbody tr th:only-of-type {\n",
       "        vertical-align: middle;\n",
       "    }\n",
       "\n",
       "    .dataframe tbody tr th {\n",
       "        vertical-align: top;\n",
       "    }\n",
       "\n",
       "    .dataframe thead th {\n",
       "        text-align: right;\n",
       "    }\n",
       "</style>\n",
       "<table border=\"1\" class=\"dataframe\">\n",
       "  <thead>\n",
       "    <tr style=\"text-align: right;\">\n",
       "      <th></th>\n",
       "      <th>pd_c</th>\n",
       "      <th>clac_nm1</th>\n",
       "      <th>clac_nm2</th>\n",
       "      <th>clac_nm3</th>\n",
       "    </tr>\n",
       "  </thead>\n",
       "  <tbody>\n",
       "    <tr>\n",
       "      <th>0</th>\n",
       "      <td>1</td>\n",
       "      <td>Automotive Products</td>\n",
       "      <td>Automotive Replacement Repair / Maintanance Kits</td>\n",
       "      <td>Automobile Oil / Additives</td>\n",
       "    </tr>\n",
       "    <tr>\n",
       "      <th>1</th>\n",
       "      <td>2</td>\n",
       "      <td>Automotive Products</td>\n",
       "      <td>Automotive Replacement Repair / Maintanance Kits</td>\n",
       "      <td>Car Lights</td>\n",
       "    </tr>\n",
       "    <tr>\n",
       "      <th>2</th>\n",
       "      <td>3</td>\n",
       "      <td>Automotive Products</td>\n",
       "      <td>Automotive Replacement Repair / Maintanance Kits</td>\n",
       "      <td>Car Paint</td>\n",
       "    </tr>\n",
       "    <tr>\n",
       "      <th>3</th>\n",
       "      <td>4</td>\n",
       "      <td>Automotive Products</td>\n",
       "      <td>Automotive Replacement Repair / Maintanance Kits</td>\n",
       "      <td>Filters</td>\n",
       "    </tr>\n",
       "    <tr>\n",
       "      <th>4</th>\n",
       "      <td>5</td>\n",
       "      <td>Automotive Products</td>\n",
       "      <td>Automotive Replacement Repair / Maintanance Kits</td>\n",
       "      <td>Wiper Blades</td>\n",
       "    </tr>\n",
       "    <tr>\n",
       "      <th>...</th>\n",
       "      <td>...</td>\n",
       "      <td>...</td>\n",
       "      <td>...</td>\n",
       "      <td>...</td>\n",
       "    </tr>\n",
       "    <tr>\n",
       "      <th>1662</th>\n",
       "      <td>1663</td>\n",
       "      <td>Women's Clothing</td>\n",
       "      <td>Women's Upper Bodywear / Tops</td>\n",
       "      <td>Women's Cardigans</td>\n",
       "    </tr>\n",
       "    <tr>\n",
       "      <th>1663</th>\n",
       "      <td>1664</td>\n",
       "      <td>Women's Clothing</td>\n",
       "      <td>Women's Upper Bodywear / Tops</td>\n",
       "      <td>Women's Sweaters / Pullover</td>\n",
       "    </tr>\n",
       "    <tr>\n",
       "      <th>1664</th>\n",
       "      <td>1665</td>\n",
       "      <td>Women's Clothing</td>\n",
       "      <td>Women's Upper Bodywear / Tops</td>\n",
       "      <td>Women's Sweatshirts / Hoodies</td>\n",
       "    </tr>\n",
       "    <tr>\n",
       "      <th>1665</th>\n",
       "      <td>1666</td>\n",
       "      <td>Women's Clothing</td>\n",
       "      <td>Women's Upper Bodywear / Tops</td>\n",
       "      <td>Women's T-shirts / Tops</td>\n",
       "    </tr>\n",
       "    <tr>\n",
       "      <th>1666</th>\n",
       "      <td>1667</td>\n",
       "      <td>Women's Clothing</td>\n",
       "      <td>Women's Upper Bodywear / Tops</td>\n",
       "      <td>Women's Vests</td>\n",
       "    </tr>\n",
       "  </tbody>\n",
       "</table>\n",
       "<p>1667 rows × 4 columns</p>\n",
       "</div>"
      ],
      "text/plain": [
       "      pd_c             clac_nm1  \\\n",
       "0        1  Automotive Products   \n",
       "1        2  Automotive Products   \n",
       "2        3  Automotive Products   \n",
       "3        4  Automotive Products   \n",
       "4        5  Automotive Products   \n",
       "...    ...                  ...   \n",
       "1662  1663     Women's Clothing   \n",
       "1663  1664     Women's Clothing   \n",
       "1664  1665     Women's Clothing   \n",
       "1665  1666     Women's Clothing   \n",
       "1666  1667     Women's Clothing   \n",
       "\n",
       "                                              clac_nm2  \\\n",
       "0     Automotive Replacement Repair / Maintanance Kits   \n",
       "1     Automotive Replacement Repair / Maintanance Kits   \n",
       "2     Automotive Replacement Repair / Maintanance Kits   \n",
       "3     Automotive Replacement Repair / Maintanance Kits   \n",
       "4     Automotive Replacement Repair / Maintanance Kits   \n",
       "...                                                ...   \n",
       "1662                     Women's Upper Bodywear / Tops   \n",
       "1663                     Women's Upper Bodywear / Tops   \n",
       "1664                     Women's Upper Bodywear / Tops   \n",
       "1665                     Women's Upper Bodywear / Tops   \n",
       "1666                     Women's Upper Bodywear / Tops   \n",
       "\n",
       "                           clac_nm3  \n",
       "0        Automobile Oil / Additives  \n",
       "1                        Car Lights  \n",
       "2                         Car Paint  \n",
       "3                           Filters  \n",
       "4                      Wiper Blades  \n",
       "...                             ...  \n",
       "1662              Women's Cardigans  \n",
       "1663    Women's Sweaters / Pullover  \n",
       "1664  Women's Sweatshirts / Hoodies  \n",
       "1665        Women's T-shirts / Tops  \n",
       "1666                  Women's Vests  \n",
       "\n",
       "[1667 rows x 4 columns]"
      ]
     },
     "execution_count": 4,
     "metadata": {},
     "output_type": "execute_result"
    }
   ],
   "source": [
    "item"
   ]
  },
  {
   "cell_type": "code",
   "execution_count": 5,
   "metadata": {},
   "outputs": [],
   "source": [
    "clac.columns = ['clac_nm0','clac_nm1']"
   ]
  },
  {
   "cell_type": "code",
   "execution_count": 7,
   "metadata": {},
   "outputs": [],
   "source": [
    "item_add_nm0 = item.merge(clac, on='clac_nm1')[['pd_c', 'clac_nm0', 'clac_nm1', 'clac_nm2', 'clac_nm3']]"
   ]
  },
  {
   "cell_type": "code",
   "execution_count": 8,
   "metadata": {},
   "outputs": [
    {
     "data": {
      "image/png": "[encoded data removed]",
      "text/plain": [
       "<Figure size 864x576 with 1 Axes>"
      ]
     },
     "metadata": {
      "needs_background": "light"
     },
     "output_type": "display_data"
    }
   ],
   "source": [
    "fig, ax = plt.subplots(figsize=(12, 8))\n",
    "sns.countplot(item_add_nm0['clac_nm0'], ax=ax)\n",
    "plt.show()"
   ]
  }
 ],
 "metadata": {
  "kernelspec": {
   "display_name": "aiffel",
   "language": "python",
   "name": "aiffel"
  },
  "language_info": {
   "codemirror_mode": {
    "name": "ipython",
    "version": 3
   },
   "file_extension": ".py",
   "mimetype": "text/x-python",
   "name": "python",
   "nbconvert_exporter": "python",
   "pygments_lexer": "ipython3",
   "version": "3.7.7"
  }
 },
 "nbformat": 4,
 "nbformat_minor": 4
}
