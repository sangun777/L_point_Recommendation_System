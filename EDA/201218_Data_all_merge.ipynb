{
 "cells": [
  {
   "cell_type": "code",
   "execution_count": 1,
   "metadata": {},
   "outputs": [],
   "source": [
    "import pandas as pd\n",
    "from tqdm import tqdm"
   ]
  },
  {
   "cell_type": "markdown",
   "metadata": {},
   "source": [
    " * raw data 불러오기"
   ]
  },
  {
   "cell_type": "code",
   "execution_count": 2,
   "metadata": {},
   "outputs": [
    {
     "name": "stderr",
     "output_type": "stream",
     "text": [
      "/home/aiffel0042/anaconda3/envs/aiffel/lib/python3.8/site-packages/IPython/core/interactiveshell.py:3146: DtypeWarning: Columns (9) have mixed types.Specify dtype option on import or set low_memory=False.\n",
      "  has_raised = await self.run_ast_nodes(code_ast.body, cell_name,\n"
     ]
    }
   ],
   "source": [
    "# 1. 온라인 행동 데이터\n",
    "raw_data1_Online_Act = pd.read_csv('./data/data1_Online_Act.csv')\n",
    "\n",
    "# 2. 거래 정보 데이터\n",
    "raw_data2_Trade_Inform = pd.read_csv('./data/data2_Trade_Inform.csv')\n",
    "\n",
    "# 3. 사용자 demo 정보(나이, 성별)\n",
    "raw_data3_Demog = pd.read_csv('./data/data3_Demog.csv')\n",
    "\n",
    "# 4. 상품 대중소 분류 정보\n",
    "raw_data4_Item_Class = pd.read_csv('./data/data4_Item_Class.csv')"
   ]
  },
  {
   "cell_type": "markdown",
   "metadata": {},
   "source": [
    " * 온라인 데이터 + 외부데이터 불러오기"
   ]
  },
  {
   "cell_type": "code",
   "execution_count": 3,
   "metadata": {},
   "outputs": [],
   "source": [
    "online_add_exData = pd.read_csv(\"online_04-6.csv\")"
   ]
  },
  {
   "cell_type": "code",
   "execution_count": 38,
   "metadata": {},
   "outputs": [
    {
     "data": {
      "text/html": [
       "<div>\n",
       "<style scoped>\n",
       "    .dataframe tbody tr th:only-of-type {\n",
       "        vertical-align: middle;\n",
       "    }\n",
       "\n",
       "    .dataframe tbody tr th {\n",
       "        vertical-align: top;\n",
       "    }\n",
       "\n",
       "    .dataframe thead th {\n",
       "        text-align: right;\n",
       "    }\n",
       "</style>\n",
       "<table border=\"1\" class=\"dataframe\">\n",
       "  <thead>\n",
       "    <tr style=\"text-align: right;\">\n",
       "      <th></th>\n",
       "      <th>clnt_id</th>\n",
       "      <th>sess_id</th>\n",
       "      <th>hit_seq</th>\n",
       "      <th>action_type</th>\n",
       "      <th>biz_unit</th>\n",
       "      <th>sess_dt</th>\n",
       "      <th>hit_tm</th>\n",
       "      <th>hit_pss_tm</th>\n",
       "      <th>trans_id</th>\n",
       "      <th>sech_kwd</th>\n",
       "      <th>...</th>\n",
       "      <th>cum_act_7</th>\n",
       "      <th>day</th>\n",
       "      <th>holiday</th>\n",
       "      <th>hour</th>\n",
       "      <th>sech_clac_nm2</th>\n",
       "      <th>prefer_dvc_trfc</th>\n",
       "      <th>hum</th>\n",
       "      <th>temp</th>\n",
       "      <th>pty</th>\n",
       "      <th>r06</th>\n",
       "    </tr>\n",
       "  </thead>\n",
       "  <tbody>\n",
       "    <tr>\n",
       "      <th>0</th>\n",
       "      <td>1</td>\n",
       "      <td>1</td>\n",
       "      <td>1</td>\n",
       "      <td>0</td>\n",
       "      <td>A01</td>\n",
       "      <td>2019-09-11</td>\n",
       "      <td>16:14</td>\n",
       "      <td>11880</td>\n",
       "      <td>NaN</td>\n",
       "      <td>과일선물세트</td>\n",
       "      <td>...</td>\n",
       "      <td>0</td>\n",
       "      <td>2</td>\n",
       "      <td>0</td>\n",
       "      <td>16</td>\n",
       "      <td>NaN</td>\n",
       "      <td>mobile_app_DIRECT</td>\n",
       "      <td>67.0</td>\n",
       "      <td>22.1</td>\n",
       "      <td>0.0</td>\n",
       "      <td>0.0</td>\n",
       "    </tr>\n",
       "    <tr>\n",
       "      <th>1</th>\n",
       "      <td>1</td>\n",
       "      <td>1</td>\n",
       "      <td>2</td>\n",
       "      <td>0</td>\n",
       "      <td>A01</td>\n",
       "      <td>2019-09-11</td>\n",
       "      <td>16:15</td>\n",
       "      <td>22432</td>\n",
       "      <td>NaN</td>\n",
       "      <td>과일선물세트 백화점</td>\n",
       "      <td>...</td>\n",
       "      <td>0</td>\n",
       "      <td>2</td>\n",
       "      <td>0</td>\n",
       "      <td>16</td>\n",
       "      <td>NaN</td>\n",
       "      <td>mobile_app_PUSH</td>\n",
       "      <td>67.0</td>\n",
       "      <td>22.1</td>\n",
       "      <td>0.0</td>\n",
       "      <td>0.0</td>\n",
       "    </tr>\n",
       "    <tr>\n",
       "      <th>2</th>\n",
       "      <td>1</td>\n",
       "      <td>1</td>\n",
       "      <td>3</td>\n",
       "      <td>0</td>\n",
       "      <td>A01</td>\n",
       "      <td>2019-09-11</td>\n",
       "      <td>16:15</td>\n",
       "      <td>36140</td>\n",
       "      <td>NaN</td>\n",
       "      <td>과일바구니</td>\n",
       "      <td>...</td>\n",
       "      <td>0</td>\n",
       "      <td>2</td>\n",
       "      <td>0</td>\n",
       "      <td>16</td>\n",
       "      <td>NaN</td>\n",
       "      <td>mobile_app_DIRECT</td>\n",
       "      <td>67.0</td>\n",
       "      <td>22.1</td>\n",
       "      <td>0.0</td>\n",
       "      <td>0.0</td>\n",
       "    </tr>\n",
       "  </tbody>\n",
       "</table>\n",
       "<p>3 rows × 31 columns</p>\n",
       "</div>"
      ],
      "text/plain": [
       "   clnt_id  sess_id  hit_seq  action_type biz_unit     sess_dt hit_tm  \\\n",
       "0        1        1        1            0      A01  2019-09-11  16:14   \n",
       "1        1        1        2            0      A01  2019-09-11  16:15   \n",
       "2        1        1        3            0      A01  2019-09-11  16:15   \n",
       "\n",
       "   hit_pss_tm  trans_id    sech_kwd  ...  cum_act_7  day holiday hour  \\\n",
       "0       11880       NaN      과일선물세트  ...          0    2       0   16   \n",
       "1       22432       NaN  과일선물세트 백화점  ...          0    2       0   16   \n",
       "2       36140       NaN       과일바구니  ...          0    2       0   16   \n",
       "\n",
       "   sech_clac_nm2    prefer_dvc_trfc   hum  temp  pty  r06  \n",
       "0            NaN  mobile_app_DIRECT  67.0  22.1  0.0  0.0  \n",
       "1            NaN    mobile_app_PUSH  67.0  22.1  0.0  0.0  \n",
       "2            NaN  mobile_app_DIRECT  67.0  22.1  0.0  0.0  \n",
       "\n",
       "[3 rows x 31 columns]"
      ]
     },
     "execution_count": 38,
     "metadata": {},
     "output_type": "execute_result"
    }
   ],
   "source": [
    "online_add_exData.head(3)"
   ]
  },
  {
   "cell_type": "code",
   "execution_count": 39,
   "metadata": {},
   "outputs": [
    {
     "data": {
      "text/plain": [
       "(3196362, 31)"
      ]
     },
     "execution_count": 39,
     "metadata": {},
     "output_type": "execute_result"
    }
   ],
   "source": [
    "online_add_exData.shape"
   ]
  },
  {
   "cell_type": "markdown",
   "metadata": {},
   "source": [
    " * 온라인 데이터 + 키워드 크롤링을 통해 생성한 중분류 데이터 불러오기"
   ]
  },
  {
   "cell_type": "code",
   "execution_count": 5,
   "metadata": {},
   "outputs": [
    {
     "name": "stderr",
     "output_type": "stream",
     "text": [
      "/home/aiffel0042/anaconda3/envs/aiffel/lib/python3.8/site-packages/IPython/core/interactiveshell.py:3146: DtypeWarning: Columns (17,27) have mixed types.Specify dtype option on import or set low_memory=False.\n",
      "  has_raised = await self.run_ast_nodes(code_ast.body, cell_name,\n"
     ]
    }
   ],
   "source": [
    "merge_table_add_nm2_all = pd.read_csv(\"merge_all_create_sech_clac_nm2.csv\")\n",
    "merge_table_add_nm2_all.drop(\"Unnamed: 0\", axis=1, inplace=True)"
   ]
  },
  {
   "cell_type": "code",
   "execution_count": 40,
   "metadata": {},
   "outputs": [
    {
     "data": {
      "text/html": [
       "<div>\n",
       "<style scoped>\n",
       "    .dataframe tbody tr th:only-of-type {\n",
       "        vertical-align: middle;\n",
       "    }\n",
       "\n",
       "    .dataframe tbody tr th {\n",
       "        vertical-align: top;\n",
       "    }\n",
       "\n",
       "    .dataframe thead th {\n",
       "        text-align: right;\n",
       "    }\n",
       "</style>\n",
       "<table border=\"1\" class=\"dataframe\">\n",
       "  <thead>\n",
       "    <tr style=\"text-align: right;\">\n",
       "      <th></th>\n",
       "      <th>clnt_id</th>\n",
       "      <th>sess_id</th>\n",
       "      <th>hit_seq</th>\n",
       "      <th>action_type</th>\n",
       "      <th>biz_unit</th>\n",
       "      <th>sess_dt</th>\n",
       "      <th>hit_tm</th>\n",
       "      <th>hit_pss_tm</th>\n",
       "      <th>trans_id</th>\n",
       "      <th>sech_kwd</th>\n",
       "      <th>...</th>\n",
       "      <th>clnt_age</th>\n",
       "      <th>clac_nm1</th>\n",
       "      <th>clac_nm2</th>\n",
       "      <th>clac_nm3</th>\n",
       "      <th>pd_c_2</th>\n",
       "      <th>sech_kwd_over_3</th>\n",
       "      <th>sech_kwd_cat_0</th>\n",
       "      <th>sech_kwd_cat_1</th>\n",
       "      <th>sech_clac_nm1</th>\n",
       "      <th>sech_clac_nm2</th>\n",
       "    </tr>\n",
       "  </thead>\n",
       "  <tbody>\n",
       "    <tr>\n",
       "      <th>0</th>\n",
       "      <td>1</td>\n",
       "      <td>1</td>\n",
       "      <td>1</td>\n",
       "      <td>0</td>\n",
       "      <td>A01</td>\n",
       "      <td>20190911</td>\n",
       "      <td>16:14</td>\n",
       "      <td>11880</td>\n",
       "      <td>NaN</td>\n",
       "      <td>과일선물세트</td>\n",
       "      <td>...</td>\n",
       "      <td>unknown</td>\n",
       "      <td>NaN</td>\n",
       "      <td>NaN</td>\n",
       "      <td>NaN</td>\n",
       "      <td>NaN</td>\n",
       "      <td>과일선물세트</td>\n",
       "      <td>식품</td>\n",
       "      <td>신선식품</td>\n",
       "      <td>Chilled Foods</td>\n",
       "      <td>Chilled Instant Foods</td>\n",
       "    </tr>\n",
       "    <tr>\n",
       "      <th>1</th>\n",
       "      <td>1</td>\n",
       "      <td>1</td>\n",
       "      <td>2</td>\n",
       "      <td>0</td>\n",
       "      <td>A01</td>\n",
       "      <td>20190911</td>\n",
       "      <td>16:15</td>\n",
       "      <td>22432</td>\n",
       "      <td>NaN</td>\n",
       "      <td>과일선물세트 백화점</td>\n",
       "      <td>...</td>\n",
       "      <td>unknown</td>\n",
       "      <td>NaN</td>\n",
       "      <td>NaN</td>\n",
       "      <td>NaN</td>\n",
       "      <td>NaN</td>\n",
       "      <td>NaN</td>\n",
       "      <td>NaN</td>\n",
       "      <td>NaN</td>\n",
       "      <td>NaN</td>\n",
       "      <td>NaN</td>\n",
       "    </tr>\n",
       "    <tr>\n",
       "      <th>2</th>\n",
       "      <td>1</td>\n",
       "      <td>1</td>\n",
       "      <td>3</td>\n",
       "      <td>0</td>\n",
       "      <td>A01</td>\n",
       "      <td>20190911</td>\n",
       "      <td>16:15</td>\n",
       "      <td>36140</td>\n",
       "      <td>NaN</td>\n",
       "      <td>과일바구니</td>\n",
       "      <td>...</td>\n",
       "      <td>unknown</td>\n",
       "      <td>NaN</td>\n",
       "      <td>NaN</td>\n",
       "      <td>NaN</td>\n",
       "      <td>NaN</td>\n",
       "      <td>과일바구니</td>\n",
       "      <td>여행/렌탈/금융</td>\n",
       "      <td>렌탈/배달/케어</td>\n",
       "      <td>Living / Rental Services</td>\n",
       "      <td>Living Services</td>\n",
       "    </tr>\n",
       "  </tbody>\n",
       "</table>\n",
       "<p>3 rows × 32 columns</p>\n",
       "</div>"
      ],
      "text/plain": [
       "   clnt_id  sess_id  hit_seq  action_type biz_unit   sess_dt hit_tm  \\\n",
       "0        1        1        1            0      A01  20190911  16:14   \n",
       "1        1        1        2            0      A01  20190911  16:15   \n",
       "2        1        1        3            0      A01  20190911  16:15   \n",
       "\n",
       "   hit_pss_tm  trans_id    sech_kwd  ...  clnt_age  clac_nm1 clac_nm2  \\\n",
       "0       11880       NaN      과일선물세트  ...   unknown       NaN      NaN   \n",
       "1       22432       NaN  과일선물세트 백화점  ...   unknown       NaN      NaN   \n",
       "2       36140       NaN       과일바구니  ...   unknown       NaN      NaN   \n",
       "\n",
       "  clac_nm3 pd_c_2  sech_kwd_over_3 sech_kwd_cat_0  sech_kwd_cat_1  \\\n",
       "0      NaN    NaN           과일선물세트             식품            신선식품   \n",
       "1      NaN    NaN              NaN            NaN             NaN   \n",
       "2      NaN    NaN            과일바구니       여행/렌탈/금융        렌탈/배달/케어   \n",
       "\n",
       "              sech_clac_nm1          sech_clac_nm2  \n",
       "0             Chilled Foods  Chilled Instant Foods  \n",
       "1                       NaN                    NaN  \n",
       "2  Living / Rental Services        Living Services  \n",
       "\n",
       "[3 rows x 32 columns]"
      ]
     },
     "execution_count": 40,
     "metadata": {},
     "output_type": "execute_result"
    }
   ],
   "source": [
    "merge_table_add_nm2_all.head(3)"
   ]
  },
  {
   "cell_type": "code",
   "execution_count": 41,
   "metadata": {},
   "outputs": [
    {
     "data": {
      "text/plain": [
       "(3196362, 32)"
      ]
     },
     "execution_count": 41,
     "metadata": {},
     "output_type": "execute_result"
    }
   ],
   "source": [
    "merge_table_add_nm2_all.shape"
   ]
  },
  {
   "cell_type": "markdown",
   "metadata": {},
   "source": [
    "## (온라인 데이터 + 외부데이터)에 키워드와 중분류 데이터 merge"
   ]
  },
  {
   "cell_type": "markdown",
   "metadata": {},
   "source": [
    " * 데이터 정렬\n",
    "     * clnt_id -> sess_id -> sess_dt(일자) -> hit_tm(시분) -> hit_pss_tm(밀리초) 순으로 정렬(시간순 정렬)"
   ]
  },
  {
   "cell_type": "code",
   "execution_count": 11,
   "metadata": {},
   "outputs": [],
   "source": [
    "online_add_exData.sort_values(by = ['clnt_id', 'sess_id', 'hit_seq', 'sess_dt', 'hit_tm', 'hit_pss_tm'], axis=0, inplace = True)\n",
    "merge_table_add_nm2_all.sort_values(by = ['clnt_id', 'sess_id', 'hit_seq', 'sess_dt', 'hit_tm', 'hit_pss_tm'], axis=0, inplace = True)\n",
    "online_add_exData.reset_index(drop=True, inplace = True)\n",
    "merge_table_add_nm2_all.reset_index(drop=True, inplace = True)"
   ]
  },
  {
   "cell_type": "code",
   "execution_count": 12,
   "metadata": {},
   "outputs": [
    {
     "data": {
      "text/html": [
       "<div>\n",
       "<style scoped>\n",
       "    .dataframe tbody tr th:only-of-type {\n",
       "        vertical-align: middle;\n",
       "    }\n",
       "\n",
       "    .dataframe tbody tr th {\n",
       "        vertical-align: top;\n",
       "    }\n",
       "\n",
       "    .dataframe thead th {\n",
       "        text-align: right;\n",
       "    }\n",
       "</style>\n",
       "<table border=\"1\" class=\"dataframe\">\n",
       "  <thead>\n",
       "    <tr style=\"text-align: right;\">\n",
       "      <th></th>\n",
       "      <th>clnt_id</th>\n",
       "      <th>sess_id</th>\n",
       "      <th>hit_seq</th>\n",
       "      <th>action_type</th>\n",
       "      <th>biz_unit</th>\n",
       "      <th>sess_dt</th>\n",
       "      <th>hit_tm</th>\n",
       "      <th>hit_pss_tm</th>\n",
       "      <th>trans_id</th>\n",
       "      <th>sech_kwd</th>\n",
       "      <th>...</th>\n",
       "      <th>cum_act_7</th>\n",
       "      <th>day</th>\n",
       "      <th>holiday</th>\n",
       "      <th>hour</th>\n",
       "      <th>sech_clac_nm2</th>\n",
       "      <th>prefer_dvc_trfc</th>\n",
       "      <th>hum</th>\n",
       "      <th>temp</th>\n",
       "      <th>pty</th>\n",
       "      <th>r06</th>\n",
       "    </tr>\n",
       "  </thead>\n",
       "  <tbody>\n",
       "    <tr>\n",
       "      <th>0</th>\n",
       "      <td>1</td>\n",
       "      <td>1</td>\n",
       "      <td>1</td>\n",
       "      <td>0</td>\n",
       "      <td>A01</td>\n",
       "      <td>2019-09-11</td>\n",
       "      <td>16:14</td>\n",
       "      <td>11880</td>\n",
       "      <td>NaN</td>\n",
       "      <td>과일선물세트</td>\n",
       "      <td>...</td>\n",
       "      <td>0</td>\n",
       "      <td>2</td>\n",
       "      <td>0</td>\n",
       "      <td>16</td>\n",
       "      <td>NaN</td>\n",
       "      <td>mobile_app_DIRECT</td>\n",
       "      <td>67.0</td>\n",
       "      <td>22.100000</td>\n",
       "      <td>0.0</td>\n",
       "      <td>0.0</td>\n",
       "    </tr>\n",
       "    <tr>\n",
       "      <th>1</th>\n",
       "      <td>1</td>\n",
       "      <td>1</td>\n",
       "      <td>2</td>\n",
       "      <td>0</td>\n",
       "      <td>A01</td>\n",
       "      <td>2019-09-11</td>\n",
       "      <td>16:15</td>\n",
       "      <td>22432</td>\n",
       "      <td>NaN</td>\n",
       "      <td>과일선물세트 백화점</td>\n",
       "      <td>...</td>\n",
       "      <td>0</td>\n",
       "      <td>2</td>\n",
       "      <td>0</td>\n",
       "      <td>16</td>\n",
       "      <td>NaN</td>\n",
       "      <td>mobile_app_PUSH</td>\n",
       "      <td>67.0</td>\n",
       "      <td>22.100000</td>\n",
       "      <td>0.0</td>\n",
       "      <td>0.0</td>\n",
       "    </tr>\n",
       "    <tr>\n",
       "      <th>2</th>\n",
       "      <td>1</td>\n",
       "      <td>1</td>\n",
       "      <td>3</td>\n",
       "      <td>0</td>\n",
       "      <td>A01</td>\n",
       "      <td>2019-09-11</td>\n",
       "      <td>16:15</td>\n",
       "      <td>36140</td>\n",
       "      <td>NaN</td>\n",
       "      <td>과일바구니</td>\n",
       "      <td>...</td>\n",
       "      <td>0</td>\n",
       "      <td>2</td>\n",
       "      <td>0</td>\n",
       "      <td>16</td>\n",
       "      <td>NaN</td>\n",
       "      <td>mobile_app_DIRECT</td>\n",
       "      <td>67.0</td>\n",
       "      <td>22.100000</td>\n",
       "      <td>0.0</td>\n",
       "      <td>0.0</td>\n",
       "    </tr>\n",
       "    <tr>\n",
       "      <th>3</th>\n",
       "      <td>1</td>\n",
       "      <td>2</td>\n",
       "      <td>1</td>\n",
       "      <td>0</td>\n",
       "      <td>A01</td>\n",
       "      <td>2019-09-22</td>\n",
       "      <td>14:09</td>\n",
       "      <td>41584</td>\n",
       "      <td>NaN</td>\n",
       "      <td>초등가을잠바</td>\n",
       "      <td>...</td>\n",
       "      <td>0</td>\n",
       "      <td>6</td>\n",
       "      <td>1</td>\n",
       "      <td>14</td>\n",
       "      <td>Jewelry</td>\n",
       "      <td>mobile_app_DIRECT</td>\n",
       "      <td>58.0</td>\n",
       "      <td>18.200001</td>\n",
       "      <td>0.0</td>\n",
       "      <td>0.0</td>\n",
       "    </tr>\n",
       "    <tr>\n",
       "      <th>4</th>\n",
       "      <td>1</td>\n",
       "      <td>2</td>\n",
       "      <td>2</td>\n",
       "      <td>0</td>\n",
       "      <td>A01</td>\n",
       "      <td>2019-09-22</td>\n",
       "      <td>14:10</td>\n",
       "      <td>56113</td>\n",
       "      <td>NaN</td>\n",
       "      <td>초등가을점퍼</td>\n",
       "      <td>...</td>\n",
       "      <td>0</td>\n",
       "      <td>6</td>\n",
       "      <td>1</td>\n",
       "      <td>14</td>\n",
       "      <td>Women's Shoes</td>\n",
       "      <td>mobile_app_DIRECT</td>\n",
       "      <td>58.0</td>\n",
       "      <td>18.200001</td>\n",
       "      <td>0.0</td>\n",
       "      <td>0.0</td>\n",
       "    </tr>\n",
       "  </tbody>\n",
       "</table>\n",
       "<p>5 rows × 31 columns</p>\n",
       "</div>"
      ],
      "text/plain": [
       "   clnt_id  sess_id  hit_seq  action_type biz_unit     sess_dt hit_tm  \\\n",
       "0        1        1        1            0      A01  2019-09-11  16:14   \n",
       "1        1        1        2            0      A01  2019-09-11  16:15   \n",
       "2        1        1        3            0      A01  2019-09-11  16:15   \n",
       "3        1        2        1            0      A01  2019-09-22  14:09   \n",
       "4        1        2        2            0      A01  2019-09-22  14:10   \n",
       "\n",
       "   hit_pss_tm  trans_id    sech_kwd  ...  cum_act_7  day holiday hour  \\\n",
       "0       11880       NaN      과일선물세트  ...          0    2       0   16   \n",
       "1       22432       NaN  과일선물세트 백화점  ...          0    2       0   16   \n",
       "2       36140       NaN       과일바구니  ...          0    2       0   16   \n",
       "3       41584       NaN      초등가을잠바  ...          0    6       1   14   \n",
       "4       56113       NaN      초등가을점퍼  ...          0    6       1   14   \n",
       "\n",
       "   sech_clac_nm2    prefer_dvc_trfc   hum       temp  pty  r06  \n",
       "0            NaN  mobile_app_DIRECT  67.0  22.100000  0.0  0.0  \n",
       "1            NaN    mobile_app_PUSH  67.0  22.100000  0.0  0.0  \n",
       "2            NaN  mobile_app_DIRECT  67.0  22.100000  0.0  0.0  \n",
       "3        Jewelry  mobile_app_DIRECT  58.0  18.200001  0.0  0.0  \n",
       "4  Women's Shoes  mobile_app_DIRECT  58.0  18.200001  0.0  0.0  \n",
       "\n",
       "[5 rows x 31 columns]"
      ]
     },
     "execution_count": 12,
     "metadata": {},
     "output_type": "execute_result"
    }
   ],
   "source": [
    "online_add_exData.head(5)"
   ]
  },
  {
   "cell_type": "code",
   "execution_count": 15,
   "metadata": {},
   "outputs": [
    {
     "data": {
      "text/plain": [
       "(3196362, 31)"
      ]
     },
     "execution_count": 15,
     "metadata": {},
     "output_type": "execute_result"
    }
   ],
   "source": [
    "online_add_exData.shape"
   ]
  },
  {
   "cell_type": "code",
   "execution_count": 13,
   "metadata": {},
   "outputs": [
    {
     "data": {
      "text/html": [
       "<div>\n",
       "<style scoped>\n",
       "    .dataframe tbody tr th:only-of-type {\n",
       "        vertical-align: middle;\n",
       "    }\n",
       "\n",
       "    .dataframe tbody tr th {\n",
       "        vertical-align: top;\n",
       "    }\n",
       "\n",
       "    .dataframe thead th {\n",
       "        text-align: right;\n",
       "    }\n",
       "</style>\n",
       "<table border=\"1\" class=\"dataframe\">\n",
       "  <thead>\n",
       "    <tr style=\"text-align: right;\">\n",
       "      <th></th>\n",
       "      <th>clnt_id</th>\n",
       "      <th>sess_id</th>\n",
       "      <th>hit_seq</th>\n",
       "      <th>action_type</th>\n",
       "      <th>biz_unit</th>\n",
       "      <th>sess_dt</th>\n",
       "      <th>hit_tm</th>\n",
       "      <th>hit_pss_tm</th>\n",
       "      <th>trans_id</th>\n",
       "      <th>sech_kwd</th>\n",
       "      <th>...</th>\n",
       "      <th>clnt_age</th>\n",
       "      <th>clac_nm1</th>\n",
       "      <th>clac_nm2</th>\n",
       "      <th>clac_nm3</th>\n",
       "      <th>pd_c_2</th>\n",
       "      <th>sech_kwd_over_3</th>\n",
       "      <th>sech_kwd_cat_0</th>\n",
       "      <th>sech_kwd_cat_1</th>\n",
       "      <th>sech_clac_nm1</th>\n",
       "      <th>sech_clac_nm2</th>\n",
       "    </tr>\n",
       "  </thead>\n",
       "  <tbody>\n",
       "    <tr>\n",
       "      <th>0</th>\n",
       "      <td>1</td>\n",
       "      <td>1</td>\n",
       "      <td>1</td>\n",
       "      <td>0</td>\n",
       "      <td>A01</td>\n",
       "      <td>20190911</td>\n",
       "      <td>16:14</td>\n",
       "      <td>11880</td>\n",
       "      <td>NaN</td>\n",
       "      <td>과일선물세트</td>\n",
       "      <td>...</td>\n",
       "      <td>unknown</td>\n",
       "      <td>NaN</td>\n",
       "      <td>NaN</td>\n",
       "      <td>NaN</td>\n",
       "      <td>NaN</td>\n",
       "      <td>과일선물세트</td>\n",
       "      <td>식품</td>\n",
       "      <td>신선식품</td>\n",
       "      <td>Chilled Foods</td>\n",
       "      <td>Chilled Instant Foods</td>\n",
       "    </tr>\n",
       "    <tr>\n",
       "      <th>1</th>\n",
       "      <td>1</td>\n",
       "      <td>1</td>\n",
       "      <td>2</td>\n",
       "      <td>0</td>\n",
       "      <td>A01</td>\n",
       "      <td>20190911</td>\n",
       "      <td>16:15</td>\n",
       "      <td>22432</td>\n",
       "      <td>NaN</td>\n",
       "      <td>과일선물세트 백화점</td>\n",
       "      <td>...</td>\n",
       "      <td>unknown</td>\n",
       "      <td>NaN</td>\n",
       "      <td>NaN</td>\n",
       "      <td>NaN</td>\n",
       "      <td>NaN</td>\n",
       "      <td>NaN</td>\n",
       "      <td>NaN</td>\n",
       "      <td>NaN</td>\n",
       "      <td>NaN</td>\n",
       "      <td>NaN</td>\n",
       "    </tr>\n",
       "    <tr>\n",
       "      <th>2</th>\n",
       "      <td>1</td>\n",
       "      <td>1</td>\n",
       "      <td>3</td>\n",
       "      <td>0</td>\n",
       "      <td>A01</td>\n",
       "      <td>20190911</td>\n",
       "      <td>16:15</td>\n",
       "      <td>36140</td>\n",
       "      <td>NaN</td>\n",
       "      <td>과일바구니</td>\n",
       "      <td>...</td>\n",
       "      <td>unknown</td>\n",
       "      <td>NaN</td>\n",
       "      <td>NaN</td>\n",
       "      <td>NaN</td>\n",
       "      <td>NaN</td>\n",
       "      <td>과일바구니</td>\n",
       "      <td>여행/렌탈/금융</td>\n",
       "      <td>렌탈/배달/케어</td>\n",
       "      <td>Living / Rental Services</td>\n",
       "      <td>Living Services</td>\n",
       "    </tr>\n",
       "    <tr>\n",
       "      <th>3</th>\n",
       "      <td>1</td>\n",
       "      <td>2</td>\n",
       "      <td>1</td>\n",
       "      <td>0</td>\n",
       "      <td>A01</td>\n",
       "      <td>20190922</td>\n",
       "      <td>14:09</td>\n",
       "      <td>41584</td>\n",
       "      <td>NaN</td>\n",
       "      <td>초등가을잠바</td>\n",
       "      <td>...</td>\n",
       "      <td>unknown</td>\n",
       "      <td>NaN</td>\n",
       "      <td>NaN</td>\n",
       "      <td>NaN</td>\n",
       "      <td>NaN</td>\n",
       "      <td>NaN</td>\n",
       "      <td>NaN</td>\n",
       "      <td>NaN</td>\n",
       "      <td>NaN</td>\n",
       "      <td>NaN</td>\n",
       "    </tr>\n",
       "    <tr>\n",
       "      <th>4</th>\n",
       "      <td>1</td>\n",
       "      <td>2</td>\n",
       "      <td>2</td>\n",
       "      <td>0</td>\n",
       "      <td>A01</td>\n",
       "      <td>20190922</td>\n",
       "      <td>14:10</td>\n",
       "      <td>56113</td>\n",
       "      <td>NaN</td>\n",
       "      <td>초등가을점퍼</td>\n",
       "      <td>...</td>\n",
       "      <td>unknown</td>\n",
       "      <td>NaN</td>\n",
       "      <td>NaN</td>\n",
       "      <td>NaN</td>\n",
       "      <td>NaN</td>\n",
       "      <td>NaN</td>\n",
       "      <td>NaN</td>\n",
       "      <td>NaN</td>\n",
       "      <td>NaN</td>\n",
       "      <td>NaN</td>\n",
       "    </tr>\n",
       "  </tbody>\n",
       "</table>\n",
       "<p>5 rows × 32 columns</p>\n",
       "</div>"
      ],
      "text/plain": [
       "   clnt_id  sess_id  hit_seq  action_type biz_unit   sess_dt hit_tm  \\\n",
       "0        1        1        1            0      A01  20190911  16:14   \n",
       "1        1        1        2            0      A01  20190911  16:15   \n",
       "2        1        1        3            0      A01  20190911  16:15   \n",
       "3        1        2        1            0      A01  20190922  14:09   \n",
       "4        1        2        2            0      A01  20190922  14:10   \n",
       "\n",
       "   hit_pss_tm  trans_id    sech_kwd  ...  clnt_age  clac_nm1 clac_nm2  \\\n",
       "0       11880       NaN      과일선물세트  ...   unknown       NaN      NaN   \n",
       "1       22432       NaN  과일선물세트 백화점  ...   unknown       NaN      NaN   \n",
       "2       36140       NaN       과일바구니  ...   unknown       NaN      NaN   \n",
       "3       41584       NaN      초등가을잠바  ...   unknown       NaN      NaN   \n",
       "4       56113       NaN      초등가을점퍼  ...   unknown       NaN      NaN   \n",
       "\n",
       "  clac_nm3 pd_c_2  sech_kwd_over_3 sech_kwd_cat_0  sech_kwd_cat_1  \\\n",
       "0      NaN    NaN           과일선물세트             식품            신선식품   \n",
       "1      NaN    NaN              NaN            NaN             NaN   \n",
       "2      NaN    NaN            과일바구니       여행/렌탈/금융        렌탈/배달/케어   \n",
       "3      NaN    NaN              NaN            NaN             NaN   \n",
       "4      NaN    NaN              NaN            NaN             NaN   \n",
       "\n",
       "              sech_clac_nm1          sech_clac_nm2  \n",
       "0             Chilled Foods  Chilled Instant Foods  \n",
       "1                       NaN                    NaN  \n",
       "2  Living / Rental Services        Living Services  \n",
       "3                       NaN                    NaN  \n",
       "4                       NaN                    NaN  \n",
       "\n",
       "[5 rows x 32 columns]"
      ]
     },
     "execution_count": 13,
     "metadata": {},
     "output_type": "execute_result"
    }
   ],
   "source": [
    "merge_table_add_nm2_all.head(5)"
   ]
  },
  {
   "cell_type": "code",
   "execution_count": 16,
   "metadata": {},
   "outputs": [
    {
     "data": {
      "text/plain": [
       "(3196362, 32)"
      ]
     },
     "execution_count": 16,
     "metadata": {},
     "output_type": "execute_result"
    }
   ],
   "source": [
    "merge_table_add_nm2_all.shape"
   ]
  },
  {
   "cell_type": "markdown",
   "metadata": {},
   "source": [
    " ### merge 할 데이터만 뽑기\n",
    "     * act_kwd : (검색과 동시간에 수행된)온라인 행동에 대한 검색 키워드\n",
    "     * sech_kwd_over_3 : 3번 이상 검색된 키워드\n",
    "     * sech_kwd_cat_0 : 롯데홈쇼핑 사이트에서 sech_kwd_over_3를 검색하여 크롤링한 큰카테고리명\n",
    "     * sech_kwd_cat_1 : 롯데홈쇼핑 사이트에서 sech_kwd_over_3를 검색하여 크롤링한 작은카테고리명\n",
    "     * sech_clac_nm1 : sech_kwd_cat_1과 의미상 매칭되는 clac_nm1(상품대분류명)\n",
    "     * sech_clac_nm2 : sech_clac_nm1를 통하여 대분류 내 중분류 비율에 맞게 생성한 clac_nm2(중분류명)"
   ]
  },
  {
   "cell_type": "code",
   "execution_count": 17,
   "metadata": {},
   "outputs": [
    {
     "data": {
      "text/html": [
       "<div>\n",
       "<style scoped>\n",
       "    .dataframe tbody tr th:only-of-type {\n",
       "        vertical-align: middle;\n",
       "    }\n",
       "\n",
       "    .dataframe tbody tr th {\n",
       "        vertical-align: top;\n",
       "    }\n",
       "\n",
       "    .dataframe thead th {\n",
       "        text-align: right;\n",
       "    }\n",
       "</style>\n",
       "<table border=\"1\" class=\"dataframe\">\n",
       "  <thead>\n",
       "    <tr style=\"text-align: right;\">\n",
       "      <th></th>\n",
       "      <th>act_kwd</th>\n",
       "      <th>sech_kwd_over_3</th>\n",
       "      <th>sech_kwd_cat_0</th>\n",
       "      <th>sech_kwd_cat_1</th>\n",
       "      <th>sech_clac_nm1</th>\n",
       "      <th>sech_clac_nm2</th>\n",
       "    </tr>\n",
       "  </thead>\n",
       "  <tbody>\n",
       "    <tr>\n",
       "      <th>0</th>\n",
       "      <td>과일선물세트</td>\n",
       "      <td>과일선물세트</td>\n",
       "      <td>식품</td>\n",
       "      <td>신선식품</td>\n",
       "      <td>Chilled Foods</td>\n",
       "      <td>Chilled Instant Foods</td>\n",
       "    </tr>\n",
       "    <tr>\n",
       "      <th>1</th>\n",
       "      <td>과일선물세트 백화점</td>\n",
       "      <td>NaN</td>\n",
       "      <td>NaN</td>\n",
       "      <td>NaN</td>\n",
       "      <td>NaN</td>\n",
       "      <td>NaN</td>\n",
       "    </tr>\n",
       "    <tr>\n",
       "      <th>2</th>\n",
       "      <td>과일바구니</td>\n",
       "      <td>과일바구니</td>\n",
       "      <td>여행/렌탈/금융</td>\n",
       "      <td>렌탈/배달/케어</td>\n",
       "      <td>Living / Rental Services</td>\n",
       "      <td>Living Services</td>\n",
       "    </tr>\n",
       "  </tbody>\n",
       "</table>\n",
       "</div>"
      ],
      "text/plain": [
       "      act_kwd sech_kwd_over_3 sech_kwd_cat_0 sech_kwd_cat_1  \\\n",
       "0      과일선물세트          과일선물세트             식품           신선식품   \n",
       "1  과일선물세트 백화점             NaN            NaN            NaN   \n",
       "2       과일바구니           과일바구니       여행/렌탈/금융       렌탈/배달/케어   \n",
       "\n",
       "              sech_clac_nm1          sech_clac_nm2  \n",
       "0             Chilled Foods  Chilled Instant Foods  \n",
       "1                       NaN                    NaN  \n",
       "2  Living / Rental Services        Living Services  "
      ]
     },
     "execution_count": 17,
     "metadata": {},
     "output_type": "execute_result"
    }
   ],
   "source": [
    "add_cols = merge_table_add_nm2_all[['act_kwd', 'sech_kwd_over_3', 'sech_kwd_cat_0', 'sech_kwd_cat_1', 'sech_clac_nm1', 'sech_clac_nm2']]\n",
    "add_cols.head(3)"
   ]
  },
  {
   "cell_type": "code",
   "execution_count": 18,
   "metadata": {},
   "outputs": [
    {
     "data": {
      "text/plain": [
       "(3196362, 6)"
      ]
     },
     "execution_count": 18,
     "metadata": {},
     "output_type": "execute_result"
    }
   ],
   "source": [
    "add_cols.shape"
   ]
  },
  {
   "cell_type": "markdown",
   "metadata": {},
   "source": [
    " * 위에 2개 병합"
   ]
  },
  {
   "cell_type": "code",
   "execution_count": 19,
   "metadata": {},
   "outputs": [],
   "source": [
    "online_add_exData_kwdData = pd.concat([online_add_exData, add_cols], axis=1)"
   ]
  },
  {
   "cell_type": "code",
   "execution_count": 20,
   "metadata": {},
   "outputs": [
    {
     "data": {
      "text/html": [
       "<div>\n",
       "<style scoped>\n",
       "    .dataframe tbody tr th:only-of-type {\n",
       "        vertical-align: middle;\n",
       "    }\n",
       "\n",
       "    .dataframe tbody tr th {\n",
       "        vertical-align: top;\n",
       "    }\n",
       "\n",
       "    .dataframe thead th {\n",
       "        text-align: right;\n",
       "    }\n",
       "</style>\n",
       "<table border=\"1\" class=\"dataframe\">\n",
       "  <thead>\n",
       "    <tr style=\"text-align: right;\">\n",
       "      <th></th>\n",
       "      <th>clnt_id</th>\n",
       "      <th>sess_id</th>\n",
       "      <th>hit_seq</th>\n",
       "      <th>action_type</th>\n",
       "      <th>biz_unit</th>\n",
       "      <th>sess_dt</th>\n",
       "      <th>hit_tm</th>\n",
       "      <th>hit_pss_tm</th>\n",
       "      <th>trans_id</th>\n",
       "      <th>sech_kwd</th>\n",
       "      <th>...</th>\n",
       "      <th>hum</th>\n",
       "      <th>temp</th>\n",
       "      <th>pty</th>\n",
       "      <th>r06</th>\n",
       "      <th>act_kwd</th>\n",
       "      <th>sech_kwd_over_3</th>\n",
       "      <th>sech_kwd_cat_0</th>\n",
       "      <th>sech_kwd_cat_1</th>\n",
       "      <th>sech_clac_nm1</th>\n",
       "      <th>sech_clac_nm2</th>\n",
       "    </tr>\n",
       "  </thead>\n",
       "  <tbody>\n",
       "    <tr>\n",
       "      <th>0</th>\n",
       "      <td>1</td>\n",
       "      <td>1</td>\n",
       "      <td>1</td>\n",
       "      <td>0</td>\n",
       "      <td>A01</td>\n",
       "      <td>2019-09-11</td>\n",
       "      <td>16:14</td>\n",
       "      <td>11880</td>\n",
       "      <td>NaN</td>\n",
       "      <td>과일선물세트</td>\n",
       "      <td>...</td>\n",
       "      <td>67.0</td>\n",
       "      <td>22.1</td>\n",
       "      <td>0.0</td>\n",
       "      <td>0.0</td>\n",
       "      <td>과일선물세트</td>\n",
       "      <td>과일선물세트</td>\n",
       "      <td>식품</td>\n",
       "      <td>신선식품</td>\n",
       "      <td>Chilled Foods</td>\n",
       "      <td>Chilled Instant Foods</td>\n",
       "    </tr>\n",
       "    <tr>\n",
       "      <th>1</th>\n",
       "      <td>1</td>\n",
       "      <td>1</td>\n",
       "      <td>2</td>\n",
       "      <td>0</td>\n",
       "      <td>A01</td>\n",
       "      <td>2019-09-11</td>\n",
       "      <td>16:15</td>\n",
       "      <td>22432</td>\n",
       "      <td>NaN</td>\n",
       "      <td>과일선물세트 백화점</td>\n",
       "      <td>...</td>\n",
       "      <td>67.0</td>\n",
       "      <td>22.1</td>\n",
       "      <td>0.0</td>\n",
       "      <td>0.0</td>\n",
       "      <td>과일선물세트 백화점</td>\n",
       "      <td>NaN</td>\n",
       "      <td>NaN</td>\n",
       "      <td>NaN</td>\n",
       "      <td>NaN</td>\n",
       "      <td>NaN</td>\n",
       "    </tr>\n",
       "    <tr>\n",
       "      <th>2</th>\n",
       "      <td>1</td>\n",
       "      <td>1</td>\n",
       "      <td>3</td>\n",
       "      <td>0</td>\n",
       "      <td>A01</td>\n",
       "      <td>2019-09-11</td>\n",
       "      <td>16:15</td>\n",
       "      <td>36140</td>\n",
       "      <td>NaN</td>\n",
       "      <td>과일바구니</td>\n",
       "      <td>...</td>\n",
       "      <td>67.0</td>\n",
       "      <td>22.1</td>\n",
       "      <td>0.0</td>\n",
       "      <td>0.0</td>\n",
       "      <td>과일바구니</td>\n",
       "      <td>과일바구니</td>\n",
       "      <td>여행/렌탈/금융</td>\n",
       "      <td>렌탈/배달/케어</td>\n",
       "      <td>Living / Rental Services</td>\n",
       "      <td>Living Services</td>\n",
       "    </tr>\n",
       "  </tbody>\n",
       "</table>\n",
       "<p>3 rows × 37 columns</p>\n",
       "</div>"
      ],
      "text/plain": [
       "   clnt_id  sess_id  hit_seq  action_type biz_unit     sess_dt hit_tm  \\\n",
       "0        1        1        1            0      A01  2019-09-11  16:14   \n",
       "1        1        1        2            0      A01  2019-09-11  16:15   \n",
       "2        1        1        3            0      A01  2019-09-11  16:15   \n",
       "\n",
       "   hit_pss_tm  trans_id    sech_kwd  ...   hum  temp  pty  r06     act_kwd  \\\n",
       "0       11880       NaN      과일선물세트  ...  67.0  22.1  0.0  0.0      과일선물세트   \n",
       "1       22432       NaN  과일선물세트 백화점  ...  67.0  22.1  0.0  0.0  과일선물세트 백화점   \n",
       "2       36140       NaN       과일바구니  ...  67.0  22.1  0.0  0.0       과일바구니   \n",
       "\n",
       "   sech_kwd_over_3  sech_kwd_cat_0  sech_kwd_cat_1             sech_clac_nm1  \\\n",
       "0           과일선물세트              식품            신선식품             Chilled Foods   \n",
       "1              NaN             NaN             NaN                       NaN   \n",
       "2            과일바구니        여행/렌탈/금융        렌탈/배달/케어  Living / Rental Services   \n",
       "\n",
       "           sech_clac_nm2  \n",
       "0  Chilled Instant Foods  \n",
       "1                    NaN  \n",
       "2        Living Services  \n",
       "\n",
       "[3 rows x 37 columns]"
      ]
     },
     "execution_count": 20,
     "metadata": {},
     "output_type": "execute_result"
    }
   ],
   "source": [
    "online_add_exData_kwdData.head(3)"
   ]
  },
  {
   "cell_type": "code",
   "execution_count": 21,
   "metadata": {},
   "outputs": [
    {
     "data": {
      "text/plain": [
       "(3196362, 37)"
      ]
     },
     "execution_count": 21,
     "metadata": {},
     "output_type": "execute_result"
    }
   ],
   "source": [
    "online_add_exData_kwdData.shape"
   ]
  },
  {
   "cell_type": "markdown",
   "metadata": {},
   "source": [
    "### 2. 거래정보, 4. 상품명 정보 병합"
   ]
  },
  {
   "cell_type": "markdown",
   "metadata": {},
   "source": [
    "    * merge의 key역할을 수행하기 위해 raw_data4_Item_Class['pd_c'] data를 raw_data2와 동일한 str 형으로 변경\n",
    "    \n",
    "     ### 4. 데이터 병합을 위하여 상품 이름정보의 pd_c 데이터 타입 변경 (int -> str)\n",
    "     * raw_data2_Trade_Inform에 있는 pd_c열의 경우, NaN과 unknown 값을 포함하기 때문에,  \n",
    "       자료형을 int나 float로 변경할 수 없음(변경 시, 에러 발생)\n",
    "     * 따라서 4. 상품 이름 정보의 pd_c를 str 형으로 자료형 변경\n",
    "     * 그냥 object 형으로만 변경 시, 값이 같아도\n",
    "         merge_raw123 에서는 pd_c = '0062'(str형)으로 인식하고,\n",
    "         4. 상품이름 정보에서는 pd_c = 62(int형으로 인식해서 병합 시, 데이터 matching이 안됨"
   ]
  },
  {
   "cell_type": "code",
   "execution_count": 22,
   "metadata": {},
   "outputs": [],
   "source": [
    "# 4. 상품 이름 데이터의 'pd_c' 열의 값을 4자리 숫자로 변환합니다.\n",
    "# 예시) '1' => '0001', '62' => '0062', '773' => '0773' \n",
    "\n",
    "raw_data4_Item_Class['pd_c'] = raw_data4_Item_Class['pd_c'].astype('str')\n",
    "\n",
    "cnt_add_zero = 0\n",
    "\n",
    "for i in range(999):\n",
    "    cnt_add_zero = 4 - len(raw_data4_Item_Class['pd_c'][i])\n",
    "    add_zero = \"0\" * cnt_add_zero\n",
    "    raw_data4_Item_Class['pd_c'][i] = add_zero + raw_data4_Item_Class['pd_c'][i]"
   ]
  },
  {
   "cell_type": "code",
   "execution_count": 25,
   "metadata": {},
   "outputs": [
    {
     "name": "stdout",
     "output_type": "stream",
     "text": [
      "key1 sample : unknown\n",
      "key2 sample : 0001\n",
      "key1 type : <class 'str'>\n",
      "key2 type : <class 'str'>\n",
      "key1 len : 599961\n",
      "key2 len : 1667\n"
     ]
    }
   ],
   "source": [
    "print('key1 sample :', raw_data2_Trade_Inform['pd_c'][0] )\n",
    "print('key2 sample :',raw_data4_Item_Class['pd_c'][0]  )\n",
    "print('key1 type :', type(raw_data2_Trade_Inform['pd_c'][0]) )\n",
    "print('key2 type :', type(raw_data4_Item_Class['pd_c'][0]) )\n",
    "print('key1 len :', len(raw_data2_Trade_Inform['pd_c']) )\n",
    "print('key2 len :', len(raw_data4_Item_Class['pd_c']) )"
   ]
  },
  {
   "cell_type": "code",
   "execution_count": 27,
   "metadata": {},
   "outputs": [],
   "source": [
    "merge_raw24 = pd.merge(raw_data2_Trade_Inform, raw_data4_Item_Class, on='pd_c', how='left')"
   ]
  },
  {
   "cell_type": "code",
   "execution_count": 28,
   "metadata": {},
   "outputs": [
    {
     "data": {
      "text/html": [
       "<div>\n",
       "<style scoped>\n",
       "    .dataframe tbody tr th:only-of-type {\n",
       "        vertical-align: middle;\n",
       "    }\n",
       "\n",
       "    .dataframe tbody tr th {\n",
       "        vertical-align: top;\n",
       "    }\n",
       "\n",
       "    .dataframe thead th {\n",
       "        text-align: right;\n",
       "    }\n",
       "</style>\n",
       "<table border=\"1\" class=\"dataframe\">\n",
       "  <thead>\n",
       "    <tr style=\"text-align: right;\">\n",
       "      <th></th>\n",
       "      <th>clnt_id</th>\n",
       "      <th>trans_id</th>\n",
       "      <th>trans_seq</th>\n",
       "      <th>biz_unit</th>\n",
       "      <th>pd_c</th>\n",
       "      <th>de_dt</th>\n",
       "      <th>de_tm</th>\n",
       "      <th>buy_am</th>\n",
       "      <th>buy_ct</th>\n",
       "      <th>clac_nm1</th>\n",
       "      <th>clac_nm2</th>\n",
       "      <th>clac_nm3</th>\n",
       "    </tr>\n",
       "  </thead>\n",
       "  <tbody>\n",
       "    <tr>\n",
       "      <th>0</th>\n",
       "      <td>21922</td>\n",
       "      <td>104999</td>\n",
       "      <td>1</td>\n",
       "      <td>A03</td>\n",
       "      <td>unknown</td>\n",
       "      <td>20190920</td>\n",
       "      <td>12:41</td>\n",
       "      <td>5990</td>\n",
       "      <td>1</td>\n",
       "      <td>NaN</td>\n",
       "      <td>NaN</td>\n",
       "      <td>NaN</td>\n",
       "    </tr>\n",
       "    <tr>\n",
       "      <th>1</th>\n",
       "      <td>21279</td>\n",
       "      <td>104907</td>\n",
       "      <td>4</td>\n",
       "      <td>A03</td>\n",
       "      <td>unknown</td>\n",
       "      <td>20190920</td>\n",
       "      <td>10:27</td>\n",
       "      <td>10900</td>\n",
       "      <td>1</td>\n",
       "      <td>NaN</td>\n",
       "      <td>NaN</td>\n",
       "      <td>NaN</td>\n",
       "    </tr>\n",
       "    <tr>\n",
       "      <th>2</th>\n",
       "      <td>39423</td>\n",
       "      <td>105124</td>\n",
       "      <td>11</td>\n",
       "      <td>A03</td>\n",
       "      <td>unknown</td>\n",
       "      <td>20190920</td>\n",
       "      <td>17:26</td>\n",
       "      <td>12900</td>\n",
       "      <td>1</td>\n",
       "      <td>NaN</td>\n",
       "      <td>NaN</td>\n",
       "      <td>NaN</td>\n",
       "    </tr>\n",
       "    <tr>\n",
       "      <th>3</th>\n",
       "      <td>18362</td>\n",
       "      <td>104010</td>\n",
       "      <td>1</td>\n",
       "      <td>A03</td>\n",
       "      <td>unknown</td>\n",
       "      <td>20190920</td>\n",
       "      <td>09:57</td>\n",
       "      <td>9900</td>\n",
       "      <td>1</td>\n",
       "      <td>NaN</td>\n",
       "      <td>NaN</td>\n",
       "      <td>NaN</td>\n",
       "    </tr>\n",
       "    <tr>\n",
       "      <th>4</th>\n",
       "      <td>39423</td>\n",
       "      <td>105124</td>\n",
       "      <td>13</td>\n",
       "      <td>A03</td>\n",
       "      <td>0565</td>\n",
       "      <td>20190920</td>\n",
       "      <td>17:26</td>\n",
       "      <td>2990</td>\n",
       "      <td>1</td>\n",
       "      <td>Fruits</td>\n",
       "      <td>Imported Fruits</td>\n",
       "      <td>Bananas</td>\n",
       "    </tr>\n",
       "    <tr>\n",
       "      <th>...</th>\n",
       "      <td>...</td>\n",
       "      <td>...</td>\n",
       "      <td>...</td>\n",
       "      <td>...</td>\n",
       "      <td>...</td>\n",
       "      <td>...</td>\n",
       "      <td>...</td>\n",
       "      <td>...</td>\n",
       "      <td>...</td>\n",
       "      <td>...</td>\n",
       "      <td>...</td>\n",
       "      <td>...</td>\n",
       "    </tr>\n",
       "    <tr>\n",
       "      <th>599956</th>\n",
       "      <td>35311</td>\n",
       "      <td>2839</td>\n",
       "      <td>3</td>\n",
       "      <td>B03</td>\n",
       "      <td>0339</td>\n",
       "      <td>20190927</td>\n",
       "      <td>14:09</td>\n",
       "      <td>3500</td>\n",
       "      <td>1</td>\n",
       "      <td>Cosmetics / Beauty Care</td>\n",
       "      <td>Skin Care</td>\n",
       "      <td>Facial Masks</td>\n",
       "    </tr>\n",
       "    <tr>\n",
       "      <th>599957</th>\n",
       "      <td>35311</td>\n",
       "      <td>2839</td>\n",
       "      <td>4</td>\n",
       "      <td>B03</td>\n",
       "      <td>0339</td>\n",
       "      <td>20190927</td>\n",
       "      <td>14:09</td>\n",
       "      <td>3600</td>\n",
       "      <td>2</td>\n",
       "      <td>Cosmetics / Beauty Care</td>\n",
       "      <td>Skin Care</td>\n",
       "      <td>Facial Masks</td>\n",
       "    </tr>\n",
       "    <tr>\n",
       "      <th>599958</th>\n",
       "      <td>35311</td>\n",
       "      <td>2839</td>\n",
       "      <td>5</td>\n",
       "      <td>B03</td>\n",
       "      <td>0339</td>\n",
       "      <td>20190927</td>\n",
       "      <td>14:09</td>\n",
       "      <td>3500</td>\n",
       "      <td>1</td>\n",
       "      <td>Cosmetics / Beauty Care</td>\n",
       "      <td>Skin Care</td>\n",
       "      <td>Facial Masks</td>\n",
       "    </tr>\n",
       "    <tr>\n",
       "      <th>599959</th>\n",
       "      <td>35311</td>\n",
       "      <td>2839</td>\n",
       "      <td>2</td>\n",
       "      <td>B03</td>\n",
       "      <td>0339</td>\n",
       "      <td>20190927</td>\n",
       "      <td>14:09</td>\n",
       "      <td>4500</td>\n",
       "      <td>1</td>\n",
       "      <td>Cosmetics / Beauty Care</td>\n",
       "      <td>Skin Care</td>\n",
       "      <td>Facial Masks</td>\n",
       "    </tr>\n",
       "    <tr>\n",
       "      <th>599960</th>\n",
       "      <td>35311</td>\n",
       "      <td>2839</td>\n",
       "      <td>6</td>\n",
       "      <td>B03</td>\n",
       "      <td>0324</td>\n",
       "      <td>20190927</td>\n",
       "      <td>14:09</td>\n",
       "      <td>6800</td>\n",
       "      <td>1</td>\n",
       "      <td>Cosmetics / Beauty Care</td>\n",
       "      <td>Makeup</td>\n",
       "      <td>Nail Stickers / Stones</td>\n",
       "    </tr>\n",
       "  </tbody>\n",
       "</table>\n",
       "<p>599961 rows × 12 columns</p>\n",
       "</div>"
      ],
      "text/plain": [
       "        clnt_id  trans_id  trans_seq biz_unit     pd_c     de_dt  de_tm  \\\n",
       "0         21922    104999          1      A03  unknown  20190920  12:41   \n",
       "1         21279    104907          4      A03  unknown  20190920  10:27   \n",
       "2         39423    105124         11      A03  unknown  20190920  17:26   \n",
       "3         18362    104010          1      A03  unknown  20190920  09:57   \n",
       "4         39423    105124         13      A03     0565  20190920  17:26   \n",
       "...         ...       ...        ...      ...      ...       ...    ...   \n",
       "599956    35311      2839          3      B03     0339  20190927  14:09   \n",
       "599957    35311      2839          4      B03     0339  20190927  14:09   \n",
       "599958    35311      2839          5      B03     0339  20190927  14:09   \n",
       "599959    35311      2839          2      B03     0339  20190927  14:09   \n",
       "599960    35311      2839          6      B03     0324  20190927  14:09   \n",
       "\n",
       "        buy_am  buy_ct                 clac_nm1         clac_nm2  \\\n",
       "0         5990       1                      NaN              NaN   \n",
       "1        10900       1                      NaN              NaN   \n",
       "2        12900       1                      NaN              NaN   \n",
       "3         9900       1                      NaN              NaN   \n",
       "4         2990       1                   Fruits  Imported Fruits   \n",
       "...        ...     ...                      ...              ...   \n",
       "599956    3500       1  Cosmetics / Beauty Care        Skin Care   \n",
       "599957    3600       2  Cosmetics / Beauty Care        Skin Care   \n",
       "599958    3500       1  Cosmetics / Beauty Care        Skin Care   \n",
       "599959    4500       1  Cosmetics / Beauty Care        Skin Care   \n",
       "599960    6800       1  Cosmetics / Beauty Care           Makeup   \n",
       "\n",
       "                      clac_nm3  \n",
       "0                          NaN  \n",
       "1                          NaN  \n",
       "2                          NaN  \n",
       "3                          NaN  \n",
       "4                      Bananas  \n",
       "...                        ...  \n",
       "599956            Facial Masks  \n",
       "599957            Facial Masks  \n",
       "599958            Facial Masks  \n",
       "599959            Facial Masks  \n",
       "599960  Nail Stickers / Stones  \n",
       "\n",
       "[599961 rows x 12 columns]"
      ]
     },
     "execution_count": 28,
     "metadata": {},
     "output_type": "execute_result"
    }
   ],
   "source": [
    "merge_raw24"
   ]
  },
  {
   "cell_type": "markdown",
   "metadata": {},
   "source": [
    "### (1.온라인행동+외부데이터+키워드/중분류) + (2. 거래정보 + 4. 상품명정보 병합)"
   ]
  },
  {
   "cell_type": "markdown",
   "metadata": {},
   "source": [
    " * 혹시 있을 꼬임을 위해 key를 제외한 모든 중복 columns 제거"
   ]
  },
  {
   "cell_type": "code",
   "execution_count": 32,
   "metadata": {},
   "outputs": [
    {
     "data": {
      "text/plain": [
       "Index(['clnt_id', 'sess_id', 'hit_seq', 'action_type', 'biz_unit', 'sess_dt',\n",
       "       'hit_tm', 'hit_pss_tm', 'trans_id', 'sech_kwd', 'tot_pag_view_ct',\n",
       "       'tot_sess_hr_v', 'trfc_src', 'dvc_ctg_nm', 'cum_act_0', 'cum_act_1',\n",
       "       'cum_act_2', 'cum_act_3', 'cum_act_4', 'cum_act_5', 'cum_act_6',\n",
       "       'cum_act_7', 'day', 'holiday', 'hour', 'sech_clac_nm2',\n",
       "       'prefer_dvc_trfc', 'hum', 'temp', 'pty', 'r06', 'act_kwd',\n",
       "       'sech_kwd_over_3', 'sech_kwd_cat_0', 'sech_kwd_cat_1', 'sech_clac_nm1',\n",
       "       'sech_clac_nm2'],\n",
       "      dtype='object')"
      ]
     },
     "execution_count": 32,
     "metadata": {},
     "output_type": "execute_result"
    }
   ],
   "source": [
    "online_add_exData_kwdData.columns"
   ]
  },
  {
   "cell_type": "code",
   "execution_count": 33,
   "metadata": {},
   "outputs": [
    {
     "data": {
      "text/plain": [
       "Index(['clnt_id', 'trans_id', 'trans_seq', 'biz_unit', 'pd_c', 'de_dt',\n",
       "       'de_tm', 'buy_am', 'buy_ct', 'clac_nm1', 'clac_nm2', 'clac_nm3'],\n",
       "      dtype='object')"
      ]
     },
     "execution_count": 33,
     "metadata": {},
     "output_type": "execute_result"
    }
   ],
   "source": [
    "merge_raw24.columns"
   ]
  },
  {
   "cell_type": "code",
   "execution_count": 36,
   "metadata": {},
   "outputs": [],
   "source": [
    "merge_raw24.drop(['clnt_id', 'biz_unit'], axis=1, inplace = True)"
   ]
  },
  {
   "cell_type": "code",
   "execution_count": 37,
   "metadata": {},
   "outputs": [
    {
     "data": {
      "text/plain": [
       "Index(['trans_id', 'trans_seq', 'pd_c', 'de_dt', 'de_tm', 'buy_am', 'buy_ct',\n",
       "       'clac_nm1', 'clac_nm2', 'clac_nm3'],\n",
       "      dtype='object')"
      ]
     },
     "execution_count": 37,
     "metadata": {},
     "output_type": "execute_result"
    }
   ],
   "source": [
    "merge_raw24.columns"
   ]
  },
  {
   "cell_type": "code",
   "execution_count": 42,
   "metadata": {},
   "outputs": [
    {
     "name": "stdout",
     "output_type": "stream",
     "text": [
      "key1 sample : nan\n",
      "key2 sample : 104999\n",
      "key1 type : <class 'numpy.float64'>\n",
      "key2 type : <class 'numpy.int64'>\n",
      "key1 len : 3196362\n",
      "key2 len : 599961\n"
     ]
    }
   ],
   "source": [
    "print('key1 sample :', online_add_exData_kwdData['trans_id'][0])\n",
    "print('key2 sample :',merge_raw24['trans_id'][0])\n",
    "print('key1 type :', type(online_add_exData_kwdData['trans_id'][0]))\n",
    "print('key2 type :', type(merge_raw24['trans_id'][0]))\n",
    "print('key1 len :', len(online_add_exData_kwdData['trans_id']))\n",
    "print('key2 len :', len(merge_raw24['trans_id']))"
   ]
  },
  {
   "cell_type": "markdown",
   "metadata": {},
   "source": [
    " * key(trans_id) 자료type 맞춰주기"
   ]
  },
  {
   "cell_type": "code",
   "execution_count": 50,
   "metadata": {},
   "outputs": [],
   "source": [
    "merge_raw24['trans_id'] = merge_raw24['trans_id'].astype('float')"
   ]
  },
  {
   "cell_type": "markdown",
   "metadata": {},
   "source": [
    " * 병합"
   ]
  },
  {
   "cell_type": "code",
   "execution_count": 52,
   "metadata": {},
   "outputs": [],
   "source": [
    "merge_124 = pd.merge(online_add_exData_kwdData, merge_raw24, on = 'trans_id', how = 'left')"
   ]
  },
  {
   "cell_type": "code",
   "execution_count": 53,
   "metadata": {},
   "outputs": [
    {
     "data": {
      "text/html": [
       "<div>\n",
       "<style scoped>\n",
       "    .dataframe tbody tr th:only-of-type {\n",
       "        vertical-align: middle;\n",
       "    }\n",
       "\n",
       "    .dataframe tbody tr th {\n",
       "        vertical-align: top;\n",
       "    }\n",
       "\n",
       "    .dataframe thead th {\n",
       "        text-align: right;\n",
       "    }\n",
       "</style>\n",
       "<table border=\"1\" class=\"dataframe\">\n",
       "  <thead>\n",
       "    <tr style=\"text-align: right;\">\n",
       "      <th></th>\n",
       "      <th>clnt_id</th>\n",
       "      <th>sess_id</th>\n",
       "      <th>hit_seq</th>\n",
       "      <th>action_type</th>\n",
       "      <th>biz_unit</th>\n",
       "      <th>sess_dt</th>\n",
       "      <th>hit_tm</th>\n",
       "      <th>hit_pss_tm</th>\n",
       "      <th>trans_id</th>\n",
       "      <th>sech_kwd</th>\n",
       "      <th>...</th>\n",
       "      <th>sech_clac_nm2</th>\n",
       "      <th>trans_seq</th>\n",
       "      <th>pd_c</th>\n",
       "      <th>de_dt</th>\n",
       "      <th>de_tm</th>\n",
       "      <th>buy_am</th>\n",
       "      <th>buy_ct</th>\n",
       "      <th>clac_nm1</th>\n",
       "      <th>clac_nm2</th>\n",
       "      <th>clac_nm3</th>\n",
       "    </tr>\n",
       "  </thead>\n",
       "  <tbody>\n",
       "    <tr>\n",
       "      <th>0</th>\n",
       "      <td>1</td>\n",
       "      <td>1</td>\n",
       "      <td>1</td>\n",
       "      <td>0</td>\n",
       "      <td>A01</td>\n",
       "      <td>2019-09-11</td>\n",
       "      <td>16:14</td>\n",
       "      <td>11880</td>\n",
       "      <td>NaN</td>\n",
       "      <td>과일선물세트</td>\n",
       "      <td>...</td>\n",
       "      <td>Chilled Instant Foods</td>\n",
       "      <td>NaN</td>\n",
       "      <td>NaN</td>\n",
       "      <td>NaN</td>\n",
       "      <td>NaN</td>\n",
       "      <td>NaN</td>\n",
       "      <td>NaN</td>\n",
       "      <td>NaN</td>\n",
       "      <td>NaN</td>\n",
       "      <td>NaN</td>\n",
       "    </tr>\n",
       "    <tr>\n",
       "      <th>1</th>\n",
       "      <td>1</td>\n",
       "      <td>1</td>\n",
       "      <td>2</td>\n",
       "      <td>0</td>\n",
       "      <td>A01</td>\n",
       "      <td>2019-09-11</td>\n",
       "      <td>16:15</td>\n",
       "      <td>22432</td>\n",
       "      <td>NaN</td>\n",
       "      <td>과일선물세트 백화점</td>\n",
       "      <td>...</td>\n",
       "      <td>NaN</td>\n",
       "      <td>NaN</td>\n",
       "      <td>NaN</td>\n",
       "      <td>NaN</td>\n",
       "      <td>NaN</td>\n",
       "      <td>NaN</td>\n",
       "      <td>NaN</td>\n",
       "      <td>NaN</td>\n",
       "      <td>NaN</td>\n",
       "      <td>NaN</td>\n",
       "    </tr>\n",
       "    <tr>\n",
       "      <th>2</th>\n",
       "      <td>1</td>\n",
       "      <td>1</td>\n",
       "      <td>3</td>\n",
       "      <td>0</td>\n",
       "      <td>A01</td>\n",
       "      <td>2019-09-11</td>\n",
       "      <td>16:15</td>\n",
       "      <td>36140</td>\n",
       "      <td>NaN</td>\n",
       "      <td>과일바구니</td>\n",
       "      <td>...</td>\n",
       "      <td>Living Services</td>\n",
       "      <td>NaN</td>\n",
       "      <td>NaN</td>\n",
       "      <td>NaN</td>\n",
       "      <td>NaN</td>\n",
       "      <td>NaN</td>\n",
       "      <td>NaN</td>\n",
       "      <td>NaN</td>\n",
       "      <td>NaN</td>\n",
       "      <td>NaN</td>\n",
       "    </tr>\n",
       "  </tbody>\n",
       "</table>\n",
       "<p>3 rows × 46 columns</p>\n",
       "</div>"
      ],
      "text/plain": [
       "   clnt_id  sess_id  hit_seq  action_type biz_unit     sess_dt hit_tm  \\\n",
       "0        1        1        1            0      A01  2019-09-11  16:14   \n",
       "1        1        1        2            0      A01  2019-09-11  16:15   \n",
       "2        1        1        3            0      A01  2019-09-11  16:15   \n",
       "\n",
       "   hit_pss_tm  trans_id    sech_kwd  ...          sech_clac_nm2  trans_seq  \\\n",
       "0       11880       NaN      과일선물세트  ...  Chilled Instant Foods        NaN   \n",
       "1       22432       NaN  과일선물세트 백화점  ...                    NaN        NaN   \n",
       "2       36140       NaN       과일바구니  ...        Living Services        NaN   \n",
       "\n",
       "  pd_c de_dt  de_tm  buy_am  buy_ct  clac_nm1  clac_nm2  clac_nm3  \n",
       "0  NaN   NaN    NaN     NaN     NaN       NaN       NaN       NaN  \n",
       "1  NaN   NaN    NaN     NaN     NaN       NaN       NaN       NaN  \n",
       "2  NaN   NaN    NaN     NaN     NaN       NaN       NaN       NaN  \n",
       "\n",
       "[3 rows x 46 columns]"
      ]
     },
     "execution_count": 53,
     "metadata": {},
     "output_type": "execute_result"
    }
   ],
   "source": [
    "merge_124.head(3)"
   ]
  },
  {
   "cell_type": "code",
   "execution_count": 54,
   "metadata": {},
   "outputs": [
    {
     "data": {
      "text/plain": [
       "(3299190, 46)"
      ]
     },
     "execution_count": 54,
     "metadata": {},
     "output_type": "execute_result"
    }
   ],
   "source": [
    "merge_124.shape"
   ]
  },
  {
   "cell_type": "markdown",
   "metadata": {},
   "source": [
    "### + 3.사용자 정보 병합"
   ]
  },
  {
   "cell_type": "code",
   "execution_count": 56,
   "metadata": {},
   "outputs": [
    {
     "data": {
      "text/plain": [
       "Index(['clnt_id', 'sess_id', 'hit_seq', 'action_type', 'biz_unit', 'sess_dt',\n",
       "       'hit_tm', 'hit_pss_tm', 'trans_id', 'sech_kwd', 'tot_pag_view_ct',\n",
       "       'tot_sess_hr_v', 'trfc_src', 'dvc_ctg_nm', 'cum_act_0', 'cum_act_1',\n",
       "       'cum_act_2', 'cum_act_3', 'cum_act_4', 'cum_act_5', 'cum_act_6',\n",
       "       'cum_act_7', 'day', 'holiday', 'hour', 'sech_clac_nm2',\n",
       "       'prefer_dvc_trfc', 'hum', 'temp', 'pty', 'r06', 'act_kwd',\n",
       "       'sech_kwd_over_3', 'sech_kwd_cat_0', 'sech_kwd_cat_1', 'sech_clac_nm1',\n",
       "       'sech_clac_nm2', 'trans_seq', 'pd_c', 'de_dt', 'de_tm', 'buy_am',\n",
       "       'buy_ct', 'clac_nm1', 'clac_nm2', 'clac_nm3'],\n",
       "      dtype='object')"
      ]
     },
     "execution_count": 56,
     "metadata": {},
     "output_type": "execute_result"
    }
   ],
   "source": [
    "merge_124.columns"
   ]
  },
  {
   "cell_type": "code",
   "execution_count": 55,
   "metadata": {},
   "outputs": [
    {
     "data": {
      "text/plain": [
       "Index(['clnt_id', 'clnt_gender', 'clnt_age'], dtype='object')"
      ]
     },
     "execution_count": 55,
     "metadata": {},
     "output_type": "execute_result"
    }
   ],
   "source": [
    "raw_data3_Demog.columns"
   ]
  },
  {
   "cell_type": "code",
   "execution_count": 57,
   "metadata": {},
   "outputs": [
    {
     "data": {
      "text/plain": [
       "dtype('int64')"
      ]
     },
     "execution_count": 57,
     "metadata": {},
     "output_type": "execute_result"
    }
   ],
   "source": [
    "merge_124['clnt_id'].dtypes"
   ]
  },
  {
   "cell_type": "code",
   "execution_count": 58,
   "metadata": {},
   "outputs": [
    {
     "data": {
      "text/plain": [
       "dtype('int64')"
      ]
     },
     "execution_count": 58,
     "metadata": {},
     "output_type": "execute_result"
    }
   ],
   "source": [
    "raw_data3_Demog['clnt_id'].dtypes"
   ]
  },
  {
   "cell_type": "code",
   "execution_count": 59,
   "metadata": {},
   "outputs": [],
   "source": [
    "merge_all = pd.merge(merge_124, raw_data3_Demog, on = 'clnt_id', how = 'left')"
   ]
  },
  {
   "cell_type": "code",
   "execution_count": 60,
   "metadata": {},
   "outputs": [
    {
     "data": {
      "text/html": [
       "<div>\n",
       "<style scoped>\n",
       "    .dataframe tbody tr th:only-of-type {\n",
       "        vertical-align: middle;\n",
       "    }\n",
       "\n",
       "    .dataframe tbody tr th {\n",
       "        vertical-align: top;\n",
       "    }\n",
       "\n",
       "    .dataframe thead th {\n",
       "        text-align: right;\n",
       "    }\n",
       "</style>\n",
       "<table border=\"1\" class=\"dataframe\">\n",
       "  <thead>\n",
       "    <tr style=\"text-align: right;\">\n",
       "      <th></th>\n",
       "      <th>clnt_id</th>\n",
       "      <th>sess_id</th>\n",
       "      <th>hit_seq</th>\n",
       "      <th>action_type</th>\n",
       "      <th>biz_unit</th>\n",
       "      <th>sess_dt</th>\n",
       "      <th>hit_tm</th>\n",
       "      <th>hit_pss_tm</th>\n",
       "      <th>trans_id</th>\n",
       "      <th>sech_kwd</th>\n",
       "      <th>...</th>\n",
       "      <th>pd_c</th>\n",
       "      <th>de_dt</th>\n",
       "      <th>de_tm</th>\n",
       "      <th>buy_am</th>\n",
       "      <th>buy_ct</th>\n",
       "      <th>clac_nm1</th>\n",
       "      <th>clac_nm2</th>\n",
       "      <th>clac_nm3</th>\n",
       "      <th>clnt_gender</th>\n",
       "      <th>clnt_age</th>\n",
       "    </tr>\n",
       "  </thead>\n",
       "  <tbody>\n",
       "    <tr>\n",
       "      <th>0</th>\n",
       "      <td>1</td>\n",
       "      <td>1</td>\n",
       "      <td>1</td>\n",
       "      <td>0</td>\n",
       "      <td>A01</td>\n",
       "      <td>2019-09-11</td>\n",
       "      <td>16:14</td>\n",
       "      <td>11880</td>\n",
       "      <td>NaN</td>\n",
       "      <td>과일선물세트</td>\n",
       "      <td>...</td>\n",
       "      <td>NaN</td>\n",
       "      <td>NaN</td>\n",
       "      <td>NaN</td>\n",
       "      <td>NaN</td>\n",
       "      <td>NaN</td>\n",
       "      <td>NaN</td>\n",
       "      <td>NaN</td>\n",
       "      <td>NaN</td>\n",
       "      <td>unknown</td>\n",
       "      <td>unknown</td>\n",
       "    </tr>\n",
       "    <tr>\n",
       "      <th>1</th>\n",
       "      <td>1</td>\n",
       "      <td>1</td>\n",
       "      <td>2</td>\n",
       "      <td>0</td>\n",
       "      <td>A01</td>\n",
       "      <td>2019-09-11</td>\n",
       "      <td>16:15</td>\n",
       "      <td>22432</td>\n",
       "      <td>NaN</td>\n",
       "      <td>과일선물세트 백화점</td>\n",
       "      <td>...</td>\n",
       "      <td>NaN</td>\n",
       "      <td>NaN</td>\n",
       "      <td>NaN</td>\n",
       "      <td>NaN</td>\n",
       "      <td>NaN</td>\n",
       "      <td>NaN</td>\n",
       "      <td>NaN</td>\n",
       "      <td>NaN</td>\n",
       "      <td>unknown</td>\n",
       "      <td>unknown</td>\n",
       "    </tr>\n",
       "    <tr>\n",
       "      <th>2</th>\n",
       "      <td>1</td>\n",
       "      <td>1</td>\n",
       "      <td>3</td>\n",
       "      <td>0</td>\n",
       "      <td>A01</td>\n",
       "      <td>2019-09-11</td>\n",
       "      <td>16:15</td>\n",
       "      <td>36140</td>\n",
       "      <td>NaN</td>\n",
       "      <td>과일바구니</td>\n",
       "      <td>...</td>\n",
       "      <td>NaN</td>\n",
       "      <td>NaN</td>\n",
       "      <td>NaN</td>\n",
       "      <td>NaN</td>\n",
       "      <td>NaN</td>\n",
       "      <td>NaN</td>\n",
       "      <td>NaN</td>\n",
       "      <td>NaN</td>\n",
       "      <td>unknown</td>\n",
       "      <td>unknown</td>\n",
       "    </tr>\n",
       "  </tbody>\n",
       "</table>\n",
       "<p>3 rows × 48 columns</p>\n",
       "</div>"
      ],
      "text/plain": [
       "   clnt_id  sess_id  hit_seq  action_type biz_unit     sess_dt hit_tm  \\\n",
       "0        1        1        1            0      A01  2019-09-11  16:14   \n",
       "1        1        1        2            0      A01  2019-09-11  16:15   \n",
       "2        1        1        3            0      A01  2019-09-11  16:15   \n",
       "\n",
       "   hit_pss_tm  trans_id    sech_kwd  ...  pd_c  de_dt de_tm buy_am  buy_ct  \\\n",
       "0       11880       NaN      과일선물세트  ...   NaN    NaN   NaN    NaN     NaN   \n",
       "1       22432       NaN  과일선물세트 백화점  ...   NaN    NaN   NaN    NaN     NaN   \n",
       "2       36140       NaN       과일바구니  ...   NaN    NaN   NaN    NaN     NaN   \n",
       "\n",
       "   clac_nm1  clac_nm2  clac_nm3  clnt_gender  clnt_age  \n",
       "0       NaN       NaN       NaN      unknown   unknown  \n",
       "1       NaN       NaN       NaN      unknown   unknown  \n",
       "2       NaN       NaN       NaN      unknown   unknown  \n",
       "\n",
       "[3 rows x 48 columns]"
      ]
     },
     "execution_count": 60,
     "metadata": {},
     "output_type": "execute_result"
    }
   ],
   "source": [
    "merge_all.head(3)"
   ]
  },
  {
   "cell_type": "code",
   "execution_count": 61,
   "metadata": {},
   "outputs": [
    {
     "data": {
      "text/plain": [
       "(3299190, 48)"
      ]
     },
     "execution_count": 61,
     "metadata": {},
     "output_type": "execute_result"
    }
   ],
   "source": [
    "merge_all.shape"
   ]
  },
  {
   "cell_type": "markdown",
   "metadata": {},
   "source": [
    " * 병합된 데이터 저장(sech_clac_nm2 하나 지우고 다시 저장)"
   ]
  },
  {
   "cell_type": "code",
   "execution_count": 62,
   "metadata": {},
   "outputs": [],
   "source": [
    "# merge_all.to_csv(\"Merge_all_data.csv\", index=False)"
   ]
  },
  {
   "cell_type": "markdown",
   "metadata": {},
   "source": [
    " * 저장된 데이터 재확인"
   ]
  },
  {
   "cell_type": "code",
   "execution_count": 63,
   "metadata": {},
   "outputs": [
    {
     "name": "stderr",
     "output_type": "stream",
     "text": [
      "/home/aiffel0042/anaconda3/envs/aiffel/lib/python3.8/site-packages/IPython/core/interactiveshell.py:3146: DtypeWarning: Columns (38) have mixed types.Specify dtype option on import or set low_memory=False.\n",
      "  has_raised = await self.run_ast_nodes(code_ast.body, cell_name,\n"
     ]
    }
   ],
   "source": [
    "merge_all = pd.read_csv(\"Merge_all_data.csv\")"
   ]
  },
  {
   "cell_type": "code",
   "execution_count": 65,
   "metadata": {},
   "outputs": [
    {
     "data": {
      "text/plain": [
       "(3299190, 48)"
      ]
     },
     "execution_count": 65,
     "metadata": {},
     "output_type": "execute_result"
    }
   ],
   "source": [
    "merge_all.shape"
   ]
  },
  {
   "cell_type": "code",
   "execution_count": 64,
   "metadata": {},
   "outputs": [
    {
     "data": {
      "text/plain": [
       "Index(['clnt_id', 'sess_id', 'hit_seq', 'action_type', 'biz_unit', 'sess_dt',\n",
       "       'hit_tm', 'hit_pss_tm', 'trans_id', 'sech_kwd', 'tot_pag_view_ct',\n",
       "       'tot_sess_hr_v', 'trfc_src', 'dvc_ctg_nm', 'cum_act_0', 'cum_act_1',\n",
       "       'cum_act_2', 'cum_act_3', 'cum_act_4', 'cum_act_5', 'cum_act_6',\n",
       "       'cum_act_7', 'day', 'holiday', 'hour', 'sech_clac_nm2',\n",
       "       'prefer_dvc_trfc', 'hum', 'temp', 'pty', 'r06', 'act_kwd',\n",
       "       'sech_kwd_over_3', 'sech_kwd_cat_0', 'sech_kwd_cat_1', 'sech_clac_nm1',\n",
       "       'sech_clac_nm2.1', 'trans_seq', 'pd_c', 'de_dt', 'de_tm', 'buy_am',\n",
       "       'buy_ct', 'clac_nm1', 'clac_nm2', 'clac_nm3', 'clnt_gender',\n",
       "       'clnt_age'],\n",
       "      dtype='object')"
      ]
     },
     "execution_count": 64,
     "metadata": {},
     "output_type": "execute_result"
    }
   ],
   "source": [
    "merge_all.columns"
   ]
  },
  {
   "cell_type": "markdown",
   "metadata": {},
   "source": [
    " * 중복열 sech_calc_nm2 삭제"
   ]
  },
  {
   "cell_type": "code",
   "execution_count": 67,
   "metadata": {},
   "outputs": [],
   "source": [
    "merge_all.drop('sech_clac_nm2', axis = 1, inplace = True)"
   ]
  },
  {
   "cell_type": "code",
   "execution_count": 68,
   "metadata": {},
   "outputs": [],
   "source": [
    "merge_all.rename(columns = {'sech_clac_nm2.1' : 'sech_clac_nm2'}, inplace = True)"
   ]
  },
  {
   "cell_type": "markdown",
   "metadata": {},
   "source": [
    " * 병합된 데이터 저장"
   ]
  },
  {
   "cell_type": "code",
   "execution_count": 79,
   "metadata": {},
   "outputs": [],
   "source": [
    "merge_all.to_csv(\"Merge_all_data.csv\", index=False)"
   ]
  },
  {
   "cell_type": "markdown",
   "metadata": {},
   "source": [
    "------------------------------------------------------------------------------------------------------------------------------"
   ]
  }
 ],
 "metadata": {
  "kernelspec": {
   "display_name": "aiffel",
   "language": "python",
   "name": "aiffel"
  },
  "language_info": {
   "codemirror_mode": {
    "name": "ipython",
    "version": 3
   },
   "file_extension": ".py",
   "mimetype": "text/x-python",
   "name": "python",
   "nbconvert_exporter": "python",
   "pygments_lexer": "ipython3",
   "version": "3.8.5"
  }
 },
 "nbformat": 4,
 "nbformat_minor": 4
}
