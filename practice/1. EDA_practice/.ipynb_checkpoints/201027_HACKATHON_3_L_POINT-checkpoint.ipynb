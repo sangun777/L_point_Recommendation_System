{
 "cells": [
  {
   "cell_type": "markdown",
   "metadata": {},
   "source": [
    "* 패키지 호출"
   ]
  },
  {
   "cell_type": "code",
   "execution_count": 3,
   "metadata": {},
   "outputs": [],
   "source": [
    "import pandas as pd\n",
    "import os"
   ]
  },
  {
   "cell_type": "markdown",
   "metadata": {},
   "source": [
    "* Data 불러오기"
   ]
  },
  {
   "cell_type": "code",
   "execution_count": 4,
   "metadata": {},
   "outputs": [
    {
     "name": "stderr",
     "output_type": "stream",
     "text": [
      "/home/aiffel0042/anaconda3/envs/aiffel/lib/python3.7/site-packages/IPython/core/interactiveshell.py:3072: DtypeWarning: Columns (9) have mixed types.Specify dtype option on import or set low_memory=False.\n",
      "  interactivity=interactivity, compiler=compiler, result=result)\n"
     ]
    }
   ],
   "source": [
    "# Data 경로 설정\n",
    "Path_data1_Online_Act = os.getenv(\"HOME\")+\"/aiffel/Hackathon_3_L_Point/data1_Online_Act.csv\"\n",
    "Path_data2_Trade_Inform = os.getenv(\"HOME\")+\"/aiffel/Hackathon_3_L_Point/data2_Trade_Inform.csv\"\n",
    "Path_data3_Demog = os.getenv(\"HOME\")+\"/aiffel/Hackathon_3_L_Point/data3_Demog.csv\"\n",
    "Path_data4_Item_Class = os.getenv(\"HOME\")+\"/aiffel/Hackathon_3_L_Point/data4_Item_Class.csv\"\n",
    "\n",
    "# CSV -> DF형으로 불러오기\n",
    "data1_Online_Act = pd.read_csv(Path_data1_Online_Act)\n",
    "data2_Trade_Inform = pd.read_csv(Path_data2_Trade_Inform)\n",
    "data3_Demog = pd.read_csv(Path_data3_Demog)\n",
    "data4_Item_Class = pd.read_csv(Path_data4_Item_Class)\n"
   ]
  },
  {
   "cell_type": "code",
   "execution_count": 5,
   "metadata": {},
   "outputs": [
    {
     "name": "stdout",
     "output_type": "stream",
     "text": [
      "data1(온라인_행동)의 갯 수: 3196362\n"
     ]
    },
    {
     "data": {
      "text/html": [
       "<div>\n",
       "<style scoped>\n",
       "    .dataframe tbody tr th:only-of-type {\n",
       "        vertical-align: middle;\n",
       "    }\n",
       "\n",
       "    .dataframe tbody tr th {\n",
       "        vertical-align: top;\n",
       "    }\n",
       "\n",
       "    .dataframe thead th {\n",
       "        text-align: right;\n",
       "    }\n",
       "</style>\n",
       "<table border=\"1\" class=\"dataframe\">\n",
       "  <thead>\n",
       "    <tr style=\"text-align: right;\">\n",
       "      <th></th>\n",
       "      <th>clnt_id</th>\n",
       "      <th>sess_id</th>\n",
       "      <th>hit_seq</th>\n",
       "      <th>action_type</th>\n",
       "      <th>biz_unit</th>\n",
       "      <th>sess_dt</th>\n",
       "      <th>hit_tm</th>\n",
       "      <th>hit_pss_tm</th>\n",
       "      <th>trans_id</th>\n",
       "      <th>sech_kwd</th>\n",
       "      <th>tot_pag_view_ct</th>\n",
       "      <th>tot_sess_hr_v</th>\n",
       "      <th>trfc_src</th>\n",
       "      <th>dvc_ctg_nm</th>\n",
       "    </tr>\n",
       "  </thead>\n",
       "  <tbody>\n",
       "    <tr>\n",
       "      <th>1724514</th>\n",
       "      <td>32864</td>\n",
       "      <td>29</td>\n",
       "      <td>19</td>\n",
       "      <td>3</td>\n",
       "      <td>A03</td>\n",
       "      <td>20190802</td>\n",
       "      <td>11:49</td>\n",
       "      <td>2275772</td>\n",
       "      <td>NaN</td>\n",
       "      <td>NaN</td>\n",
       "      <td>36.0</td>\n",
       "      <td>3058.0</td>\n",
       "      <td>DIRECT</td>\n",
       "      <td>NaN</td>\n",
       "    </tr>\n",
       "    <tr>\n",
       "      <th>1906288</th>\n",
       "      <td>47080</td>\n",
       "      <td>4</td>\n",
       "      <td>4</td>\n",
       "      <td>3</td>\n",
       "      <td>A03</td>\n",
       "      <td>20190919</td>\n",
       "      <td>11:21</td>\n",
       "      <td>351136</td>\n",
       "      <td>NaN</td>\n",
       "      <td>NaN</td>\n",
       "      <td>18.0</td>\n",
       "      <td>1083.0</td>\n",
       "      <td>DIRECT</td>\n",
       "      <td>PC</td>\n",
       "    </tr>\n",
       "    <tr>\n",
       "      <th>179436</th>\n",
       "      <td>23098</td>\n",
       "      <td>25</td>\n",
       "      <td>6</td>\n",
       "      <td>2</td>\n",
       "      <td>A03</td>\n",
       "      <td>20190721</td>\n",
       "      <td>19:41</td>\n",
       "      <td>673364</td>\n",
       "      <td>NaN</td>\n",
       "      <td>NaN</td>\n",
       "      <td>25.0</td>\n",
       "      <td>2164.0</td>\n",
       "      <td>PUSH</td>\n",
       "      <td>NaN</td>\n",
       "    </tr>\n",
       "    <tr>\n",
       "      <th>1297354</th>\n",
       "      <td>6927</td>\n",
       "      <td>2</td>\n",
       "      <td>59</td>\n",
       "      <td>5</td>\n",
       "      <td>A03</td>\n",
       "      <td>20190730</td>\n",
       "      <td>10:00</td>\n",
       "      <td>1704947</td>\n",
       "      <td>NaN</td>\n",
       "      <td>NaN</td>\n",
       "      <td>269.0</td>\n",
       "      <td>4932.0</td>\n",
       "      <td>DIRECT</td>\n",
       "      <td>PC</td>\n",
       "    </tr>\n",
       "    <tr>\n",
       "      <th>3126879</th>\n",
       "      <td>48101</td>\n",
       "      <td>15</td>\n",
       "      <td>21</td>\n",
       "      <td>0</td>\n",
       "      <td>A01</td>\n",
       "      <td>20190828</td>\n",
       "      <td>21:33</td>\n",
       "      <td>1836121</td>\n",
       "      <td>NaN</td>\n",
       "      <td>코오롱</td>\n",
       "      <td>316.0</td>\n",
       "      <td>2063.0</td>\n",
       "      <td>unknown</td>\n",
       "      <td>mobile_app</td>\n",
       "    </tr>\n",
       "  </tbody>\n",
       "</table>\n",
       "</div>"
      ],
      "text/plain": [
       "         clnt_id  sess_id  hit_seq  action_type biz_unit   sess_dt hit_tm  \\\n",
       "1724514    32864       29       19            3      A03  20190802  11:49   \n",
       "1906288    47080        4        4            3      A03  20190919  11:21   \n",
       "179436     23098       25        6            2      A03  20190721  19:41   \n",
       "1297354     6927        2       59            5      A03  20190730  10:00   \n",
       "3126879    48101       15       21            0      A01  20190828  21:33   \n",
       "\n",
       "         hit_pss_tm  trans_id sech_kwd  tot_pag_view_ct  tot_sess_hr_v  \\\n",
       "1724514     2275772       NaN      NaN             36.0         3058.0   \n",
       "1906288      351136       NaN      NaN             18.0         1083.0   \n",
       "179436       673364       NaN      NaN             25.0         2164.0   \n",
       "1297354     1704947       NaN      NaN            269.0         4932.0   \n",
       "3126879     1836121       NaN      코오롱            316.0         2063.0   \n",
       "\n",
       "        trfc_src  dvc_ctg_nm  \n",
       "1724514   DIRECT         NaN  \n",
       "1906288   DIRECT          PC  \n",
       "179436      PUSH         NaN  \n",
       "1297354   DIRECT          PC  \n",
       "3126879  unknown  mobile_app  "
      ]
     },
     "execution_count": 5,
     "metadata": {},
     "output_type": "execute_result"
    }
   ],
   "source": [
    "# data1 : 온라인 행동 정보\n",
    "\n",
    "len_data1 = len(data1_Online_Act)\n",
    "print(\"data1(온라인_행동)의 갯 수:\", len_data1)\n",
    "\n",
    "data1_Online_Act.sample(5)"
   ]
  },
  {
   "cell_type": "code",
   "execution_count": 6,
   "metadata": {},
   "outputs": [
    {
     "name": "stdout",
     "output_type": "stream",
     "text": [
      "data2(거래정보)의 갯 수: 599961\n"
     ]
    },
    {
     "data": {
      "text/html": [
       "<div>\n",
       "<style scoped>\n",
       "    .dataframe tbody tr th:only-of-type {\n",
       "        vertical-align: middle;\n",
       "    }\n",
       "\n",
       "    .dataframe tbody tr th {\n",
       "        vertical-align: top;\n",
       "    }\n",
       "\n",
       "    .dataframe thead th {\n",
       "        text-align: right;\n",
       "    }\n",
       "</style>\n",
       "<table border=\"1\" class=\"dataframe\">\n",
       "  <thead>\n",
       "    <tr style=\"text-align: right;\">\n",
       "      <th></th>\n",
       "      <th>clnt_id</th>\n",
       "      <th>trans_id</th>\n",
       "      <th>trans_seq</th>\n",
       "      <th>biz_unit</th>\n",
       "      <th>pd_c</th>\n",
       "      <th>de_dt</th>\n",
       "      <th>de_tm</th>\n",
       "      <th>buy_am</th>\n",
       "      <th>buy_ct</th>\n",
       "    </tr>\n",
       "  </thead>\n",
       "  <tbody>\n",
       "    <tr>\n",
       "      <th>440747</th>\n",
       "      <td>15653</td>\n",
       "      <td>21949</td>\n",
       "      <td>1</td>\n",
       "      <td>B02</td>\n",
       "      <td>1394</td>\n",
       "      <td>20190927</td>\n",
       "      <td>16:14</td>\n",
       "      <td>4090</td>\n",
       "      <td>1</td>\n",
       "    </tr>\n",
       "    <tr>\n",
       "      <th>65219</th>\n",
       "      <td>2201</td>\n",
       "      <td>91170</td>\n",
       "      <td>3</td>\n",
       "      <td>A03</td>\n",
       "      <td>0178</td>\n",
       "      <td>20190903</td>\n",
       "      <td>09:43</td>\n",
       "      <td>2090</td>\n",
       "      <td>1</td>\n",
       "    </tr>\n",
       "    <tr>\n",
       "      <th>538016</th>\n",
       "      <td>40269</td>\n",
       "      <td>6645</td>\n",
       "      <td>11</td>\n",
       "      <td>B02</td>\n",
       "      <td>0107</td>\n",
       "      <td>20190810</td>\n",
       "      <td>21:03</td>\n",
       "      <td>1600</td>\n",
       "      <td>1</td>\n",
       "    </tr>\n",
       "    <tr>\n",
       "      <th>110838</th>\n",
       "      <td>8218</td>\n",
       "      <td>57778</td>\n",
       "      <td>3</td>\n",
       "      <td>A03</td>\n",
       "      <td>1185</td>\n",
       "      <td>20190724</td>\n",
       "      <td>10:30</td>\n",
       "      <td>2290</td>\n",
       "      <td>1</td>\n",
       "    </tr>\n",
       "    <tr>\n",
       "      <th>385481</th>\n",
       "      <td>14131</td>\n",
       "      <td>23094</td>\n",
       "      <td>3</td>\n",
       "      <td>B02</td>\n",
       "      <td>1184</td>\n",
       "      <td>20190713</td>\n",
       "      <td>18:11</td>\n",
       "      <td>3900</td>\n",
       "      <td>1</td>\n",
       "    </tr>\n",
       "  </tbody>\n",
       "</table>\n",
       "</div>"
      ],
      "text/plain": [
       "        clnt_id  trans_id  trans_seq biz_unit  pd_c     de_dt  de_tm  buy_am  \\\n",
       "440747    15653     21949          1      B02  1394  20190927  16:14    4090   \n",
       "65219      2201     91170          3      A03  0178  20190903  09:43    2090   \n",
       "538016    40269      6645         11      B02  0107  20190810  21:03    1600   \n",
       "110838     8218     57778          3      A03  1185  20190724  10:30    2290   \n",
       "385481    14131     23094          3      B02  1184  20190713  18:11    3900   \n",
       "\n",
       "        buy_ct  \n",
       "440747       1  \n",
       "65219        1  \n",
       "538016       1  \n",
       "110838       1  \n",
       "385481       1  "
      ]
     },
     "execution_count": 6,
     "metadata": {},
     "output_type": "execute_result"
    }
   ],
   "source": [
    "# data2 : 거래 정보\n",
    "\n",
    "len_data2 = len(data2_Trade_Inform)\n",
    "print(\"data2(거래정보)의 갯 수:\", len_data2)\n",
    "\n",
    "data2_Trade_Inform.sample(5)"
   ]
  },
  {
   "cell_type": "markdown",
   "metadata": {},
   "source": [
    "* total 고객수 확인 => 11284명"
   ]
  },
  {
   "cell_type": "code",
   "execution_count": 7,
   "metadata": {},
   "outputs": [
    {
     "data": {
      "text/plain": [
       "11284"
      ]
     },
     "execution_count": 7,
     "metadata": {},
     "output_type": "execute_result"
    }
   ],
   "source": [
    "data2_Trade_Inform['clnt_id'].nunique()"
   ]
  },
  {
   "cell_type": "code",
   "execution_count": 8,
   "metadata": {},
   "outputs": [
    {
     "data": {
      "text/plain": [
       "11284"
      ]
     },
     "execution_count": 8,
     "metadata": {},
     "output_type": "execute_result"
    }
   ],
   "source": [
    "len(list(set(data2_Trade_Inform['clnt_id'])))"
   ]
  },
  {
   "cell_type": "markdown",
   "metadata": {},
   "source": [
    "* 고객 별 구매 횟수"
   ]
  },
  {
   "cell_type": "code",
   "execution_count": 9,
   "metadata": {},
   "outputs": [
    {
     "data": {
      "text/plain": [
       "27221    757\n",
       "42575    681\n",
       "52362    623\n",
       "71243    579\n",
       "12198    565\n",
       "        ... \n",
       "32432      1\n",
       "35025      1\n",
       "27340      1\n",
       "52443      1\n",
       "14343      1\n",
       "Name: clnt_id, Length: 11284, dtype: int64"
      ]
     },
     "execution_count": 9,
     "metadata": {},
     "output_type": "execute_result"
    }
   ],
   "source": [
    "data2_Trade_Inform[\"clnt_id\"].value_counts()"
   ]
  },
  {
   "cell_type": "markdown",
   "metadata": {},
   "source": [
    "* 구매 이력 총 기간 => 2019년 7월 ~ 9월 3달"
   ]
  },
  {
   "cell_type": "code",
   "execution_count": 11,
   "metadata": {},
   "outputs": [
    {
     "name": "stdout",
     "output_type": "stream",
     "text": [
      "최초 구매 이력 :  20190701\n",
      "최종 구매 이력 :  20190930\n"
     ]
    }
   ],
   "source": [
    "print(\"최초 구매 이력 : \", min(data2_Trade_Inform['de_dt']))\n",
    "print(\"최종 구매 이력 : \", max(data2_Trade_Inform['de_dt']))"
   ]
  },
  {
   "cell_type": "code",
   "execution_count": 19,
   "metadata": {},
   "outputs": [
    {
     "name": "stdout",
     "output_type": "stream",
     "text": [
      "data3의 갯 수: 72399\n"
     ]
    },
    {
     "data": {
      "text/html": [
       "<div>\n",
       "<style scoped>\n",
       "    .dataframe tbody tr th:only-of-type {\n",
       "        vertical-align: middle;\n",
       "    }\n",
       "\n",
       "    .dataframe tbody tr th {\n",
       "        vertical-align: top;\n",
       "    }\n",
       "\n",
       "    .dataframe thead th {\n",
       "        text-align: right;\n",
       "    }\n",
       "</style>\n",
       "<table border=\"1\" class=\"dataframe\">\n",
       "  <thead>\n",
       "    <tr style=\"text-align: right;\">\n",
       "      <th></th>\n",
       "      <th>clnt_id</th>\n",
       "      <th>clnt_gender</th>\n",
       "      <th>clnt_age</th>\n",
       "    </tr>\n",
       "  </thead>\n",
       "  <tbody>\n",
       "    <tr>\n",
       "      <th>19856</th>\n",
       "      <td>19866</td>\n",
       "      <td>unknown</td>\n",
       "      <td>unknown</td>\n",
       "    </tr>\n",
       "    <tr>\n",
       "      <th>12379</th>\n",
       "      <td>12387</td>\n",
       "      <td>unknown</td>\n",
       "      <td>unknown</td>\n",
       "    </tr>\n",
       "    <tr>\n",
       "      <th>53627</th>\n",
       "      <td>53651</td>\n",
       "      <td>unknown</td>\n",
       "      <td>unknown</td>\n",
       "    </tr>\n",
       "    <tr>\n",
       "      <th>42036</th>\n",
       "      <td>42053</td>\n",
       "      <td>unknown</td>\n",
       "      <td>unknown</td>\n",
       "    </tr>\n",
       "    <tr>\n",
       "      <th>3150</th>\n",
       "      <td>3154</td>\n",
       "      <td>unknown</td>\n",
       "      <td>unknown</td>\n",
       "    </tr>\n",
       "  </tbody>\n",
       "</table>\n",
       "</div>"
      ],
      "text/plain": [
       "       clnt_id clnt_gender clnt_age\n",
       "19856    19866     unknown  unknown\n",
       "12379    12387     unknown  unknown\n",
       "53627    53651     unknown  unknown\n",
       "42036    42053     unknown  unknown\n",
       "3150      3154     unknown  unknown"
      ]
     },
     "execution_count": 19,
     "metadata": {},
     "output_type": "execute_result"
    }
   ],
   "source": [
    "# data3 : Demographic(인구 통계) 정보\n",
    "\n",
    "len_data3 = len(data3_Demog)\n",
    "print(\"data3(성별_연령)의 갯 수:\", len_data3)\n",
    "\n",
    "data3_Demog.sample(5)"
   ]
  },
  {
   "cell_type": "markdown",
   "metadata": {},
   "source": [
    "* 구매자 성별 별 구매 이력 수"
   ]
  },
  {
   "cell_type": "code",
   "execution_count": 13,
   "metadata": {},
   "outputs": [
    {
     "data": {
      "text/plain": [
       "unknown    60154\n",
       "F          10352\n",
       "M           1893\n",
       "Name: clnt_gender, dtype: int64"
      ]
     },
     "execution_count": 13,
     "metadata": {},
     "output_type": "execute_result"
    }
   ],
   "source": [
    "data3_Demog[\"clnt_gender\"].value_counts()"
   ]
  },
  {
   "cell_type": "markdown",
   "metadata": {},
   "source": [
    "* 구매자 나이 별 구매 이력 수"
   ]
  },
  {
   "cell_type": "code",
   "execution_count": 14,
   "metadata": {},
   "outputs": [
    {
     "data": {
      "text/plain": [
       "unknown    60154\n",
       "40          4948\n",
       "30          4307\n",
       "50          1694\n",
       "20           924\n",
       "60           326\n",
       "10            46\n",
       "Name: clnt_age, dtype: int64"
      ]
     },
     "execution_count": 14,
     "metadata": {},
     "output_type": "execute_result"
    }
   ],
   "source": [
    "data3_Demog[\"clnt_age\"].value_counts()"
   ]
  },
  {
   "cell_type": "code",
   "execution_count": null,
   "metadata": {},
   "outputs": [],
   "source": []
  },
  {
   "cell_type": "code",
   "execution_count": 20,
   "metadata": {},
   "outputs": [
    {
     "name": "stdout",
     "output_type": "stream",
     "text": [
      "data4의 갯 수: 1667\n"
     ]
    },
    {
     "data": {
      "text/html": [
       "<div>\n",
       "<style scoped>\n",
       "    .dataframe tbody tr th:only-of-type {\n",
       "        vertical-align: middle;\n",
       "    }\n",
       "\n",
       "    .dataframe tbody tr th {\n",
       "        vertical-align: top;\n",
       "    }\n",
       "\n",
       "    .dataframe thead th {\n",
       "        text-align: right;\n",
       "    }\n",
       "</style>\n",
       "<table border=\"1\" class=\"dataframe\">\n",
       "  <thead>\n",
       "    <tr style=\"text-align: right;\">\n",
       "      <th></th>\n",
       "      <th>pd_c</th>\n",
       "      <th>clac_nm1</th>\n",
       "      <th>clac_nm2</th>\n",
       "      <th>clac_nm3</th>\n",
       "    </tr>\n",
       "  </thead>\n",
       "  <tbody>\n",
       "    <tr>\n",
       "      <th>1578</th>\n",
       "      <td>1579</td>\n",
       "      <td>Vegetables</td>\n",
       "      <td>Leaf Vegetables</td>\n",
       "      <td>Crown Daisy</td>\n",
       "    </tr>\n",
       "    <tr>\n",
       "      <th>1153</th>\n",
       "      <td>1154</td>\n",
       "      <td>Sea Foods</td>\n",
       "      <td>ShellFish</td>\n",
       "      <td>Ear Shells</td>\n",
       "    </tr>\n",
       "    <tr>\n",
       "      <th>961</th>\n",
       "      <td>962</td>\n",
       "      <td>Meats</td>\n",
       "      <td>Domestic Porks</td>\n",
       "      <td>Domestic Porks - Tenderloins</td>\n",
       "    </tr>\n",
       "    <tr>\n",
       "      <th>1450</th>\n",
       "      <td>1451</td>\n",
       "      <td>Tenants / Restaurants</td>\n",
       "      <td>Restaurants</td>\n",
       "      <td>Dessert</td>\n",
       "    </tr>\n",
       "    <tr>\n",
       "      <th>258</th>\n",
       "      <td>259</td>\n",
       "      <td>Computers</td>\n",
       "      <td>Computer Accessories</td>\n",
       "      <td>Printers / Scanners</td>\n",
       "    </tr>\n",
       "  </tbody>\n",
       "</table>\n",
       "</div>"
      ],
      "text/plain": [
       "      pd_c               clac_nm1              clac_nm2  \\\n",
       "1578  1579             Vegetables       Leaf Vegetables   \n",
       "1153  1154              Sea Foods             ShellFish   \n",
       "961    962                  Meats        Domestic Porks   \n",
       "1450  1451  Tenants / Restaurants           Restaurants   \n",
       "258    259              Computers  Computer Accessories   \n",
       "\n",
       "                          clac_nm3  \n",
       "1578                   Crown Daisy  \n",
       "1153                    Ear Shells  \n",
       "961   Domestic Porks - Tenderloins  \n",
       "1450                       Dessert  \n",
       "258            Printers / Scanners  "
      ]
     },
     "execution_count": 20,
     "metadata": {},
     "output_type": "execute_result"
    }
   ],
   "source": [
    "# data4 : 상품 분류 정보\n",
    "\n",
    "len_data4 = len(data4_Item_Class)\n",
    "print(\"data4(상품_대중소분류)의 갯 수:\", len_data4)\n",
    "\n",
    "data4_Item_Class.sample(5)"
   ]
  },
  {
   "cell_type": "code",
   "execution_count": 16,
   "metadata": {},
   "outputs": [
    {
     "data": {
      "text/plain": [
       "Fashion Accessories                          100\n",
       "Meats                                         80\n",
       "Sea Foods                                     76\n",
       "Vegetables                                    70\n",
       "Kids' Clothing                                67\n",
       "Stationary / Office Supplies                  61\n",
       "Fruits                                        56\n",
       "Underwear / Socks and Hosiery / Homewear      53\n",
       "Sport Fashion                                 52\n",
       "Spices / Seasonings                           49\n",
       "Cosmetics / Beauty Care                       48\n",
       "Personal Care                                 38\n",
       "Snack Foods                                   36\n",
       "Tableware / Cooking Utensils                  35\n",
       "Gardening / Pets                              35\n",
       "Cooked Foods                                  35\n",
       "Home / Kitchen Appliances                     33\n",
       "Chilled Foods                                 32\n",
       "Cleaning / Laundry / Bathroom Accessories     30\n",
       "Bedding / Handicraft                          30\n",
       "Kitchenware                                   30\n",
       "Toy                                           29\n",
       "Automotive Products                           29\n",
       "Health Foods                                  29\n",
       "Ball Game / Field Sports                      28\n",
       "Detergents / Hygiene Goods                    28\n",
       "Dried Sea Foods                               27\n",
       "Furniture                                     26\n",
       "Outdoor / Leisure Activities                  26\n",
       "Birth Supplies / Baby Products                26\n",
       "Substitute Foods                              26\n",
       "Women's Clothing                              25\n",
       "Beverages                                     23\n",
       "Health Care                                   21\n",
       "Liquors / Alcoholic Beverages                 21\n",
       "Frozen Foods                                  20\n",
       "Men's Clothing                                20\n",
       "Coffee / Tea                                  18\n",
       "Home Decor / Lighting                         18\n",
       "Tenants / Restaurants                         17\n",
       "Seasonal Sports                               17\n",
       "Grains                                        15\n",
       "Canned / Jarred Foods                         15\n",
       "Video / Audio System Electronics              14\n",
       "Tools / Safety Supplies                       13\n",
       "Computers                                     13\n",
       "Health / Fitness Training                     12\n",
       "Heating / Cooling Electronics                  9\n",
       "Books / Records / Instruments                  9\n",
       "Dairy Products                                 9\n",
       "Living / Rental Services                       6\n",
       "Cell Phones / Accessories                      6\n",
       "Gift Certificates / Cards                      5\n",
       "Refrigerators and Washing Machines             5\n",
       "Baby Foods                                     4\n",
       "Travel / Leisure Services                      3\n",
       "Tobacco                                        3\n",
       "Finance / Insurance Service                    3\n",
       "Others (Non-Products)                          2\n",
       "Other Products                                 1\n",
       "Name: clac_nm1, dtype: int64"
      ]
     },
     "execution_count": 16,
     "metadata": {},
     "output_type": "execute_result"
    }
   ],
   "source": [
    "data4_Item_Class[\"clac_nm1\"].value_counts()"
   ]
  }
 ],
 "metadata": {
  "kernelspec": {
   "display_name": "aiffel",
   "language": "python",
   "name": "aiffel"
  },
  "language_info": {
   "codemirror_mode": {
    "name": "ipython",
    "version": 3
   },
   "file_extension": ".py",
   "mimetype": "text/x-python",
   "name": "python",
   "nbconvert_exporter": "python",
   "pygments_lexer": "ipython3",
   "version": "3.8.5"
  }
 },
 "nbformat": 4,
 "nbformat_minor": 4
}
