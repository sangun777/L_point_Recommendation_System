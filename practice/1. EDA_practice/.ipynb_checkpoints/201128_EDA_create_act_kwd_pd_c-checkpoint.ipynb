{
 "cells": [
  {
   "cell_type": "markdown",
   "metadata": {},
   "source": [
    "# DATA EDA 분석 1. (2020.11.25(수))"
   ]
  },
  {
   "cell_type": "markdown",
   "metadata": {},
   "source": [
    "* 라이브러리 불러오기"
   ]
  },
  {
   "cell_type": "code",
   "execution_count": 1,
   "metadata": {},
   "outputs": [],
   "source": [
    "import pandas as pd\n",
    "import numpy as np\n",
    "import matplotlib.pyplot as plt\n",
    "from sklearn.preprocessing import StandardScaler, PolynomialFeatures, LabelEncoder\n",
    "from keras.layers import Input, Embedding, Dense, Flatten, Dropout, SpatialDropout1D, Activation, concatenate\n",
    "from keras.layers.normalization import BatchNormalization\n",
    "from keras.layers.advanced_activations import ReLU, PReLU, LeakyReLU, ELU\n",
    "from keras.optimizers import Adam, SGD\n",
    "from keras.callbacks import EarlyStopping, ModelCheckpoint\n",
    "from keras.models import Model\n",
    "from tensorflow.keras.utils import plot_model"
   ]
  },
  {
   "cell_type": "markdown",
   "metadata": {},
   "source": [
    " * 데이터 불러오기"
   ]
  },
  {
   "cell_type": "code",
   "execution_count": 2,
   "metadata": {},
   "outputs": [
    {
     "name": "stderr",
     "output_type": "stream",
     "text": [
      "/home/aiffel0042/anaconda3/envs/aiffel/lib/python3.8/site-packages/IPython/core/interactiveshell.py:3146: DtypeWarning: Columns (9) have mixed types.Specify dtype option on import or set low_memory=False.\n",
      "  has_raised = await self.run_ast_nodes(code_ast.body, cell_name,\n"
     ]
    }
   ],
   "source": [
    "# 1. 온라인 행동 데이터\n",
    "raw_data1_Online_Act = pd.read_csv('./data/data1_Online_Act.csv')\n",
    "\n",
    "# 2. 거래 정보 데이터\n",
    "raw_data2_Trade_Inform = pd.read_csv('./data/data2_Trade_Inform.csv')\n",
    "\n",
    "# 3. 사용자 demo 정보(나이, 성별)\n",
    "raw_data3_Demog = pd.read_csv('./data/data3_Demog.csv')\n",
    "\n",
    "# 4. 상품 대중소 분류 정보\n",
    "raw_data4_Item_Class = pd.read_csv('./data/data4_Item_Class.csv')"
   ]
  },
  {
   "cell_type": "markdown",
   "metadata": {},
   "source": [
    "## 1. 온라인 행동 데이터 확인"
   ]
  },
  {
   "cell_type": "code",
   "execution_count": 3,
   "metadata": {},
   "outputs": [
    {
     "data": {
      "text/html": [
       "<div>\n",
       "<style scoped>\n",
       "    .dataframe tbody tr th:only-of-type {\n",
       "        vertical-align: middle;\n",
       "    }\n",
       "\n",
       "    .dataframe tbody tr th {\n",
       "        vertical-align: top;\n",
       "    }\n",
       "\n",
       "    .dataframe thead th {\n",
       "        text-align: right;\n",
       "    }\n",
       "</style>\n",
       "<table border=\"1\" class=\"dataframe\">\n",
       "  <thead>\n",
       "    <tr style=\"text-align: right;\">\n",
       "      <th></th>\n",
       "      <th>clnt_id</th>\n",
       "      <th>sess_id</th>\n",
       "      <th>hit_seq</th>\n",
       "      <th>action_type</th>\n",
       "      <th>biz_unit</th>\n",
       "      <th>sess_dt</th>\n",
       "      <th>hit_tm</th>\n",
       "      <th>hit_pss_tm</th>\n",
       "      <th>trans_id</th>\n",
       "      <th>sech_kwd</th>\n",
       "      <th>tot_pag_view_ct</th>\n",
       "      <th>tot_sess_hr_v</th>\n",
       "      <th>trfc_src</th>\n",
       "      <th>dvc_ctg_nm</th>\n",
       "    </tr>\n",
       "  </thead>\n",
       "  <tbody>\n",
       "    <tr>\n",
       "      <th>0</th>\n",
       "      <td>7809</td>\n",
       "      <td>1</td>\n",
       "      <td>8</td>\n",
       "      <td>5</td>\n",
       "      <td>A03</td>\n",
       "      <td>20190913</td>\n",
       "      <td>01:16</td>\n",
       "      <td>2571103</td>\n",
       "      <td>NaN</td>\n",
       "      <td>NaN</td>\n",
       "      <td>34.0</td>\n",
       "      <td>2663.0</td>\n",
       "      <td>DIRECT</td>\n",
       "      <td>NaN</td>\n",
       "    </tr>\n",
       "    <tr>\n",
       "      <th>1</th>\n",
       "      <td>7809</td>\n",
       "      <td>1</td>\n",
       "      <td>4</td>\n",
       "      <td>2</td>\n",
       "      <td>A03</td>\n",
       "      <td>20190913</td>\n",
       "      <td>01:14</td>\n",
       "      <td>2485909</td>\n",
       "      <td>NaN</td>\n",
       "      <td>NaN</td>\n",
       "      <td>34.0</td>\n",
       "      <td>2663.0</td>\n",
       "      <td>DIRECT</td>\n",
       "      <td>NaN</td>\n",
       "    </tr>\n",
       "    <tr>\n",
       "      <th>2</th>\n",
       "      <td>7809</td>\n",
       "      <td>1</td>\n",
       "      <td>11</td>\n",
       "      <td>5</td>\n",
       "      <td>A03</td>\n",
       "      <td>20190913</td>\n",
       "      <td>01:17</td>\n",
       "      <td>2646597</td>\n",
       "      <td>NaN</td>\n",
       "      <td>NaN</td>\n",
       "      <td>34.0</td>\n",
       "      <td>2663.0</td>\n",
       "      <td>DIRECT</td>\n",
       "      <td>NaN</td>\n",
       "    </tr>\n",
       "    <tr>\n",
       "      <th>3</th>\n",
       "      <td>7809</td>\n",
       "      <td>1</td>\n",
       "      <td>1</td>\n",
       "      <td>2</td>\n",
       "      <td>A03</td>\n",
       "      <td>20190913</td>\n",
       "      <td>00:46</td>\n",
       "      <td>788304</td>\n",
       "      <td>NaN</td>\n",
       "      <td>NaN</td>\n",
       "      <td>34.0</td>\n",
       "      <td>2663.0</td>\n",
       "      <td>DIRECT</td>\n",
       "      <td>NaN</td>\n",
       "    </tr>\n",
       "    <tr>\n",
       "      <th>4</th>\n",
       "      <td>7809</td>\n",
       "      <td>1</td>\n",
       "      <td>9</td>\n",
       "      <td>5</td>\n",
       "      <td>A03</td>\n",
       "      <td>20190913</td>\n",
       "      <td>01:17</td>\n",
       "      <td>2617609</td>\n",
       "      <td>NaN</td>\n",
       "      <td>NaN</td>\n",
       "      <td>34.0</td>\n",
       "      <td>2663.0</td>\n",
       "      <td>DIRECT</td>\n",
       "      <td>NaN</td>\n",
       "    </tr>\n",
       "  </tbody>\n",
       "</table>\n",
       "</div>"
      ],
      "text/plain": [
       "   clnt_id  sess_id  hit_seq  action_type biz_unit   sess_dt hit_tm  \\\n",
       "0     7809        1        8            5      A03  20190913  01:16   \n",
       "1     7809        1        4            2      A03  20190913  01:14   \n",
       "2     7809        1       11            5      A03  20190913  01:17   \n",
       "3     7809        1        1            2      A03  20190913  00:46   \n",
       "4     7809        1        9            5      A03  20190913  01:17   \n",
       "\n",
       "   hit_pss_tm  trans_id sech_kwd  tot_pag_view_ct  tot_sess_hr_v trfc_src  \\\n",
       "0     2571103       NaN      NaN             34.0         2663.0   DIRECT   \n",
       "1     2485909       NaN      NaN             34.0         2663.0   DIRECT   \n",
       "2     2646597       NaN      NaN             34.0         2663.0   DIRECT   \n",
       "3      788304       NaN      NaN             34.0         2663.0   DIRECT   \n",
       "4     2617609       NaN      NaN             34.0         2663.0   DIRECT   \n",
       "\n",
       "  dvc_ctg_nm  \n",
       "0        NaN  \n",
       "1        NaN  \n",
       "2        NaN  \n",
       "3        NaN  \n",
       "4        NaN  "
      ]
     },
     "execution_count": 3,
     "metadata": {},
     "output_type": "execute_result"
    }
   ],
   "source": [
    "raw_data1_Online_Act.head()"
   ]
  },
  {
   "cell_type": "markdown",
   "metadata": {},
   "source": [
    "* 1-1. clnt_id : 고객 고유 식별 ID\n",
    "* 1-2. sess_id : 세션이 시작될 때 부여되는 순번ID\n",
    "* 1-3. hit_seq : 조회 순서를 알 수 있도록 한 일련번호\n",
    "* 1-4. action_type : 온라인 행동 유형\n",
    " (0:검색 / 1:제품 목록 / 2:제품 세부정보 보기 / 3: 장바구니 제품 추가 / 4:장바구니 제품 삭제 / 5:결제 시도 / 6:구매완료 / 7:구매환불 / 8:결재 옵션)\n",
    "* 1-5. biz_unit(업종단위) : 온라인 및 오프라인 이용코드\n",
    "* 1-6. sess_dt : 세션 일자(년월일)\n",
    "* 1-7. hit_tm : 조회 시각(HH:MM)\n",
    "* 1-8. hit_pss_tm : 조회 경과시간(세션의 시작 부터 조회까지 걸리시간(밀리초) / 첫번째 조회는 0으로 설정)\n",
    "* 1-9. Trans_ID : 거래 ID(구매내역을 고유 식별할 수 있는 ID)\n",
    "* 1-10. sech_kwd : 고객이 검색한 키워드\n",
    "* 1-11. tot_pag_view_ct : 총 페이지 조회 건수(세션 내에 총 페이지(화면) 뷰 수)\n",
    "* 1-12. tot_sess_hr_v : 총 세션 시간 값\n",
    "* 1-13. trfc_src : 유입 채널\n",
    " (DIRECT / PUSH / WEBSITE / PORTAL_1 / PORTAL_2 / PORTAL_3 / unknown)\n",
    "* 1-14. dvc_ctg_nm : 기기 유형 (mobile_web / mobile_app / PC)"
   ]
  },
  {
   "cell_type": "code",
   "execution_count": 4,
   "metadata": {},
   "outputs": [
    {
     "data": {
      "text/plain": [
       "(3196362, 14)"
      ]
     },
     "execution_count": 4,
     "metadata": {},
     "output_type": "execute_result"
    }
   ],
   "source": [
    "raw_data1_Online_Act.shape"
   ]
  },
  {
   "cell_type": "markdown",
   "metadata": {},
   "source": [
    " * 행 수(데이터 갯수) : 319만 개\n",
    " * 열 수(데이터 종류) : 14개"
   ]
  },
  {
   "cell_type": "markdown",
   "metadata": {},
   "source": [
    "* 데이터를 - clnt_id -> sess_id -> sess_dt(일자) -> hit_tm(시분) -> hit_pss_tm(밀리초) 순으로 정렬(시간순 정렬)\n",
    "    * 같은 고객ID와 세션_id를 가지고, 같은 일자 비슷한 시점의 온라인 행동은 같은 품목에 의해서 수행되었을 것이다 가정"
   ]
  },
  {
   "cell_type": "code",
   "execution_count": 5,
   "metadata": {},
   "outputs": [
    {
     "data": {
      "text/html": [
       "<div>\n",
       "<style scoped>\n",
       "    .dataframe tbody tr th:only-of-type {\n",
       "        vertical-align: middle;\n",
       "    }\n",
       "\n",
       "    .dataframe tbody tr th {\n",
       "        vertical-align: top;\n",
       "    }\n",
       "\n",
       "    .dataframe thead th {\n",
       "        text-align: right;\n",
       "    }\n",
       "</style>\n",
       "<table border=\"1\" class=\"dataframe\">\n",
       "  <thead>\n",
       "    <tr style=\"text-align: right;\">\n",
       "      <th></th>\n",
       "      <th>clnt_id</th>\n",
       "      <th>sess_id</th>\n",
       "      <th>hit_seq</th>\n",
       "      <th>action_type</th>\n",
       "      <th>biz_unit</th>\n",
       "      <th>sess_dt</th>\n",
       "      <th>hit_tm</th>\n",
       "      <th>hit_pss_tm</th>\n",
       "      <th>trans_id</th>\n",
       "      <th>sech_kwd</th>\n",
       "      <th>tot_pag_view_ct</th>\n",
       "      <th>tot_sess_hr_v</th>\n",
       "      <th>trfc_src</th>\n",
       "      <th>dvc_ctg_nm</th>\n",
       "    </tr>\n",
       "  </thead>\n",
       "  <tbody>\n",
       "    <tr>\n",
       "      <th>3102890</th>\n",
       "      <td>1</td>\n",
       "      <td>1</td>\n",
       "      <td>1</td>\n",
       "      <td>0</td>\n",
       "      <td>A01</td>\n",
       "      <td>20190911</td>\n",
       "      <td>16:14</td>\n",
       "      <td>11880</td>\n",
       "      <td>NaN</td>\n",
       "      <td>과일선물세트</td>\n",
       "      <td>14.0</td>\n",
       "      <td>124.0</td>\n",
       "      <td>unknown</td>\n",
       "      <td>mobile_app</td>\n",
       "    </tr>\n",
       "    <tr>\n",
       "      <th>3136925</th>\n",
       "      <td>1</td>\n",
       "      <td>1</td>\n",
       "      <td>2</td>\n",
       "      <td>0</td>\n",
       "      <td>A01</td>\n",
       "      <td>20190911</td>\n",
       "      <td>16:15</td>\n",
       "      <td>22432</td>\n",
       "      <td>NaN</td>\n",
       "      <td>과일선물세트 백화점</td>\n",
       "      <td>14.0</td>\n",
       "      <td>124.0</td>\n",
       "      <td>unknown</td>\n",
       "      <td>mobile_app</td>\n",
       "    </tr>\n",
       "    <tr>\n",
       "      <th>3065714</th>\n",
       "      <td>1</td>\n",
       "      <td>1</td>\n",
       "      <td>3</td>\n",
       "      <td>0</td>\n",
       "      <td>A01</td>\n",
       "      <td>20190911</td>\n",
       "      <td>16:15</td>\n",
       "      <td>36140</td>\n",
       "      <td>NaN</td>\n",
       "      <td>과일바구니</td>\n",
       "      <td>14.0</td>\n",
       "      <td>124.0</td>\n",
       "      <td>unknown</td>\n",
       "      <td>mobile_app</td>\n",
       "    </tr>\n",
       "    <tr>\n",
       "      <th>3091872</th>\n",
       "      <td>1</td>\n",
       "      <td>2</td>\n",
       "      <td>1</td>\n",
       "      <td>0</td>\n",
       "      <td>A01</td>\n",
       "      <td>20190922</td>\n",
       "      <td>14:09</td>\n",
       "      <td>41584</td>\n",
       "      <td>NaN</td>\n",
       "      <td>초등가을잠바</td>\n",
       "      <td>45.0</td>\n",
       "      <td>424.0</td>\n",
       "      <td>unknown</td>\n",
       "      <td>mobile_app</td>\n",
       "    </tr>\n",
       "    <tr>\n",
       "      <th>3142610</th>\n",
       "      <td>1</td>\n",
       "      <td>2</td>\n",
       "      <td>2</td>\n",
       "      <td>0</td>\n",
       "      <td>A01</td>\n",
       "      <td>20190922</td>\n",
       "      <td>14:10</td>\n",
       "      <td>56113</td>\n",
       "      <td>NaN</td>\n",
       "      <td>초등가을점퍼</td>\n",
       "      <td>45.0</td>\n",
       "      <td>424.0</td>\n",
       "      <td>unknown</td>\n",
       "      <td>mobile_app</td>\n",
       "    </tr>\n",
       "    <tr>\n",
       "      <th>3084082</th>\n",
       "      <td>1</td>\n",
       "      <td>2</td>\n",
       "      <td>3</td>\n",
       "      <td>0</td>\n",
       "      <td>A01</td>\n",
       "      <td>20190922</td>\n",
       "      <td>14:10</td>\n",
       "      <td>70025</td>\n",
       "      <td>NaN</td>\n",
       "      <td>초등남아옷</td>\n",
       "      <td>45.0</td>\n",
       "      <td>424.0</td>\n",
       "      <td>unknown</td>\n",
       "      <td>mobile_app</td>\n",
       "    </tr>\n",
       "    <tr>\n",
       "      <th>3136926</th>\n",
       "      <td>1</td>\n",
       "      <td>2</td>\n",
       "      <td>4</td>\n",
       "      <td>0</td>\n",
       "      <td>A01</td>\n",
       "      <td>20190922</td>\n",
       "      <td>14:11</td>\n",
       "      <td>119527</td>\n",
       "      <td>NaN</td>\n",
       "      <td>초등남아점퍼</td>\n",
       "      <td>45.0</td>\n",
       "      <td>424.0</td>\n",
       "      <td>unknown</td>\n",
       "      <td>mobile_app</td>\n",
       "    </tr>\n",
       "    <tr>\n",
       "      <th>3123796</th>\n",
       "      <td>1</td>\n",
       "      <td>2</td>\n",
       "      <td>5</td>\n",
       "      <td>0</td>\n",
       "      <td>A01</td>\n",
       "      <td>20190922</td>\n",
       "      <td>14:11</td>\n",
       "      <td>162327</td>\n",
       "      <td>NaN</td>\n",
       "      <td>노스페이스키즈</td>\n",
       "      <td>45.0</td>\n",
       "      <td>424.0</td>\n",
       "      <td>unknown</td>\n",
       "      <td>mobile_app</td>\n",
       "    </tr>\n",
       "    <tr>\n",
       "      <th>3001880</th>\n",
       "      <td>1</td>\n",
       "      <td>2</td>\n",
       "      <td>6</td>\n",
       "      <td>0</td>\n",
       "      <td>A01</td>\n",
       "      <td>20190922</td>\n",
       "      <td>14:12</td>\n",
       "      <td>178832</td>\n",
       "      <td>NaN</td>\n",
       "      <td>노스페이스초등</td>\n",
       "      <td>45.0</td>\n",
       "      <td>424.0</td>\n",
       "      <td>unknown</td>\n",
       "      <td>mobile_app</td>\n",
       "    </tr>\n",
       "    <tr>\n",
       "      <th>3142609</th>\n",
       "      <td>1</td>\n",
       "      <td>2</td>\n",
       "      <td>7</td>\n",
       "      <td>0</td>\n",
       "      <td>A01</td>\n",
       "      <td>20190922</td>\n",
       "      <td>14:12</td>\n",
       "      <td>192367</td>\n",
       "      <td>NaN</td>\n",
       "      <td>노스페이스키즈</td>\n",
       "      <td>45.0</td>\n",
       "      <td>424.0</td>\n",
       "      <td>unknown</td>\n",
       "      <td>mobile_app</td>\n",
       "    </tr>\n",
       "    <tr>\n",
       "      <th>2838680</th>\n",
       "      <td>2</td>\n",
       "      <td>1</td>\n",
       "      <td>1</td>\n",
       "      <td>0</td>\n",
       "      <td>A03</td>\n",
       "      <td>20190728</td>\n",
       "      <td>23:35</td>\n",
       "      <td>39532</td>\n",
       "      <td>NaN</td>\n",
       "      <td>레쓰비</td>\n",
       "      <td>55.0</td>\n",
       "      <td>872.0</td>\n",
       "      <td>DIRECT</td>\n",
       "      <td>NaN</td>\n",
       "    </tr>\n",
       "    <tr>\n",
       "      <th>1427751</th>\n",
       "      <td>2</td>\n",
       "      <td>1</td>\n",
       "      <td>2</td>\n",
       "      <td>1</td>\n",
       "      <td>A03</td>\n",
       "      <td>20190728</td>\n",
       "      <td>23:35</td>\n",
       "      <td>47232</td>\n",
       "      <td>NaN</td>\n",
       "      <td>NaN</td>\n",
       "      <td>55.0</td>\n",
       "      <td>872.0</td>\n",
       "      <td>DIRECT</td>\n",
       "      <td>NaN</td>\n",
       "    </tr>\n",
       "    <tr>\n",
       "      <th>1427590</th>\n",
       "      <td>2</td>\n",
       "      <td>1</td>\n",
       "      <td>3</td>\n",
       "      <td>2</td>\n",
       "      <td>A03</td>\n",
       "      <td>20190728</td>\n",
       "      <td>23:35</td>\n",
       "      <td>48087</td>\n",
       "      <td>NaN</td>\n",
       "      <td>NaN</td>\n",
       "      <td>55.0</td>\n",
       "      <td>872.0</td>\n",
       "      <td>DIRECT</td>\n",
       "      <td>NaN</td>\n",
       "    </tr>\n",
       "    <tr>\n",
       "      <th>2838670</th>\n",
       "      <td>2</td>\n",
       "      <td>1</td>\n",
       "      <td>4</td>\n",
       "      <td>0</td>\n",
       "      <td>A03</td>\n",
       "      <td>20190728</td>\n",
       "      <td>23:35</td>\n",
       "      <td>62794</td>\n",
       "      <td>NaN</td>\n",
       "      <td>레쓰비</td>\n",
       "      <td>55.0</td>\n",
       "      <td>872.0</td>\n",
       "      <td>DIRECT</td>\n",
       "      <td>NaN</td>\n",
       "    </tr>\n",
       "    <tr>\n",
       "      <th>2838699</th>\n",
       "      <td>2</td>\n",
       "      <td>1</td>\n",
       "      <td>5</td>\n",
       "      <td>0</td>\n",
       "      <td>A03</td>\n",
       "      <td>20190728</td>\n",
       "      <td>23:36</td>\n",
       "      <td>104074</td>\n",
       "      <td>NaN</td>\n",
       "      <td>레쓰비</td>\n",
       "      <td>55.0</td>\n",
       "      <td>872.0</td>\n",
       "      <td>DIRECT</td>\n",
       "      <td>NaN</td>\n",
       "    </tr>\n",
       "    <tr>\n",
       "      <th>1427709</th>\n",
       "      <td>2</td>\n",
       "      <td>1</td>\n",
       "      <td>6</td>\n",
       "      <td>3</td>\n",
       "      <td>A03</td>\n",
       "      <td>20190728</td>\n",
       "      <td>23:36</td>\n",
       "      <td>127807</td>\n",
       "      <td>NaN</td>\n",
       "      <td>NaN</td>\n",
       "      <td>55.0</td>\n",
       "      <td>872.0</td>\n",
       "      <td>DIRECT</td>\n",
       "      <td>NaN</td>\n",
       "    </tr>\n",
       "    <tr>\n",
       "      <th>1427712</th>\n",
       "      <td>2</td>\n",
       "      <td>1</td>\n",
       "      <td>7</td>\n",
       "      <td>5</td>\n",
       "      <td>A03</td>\n",
       "      <td>20190728</td>\n",
       "      <td>23:36</td>\n",
       "      <td>136325</td>\n",
       "      <td>NaN</td>\n",
       "      <td>NaN</td>\n",
       "      <td>55.0</td>\n",
       "      <td>872.0</td>\n",
       "      <td>DIRECT</td>\n",
       "      <td>NaN</td>\n",
       "    </tr>\n",
       "    <tr>\n",
       "      <th>1427761</th>\n",
       "      <td>2</td>\n",
       "      <td>1</td>\n",
       "      <td>8</td>\n",
       "      <td>5</td>\n",
       "      <td>A03</td>\n",
       "      <td>20190728</td>\n",
       "      <td>23:37</td>\n",
       "      <td>150334</td>\n",
       "      <td>NaN</td>\n",
       "      <td>NaN</td>\n",
       "      <td>55.0</td>\n",
       "      <td>872.0</td>\n",
       "      <td>DIRECT</td>\n",
       "      <td>NaN</td>\n",
       "    </tr>\n",
       "    <tr>\n",
       "      <th>2838693</th>\n",
       "      <td>2</td>\n",
       "      <td>1</td>\n",
       "      <td>9</td>\n",
       "      <td>0</td>\n",
       "      <td>A03</td>\n",
       "      <td>20190728</td>\n",
       "      <td>23:37</td>\n",
       "      <td>163423</td>\n",
       "      <td>NaN</td>\n",
       "      <td>레쓰비</td>\n",
       "      <td>55.0</td>\n",
       "      <td>872.0</td>\n",
       "      <td>DIRECT</td>\n",
       "      <td>NaN</td>\n",
       "    </tr>\n",
       "    <tr>\n",
       "      <th>1427623</th>\n",
       "      <td>2</td>\n",
       "      <td>1</td>\n",
       "      <td>10</td>\n",
       "      <td>1</td>\n",
       "      <td>A03</td>\n",
       "      <td>20190728</td>\n",
       "      <td>23:37</td>\n",
       "      <td>174500</td>\n",
       "      <td>NaN</td>\n",
       "      <td>NaN</td>\n",
       "      <td>55.0</td>\n",
       "      <td>872.0</td>\n",
       "      <td>DIRECT</td>\n",
       "      <td>NaN</td>\n",
       "    </tr>\n",
       "    <tr>\n",
       "      <th>1427631</th>\n",
       "      <td>2</td>\n",
       "      <td>1</td>\n",
       "      <td>11</td>\n",
       "      <td>2</td>\n",
       "      <td>A03</td>\n",
       "      <td>20190728</td>\n",
       "      <td>23:37</td>\n",
       "      <td>175859</td>\n",
       "      <td>NaN</td>\n",
       "      <td>NaN</td>\n",
       "      <td>55.0</td>\n",
       "      <td>872.0</td>\n",
       "      <td>DIRECT</td>\n",
       "      <td>NaN</td>\n",
       "    </tr>\n",
       "    <tr>\n",
       "      <th>2838704</th>\n",
       "      <td>2</td>\n",
       "      <td>1</td>\n",
       "      <td>12</td>\n",
       "      <td>0</td>\n",
       "      <td>A03</td>\n",
       "      <td>20190728</td>\n",
       "      <td>23:37</td>\n",
       "      <td>188136</td>\n",
       "      <td>NaN</td>\n",
       "      <td>레쓰비</td>\n",
       "      <td>55.0</td>\n",
       "      <td>872.0</td>\n",
       "      <td>DIRECT</td>\n",
       "      <td>NaN</td>\n",
       "    </tr>\n",
       "    <tr>\n",
       "      <th>2838707</th>\n",
       "      <td>2</td>\n",
       "      <td>1</td>\n",
       "      <td>13</td>\n",
       "      <td>0</td>\n",
       "      <td>A03</td>\n",
       "      <td>20190728</td>\n",
       "      <td>23:37</td>\n",
       "      <td>199515</td>\n",
       "      <td>NaN</td>\n",
       "      <td>레쓰비캔커피</td>\n",
       "      <td>55.0</td>\n",
       "      <td>872.0</td>\n",
       "      <td>DIRECT</td>\n",
       "      <td>NaN</td>\n",
       "    </tr>\n",
       "    <tr>\n",
       "      <th>2838688</th>\n",
       "      <td>2</td>\n",
       "      <td>1</td>\n",
       "      <td>14</td>\n",
       "      <td>0</td>\n",
       "      <td>A03</td>\n",
       "      <td>20190728</td>\n",
       "      <td>23:37</td>\n",
       "      <td>205793</td>\n",
       "      <td>NaN</td>\n",
       "      <td>레쓰비</td>\n",
       "      <td>55.0</td>\n",
       "      <td>872.0</td>\n",
       "      <td>DIRECT</td>\n",
       "      <td>NaN</td>\n",
       "    </tr>\n",
       "    <tr>\n",
       "      <th>1427717</th>\n",
       "      <td>2</td>\n",
       "      <td>1</td>\n",
       "      <td>15</td>\n",
       "      <td>5</td>\n",
       "      <td>A03</td>\n",
       "      <td>20190728</td>\n",
       "      <td>23:38</td>\n",
       "      <td>209432</td>\n",
       "      <td>NaN</td>\n",
       "      <td>NaN</td>\n",
       "      <td>55.0</td>\n",
       "      <td>872.0</td>\n",
       "      <td>DIRECT</td>\n",
       "      <td>NaN</td>\n",
       "    </tr>\n",
       "    <tr>\n",
       "      <th>1427715</th>\n",
       "      <td>2</td>\n",
       "      <td>1</td>\n",
       "      <td>16</td>\n",
       "      <td>5</td>\n",
       "      <td>A03</td>\n",
       "      <td>20190728</td>\n",
       "      <td>23:38</td>\n",
       "      <td>211864</td>\n",
       "      <td>NaN</td>\n",
       "      <td>NaN</td>\n",
       "      <td>55.0</td>\n",
       "      <td>872.0</td>\n",
       "      <td>DIRECT</td>\n",
       "      <td>NaN</td>\n",
       "    </tr>\n",
       "    <tr>\n",
       "      <th>1427607</th>\n",
       "      <td>2</td>\n",
       "      <td>1</td>\n",
       "      <td>17</td>\n",
       "      <td>1</td>\n",
       "      <td>A03</td>\n",
       "      <td>20190728</td>\n",
       "      <td>23:38</td>\n",
       "      <td>250342</td>\n",
       "      <td>NaN</td>\n",
       "      <td>NaN</td>\n",
       "      <td>55.0</td>\n",
       "      <td>872.0</td>\n",
       "      <td>DIRECT</td>\n",
       "      <td>NaN</td>\n",
       "    </tr>\n",
       "    <tr>\n",
       "      <th>1427691</th>\n",
       "      <td>2</td>\n",
       "      <td>1</td>\n",
       "      <td>18</td>\n",
       "      <td>2</td>\n",
       "      <td>A03</td>\n",
       "      <td>20190728</td>\n",
       "      <td>23:38</td>\n",
       "      <td>251465</td>\n",
       "      <td>NaN</td>\n",
       "      <td>NaN</td>\n",
       "      <td>55.0</td>\n",
       "      <td>872.0</td>\n",
       "      <td>DIRECT</td>\n",
       "      <td>NaN</td>\n",
       "    </tr>\n",
       "    <tr>\n",
       "      <th>1427682</th>\n",
       "      <td>2</td>\n",
       "      <td>1</td>\n",
       "      <td>19</td>\n",
       "      <td>5</td>\n",
       "      <td>A03</td>\n",
       "      <td>20190728</td>\n",
       "      <td>23:38</td>\n",
       "      <td>262931</td>\n",
       "      <td>NaN</td>\n",
       "      <td>NaN</td>\n",
       "      <td>55.0</td>\n",
       "      <td>872.0</td>\n",
       "      <td>DIRECT</td>\n",
       "      <td>NaN</td>\n",
       "    </tr>\n",
       "    <tr>\n",
       "      <th>1427661</th>\n",
       "      <td>2</td>\n",
       "      <td>1</td>\n",
       "      <td>20</td>\n",
       "      <td>1</td>\n",
       "      <td>A03</td>\n",
       "      <td>20190728</td>\n",
       "      <td>23:39</td>\n",
       "      <td>275845</td>\n",
       "      <td>NaN</td>\n",
       "      <td>NaN</td>\n",
       "      <td>55.0</td>\n",
       "      <td>872.0</td>\n",
       "      <td>DIRECT</td>\n",
       "      <td>NaN</td>\n",
       "    </tr>\n",
       "    <tr>\n",
       "      <th>1427742</th>\n",
       "      <td>2</td>\n",
       "      <td>1</td>\n",
       "      <td>21</td>\n",
       "      <td>2</td>\n",
       "      <td>A03</td>\n",
       "      <td>20190728</td>\n",
       "      <td>23:39</td>\n",
       "      <td>277133</td>\n",
       "      <td>NaN</td>\n",
       "      <td>NaN</td>\n",
       "      <td>55.0</td>\n",
       "      <td>872.0</td>\n",
       "      <td>DIRECT</td>\n",
       "      <td>NaN</td>\n",
       "    </tr>\n",
       "    <tr>\n",
       "      <th>1427704</th>\n",
       "      <td>2</td>\n",
       "      <td>1</td>\n",
       "      <td>22</td>\n",
       "      <td>5</td>\n",
       "      <td>A03</td>\n",
       "      <td>20190728</td>\n",
       "      <td>23:39</td>\n",
       "      <td>318171</td>\n",
       "      <td>NaN</td>\n",
       "      <td>NaN</td>\n",
       "      <td>55.0</td>\n",
       "      <td>872.0</td>\n",
       "      <td>DIRECT</td>\n",
       "      <td>NaN</td>\n",
       "    </tr>\n",
       "    <tr>\n",
       "      <th>1427668</th>\n",
       "      <td>2</td>\n",
       "      <td>1</td>\n",
       "      <td>23</td>\n",
       "      <td>5</td>\n",
       "      <td>A03</td>\n",
       "      <td>20190728</td>\n",
       "      <td>23:40</td>\n",
       "      <td>350525</td>\n",
       "      <td>NaN</td>\n",
       "      <td>NaN</td>\n",
       "      <td>55.0</td>\n",
       "      <td>872.0</td>\n",
       "      <td>DIRECT</td>\n",
       "      <td>NaN</td>\n",
       "    </tr>\n",
       "    <tr>\n",
       "      <th>1427639</th>\n",
       "      <td>2</td>\n",
       "      <td>1</td>\n",
       "      <td>24</td>\n",
       "      <td>5</td>\n",
       "      <td>A03</td>\n",
       "      <td>20190728</td>\n",
       "      <td>23:41</td>\n",
       "      <td>387075</td>\n",
       "      <td>NaN</td>\n",
       "      <td>NaN</td>\n",
       "      <td>55.0</td>\n",
       "      <td>872.0</td>\n",
       "      <td>DIRECT</td>\n",
       "      <td>NaN</td>\n",
       "    </tr>\n",
       "    <tr>\n",
       "      <th>1427685</th>\n",
       "      <td>2</td>\n",
       "      <td>1</td>\n",
       "      <td>25</td>\n",
       "      <td>1</td>\n",
       "      <td>A03</td>\n",
       "      <td>20190728</td>\n",
       "      <td>23:41</td>\n",
       "      <td>388464</td>\n",
       "      <td>NaN</td>\n",
       "      <td>NaN</td>\n",
       "      <td>55.0</td>\n",
       "      <td>872.0</td>\n",
       "      <td>DIRECT</td>\n",
       "      <td>NaN</td>\n",
       "    </tr>\n",
       "    <tr>\n",
       "      <th>1427739</th>\n",
       "      <td>2</td>\n",
       "      <td>1</td>\n",
       "      <td>26</td>\n",
       "      <td>2</td>\n",
       "      <td>A03</td>\n",
       "      <td>20190728</td>\n",
       "      <td>23:41</td>\n",
       "      <td>389678</td>\n",
       "      <td>NaN</td>\n",
       "      <td>NaN</td>\n",
       "      <td>55.0</td>\n",
       "      <td>872.0</td>\n",
       "      <td>DIRECT</td>\n",
       "      <td>NaN</td>\n",
       "    </tr>\n",
       "    <tr>\n",
       "      <th>1427728</th>\n",
       "      <td>2</td>\n",
       "      <td>1</td>\n",
       "      <td>27</td>\n",
       "      <td>5</td>\n",
       "      <td>A03</td>\n",
       "      <td>20190728</td>\n",
       "      <td>23:41</td>\n",
       "      <td>409729</td>\n",
       "      <td>NaN</td>\n",
       "      <td>NaN</td>\n",
       "      <td>55.0</td>\n",
       "      <td>872.0</td>\n",
       "      <td>DIRECT</td>\n",
       "      <td>NaN</td>\n",
       "    </tr>\n",
       "    <tr>\n",
       "      <th>1427768</th>\n",
       "      <td>2</td>\n",
       "      <td>1</td>\n",
       "      <td>28</td>\n",
       "      <td>1</td>\n",
       "      <td>A03</td>\n",
       "      <td>20190728</td>\n",
       "      <td>23:42</td>\n",
       "      <td>456329</td>\n",
       "      <td>NaN</td>\n",
       "      <td>NaN</td>\n",
       "      <td>55.0</td>\n",
       "      <td>872.0</td>\n",
       "      <td>DIRECT</td>\n",
       "      <td>NaN</td>\n",
       "    </tr>\n",
       "    <tr>\n",
       "      <th>1427664</th>\n",
       "      <td>2</td>\n",
       "      <td>1</td>\n",
       "      <td>29</td>\n",
       "      <td>2</td>\n",
       "      <td>A03</td>\n",
       "      <td>20190728</td>\n",
       "      <td>23:42</td>\n",
       "      <td>457557</td>\n",
       "      <td>NaN</td>\n",
       "      <td>NaN</td>\n",
       "      <td>55.0</td>\n",
       "      <td>872.0</td>\n",
       "      <td>DIRECT</td>\n",
       "      <td>NaN</td>\n",
       "    </tr>\n",
       "    <tr>\n",
       "      <th>1427622</th>\n",
       "      <td>2</td>\n",
       "      <td>1</td>\n",
       "      <td>30</td>\n",
       "      <td>5</td>\n",
       "      <td>A03</td>\n",
       "      <td>20190728</td>\n",
       "      <td>23:42</td>\n",
       "      <td>475214</td>\n",
       "      <td>NaN</td>\n",
       "      <td>NaN</td>\n",
       "      <td>55.0</td>\n",
       "      <td>872.0</td>\n",
       "      <td>DIRECT</td>\n",
       "      <td>NaN</td>\n",
       "    </tr>\n",
       "    <tr>\n",
       "      <th>1427689</th>\n",
       "      <td>2</td>\n",
       "      <td>1</td>\n",
       "      <td>31</td>\n",
       "      <td>5</td>\n",
       "      <td>A03</td>\n",
       "      <td>20190728</td>\n",
       "      <td>23:43</td>\n",
       "      <td>543627</td>\n",
       "      <td>NaN</td>\n",
       "      <td>NaN</td>\n",
       "      <td>55.0</td>\n",
       "      <td>872.0</td>\n",
       "      <td>DIRECT</td>\n",
       "      <td>NaN</td>\n",
       "    </tr>\n",
       "    <tr>\n",
       "      <th>1427589</th>\n",
       "      <td>2</td>\n",
       "      <td>1</td>\n",
       "      <td>32</td>\n",
       "      <td>5</td>\n",
       "      <td>A03</td>\n",
       "      <td>20190728</td>\n",
       "      <td>23:43</td>\n",
       "      <td>564791</td>\n",
       "      <td>NaN</td>\n",
       "      <td>NaN</td>\n",
       "      <td>55.0</td>\n",
       "      <td>872.0</td>\n",
       "      <td>DIRECT</td>\n",
       "      <td>NaN</td>\n",
       "    </tr>\n",
       "    <tr>\n",
       "      <th>1427667</th>\n",
       "      <td>2</td>\n",
       "      <td>1</td>\n",
       "      <td>33</td>\n",
       "      <td>5</td>\n",
       "      <td>A03</td>\n",
       "      <td>20190728</td>\n",
       "      <td>23:44</td>\n",
       "      <td>571573</td>\n",
       "      <td>NaN</td>\n",
       "      <td>NaN</td>\n",
       "      <td>55.0</td>\n",
       "      <td>872.0</td>\n",
       "      <td>DIRECT</td>\n",
       "      <td>NaN</td>\n",
       "    </tr>\n",
       "    <tr>\n",
       "      <th>1427644</th>\n",
       "      <td>2</td>\n",
       "      <td>1</td>\n",
       "      <td>34</td>\n",
       "      <td>5</td>\n",
       "      <td>A03</td>\n",
       "      <td>20190728</td>\n",
       "      <td>23:46</td>\n",
       "      <td>730043</td>\n",
       "      <td>NaN</td>\n",
       "      <td>NaN</td>\n",
       "      <td>55.0</td>\n",
       "      <td>872.0</td>\n",
       "      <td>DIRECT</td>\n",
       "      <td>NaN</td>\n",
       "    </tr>\n",
       "    <tr>\n",
       "      <th>1427671</th>\n",
       "      <td>2</td>\n",
       "      <td>1</td>\n",
       "      <td>35</td>\n",
       "      <td>5</td>\n",
       "      <td>A03</td>\n",
       "      <td>20190728</td>\n",
       "      <td>23:46</td>\n",
       "      <td>733393</td>\n",
       "      <td>NaN</td>\n",
       "      <td>NaN</td>\n",
       "      <td>55.0</td>\n",
       "      <td>872.0</td>\n",
       "      <td>DIRECT</td>\n",
       "      <td>NaN</td>\n",
       "    </tr>\n",
       "    <tr>\n",
       "      <th>1427784</th>\n",
       "      <td>2</td>\n",
       "      <td>1</td>\n",
       "      <td>36</td>\n",
       "      <td>5</td>\n",
       "      <td>A03</td>\n",
       "      <td>20190728</td>\n",
       "      <td>23:47</td>\n",
       "      <td>789273</td>\n",
       "      <td>NaN</td>\n",
       "      <td>NaN</td>\n",
       "      <td>55.0</td>\n",
       "      <td>872.0</td>\n",
       "      <td>DIRECT</td>\n",
       "      <td>NaN</td>\n",
       "    </tr>\n",
       "    <tr>\n",
       "      <th>1427686</th>\n",
       "      <td>2</td>\n",
       "      <td>1</td>\n",
       "      <td>37</td>\n",
       "      <td>6</td>\n",
       "      <td>A03</td>\n",
       "      <td>20190728</td>\n",
       "      <td>23:47</td>\n",
       "      <td>791905</td>\n",
       "      <td>62037.0</td>\n",
       "      <td>NaN</td>\n",
       "      <td>55.0</td>\n",
       "      <td>872.0</td>\n",
       "      <td>DIRECT</td>\n",
       "      <td>NaN</td>\n",
       "    </tr>\n",
       "    <tr>\n",
       "      <th>1427699</th>\n",
       "      <td>2</td>\n",
       "      <td>1</td>\n",
       "      <td>38</td>\n",
       "      <td>3</td>\n",
       "      <td>A03</td>\n",
       "      <td>20190728</td>\n",
       "      <td>23:48</td>\n",
       "      <td>823393</td>\n",
       "      <td>NaN</td>\n",
       "      <td>NaN</td>\n",
       "      <td>55.0</td>\n",
       "      <td>872.0</td>\n",
       "      <td>DIRECT</td>\n",
       "      <td>NaN</td>\n",
       "    </tr>\n",
       "    <tr>\n",
       "      <th>1427756</th>\n",
       "      <td>2</td>\n",
       "      <td>1</td>\n",
       "      <td>39</td>\n",
       "      <td>5</td>\n",
       "      <td>A03</td>\n",
       "      <td>20190728</td>\n",
       "      <td>23:48</td>\n",
       "      <td>827645</td>\n",
       "      <td>NaN</td>\n",
       "      <td>NaN</td>\n",
       "      <td>55.0</td>\n",
       "      <td>872.0</td>\n",
       "      <td>DIRECT</td>\n",
       "      <td>NaN</td>\n",
       "    </tr>\n",
       "    <tr>\n",
       "      <th>1427653</th>\n",
       "      <td>2</td>\n",
       "      <td>1</td>\n",
       "      <td>40</td>\n",
       "      <td>5</td>\n",
       "      <td>A03</td>\n",
       "      <td>20190728</td>\n",
       "      <td>23:48</td>\n",
       "      <td>862074</td>\n",
       "      <td>NaN</td>\n",
       "      <td>NaN</td>\n",
       "      <td>55.0</td>\n",
       "      <td>872.0</td>\n",
       "      <td>DIRECT</td>\n",
       "      <td>NaN</td>\n",
       "    </tr>\n",
       "  </tbody>\n",
       "</table>\n",
       "</div>"
      ],
      "text/plain": [
       "         clnt_id  sess_id  hit_seq  action_type biz_unit   sess_dt hit_tm  \\\n",
       "3102890        1        1        1            0      A01  20190911  16:14   \n",
       "3136925        1        1        2            0      A01  20190911  16:15   \n",
       "3065714        1        1        3            0      A01  20190911  16:15   \n",
       "3091872        1        2        1            0      A01  20190922  14:09   \n",
       "3142610        1        2        2            0      A01  20190922  14:10   \n",
       "3084082        1        2        3            0      A01  20190922  14:10   \n",
       "3136926        1        2        4            0      A01  20190922  14:11   \n",
       "3123796        1        2        5            0      A01  20190922  14:11   \n",
       "3001880        1        2        6            0      A01  20190922  14:12   \n",
       "3142609        1        2        7            0      A01  20190922  14:12   \n",
       "2838680        2        1        1            0      A03  20190728  23:35   \n",
       "1427751        2        1        2            1      A03  20190728  23:35   \n",
       "1427590        2        1        3            2      A03  20190728  23:35   \n",
       "2838670        2        1        4            0      A03  20190728  23:35   \n",
       "2838699        2        1        5            0      A03  20190728  23:36   \n",
       "1427709        2        1        6            3      A03  20190728  23:36   \n",
       "1427712        2        1        7            5      A03  20190728  23:36   \n",
       "1427761        2        1        8            5      A03  20190728  23:37   \n",
       "2838693        2        1        9            0      A03  20190728  23:37   \n",
       "1427623        2        1       10            1      A03  20190728  23:37   \n",
       "1427631        2        1       11            2      A03  20190728  23:37   \n",
       "2838704        2        1       12            0      A03  20190728  23:37   \n",
       "2838707        2        1       13            0      A03  20190728  23:37   \n",
       "2838688        2        1       14            0      A03  20190728  23:37   \n",
       "1427717        2        1       15            5      A03  20190728  23:38   \n",
       "1427715        2        1       16            5      A03  20190728  23:38   \n",
       "1427607        2        1       17            1      A03  20190728  23:38   \n",
       "1427691        2        1       18            2      A03  20190728  23:38   \n",
       "1427682        2        1       19            5      A03  20190728  23:38   \n",
       "1427661        2        1       20            1      A03  20190728  23:39   \n",
       "1427742        2        1       21            2      A03  20190728  23:39   \n",
       "1427704        2        1       22            5      A03  20190728  23:39   \n",
       "1427668        2        1       23            5      A03  20190728  23:40   \n",
       "1427639        2        1       24            5      A03  20190728  23:41   \n",
       "1427685        2        1       25            1      A03  20190728  23:41   \n",
       "1427739        2        1       26            2      A03  20190728  23:41   \n",
       "1427728        2        1       27            5      A03  20190728  23:41   \n",
       "1427768        2        1       28            1      A03  20190728  23:42   \n",
       "1427664        2        1       29            2      A03  20190728  23:42   \n",
       "1427622        2        1       30            5      A03  20190728  23:42   \n",
       "1427689        2        1       31            5      A03  20190728  23:43   \n",
       "1427589        2        1       32            5      A03  20190728  23:43   \n",
       "1427667        2        1       33            5      A03  20190728  23:44   \n",
       "1427644        2        1       34            5      A03  20190728  23:46   \n",
       "1427671        2        1       35            5      A03  20190728  23:46   \n",
       "1427784        2        1       36            5      A03  20190728  23:47   \n",
       "1427686        2        1       37            6      A03  20190728  23:47   \n",
       "1427699        2        1       38            3      A03  20190728  23:48   \n",
       "1427756        2        1       39            5      A03  20190728  23:48   \n",
       "1427653        2        1       40            5      A03  20190728  23:48   \n",
       "\n",
       "         hit_pss_tm  trans_id    sech_kwd  tot_pag_view_ct  tot_sess_hr_v  \\\n",
       "3102890       11880       NaN      과일선물세트             14.0          124.0   \n",
       "3136925       22432       NaN  과일선물세트 백화점             14.0          124.0   \n",
       "3065714       36140       NaN       과일바구니             14.0          124.0   \n",
       "3091872       41584       NaN      초등가을잠바             45.0          424.0   \n",
       "3142610       56113       NaN      초등가을점퍼             45.0          424.0   \n",
       "3084082       70025       NaN       초등남아옷             45.0          424.0   \n",
       "3136926      119527       NaN      초등남아점퍼             45.0          424.0   \n",
       "3123796      162327       NaN     노스페이스키즈             45.0          424.0   \n",
       "3001880      178832       NaN     노스페이스초등             45.0          424.0   \n",
       "3142609      192367       NaN     노스페이스키즈             45.0          424.0   \n",
       "2838680       39532       NaN         레쓰비             55.0          872.0   \n",
       "1427751       47232       NaN         NaN             55.0          872.0   \n",
       "1427590       48087       NaN         NaN             55.0          872.0   \n",
       "2838670       62794       NaN         레쓰비             55.0          872.0   \n",
       "2838699      104074       NaN         레쓰비             55.0          872.0   \n",
       "1427709      127807       NaN         NaN             55.0          872.0   \n",
       "1427712      136325       NaN         NaN             55.0          872.0   \n",
       "1427761      150334       NaN         NaN             55.0          872.0   \n",
       "2838693      163423       NaN         레쓰비             55.0          872.0   \n",
       "1427623      174500       NaN         NaN             55.0          872.0   \n",
       "1427631      175859       NaN         NaN             55.0          872.0   \n",
       "2838704      188136       NaN         레쓰비             55.0          872.0   \n",
       "2838707      199515       NaN      레쓰비캔커피             55.0          872.0   \n",
       "2838688      205793       NaN         레쓰비             55.0          872.0   \n",
       "1427717      209432       NaN         NaN             55.0          872.0   \n",
       "1427715      211864       NaN         NaN             55.0          872.0   \n",
       "1427607      250342       NaN         NaN             55.0          872.0   \n",
       "1427691      251465       NaN         NaN             55.0          872.0   \n",
       "1427682      262931       NaN         NaN             55.0          872.0   \n",
       "1427661      275845       NaN         NaN             55.0          872.0   \n",
       "1427742      277133       NaN         NaN             55.0          872.0   \n",
       "1427704      318171       NaN         NaN             55.0          872.0   \n",
       "1427668      350525       NaN         NaN             55.0          872.0   \n",
       "1427639      387075       NaN         NaN             55.0          872.0   \n",
       "1427685      388464       NaN         NaN             55.0          872.0   \n",
       "1427739      389678       NaN         NaN             55.0          872.0   \n",
       "1427728      409729       NaN         NaN             55.0          872.0   \n",
       "1427768      456329       NaN         NaN             55.0          872.0   \n",
       "1427664      457557       NaN         NaN             55.0          872.0   \n",
       "1427622      475214       NaN         NaN             55.0          872.0   \n",
       "1427689      543627       NaN         NaN             55.0          872.0   \n",
       "1427589      564791       NaN         NaN             55.0          872.0   \n",
       "1427667      571573       NaN         NaN             55.0          872.0   \n",
       "1427644      730043       NaN         NaN             55.0          872.0   \n",
       "1427671      733393       NaN         NaN             55.0          872.0   \n",
       "1427784      789273       NaN         NaN             55.0          872.0   \n",
       "1427686      791905   62037.0         NaN             55.0          872.0   \n",
       "1427699      823393       NaN         NaN             55.0          872.0   \n",
       "1427756      827645       NaN         NaN             55.0          872.0   \n",
       "1427653      862074       NaN         NaN             55.0          872.0   \n",
       "\n",
       "        trfc_src  dvc_ctg_nm  \n",
       "3102890  unknown  mobile_app  \n",
       "3136925  unknown  mobile_app  \n",
       "3065714  unknown  mobile_app  \n",
       "3091872  unknown  mobile_app  \n",
       "3142610  unknown  mobile_app  \n",
       "3084082  unknown  mobile_app  \n",
       "3136926  unknown  mobile_app  \n",
       "3123796  unknown  mobile_app  \n",
       "3001880  unknown  mobile_app  \n",
       "3142609  unknown  mobile_app  \n",
       "2838680   DIRECT         NaN  \n",
       "1427751   DIRECT         NaN  \n",
       "1427590   DIRECT         NaN  \n",
       "2838670   DIRECT         NaN  \n",
       "2838699   DIRECT         NaN  \n",
       "1427709   DIRECT         NaN  \n",
       "1427712   DIRECT         NaN  \n",
       "1427761   DIRECT         NaN  \n",
       "2838693   DIRECT         NaN  \n",
       "1427623   DIRECT         NaN  \n",
       "1427631   DIRECT         NaN  \n",
       "2838704   DIRECT         NaN  \n",
       "2838707   DIRECT         NaN  \n",
       "2838688   DIRECT         NaN  \n",
       "1427717   DIRECT         NaN  \n",
       "1427715   DIRECT         NaN  \n",
       "1427607   DIRECT         NaN  \n",
       "1427691   DIRECT         NaN  \n",
       "1427682   DIRECT         NaN  \n",
       "1427661   DIRECT         NaN  \n",
       "1427742   DIRECT         NaN  \n",
       "1427704   DIRECT         NaN  \n",
       "1427668   DIRECT         NaN  \n",
       "1427639   DIRECT         NaN  \n",
       "1427685   DIRECT         NaN  \n",
       "1427739   DIRECT         NaN  \n",
       "1427728   DIRECT         NaN  \n",
       "1427768   DIRECT         NaN  \n",
       "1427664   DIRECT         NaN  \n",
       "1427622   DIRECT         NaN  \n",
       "1427689   DIRECT         NaN  \n",
       "1427589   DIRECT         NaN  \n",
       "1427667   DIRECT         NaN  \n",
       "1427644   DIRECT         NaN  \n",
       "1427671   DIRECT         NaN  \n",
       "1427784   DIRECT         NaN  \n",
       "1427686   DIRECT         NaN  \n",
       "1427699   DIRECT         NaN  \n",
       "1427756   DIRECT         NaN  \n",
       "1427653   DIRECT         NaN  "
      ]
     },
     "execution_count": 5,
     "metadata": {},
     "output_type": "execute_result"
    }
   ],
   "source": [
    "raw1_sorted_time = raw_data1_Online_Act.sort_values(by = ['clnt_id', 'sess_id', 'sess_dt', 'hit_tm', 'hit_pss_tm'], axis=0)\n",
    "raw1_sorted_time.head(50)"
   ]
  },
  {
   "cell_type": "markdown",
   "metadata": {},
   "source": [
    " * 온라인 행동에 대한 키워드 추가"
   ]
  },
  {
   "cell_type": "code",
   "execution_count": 6,
   "metadata": {},
   "outputs": [],
   "source": [
    "raw1_sorted_time['act_kwd'] = raw1_sorted_time['sech_kwd']"
   ]
  },
  {
   "cell_type": "code",
   "execution_count": 7,
   "metadata": {},
   "outputs": [
    {
     "data": {
      "text/html": [
       "<div>\n",
       "<style scoped>\n",
       "    .dataframe tbody tr th:only-of-type {\n",
       "        vertical-align: middle;\n",
       "    }\n",
       "\n",
       "    .dataframe tbody tr th {\n",
       "        vertical-align: top;\n",
       "    }\n",
       "\n",
       "    .dataframe thead th {\n",
       "        text-align: right;\n",
       "    }\n",
       "</style>\n",
       "<table border=\"1\" class=\"dataframe\">\n",
       "  <thead>\n",
       "    <tr style=\"text-align: right;\">\n",
       "      <th></th>\n",
       "      <th>clnt_id</th>\n",
       "      <th>sess_id</th>\n",
       "      <th>hit_seq</th>\n",
       "      <th>action_type</th>\n",
       "      <th>biz_unit</th>\n",
       "      <th>sess_dt</th>\n",
       "      <th>hit_tm</th>\n",
       "      <th>hit_pss_tm</th>\n",
       "      <th>trans_id</th>\n",
       "      <th>sech_kwd</th>\n",
       "      <th>tot_pag_view_ct</th>\n",
       "      <th>tot_sess_hr_v</th>\n",
       "      <th>trfc_src</th>\n",
       "      <th>dvc_ctg_nm</th>\n",
       "      <th>act_kwd</th>\n",
       "    </tr>\n",
       "  </thead>\n",
       "  <tbody>\n",
       "    <tr>\n",
       "      <th>3102890</th>\n",
       "      <td>1</td>\n",
       "      <td>1</td>\n",
       "      <td>1</td>\n",
       "      <td>0</td>\n",
       "      <td>A01</td>\n",
       "      <td>20190911</td>\n",
       "      <td>16:14</td>\n",
       "      <td>11880</td>\n",
       "      <td>NaN</td>\n",
       "      <td>과일선물세트</td>\n",
       "      <td>14.0</td>\n",
       "      <td>124.0</td>\n",
       "      <td>unknown</td>\n",
       "      <td>mobile_app</td>\n",
       "      <td>과일선물세트</td>\n",
       "    </tr>\n",
       "    <tr>\n",
       "      <th>3136925</th>\n",
       "      <td>1</td>\n",
       "      <td>1</td>\n",
       "      <td>2</td>\n",
       "      <td>0</td>\n",
       "      <td>A01</td>\n",
       "      <td>20190911</td>\n",
       "      <td>16:15</td>\n",
       "      <td>22432</td>\n",
       "      <td>NaN</td>\n",
       "      <td>과일선물세트 백화점</td>\n",
       "      <td>14.0</td>\n",
       "      <td>124.0</td>\n",
       "      <td>unknown</td>\n",
       "      <td>mobile_app</td>\n",
       "      <td>과일선물세트 백화점</td>\n",
       "    </tr>\n",
       "    <tr>\n",
       "      <th>3065714</th>\n",
       "      <td>1</td>\n",
       "      <td>1</td>\n",
       "      <td>3</td>\n",
       "      <td>0</td>\n",
       "      <td>A01</td>\n",
       "      <td>20190911</td>\n",
       "      <td>16:15</td>\n",
       "      <td>36140</td>\n",
       "      <td>NaN</td>\n",
       "      <td>과일바구니</td>\n",
       "      <td>14.0</td>\n",
       "      <td>124.0</td>\n",
       "      <td>unknown</td>\n",
       "      <td>mobile_app</td>\n",
       "      <td>과일바구니</td>\n",
       "    </tr>\n",
       "    <tr>\n",
       "      <th>3091872</th>\n",
       "      <td>1</td>\n",
       "      <td>2</td>\n",
       "      <td>1</td>\n",
       "      <td>0</td>\n",
       "      <td>A01</td>\n",
       "      <td>20190922</td>\n",
       "      <td>14:09</td>\n",
       "      <td>41584</td>\n",
       "      <td>NaN</td>\n",
       "      <td>초등가을잠바</td>\n",
       "      <td>45.0</td>\n",
       "      <td>424.0</td>\n",
       "      <td>unknown</td>\n",
       "      <td>mobile_app</td>\n",
       "      <td>초등가을잠바</td>\n",
       "    </tr>\n",
       "    <tr>\n",
       "      <th>3142610</th>\n",
       "      <td>1</td>\n",
       "      <td>2</td>\n",
       "      <td>2</td>\n",
       "      <td>0</td>\n",
       "      <td>A01</td>\n",
       "      <td>20190922</td>\n",
       "      <td>14:10</td>\n",
       "      <td>56113</td>\n",
       "      <td>NaN</td>\n",
       "      <td>초등가을점퍼</td>\n",
       "      <td>45.0</td>\n",
       "      <td>424.0</td>\n",
       "      <td>unknown</td>\n",
       "      <td>mobile_app</td>\n",
       "      <td>초등가을점퍼</td>\n",
       "    </tr>\n",
       "    <tr>\n",
       "      <th>3084082</th>\n",
       "      <td>1</td>\n",
       "      <td>2</td>\n",
       "      <td>3</td>\n",
       "      <td>0</td>\n",
       "      <td>A01</td>\n",
       "      <td>20190922</td>\n",
       "      <td>14:10</td>\n",
       "      <td>70025</td>\n",
       "      <td>NaN</td>\n",
       "      <td>초등남아옷</td>\n",
       "      <td>45.0</td>\n",
       "      <td>424.0</td>\n",
       "      <td>unknown</td>\n",
       "      <td>mobile_app</td>\n",
       "      <td>초등남아옷</td>\n",
       "    </tr>\n",
       "    <tr>\n",
       "      <th>3136926</th>\n",
       "      <td>1</td>\n",
       "      <td>2</td>\n",
       "      <td>4</td>\n",
       "      <td>0</td>\n",
       "      <td>A01</td>\n",
       "      <td>20190922</td>\n",
       "      <td>14:11</td>\n",
       "      <td>119527</td>\n",
       "      <td>NaN</td>\n",
       "      <td>초등남아점퍼</td>\n",
       "      <td>45.0</td>\n",
       "      <td>424.0</td>\n",
       "      <td>unknown</td>\n",
       "      <td>mobile_app</td>\n",
       "      <td>초등남아점퍼</td>\n",
       "    </tr>\n",
       "    <tr>\n",
       "      <th>3123796</th>\n",
       "      <td>1</td>\n",
       "      <td>2</td>\n",
       "      <td>5</td>\n",
       "      <td>0</td>\n",
       "      <td>A01</td>\n",
       "      <td>20190922</td>\n",
       "      <td>14:11</td>\n",
       "      <td>162327</td>\n",
       "      <td>NaN</td>\n",
       "      <td>노스페이스키즈</td>\n",
       "      <td>45.0</td>\n",
       "      <td>424.0</td>\n",
       "      <td>unknown</td>\n",
       "      <td>mobile_app</td>\n",
       "      <td>노스페이스키즈</td>\n",
       "    </tr>\n",
       "    <tr>\n",
       "      <th>3001880</th>\n",
       "      <td>1</td>\n",
       "      <td>2</td>\n",
       "      <td>6</td>\n",
       "      <td>0</td>\n",
       "      <td>A01</td>\n",
       "      <td>20190922</td>\n",
       "      <td>14:12</td>\n",
       "      <td>178832</td>\n",
       "      <td>NaN</td>\n",
       "      <td>노스페이스초등</td>\n",
       "      <td>45.0</td>\n",
       "      <td>424.0</td>\n",
       "      <td>unknown</td>\n",
       "      <td>mobile_app</td>\n",
       "      <td>노스페이스초등</td>\n",
       "    </tr>\n",
       "    <tr>\n",
       "      <th>3142609</th>\n",
       "      <td>1</td>\n",
       "      <td>2</td>\n",
       "      <td>7</td>\n",
       "      <td>0</td>\n",
       "      <td>A01</td>\n",
       "      <td>20190922</td>\n",
       "      <td>14:12</td>\n",
       "      <td>192367</td>\n",
       "      <td>NaN</td>\n",
       "      <td>노스페이스키즈</td>\n",
       "      <td>45.0</td>\n",
       "      <td>424.0</td>\n",
       "      <td>unknown</td>\n",
       "      <td>mobile_app</td>\n",
       "      <td>노스페이스키즈</td>\n",
       "    </tr>\n",
       "    <tr>\n",
       "      <th>2838680</th>\n",
       "      <td>2</td>\n",
       "      <td>1</td>\n",
       "      <td>1</td>\n",
       "      <td>0</td>\n",
       "      <td>A03</td>\n",
       "      <td>20190728</td>\n",
       "      <td>23:35</td>\n",
       "      <td>39532</td>\n",
       "      <td>NaN</td>\n",
       "      <td>레쓰비</td>\n",
       "      <td>55.0</td>\n",
       "      <td>872.0</td>\n",
       "      <td>DIRECT</td>\n",
       "      <td>NaN</td>\n",
       "      <td>레쓰비</td>\n",
       "    </tr>\n",
       "    <tr>\n",
       "      <th>1427751</th>\n",
       "      <td>2</td>\n",
       "      <td>1</td>\n",
       "      <td>2</td>\n",
       "      <td>1</td>\n",
       "      <td>A03</td>\n",
       "      <td>20190728</td>\n",
       "      <td>23:35</td>\n",
       "      <td>47232</td>\n",
       "      <td>NaN</td>\n",
       "      <td>NaN</td>\n",
       "      <td>55.0</td>\n",
       "      <td>872.0</td>\n",
       "      <td>DIRECT</td>\n",
       "      <td>NaN</td>\n",
       "      <td>NaN</td>\n",
       "    </tr>\n",
       "    <tr>\n",
       "      <th>1427590</th>\n",
       "      <td>2</td>\n",
       "      <td>1</td>\n",
       "      <td>3</td>\n",
       "      <td>2</td>\n",
       "      <td>A03</td>\n",
       "      <td>20190728</td>\n",
       "      <td>23:35</td>\n",
       "      <td>48087</td>\n",
       "      <td>NaN</td>\n",
       "      <td>NaN</td>\n",
       "      <td>55.0</td>\n",
       "      <td>872.0</td>\n",
       "      <td>DIRECT</td>\n",
       "      <td>NaN</td>\n",
       "      <td>NaN</td>\n",
       "    </tr>\n",
       "    <tr>\n",
       "      <th>2838670</th>\n",
       "      <td>2</td>\n",
       "      <td>1</td>\n",
       "      <td>4</td>\n",
       "      <td>0</td>\n",
       "      <td>A03</td>\n",
       "      <td>20190728</td>\n",
       "      <td>23:35</td>\n",
       "      <td>62794</td>\n",
       "      <td>NaN</td>\n",
       "      <td>레쓰비</td>\n",
       "      <td>55.0</td>\n",
       "      <td>872.0</td>\n",
       "      <td>DIRECT</td>\n",
       "      <td>NaN</td>\n",
       "      <td>레쓰비</td>\n",
       "    </tr>\n",
       "    <tr>\n",
       "      <th>2838699</th>\n",
       "      <td>2</td>\n",
       "      <td>1</td>\n",
       "      <td>5</td>\n",
       "      <td>0</td>\n",
       "      <td>A03</td>\n",
       "      <td>20190728</td>\n",
       "      <td>23:36</td>\n",
       "      <td>104074</td>\n",
       "      <td>NaN</td>\n",
       "      <td>레쓰비</td>\n",
       "      <td>55.0</td>\n",
       "      <td>872.0</td>\n",
       "      <td>DIRECT</td>\n",
       "      <td>NaN</td>\n",
       "      <td>레쓰비</td>\n",
       "    </tr>\n",
       "    <tr>\n",
       "      <th>1427709</th>\n",
       "      <td>2</td>\n",
       "      <td>1</td>\n",
       "      <td>6</td>\n",
       "      <td>3</td>\n",
       "      <td>A03</td>\n",
       "      <td>20190728</td>\n",
       "      <td>23:36</td>\n",
       "      <td>127807</td>\n",
       "      <td>NaN</td>\n",
       "      <td>NaN</td>\n",
       "      <td>55.0</td>\n",
       "      <td>872.0</td>\n",
       "      <td>DIRECT</td>\n",
       "      <td>NaN</td>\n",
       "      <td>NaN</td>\n",
       "    </tr>\n",
       "    <tr>\n",
       "      <th>1427712</th>\n",
       "      <td>2</td>\n",
       "      <td>1</td>\n",
       "      <td>7</td>\n",
       "      <td>5</td>\n",
       "      <td>A03</td>\n",
       "      <td>20190728</td>\n",
       "      <td>23:36</td>\n",
       "      <td>136325</td>\n",
       "      <td>NaN</td>\n",
       "      <td>NaN</td>\n",
       "      <td>55.0</td>\n",
       "      <td>872.0</td>\n",
       "      <td>DIRECT</td>\n",
       "      <td>NaN</td>\n",
       "      <td>NaN</td>\n",
       "    </tr>\n",
       "    <tr>\n",
       "      <th>1427761</th>\n",
       "      <td>2</td>\n",
       "      <td>1</td>\n",
       "      <td>8</td>\n",
       "      <td>5</td>\n",
       "      <td>A03</td>\n",
       "      <td>20190728</td>\n",
       "      <td>23:37</td>\n",
       "      <td>150334</td>\n",
       "      <td>NaN</td>\n",
       "      <td>NaN</td>\n",
       "      <td>55.0</td>\n",
       "      <td>872.0</td>\n",
       "      <td>DIRECT</td>\n",
       "      <td>NaN</td>\n",
       "      <td>NaN</td>\n",
       "    </tr>\n",
       "    <tr>\n",
       "      <th>2838693</th>\n",
       "      <td>2</td>\n",
       "      <td>1</td>\n",
       "      <td>9</td>\n",
       "      <td>0</td>\n",
       "      <td>A03</td>\n",
       "      <td>20190728</td>\n",
       "      <td>23:37</td>\n",
       "      <td>163423</td>\n",
       "      <td>NaN</td>\n",
       "      <td>레쓰비</td>\n",
       "      <td>55.0</td>\n",
       "      <td>872.0</td>\n",
       "      <td>DIRECT</td>\n",
       "      <td>NaN</td>\n",
       "      <td>레쓰비</td>\n",
       "    </tr>\n",
       "    <tr>\n",
       "      <th>1427623</th>\n",
       "      <td>2</td>\n",
       "      <td>1</td>\n",
       "      <td>10</td>\n",
       "      <td>1</td>\n",
       "      <td>A03</td>\n",
       "      <td>20190728</td>\n",
       "      <td>23:37</td>\n",
       "      <td>174500</td>\n",
       "      <td>NaN</td>\n",
       "      <td>NaN</td>\n",
       "      <td>55.0</td>\n",
       "      <td>872.0</td>\n",
       "      <td>DIRECT</td>\n",
       "      <td>NaN</td>\n",
       "      <td>NaN</td>\n",
       "    </tr>\n",
       "  </tbody>\n",
       "</table>\n",
       "</div>"
      ],
      "text/plain": [
       "         clnt_id  sess_id  hit_seq  action_type biz_unit   sess_dt hit_tm  \\\n",
       "3102890        1        1        1            0      A01  20190911  16:14   \n",
       "3136925        1        1        2            0      A01  20190911  16:15   \n",
       "3065714        1        1        3            0      A01  20190911  16:15   \n",
       "3091872        1        2        1            0      A01  20190922  14:09   \n",
       "3142610        1        2        2            0      A01  20190922  14:10   \n",
       "3084082        1        2        3            0      A01  20190922  14:10   \n",
       "3136926        1        2        4            0      A01  20190922  14:11   \n",
       "3123796        1        2        5            0      A01  20190922  14:11   \n",
       "3001880        1        2        6            0      A01  20190922  14:12   \n",
       "3142609        1        2        7            0      A01  20190922  14:12   \n",
       "2838680        2        1        1            0      A03  20190728  23:35   \n",
       "1427751        2        1        2            1      A03  20190728  23:35   \n",
       "1427590        2        1        3            2      A03  20190728  23:35   \n",
       "2838670        2        1        4            0      A03  20190728  23:35   \n",
       "2838699        2        1        5            0      A03  20190728  23:36   \n",
       "1427709        2        1        6            3      A03  20190728  23:36   \n",
       "1427712        2        1        7            5      A03  20190728  23:36   \n",
       "1427761        2        1        8            5      A03  20190728  23:37   \n",
       "2838693        2        1        9            0      A03  20190728  23:37   \n",
       "1427623        2        1       10            1      A03  20190728  23:37   \n",
       "\n",
       "         hit_pss_tm  trans_id    sech_kwd  tot_pag_view_ct  tot_sess_hr_v  \\\n",
       "3102890       11880       NaN      과일선물세트             14.0          124.0   \n",
       "3136925       22432       NaN  과일선물세트 백화점             14.0          124.0   \n",
       "3065714       36140       NaN       과일바구니             14.0          124.0   \n",
       "3091872       41584       NaN      초등가을잠바             45.0          424.0   \n",
       "3142610       56113       NaN      초등가을점퍼             45.0          424.0   \n",
       "3084082       70025       NaN       초등남아옷             45.0          424.0   \n",
       "3136926      119527       NaN      초등남아점퍼             45.0          424.0   \n",
       "3123796      162327       NaN     노스페이스키즈             45.0          424.0   \n",
       "3001880      178832       NaN     노스페이스초등             45.0          424.0   \n",
       "3142609      192367       NaN     노스페이스키즈             45.0          424.0   \n",
       "2838680       39532       NaN         레쓰비             55.0          872.0   \n",
       "1427751       47232       NaN         NaN             55.0          872.0   \n",
       "1427590       48087       NaN         NaN             55.0          872.0   \n",
       "2838670       62794       NaN         레쓰비             55.0          872.0   \n",
       "2838699      104074       NaN         레쓰비             55.0          872.0   \n",
       "1427709      127807       NaN         NaN             55.0          872.0   \n",
       "1427712      136325       NaN         NaN             55.0          872.0   \n",
       "1427761      150334       NaN         NaN             55.0          872.0   \n",
       "2838693      163423       NaN         레쓰비             55.0          872.0   \n",
       "1427623      174500       NaN         NaN             55.0          872.0   \n",
       "\n",
       "        trfc_src  dvc_ctg_nm     act_kwd  \n",
       "3102890  unknown  mobile_app      과일선물세트  \n",
       "3136925  unknown  mobile_app  과일선물세트 백화점  \n",
       "3065714  unknown  mobile_app       과일바구니  \n",
       "3091872  unknown  mobile_app      초등가을잠바  \n",
       "3142610  unknown  mobile_app      초등가을점퍼  \n",
       "3084082  unknown  mobile_app       초등남아옷  \n",
       "3136926  unknown  mobile_app      초등남아점퍼  \n",
       "3123796  unknown  mobile_app     노스페이스키즈  \n",
       "3001880  unknown  mobile_app     노스페이스초등  \n",
       "3142609  unknown  mobile_app     노스페이스키즈  \n",
       "2838680   DIRECT         NaN         레쓰비  \n",
       "1427751   DIRECT         NaN         NaN  \n",
       "1427590   DIRECT         NaN         NaN  \n",
       "2838670   DIRECT         NaN         레쓰비  \n",
       "2838699   DIRECT         NaN         레쓰비  \n",
       "1427709   DIRECT         NaN         NaN  \n",
       "1427712   DIRECT         NaN         NaN  \n",
       "1427761   DIRECT         NaN         NaN  \n",
       "2838693   DIRECT         NaN         레쓰비  \n",
       "1427623   DIRECT         NaN         NaN  "
      ]
     },
     "execution_count": 7,
     "metadata": {},
     "output_type": "execute_result"
    }
   ],
   "source": [
    "raw1_sorted_time.head(20)"
   ]
  },
  {
   "cell_type": "markdown",
   "metadata": {},
   "source": [
    " * index_reset"
   ]
  },
  {
   "cell_type": "code",
   "execution_count": 8,
   "metadata": {},
   "outputs": [],
   "source": [
    "raw1_sorted_time = raw1_sorted_time.reset_index()"
   ]
  },
  {
   "cell_type": "code",
   "execution_count": 9,
   "metadata": {},
   "outputs": [],
   "source": [
    "# 기존 인덱스인 Index열 삭제\n",
    "raw1_sorted_time = raw1_sorted_time.drop(['index'], axis=1)"
   ]
  },
  {
   "cell_type": "code",
   "execution_count": 10,
   "metadata": {},
   "outputs": [
    {
     "data": {
      "text/html": [
       "<div>\n",
       "<style scoped>\n",
       "    .dataframe tbody tr th:only-of-type {\n",
       "        vertical-align: middle;\n",
       "    }\n",
       "\n",
       "    .dataframe tbody tr th {\n",
       "        vertical-align: top;\n",
       "    }\n",
       "\n",
       "    .dataframe thead th {\n",
       "        text-align: right;\n",
       "    }\n",
       "</style>\n",
       "<table border=\"1\" class=\"dataframe\">\n",
       "  <thead>\n",
       "    <tr style=\"text-align: right;\">\n",
       "      <th></th>\n",
       "      <th>clnt_id</th>\n",
       "      <th>sess_id</th>\n",
       "      <th>hit_seq</th>\n",
       "      <th>action_type</th>\n",
       "      <th>biz_unit</th>\n",
       "      <th>sess_dt</th>\n",
       "      <th>hit_tm</th>\n",
       "      <th>hit_pss_tm</th>\n",
       "      <th>trans_id</th>\n",
       "      <th>sech_kwd</th>\n",
       "      <th>tot_pag_view_ct</th>\n",
       "      <th>tot_sess_hr_v</th>\n",
       "      <th>trfc_src</th>\n",
       "      <th>dvc_ctg_nm</th>\n",
       "      <th>act_kwd</th>\n",
       "    </tr>\n",
       "  </thead>\n",
       "  <tbody>\n",
       "    <tr>\n",
       "      <th>0</th>\n",
       "      <td>1</td>\n",
       "      <td>1</td>\n",
       "      <td>1</td>\n",
       "      <td>0</td>\n",
       "      <td>A01</td>\n",
       "      <td>20190911</td>\n",
       "      <td>16:14</td>\n",
       "      <td>11880</td>\n",
       "      <td>NaN</td>\n",
       "      <td>과일선물세트</td>\n",
       "      <td>14.0</td>\n",
       "      <td>124.0</td>\n",
       "      <td>unknown</td>\n",
       "      <td>mobile_app</td>\n",
       "      <td>과일선물세트</td>\n",
       "    </tr>\n",
       "    <tr>\n",
       "      <th>1</th>\n",
       "      <td>1</td>\n",
       "      <td>1</td>\n",
       "      <td>2</td>\n",
       "      <td>0</td>\n",
       "      <td>A01</td>\n",
       "      <td>20190911</td>\n",
       "      <td>16:15</td>\n",
       "      <td>22432</td>\n",
       "      <td>NaN</td>\n",
       "      <td>과일선물세트 백화점</td>\n",
       "      <td>14.0</td>\n",
       "      <td>124.0</td>\n",
       "      <td>unknown</td>\n",
       "      <td>mobile_app</td>\n",
       "      <td>과일선물세트 백화점</td>\n",
       "    </tr>\n",
       "    <tr>\n",
       "      <th>2</th>\n",
       "      <td>1</td>\n",
       "      <td>1</td>\n",
       "      <td>3</td>\n",
       "      <td>0</td>\n",
       "      <td>A01</td>\n",
       "      <td>20190911</td>\n",
       "      <td>16:15</td>\n",
       "      <td>36140</td>\n",
       "      <td>NaN</td>\n",
       "      <td>과일바구니</td>\n",
       "      <td>14.0</td>\n",
       "      <td>124.0</td>\n",
       "      <td>unknown</td>\n",
       "      <td>mobile_app</td>\n",
       "      <td>과일바구니</td>\n",
       "    </tr>\n",
       "    <tr>\n",
       "      <th>3</th>\n",
       "      <td>1</td>\n",
       "      <td>2</td>\n",
       "      <td>1</td>\n",
       "      <td>0</td>\n",
       "      <td>A01</td>\n",
       "      <td>20190922</td>\n",
       "      <td>14:09</td>\n",
       "      <td>41584</td>\n",
       "      <td>NaN</td>\n",
       "      <td>초등가을잠바</td>\n",
       "      <td>45.0</td>\n",
       "      <td>424.0</td>\n",
       "      <td>unknown</td>\n",
       "      <td>mobile_app</td>\n",
       "      <td>초등가을잠바</td>\n",
       "    </tr>\n",
       "    <tr>\n",
       "      <th>4</th>\n",
       "      <td>1</td>\n",
       "      <td>2</td>\n",
       "      <td>2</td>\n",
       "      <td>0</td>\n",
       "      <td>A01</td>\n",
       "      <td>20190922</td>\n",
       "      <td>14:10</td>\n",
       "      <td>56113</td>\n",
       "      <td>NaN</td>\n",
       "      <td>초등가을점퍼</td>\n",
       "      <td>45.0</td>\n",
       "      <td>424.0</td>\n",
       "      <td>unknown</td>\n",
       "      <td>mobile_app</td>\n",
       "      <td>초등가을점퍼</td>\n",
       "    </tr>\n",
       "    <tr>\n",
       "      <th>5</th>\n",
       "      <td>1</td>\n",
       "      <td>2</td>\n",
       "      <td>3</td>\n",
       "      <td>0</td>\n",
       "      <td>A01</td>\n",
       "      <td>20190922</td>\n",
       "      <td>14:10</td>\n",
       "      <td>70025</td>\n",
       "      <td>NaN</td>\n",
       "      <td>초등남아옷</td>\n",
       "      <td>45.0</td>\n",
       "      <td>424.0</td>\n",
       "      <td>unknown</td>\n",
       "      <td>mobile_app</td>\n",
       "      <td>초등남아옷</td>\n",
       "    </tr>\n",
       "    <tr>\n",
       "      <th>6</th>\n",
       "      <td>1</td>\n",
       "      <td>2</td>\n",
       "      <td>4</td>\n",
       "      <td>0</td>\n",
       "      <td>A01</td>\n",
       "      <td>20190922</td>\n",
       "      <td>14:11</td>\n",
       "      <td>119527</td>\n",
       "      <td>NaN</td>\n",
       "      <td>초등남아점퍼</td>\n",
       "      <td>45.0</td>\n",
       "      <td>424.0</td>\n",
       "      <td>unknown</td>\n",
       "      <td>mobile_app</td>\n",
       "      <td>초등남아점퍼</td>\n",
       "    </tr>\n",
       "    <tr>\n",
       "      <th>7</th>\n",
       "      <td>1</td>\n",
       "      <td>2</td>\n",
       "      <td>5</td>\n",
       "      <td>0</td>\n",
       "      <td>A01</td>\n",
       "      <td>20190922</td>\n",
       "      <td>14:11</td>\n",
       "      <td>162327</td>\n",
       "      <td>NaN</td>\n",
       "      <td>노스페이스키즈</td>\n",
       "      <td>45.0</td>\n",
       "      <td>424.0</td>\n",
       "      <td>unknown</td>\n",
       "      <td>mobile_app</td>\n",
       "      <td>노스페이스키즈</td>\n",
       "    </tr>\n",
       "    <tr>\n",
       "      <th>8</th>\n",
       "      <td>1</td>\n",
       "      <td>2</td>\n",
       "      <td>6</td>\n",
       "      <td>0</td>\n",
       "      <td>A01</td>\n",
       "      <td>20190922</td>\n",
       "      <td>14:12</td>\n",
       "      <td>178832</td>\n",
       "      <td>NaN</td>\n",
       "      <td>노스페이스초등</td>\n",
       "      <td>45.0</td>\n",
       "      <td>424.0</td>\n",
       "      <td>unknown</td>\n",
       "      <td>mobile_app</td>\n",
       "      <td>노스페이스초등</td>\n",
       "    </tr>\n",
       "    <tr>\n",
       "      <th>9</th>\n",
       "      <td>1</td>\n",
       "      <td>2</td>\n",
       "      <td>7</td>\n",
       "      <td>0</td>\n",
       "      <td>A01</td>\n",
       "      <td>20190922</td>\n",
       "      <td>14:12</td>\n",
       "      <td>192367</td>\n",
       "      <td>NaN</td>\n",
       "      <td>노스페이스키즈</td>\n",
       "      <td>45.0</td>\n",
       "      <td>424.0</td>\n",
       "      <td>unknown</td>\n",
       "      <td>mobile_app</td>\n",
       "      <td>노스페이스키즈</td>\n",
       "    </tr>\n",
       "    <tr>\n",
       "      <th>10</th>\n",
       "      <td>2</td>\n",
       "      <td>1</td>\n",
       "      <td>1</td>\n",
       "      <td>0</td>\n",
       "      <td>A03</td>\n",
       "      <td>20190728</td>\n",
       "      <td>23:35</td>\n",
       "      <td>39532</td>\n",
       "      <td>NaN</td>\n",
       "      <td>레쓰비</td>\n",
       "      <td>55.0</td>\n",
       "      <td>872.0</td>\n",
       "      <td>DIRECT</td>\n",
       "      <td>NaN</td>\n",
       "      <td>레쓰비</td>\n",
       "    </tr>\n",
       "    <tr>\n",
       "      <th>11</th>\n",
       "      <td>2</td>\n",
       "      <td>1</td>\n",
       "      <td>2</td>\n",
       "      <td>1</td>\n",
       "      <td>A03</td>\n",
       "      <td>20190728</td>\n",
       "      <td>23:35</td>\n",
       "      <td>47232</td>\n",
       "      <td>NaN</td>\n",
       "      <td>NaN</td>\n",
       "      <td>55.0</td>\n",
       "      <td>872.0</td>\n",
       "      <td>DIRECT</td>\n",
       "      <td>NaN</td>\n",
       "      <td>NaN</td>\n",
       "    </tr>\n",
       "    <tr>\n",
       "      <th>12</th>\n",
       "      <td>2</td>\n",
       "      <td>1</td>\n",
       "      <td>3</td>\n",
       "      <td>2</td>\n",
       "      <td>A03</td>\n",
       "      <td>20190728</td>\n",
       "      <td>23:35</td>\n",
       "      <td>48087</td>\n",
       "      <td>NaN</td>\n",
       "      <td>NaN</td>\n",
       "      <td>55.0</td>\n",
       "      <td>872.0</td>\n",
       "      <td>DIRECT</td>\n",
       "      <td>NaN</td>\n",
       "      <td>NaN</td>\n",
       "    </tr>\n",
       "    <tr>\n",
       "      <th>13</th>\n",
       "      <td>2</td>\n",
       "      <td>1</td>\n",
       "      <td>4</td>\n",
       "      <td>0</td>\n",
       "      <td>A03</td>\n",
       "      <td>20190728</td>\n",
       "      <td>23:35</td>\n",
       "      <td>62794</td>\n",
       "      <td>NaN</td>\n",
       "      <td>레쓰비</td>\n",
       "      <td>55.0</td>\n",
       "      <td>872.0</td>\n",
       "      <td>DIRECT</td>\n",
       "      <td>NaN</td>\n",
       "      <td>레쓰비</td>\n",
       "    </tr>\n",
       "    <tr>\n",
       "      <th>14</th>\n",
       "      <td>2</td>\n",
       "      <td>1</td>\n",
       "      <td>5</td>\n",
       "      <td>0</td>\n",
       "      <td>A03</td>\n",
       "      <td>20190728</td>\n",
       "      <td>23:36</td>\n",
       "      <td>104074</td>\n",
       "      <td>NaN</td>\n",
       "      <td>레쓰비</td>\n",
       "      <td>55.0</td>\n",
       "      <td>872.0</td>\n",
       "      <td>DIRECT</td>\n",
       "      <td>NaN</td>\n",
       "      <td>레쓰비</td>\n",
       "    </tr>\n",
       "    <tr>\n",
       "      <th>15</th>\n",
       "      <td>2</td>\n",
       "      <td>1</td>\n",
       "      <td>6</td>\n",
       "      <td>3</td>\n",
       "      <td>A03</td>\n",
       "      <td>20190728</td>\n",
       "      <td>23:36</td>\n",
       "      <td>127807</td>\n",
       "      <td>NaN</td>\n",
       "      <td>NaN</td>\n",
       "      <td>55.0</td>\n",
       "      <td>872.0</td>\n",
       "      <td>DIRECT</td>\n",
       "      <td>NaN</td>\n",
       "      <td>NaN</td>\n",
       "    </tr>\n",
       "    <tr>\n",
       "      <th>16</th>\n",
       "      <td>2</td>\n",
       "      <td>1</td>\n",
       "      <td>7</td>\n",
       "      <td>5</td>\n",
       "      <td>A03</td>\n",
       "      <td>20190728</td>\n",
       "      <td>23:36</td>\n",
       "      <td>136325</td>\n",
       "      <td>NaN</td>\n",
       "      <td>NaN</td>\n",
       "      <td>55.0</td>\n",
       "      <td>872.0</td>\n",
       "      <td>DIRECT</td>\n",
       "      <td>NaN</td>\n",
       "      <td>NaN</td>\n",
       "    </tr>\n",
       "    <tr>\n",
       "      <th>17</th>\n",
       "      <td>2</td>\n",
       "      <td>1</td>\n",
       "      <td>8</td>\n",
       "      <td>5</td>\n",
       "      <td>A03</td>\n",
       "      <td>20190728</td>\n",
       "      <td>23:37</td>\n",
       "      <td>150334</td>\n",
       "      <td>NaN</td>\n",
       "      <td>NaN</td>\n",
       "      <td>55.0</td>\n",
       "      <td>872.0</td>\n",
       "      <td>DIRECT</td>\n",
       "      <td>NaN</td>\n",
       "      <td>NaN</td>\n",
       "    </tr>\n",
       "    <tr>\n",
       "      <th>18</th>\n",
       "      <td>2</td>\n",
       "      <td>1</td>\n",
       "      <td>9</td>\n",
       "      <td>0</td>\n",
       "      <td>A03</td>\n",
       "      <td>20190728</td>\n",
       "      <td>23:37</td>\n",
       "      <td>163423</td>\n",
       "      <td>NaN</td>\n",
       "      <td>레쓰비</td>\n",
       "      <td>55.0</td>\n",
       "      <td>872.0</td>\n",
       "      <td>DIRECT</td>\n",
       "      <td>NaN</td>\n",
       "      <td>레쓰비</td>\n",
       "    </tr>\n",
       "    <tr>\n",
       "      <th>19</th>\n",
       "      <td>2</td>\n",
       "      <td>1</td>\n",
       "      <td>10</td>\n",
       "      <td>1</td>\n",
       "      <td>A03</td>\n",
       "      <td>20190728</td>\n",
       "      <td>23:37</td>\n",
       "      <td>174500</td>\n",
       "      <td>NaN</td>\n",
       "      <td>NaN</td>\n",
       "      <td>55.0</td>\n",
       "      <td>872.0</td>\n",
       "      <td>DIRECT</td>\n",
       "      <td>NaN</td>\n",
       "      <td>NaN</td>\n",
       "    </tr>\n",
       "  </tbody>\n",
       "</table>\n",
       "</div>"
      ],
      "text/plain": [
       "    clnt_id  sess_id  hit_seq  action_type biz_unit   sess_dt hit_tm  \\\n",
       "0         1        1        1            0      A01  20190911  16:14   \n",
       "1         1        1        2            0      A01  20190911  16:15   \n",
       "2         1        1        3            0      A01  20190911  16:15   \n",
       "3         1        2        1            0      A01  20190922  14:09   \n",
       "4         1        2        2            0      A01  20190922  14:10   \n",
       "5         1        2        3            0      A01  20190922  14:10   \n",
       "6         1        2        4            0      A01  20190922  14:11   \n",
       "7         1        2        5            0      A01  20190922  14:11   \n",
       "8         1        2        6            0      A01  20190922  14:12   \n",
       "9         1        2        7            0      A01  20190922  14:12   \n",
       "10        2        1        1            0      A03  20190728  23:35   \n",
       "11        2        1        2            1      A03  20190728  23:35   \n",
       "12        2        1        3            2      A03  20190728  23:35   \n",
       "13        2        1        4            0      A03  20190728  23:35   \n",
       "14        2        1        5            0      A03  20190728  23:36   \n",
       "15        2        1        6            3      A03  20190728  23:36   \n",
       "16        2        1        7            5      A03  20190728  23:36   \n",
       "17        2        1        8            5      A03  20190728  23:37   \n",
       "18        2        1        9            0      A03  20190728  23:37   \n",
       "19        2        1       10            1      A03  20190728  23:37   \n",
       "\n",
       "    hit_pss_tm  trans_id    sech_kwd  tot_pag_view_ct  tot_sess_hr_v trfc_src  \\\n",
       "0        11880       NaN      과일선물세트             14.0          124.0  unknown   \n",
       "1        22432       NaN  과일선물세트 백화점             14.0          124.0  unknown   \n",
       "2        36140       NaN       과일바구니             14.0          124.0  unknown   \n",
       "3        41584       NaN      초등가을잠바             45.0          424.0  unknown   \n",
       "4        56113       NaN      초등가을점퍼             45.0          424.0  unknown   \n",
       "5        70025       NaN       초등남아옷             45.0          424.0  unknown   \n",
       "6       119527       NaN      초등남아점퍼             45.0          424.0  unknown   \n",
       "7       162327       NaN     노스페이스키즈             45.0          424.0  unknown   \n",
       "8       178832       NaN     노스페이스초등             45.0          424.0  unknown   \n",
       "9       192367       NaN     노스페이스키즈             45.0          424.0  unknown   \n",
       "10       39532       NaN         레쓰비             55.0          872.0   DIRECT   \n",
       "11       47232       NaN         NaN             55.0          872.0   DIRECT   \n",
       "12       48087       NaN         NaN             55.0          872.0   DIRECT   \n",
       "13       62794       NaN         레쓰비             55.0          872.0   DIRECT   \n",
       "14      104074       NaN         레쓰비             55.0          872.0   DIRECT   \n",
       "15      127807       NaN         NaN             55.0          872.0   DIRECT   \n",
       "16      136325       NaN         NaN             55.0          872.0   DIRECT   \n",
       "17      150334       NaN         NaN             55.0          872.0   DIRECT   \n",
       "18      163423       NaN         레쓰비             55.0          872.0   DIRECT   \n",
       "19      174500       NaN         NaN             55.0          872.0   DIRECT   \n",
       "\n",
       "    dvc_ctg_nm     act_kwd  \n",
       "0   mobile_app      과일선물세트  \n",
       "1   mobile_app  과일선물세트 백화점  \n",
       "2   mobile_app       과일바구니  \n",
       "3   mobile_app      초등가을잠바  \n",
       "4   mobile_app      초등가을점퍼  \n",
       "5   mobile_app       초등남아옷  \n",
       "6   mobile_app      초등남아점퍼  \n",
       "7   mobile_app     노스페이스키즈  \n",
       "8   mobile_app     노스페이스초등  \n",
       "9   mobile_app     노스페이스키즈  \n",
       "10         NaN         레쓰비  \n",
       "11         NaN         NaN  \n",
       "12         NaN         NaN  \n",
       "13         NaN         레쓰비  \n",
       "14         NaN         레쓰비  \n",
       "15         NaN         NaN  \n",
       "16         NaN         NaN  \n",
       "17         NaN         NaN  \n",
       "18         NaN         레쓰비  \n",
       "19         NaN         NaN  "
      ]
     },
     "execution_count": 10,
     "metadata": {},
     "output_type": "execute_result"
    }
   ],
   "source": [
    "raw1_sorted_time.head(20)"
   ]
  },
  {
   "cell_type": "code",
   "execution_count": null,
   "metadata": {},
   "outputs": [],
   "source": [
    "# raw1_sorted_time = raw1_sorted_time[:10000]"
   ]
  },
  {
   "cell_type": "code",
   "execution_count": 224,
   "metadata": {
    "collapsed": true
   },
   "outputs": [
    {
     "data": {
      "text/html": [
       "<div>\n",
       "<style scoped>\n",
       "    .dataframe tbody tr th:only-of-type {\n",
       "        vertical-align: middle;\n",
       "    }\n",
       "\n",
       "    .dataframe tbody tr th {\n",
       "        vertical-align: top;\n",
       "    }\n",
       "\n",
       "    .dataframe thead th {\n",
       "        text-align: right;\n",
       "    }\n",
       "</style>\n",
       "<table border=\"1\" class=\"dataframe\">\n",
       "  <thead>\n",
       "    <tr style=\"text-align: right;\">\n",
       "      <th></th>\n",
       "      <th>clnt_id</th>\n",
       "      <th>sess_id</th>\n",
       "      <th>hit_seq</th>\n",
       "      <th>action_type</th>\n",
       "      <th>biz_unit</th>\n",
       "      <th>sess_dt</th>\n",
       "      <th>hit_tm</th>\n",
       "      <th>hit_pss_tm</th>\n",
       "      <th>trans_id</th>\n",
       "      <th>sech_kwd</th>\n",
       "      <th>tot_pag_view_ct</th>\n",
       "      <th>tot_sess_hr_v</th>\n",
       "      <th>trfc_src</th>\n",
       "      <th>dvc_ctg_nm</th>\n",
       "      <th>act_kwd</th>\n",
       "    </tr>\n",
       "  </thead>\n",
       "  <tbody>\n",
       "    <tr>\n",
       "      <th>0</th>\n",
       "      <td>1</td>\n",
       "      <td>1</td>\n",
       "      <td>1</td>\n",
       "      <td>0</td>\n",
       "      <td>A01</td>\n",
       "      <td>20190911</td>\n",
       "      <td>16:14</td>\n",
       "      <td>11880</td>\n",
       "      <td>NaN</td>\n",
       "      <td>과일선물세트</td>\n",
       "      <td>14.0</td>\n",
       "      <td>124.0</td>\n",
       "      <td>unknown</td>\n",
       "      <td>mobile_app</td>\n",
       "      <td>과일선물세트</td>\n",
       "    </tr>\n",
       "    <tr>\n",
       "      <th>1</th>\n",
       "      <td>1</td>\n",
       "      <td>1</td>\n",
       "      <td>2</td>\n",
       "      <td>0</td>\n",
       "      <td>A01</td>\n",
       "      <td>20190911</td>\n",
       "      <td>16:15</td>\n",
       "      <td>22432</td>\n",
       "      <td>NaN</td>\n",
       "      <td>과일선물세트 백화점</td>\n",
       "      <td>14.0</td>\n",
       "      <td>124.0</td>\n",
       "      <td>unknown</td>\n",
       "      <td>mobile_app</td>\n",
       "      <td>과일선물세트 백화점</td>\n",
       "    </tr>\n",
       "    <tr>\n",
       "      <th>2</th>\n",
       "      <td>1</td>\n",
       "      <td>1</td>\n",
       "      <td>3</td>\n",
       "      <td>0</td>\n",
       "      <td>A01</td>\n",
       "      <td>20190911</td>\n",
       "      <td>16:15</td>\n",
       "      <td>36140</td>\n",
       "      <td>NaN</td>\n",
       "      <td>과일바구니</td>\n",
       "      <td>14.0</td>\n",
       "      <td>124.0</td>\n",
       "      <td>unknown</td>\n",
       "      <td>mobile_app</td>\n",
       "      <td>과일바구니</td>\n",
       "    </tr>\n",
       "    <tr>\n",
       "      <th>3</th>\n",
       "      <td>1</td>\n",
       "      <td>2</td>\n",
       "      <td>1</td>\n",
       "      <td>0</td>\n",
       "      <td>A01</td>\n",
       "      <td>20190922</td>\n",
       "      <td>14:09</td>\n",
       "      <td>41584</td>\n",
       "      <td>NaN</td>\n",
       "      <td>초등가을잠바</td>\n",
       "      <td>45.0</td>\n",
       "      <td>424.0</td>\n",
       "      <td>unknown</td>\n",
       "      <td>mobile_app</td>\n",
       "      <td>초등가을잠바</td>\n",
       "    </tr>\n",
       "    <tr>\n",
       "      <th>4</th>\n",
       "      <td>1</td>\n",
       "      <td>2</td>\n",
       "      <td>2</td>\n",
       "      <td>0</td>\n",
       "      <td>A01</td>\n",
       "      <td>20190922</td>\n",
       "      <td>14:10</td>\n",
       "      <td>56113</td>\n",
       "      <td>NaN</td>\n",
       "      <td>초등가을점퍼</td>\n",
       "      <td>45.0</td>\n",
       "      <td>424.0</td>\n",
       "      <td>unknown</td>\n",
       "      <td>mobile_app</td>\n",
       "      <td>초등가을점퍼</td>\n",
       "    </tr>\n",
       "    <tr>\n",
       "      <th>5</th>\n",
       "      <td>1</td>\n",
       "      <td>2</td>\n",
       "      <td>3</td>\n",
       "      <td>0</td>\n",
       "      <td>A01</td>\n",
       "      <td>20190922</td>\n",
       "      <td>14:10</td>\n",
       "      <td>70025</td>\n",
       "      <td>NaN</td>\n",
       "      <td>초등남아옷</td>\n",
       "      <td>45.0</td>\n",
       "      <td>424.0</td>\n",
       "      <td>unknown</td>\n",
       "      <td>mobile_app</td>\n",
       "      <td>초등남아옷</td>\n",
       "    </tr>\n",
       "    <tr>\n",
       "      <th>6</th>\n",
       "      <td>1</td>\n",
       "      <td>2</td>\n",
       "      <td>4</td>\n",
       "      <td>0</td>\n",
       "      <td>A01</td>\n",
       "      <td>20190922</td>\n",
       "      <td>14:11</td>\n",
       "      <td>119527</td>\n",
       "      <td>NaN</td>\n",
       "      <td>초등남아점퍼</td>\n",
       "      <td>45.0</td>\n",
       "      <td>424.0</td>\n",
       "      <td>unknown</td>\n",
       "      <td>mobile_app</td>\n",
       "      <td>초등남아점퍼</td>\n",
       "    </tr>\n",
       "    <tr>\n",
       "      <th>7</th>\n",
       "      <td>1</td>\n",
       "      <td>2</td>\n",
       "      <td>5</td>\n",
       "      <td>0</td>\n",
       "      <td>A01</td>\n",
       "      <td>20190922</td>\n",
       "      <td>14:11</td>\n",
       "      <td>162327</td>\n",
       "      <td>NaN</td>\n",
       "      <td>노스페이스키즈</td>\n",
       "      <td>45.0</td>\n",
       "      <td>424.0</td>\n",
       "      <td>unknown</td>\n",
       "      <td>mobile_app</td>\n",
       "      <td>노스페이스키즈</td>\n",
       "    </tr>\n",
       "    <tr>\n",
       "      <th>8</th>\n",
       "      <td>1</td>\n",
       "      <td>2</td>\n",
       "      <td>6</td>\n",
       "      <td>0</td>\n",
       "      <td>A01</td>\n",
       "      <td>20190922</td>\n",
       "      <td>14:12</td>\n",
       "      <td>178832</td>\n",
       "      <td>NaN</td>\n",
       "      <td>노스페이스초등</td>\n",
       "      <td>45.0</td>\n",
       "      <td>424.0</td>\n",
       "      <td>unknown</td>\n",
       "      <td>mobile_app</td>\n",
       "      <td>노스페이스초등</td>\n",
       "    </tr>\n",
       "    <tr>\n",
       "      <th>9</th>\n",
       "      <td>1</td>\n",
       "      <td>2</td>\n",
       "      <td>7</td>\n",
       "      <td>0</td>\n",
       "      <td>A01</td>\n",
       "      <td>20190922</td>\n",
       "      <td>14:12</td>\n",
       "      <td>192367</td>\n",
       "      <td>NaN</td>\n",
       "      <td>노스페이스키즈</td>\n",
       "      <td>45.0</td>\n",
       "      <td>424.0</td>\n",
       "      <td>unknown</td>\n",
       "      <td>mobile_app</td>\n",
       "      <td>노스페이스키즈</td>\n",
       "    </tr>\n",
       "    <tr>\n",
       "      <th>10</th>\n",
       "      <td>2</td>\n",
       "      <td>1</td>\n",
       "      <td>1</td>\n",
       "      <td>0</td>\n",
       "      <td>A03</td>\n",
       "      <td>20190728</td>\n",
       "      <td>23:35</td>\n",
       "      <td>39532</td>\n",
       "      <td>NaN</td>\n",
       "      <td>레쓰비</td>\n",
       "      <td>55.0</td>\n",
       "      <td>872.0</td>\n",
       "      <td>DIRECT</td>\n",
       "      <td>NaN</td>\n",
       "      <td>레쓰비</td>\n",
       "    </tr>\n",
       "    <tr>\n",
       "      <th>11</th>\n",
       "      <td>2</td>\n",
       "      <td>1</td>\n",
       "      <td>2</td>\n",
       "      <td>1</td>\n",
       "      <td>A03</td>\n",
       "      <td>20190728</td>\n",
       "      <td>23:35</td>\n",
       "      <td>47232</td>\n",
       "      <td>NaN</td>\n",
       "      <td>NaN</td>\n",
       "      <td>55.0</td>\n",
       "      <td>872.0</td>\n",
       "      <td>DIRECT</td>\n",
       "      <td>NaN</td>\n",
       "      <td>레쓰비</td>\n",
       "    </tr>\n",
       "    <tr>\n",
       "      <th>12</th>\n",
       "      <td>2</td>\n",
       "      <td>1</td>\n",
       "      <td>3</td>\n",
       "      <td>2</td>\n",
       "      <td>A03</td>\n",
       "      <td>20190728</td>\n",
       "      <td>23:35</td>\n",
       "      <td>48087</td>\n",
       "      <td>NaN</td>\n",
       "      <td>NaN</td>\n",
       "      <td>55.0</td>\n",
       "      <td>872.0</td>\n",
       "      <td>DIRECT</td>\n",
       "      <td>NaN</td>\n",
       "      <td>NaN</td>\n",
       "    </tr>\n",
       "    <tr>\n",
       "      <th>13</th>\n",
       "      <td>2</td>\n",
       "      <td>1</td>\n",
       "      <td>4</td>\n",
       "      <td>0</td>\n",
       "      <td>A03</td>\n",
       "      <td>20190728</td>\n",
       "      <td>23:35</td>\n",
       "      <td>62794</td>\n",
       "      <td>NaN</td>\n",
       "      <td>레쓰비</td>\n",
       "      <td>55.0</td>\n",
       "      <td>872.0</td>\n",
       "      <td>DIRECT</td>\n",
       "      <td>NaN</td>\n",
       "      <td>레쓰비</td>\n",
       "    </tr>\n",
       "    <tr>\n",
       "      <th>14</th>\n",
       "      <td>2</td>\n",
       "      <td>1</td>\n",
       "      <td>5</td>\n",
       "      <td>0</td>\n",
       "      <td>A03</td>\n",
       "      <td>20190728</td>\n",
       "      <td>23:36</td>\n",
       "      <td>104074</td>\n",
       "      <td>NaN</td>\n",
       "      <td>레쓰비</td>\n",
       "      <td>55.0</td>\n",
       "      <td>872.0</td>\n",
       "      <td>DIRECT</td>\n",
       "      <td>NaN</td>\n",
       "      <td>레쓰비</td>\n",
       "    </tr>\n",
       "    <tr>\n",
       "      <th>15</th>\n",
       "      <td>2</td>\n",
       "      <td>1</td>\n",
       "      <td>6</td>\n",
       "      <td>3</td>\n",
       "      <td>A03</td>\n",
       "      <td>20190728</td>\n",
       "      <td>23:36</td>\n",
       "      <td>127807</td>\n",
       "      <td>NaN</td>\n",
       "      <td>NaN</td>\n",
       "      <td>55.0</td>\n",
       "      <td>872.0</td>\n",
       "      <td>DIRECT</td>\n",
       "      <td>NaN</td>\n",
       "      <td>레쓰비</td>\n",
       "    </tr>\n",
       "    <tr>\n",
       "      <th>16</th>\n",
       "      <td>2</td>\n",
       "      <td>1</td>\n",
       "      <td>7</td>\n",
       "      <td>5</td>\n",
       "      <td>A03</td>\n",
       "      <td>20190728</td>\n",
       "      <td>23:36</td>\n",
       "      <td>136325</td>\n",
       "      <td>NaN</td>\n",
       "      <td>NaN</td>\n",
       "      <td>55.0</td>\n",
       "      <td>872.0</td>\n",
       "      <td>DIRECT</td>\n",
       "      <td>NaN</td>\n",
       "      <td>NaN</td>\n",
       "    </tr>\n",
       "    <tr>\n",
       "      <th>17</th>\n",
       "      <td>2</td>\n",
       "      <td>1</td>\n",
       "      <td>8</td>\n",
       "      <td>5</td>\n",
       "      <td>A03</td>\n",
       "      <td>20190728</td>\n",
       "      <td>23:37</td>\n",
       "      <td>150334</td>\n",
       "      <td>NaN</td>\n",
       "      <td>NaN</td>\n",
       "      <td>55.0</td>\n",
       "      <td>872.0</td>\n",
       "      <td>DIRECT</td>\n",
       "      <td>NaN</td>\n",
       "      <td>NaN</td>\n",
       "    </tr>\n",
       "    <tr>\n",
       "      <th>18</th>\n",
       "      <td>2</td>\n",
       "      <td>1</td>\n",
       "      <td>9</td>\n",
       "      <td>0</td>\n",
       "      <td>A03</td>\n",
       "      <td>20190728</td>\n",
       "      <td>23:37</td>\n",
       "      <td>163423</td>\n",
       "      <td>NaN</td>\n",
       "      <td>레쓰비</td>\n",
       "      <td>55.0</td>\n",
       "      <td>872.0</td>\n",
       "      <td>DIRECT</td>\n",
       "      <td>NaN</td>\n",
       "      <td>레쓰비</td>\n",
       "    </tr>\n",
       "    <tr>\n",
       "      <th>19</th>\n",
       "      <td>2</td>\n",
       "      <td>1</td>\n",
       "      <td>10</td>\n",
       "      <td>1</td>\n",
       "      <td>A03</td>\n",
       "      <td>20190728</td>\n",
       "      <td>23:37</td>\n",
       "      <td>174500</td>\n",
       "      <td>NaN</td>\n",
       "      <td>NaN</td>\n",
       "      <td>55.0</td>\n",
       "      <td>872.0</td>\n",
       "      <td>DIRECT</td>\n",
       "      <td>NaN</td>\n",
       "      <td>레쓰비</td>\n",
       "    </tr>\n",
       "  </tbody>\n",
       "</table>\n",
       "</div>"
      ],
      "text/plain": [
       "    clnt_id  sess_id  hit_seq  action_type biz_unit   sess_dt hit_tm  \\\n",
       "0         1        1        1            0      A01  20190911  16:14   \n",
       "1         1        1        2            0      A01  20190911  16:15   \n",
       "2         1        1        3            0      A01  20190911  16:15   \n",
       "3         1        2        1            0      A01  20190922  14:09   \n",
       "4         1        2        2            0      A01  20190922  14:10   \n",
       "5         1        2        3            0      A01  20190922  14:10   \n",
       "6         1        2        4            0      A01  20190922  14:11   \n",
       "7         1        2        5            0      A01  20190922  14:11   \n",
       "8         1        2        6            0      A01  20190922  14:12   \n",
       "9         1        2        7            0      A01  20190922  14:12   \n",
       "10        2        1        1            0      A03  20190728  23:35   \n",
       "11        2        1        2            1      A03  20190728  23:35   \n",
       "12        2        1        3            2      A03  20190728  23:35   \n",
       "13        2        1        4            0      A03  20190728  23:35   \n",
       "14        2        1        5            0      A03  20190728  23:36   \n",
       "15        2        1        6            3      A03  20190728  23:36   \n",
       "16        2        1        7            5      A03  20190728  23:36   \n",
       "17        2        1        8            5      A03  20190728  23:37   \n",
       "18        2        1        9            0      A03  20190728  23:37   \n",
       "19        2        1       10            1      A03  20190728  23:37   \n",
       "\n",
       "    hit_pss_tm  trans_id    sech_kwd  tot_pag_view_ct  tot_sess_hr_v trfc_src  \\\n",
       "0        11880       NaN      과일선물세트             14.0          124.0  unknown   \n",
       "1        22432       NaN  과일선물세트 백화점             14.0          124.0  unknown   \n",
       "2        36140       NaN       과일바구니             14.0          124.0  unknown   \n",
       "3        41584       NaN      초등가을잠바             45.0          424.0  unknown   \n",
       "4        56113       NaN      초등가을점퍼             45.0          424.0  unknown   \n",
       "5        70025       NaN       초등남아옷             45.0          424.0  unknown   \n",
       "6       119527       NaN      초등남아점퍼             45.0          424.0  unknown   \n",
       "7       162327       NaN     노스페이스키즈             45.0          424.0  unknown   \n",
       "8       178832       NaN     노스페이스초등             45.0          424.0  unknown   \n",
       "9       192367       NaN     노스페이스키즈             45.0          424.0  unknown   \n",
       "10       39532       NaN         레쓰비             55.0          872.0   DIRECT   \n",
       "11       47232       NaN         NaN             55.0          872.0   DIRECT   \n",
       "12       48087       NaN         NaN             55.0          872.0   DIRECT   \n",
       "13       62794       NaN         레쓰비             55.0          872.0   DIRECT   \n",
       "14      104074       NaN         레쓰비             55.0          872.0   DIRECT   \n",
       "15      127807       NaN         NaN             55.0          872.0   DIRECT   \n",
       "16      136325       NaN         NaN             55.0          872.0   DIRECT   \n",
       "17      150334       NaN         NaN             55.0          872.0   DIRECT   \n",
       "18      163423       NaN         레쓰비             55.0          872.0   DIRECT   \n",
       "19      174500       NaN         NaN             55.0          872.0   DIRECT   \n",
       "\n",
       "    dvc_ctg_nm     act_kwd  \n",
       "0   mobile_app      과일선물세트  \n",
       "1   mobile_app  과일선물세트 백화점  \n",
       "2   mobile_app       과일바구니  \n",
       "3   mobile_app      초등가을잠바  \n",
       "4   mobile_app      초등가을점퍼  \n",
       "5   mobile_app       초등남아옷  \n",
       "6   mobile_app      초등남아점퍼  \n",
       "7   mobile_app     노스페이스키즈  \n",
       "8   mobile_app     노스페이스초등  \n",
       "9   mobile_app     노스페이스키즈  \n",
       "10         NaN         레쓰비  \n",
       "11         NaN         레쓰비  \n",
       "12         NaN         NaN  \n",
       "13         NaN         레쓰비  \n",
       "14         NaN         레쓰비  \n",
       "15         NaN         레쓰비  \n",
       "16         NaN         NaN  \n",
       "17         NaN         NaN  \n",
       "18         NaN         레쓰비  \n",
       "19         NaN         레쓰비  "
      ]
     },
     "execution_count": 224,
     "metadata": {},
     "output_type": "execute_result"
    }
   ],
   "source": [
    "# # 잠시 주석처리\n",
    "# raw1_sorted_time['act_kwd'] = [raw1_sorted_time['act_kwd'].loc[s] if type(raw1_sorted_time['act_kwd'].loc[s]) == str \n",
    "#                                else (raw1_sorted_time['act_kwd'].loc[s-1] if raw1_sorted_time['clnt_id'].loc[s] == raw1_sorted_time['clnt_id'].loc[s-1] \n",
    "#                                      and raw1_sorted_time['sess_id'].loc[s] == raw1_sorted_time['sess_id'].loc[s-1] \n",
    "#                                      and raw1_sorted_time['biz_unit'].loc[s] == raw1_sorted_time['biz_unit'].loc[s-1] \n",
    "#                                      and raw1_sorted_time['hit_pss_tm'].loc[s]-raw1_sorted_time['hit_pss_tm'].loc[s-1] <= 180000 \n",
    "#                                      else 'bsd') for s in range(len(raw1_sorted_time['act_kwd']))]\n",
    "\n",
    "# raw1_sorted_time.head(20)"
   ]
  },
  {
   "cell_type": "code",
   "execution_count": 225,
   "metadata": {
    "collapsed": true
   },
   "outputs": [
    {
     "data": {
      "text/html": [
       "<div>\n",
       "<style scoped>\n",
       "    .dataframe tbody tr th:only-of-type {\n",
       "        vertical-align: middle;\n",
       "    }\n",
       "\n",
       "    .dataframe tbody tr th {\n",
       "        vertical-align: top;\n",
       "    }\n",
       "\n",
       "    .dataframe thead th {\n",
       "        text-align: right;\n",
       "    }\n",
       "</style>\n",
       "<table border=\"1\" class=\"dataframe\">\n",
       "  <thead>\n",
       "    <tr style=\"text-align: right;\">\n",
       "      <th></th>\n",
       "      <th>clnt_id</th>\n",
       "      <th>sess_id</th>\n",
       "      <th>hit_seq</th>\n",
       "      <th>action_type</th>\n",
       "      <th>biz_unit</th>\n",
       "      <th>sess_dt</th>\n",
       "      <th>hit_tm</th>\n",
       "      <th>hit_pss_tm</th>\n",
       "      <th>trans_id</th>\n",
       "      <th>sech_kwd</th>\n",
       "      <th>tot_pag_view_ct</th>\n",
       "      <th>tot_sess_hr_v</th>\n",
       "      <th>trfc_src</th>\n",
       "      <th>dvc_ctg_nm</th>\n",
       "      <th>act_kwd</th>\n",
       "    </tr>\n",
       "  </thead>\n",
       "  <tbody>\n",
       "    <tr>\n",
       "      <th>0</th>\n",
       "      <td>1</td>\n",
       "      <td>1</td>\n",
       "      <td>1</td>\n",
       "      <td>0</td>\n",
       "      <td>A01</td>\n",
       "      <td>20190911</td>\n",
       "      <td>16:14</td>\n",
       "      <td>11880</td>\n",
       "      <td>NaN</td>\n",
       "      <td>과일선물세트</td>\n",
       "      <td>14.0</td>\n",
       "      <td>124.0</td>\n",
       "      <td>unknown</td>\n",
       "      <td>mobile_app</td>\n",
       "      <td>과일선물세트</td>\n",
       "    </tr>\n",
       "    <tr>\n",
       "      <th>1</th>\n",
       "      <td>1</td>\n",
       "      <td>1</td>\n",
       "      <td>2</td>\n",
       "      <td>0</td>\n",
       "      <td>A01</td>\n",
       "      <td>20190911</td>\n",
       "      <td>16:15</td>\n",
       "      <td>22432</td>\n",
       "      <td>NaN</td>\n",
       "      <td>과일선물세트 백화점</td>\n",
       "      <td>14.0</td>\n",
       "      <td>124.0</td>\n",
       "      <td>unknown</td>\n",
       "      <td>mobile_app</td>\n",
       "      <td>과일선물세트 백화점</td>\n",
       "    </tr>\n",
       "    <tr>\n",
       "      <th>2</th>\n",
       "      <td>1</td>\n",
       "      <td>1</td>\n",
       "      <td>3</td>\n",
       "      <td>0</td>\n",
       "      <td>A01</td>\n",
       "      <td>20190911</td>\n",
       "      <td>16:15</td>\n",
       "      <td>36140</td>\n",
       "      <td>NaN</td>\n",
       "      <td>과일바구니</td>\n",
       "      <td>14.0</td>\n",
       "      <td>124.0</td>\n",
       "      <td>unknown</td>\n",
       "      <td>mobile_app</td>\n",
       "      <td>과일바구니</td>\n",
       "    </tr>\n",
       "    <tr>\n",
       "      <th>3</th>\n",
       "      <td>1</td>\n",
       "      <td>2</td>\n",
       "      <td>1</td>\n",
       "      <td>0</td>\n",
       "      <td>A01</td>\n",
       "      <td>20190922</td>\n",
       "      <td>14:09</td>\n",
       "      <td>41584</td>\n",
       "      <td>NaN</td>\n",
       "      <td>초등가을잠바</td>\n",
       "      <td>45.0</td>\n",
       "      <td>424.0</td>\n",
       "      <td>unknown</td>\n",
       "      <td>mobile_app</td>\n",
       "      <td>초등가을잠바</td>\n",
       "    </tr>\n",
       "    <tr>\n",
       "      <th>4</th>\n",
       "      <td>1</td>\n",
       "      <td>2</td>\n",
       "      <td>2</td>\n",
       "      <td>0</td>\n",
       "      <td>A01</td>\n",
       "      <td>20190922</td>\n",
       "      <td>14:10</td>\n",
       "      <td>56113</td>\n",
       "      <td>NaN</td>\n",
       "      <td>초등가을점퍼</td>\n",
       "      <td>45.0</td>\n",
       "      <td>424.0</td>\n",
       "      <td>unknown</td>\n",
       "      <td>mobile_app</td>\n",
       "      <td>초등가을점퍼</td>\n",
       "    </tr>\n",
       "    <tr>\n",
       "      <th>5</th>\n",
       "      <td>1</td>\n",
       "      <td>2</td>\n",
       "      <td>3</td>\n",
       "      <td>0</td>\n",
       "      <td>A01</td>\n",
       "      <td>20190922</td>\n",
       "      <td>14:10</td>\n",
       "      <td>70025</td>\n",
       "      <td>NaN</td>\n",
       "      <td>초등남아옷</td>\n",
       "      <td>45.0</td>\n",
       "      <td>424.0</td>\n",
       "      <td>unknown</td>\n",
       "      <td>mobile_app</td>\n",
       "      <td>초등남아옷</td>\n",
       "    </tr>\n",
       "    <tr>\n",
       "      <th>6</th>\n",
       "      <td>1</td>\n",
       "      <td>2</td>\n",
       "      <td>4</td>\n",
       "      <td>0</td>\n",
       "      <td>A01</td>\n",
       "      <td>20190922</td>\n",
       "      <td>14:11</td>\n",
       "      <td>119527</td>\n",
       "      <td>NaN</td>\n",
       "      <td>초등남아점퍼</td>\n",
       "      <td>45.0</td>\n",
       "      <td>424.0</td>\n",
       "      <td>unknown</td>\n",
       "      <td>mobile_app</td>\n",
       "      <td>초등남아점퍼</td>\n",
       "    </tr>\n",
       "    <tr>\n",
       "      <th>7</th>\n",
       "      <td>1</td>\n",
       "      <td>2</td>\n",
       "      <td>5</td>\n",
       "      <td>0</td>\n",
       "      <td>A01</td>\n",
       "      <td>20190922</td>\n",
       "      <td>14:11</td>\n",
       "      <td>162327</td>\n",
       "      <td>NaN</td>\n",
       "      <td>노스페이스키즈</td>\n",
       "      <td>45.0</td>\n",
       "      <td>424.0</td>\n",
       "      <td>unknown</td>\n",
       "      <td>mobile_app</td>\n",
       "      <td>노스페이스키즈</td>\n",
       "    </tr>\n",
       "    <tr>\n",
       "      <th>8</th>\n",
       "      <td>1</td>\n",
       "      <td>2</td>\n",
       "      <td>6</td>\n",
       "      <td>0</td>\n",
       "      <td>A01</td>\n",
       "      <td>20190922</td>\n",
       "      <td>14:12</td>\n",
       "      <td>178832</td>\n",
       "      <td>NaN</td>\n",
       "      <td>노스페이스초등</td>\n",
       "      <td>45.0</td>\n",
       "      <td>424.0</td>\n",
       "      <td>unknown</td>\n",
       "      <td>mobile_app</td>\n",
       "      <td>노스페이스초등</td>\n",
       "    </tr>\n",
       "    <tr>\n",
       "      <th>9</th>\n",
       "      <td>1</td>\n",
       "      <td>2</td>\n",
       "      <td>7</td>\n",
       "      <td>0</td>\n",
       "      <td>A01</td>\n",
       "      <td>20190922</td>\n",
       "      <td>14:12</td>\n",
       "      <td>192367</td>\n",
       "      <td>NaN</td>\n",
       "      <td>노스페이스키즈</td>\n",
       "      <td>45.0</td>\n",
       "      <td>424.0</td>\n",
       "      <td>unknown</td>\n",
       "      <td>mobile_app</td>\n",
       "      <td>노스페이스키즈</td>\n",
       "    </tr>\n",
       "    <tr>\n",
       "      <th>10</th>\n",
       "      <td>2</td>\n",
       "      <td>1</td>\n",
       "      <td>1</td>\n",
       "      <td>0</td>\n",
       "      <td>A03</td>\n",
       "      <td>20190728</td>\n",
       "      <td>23:35</td>\n",
       "      <td>39532</td>\n",
       "      <td>NaN</td>\n",
       "      <td>레쓰비</td>\n",
       "      <td>55.0</td>\n",
       "      <td>872.0</td>\n",
       "      <td>DIRECT</td>\n",
       "      <td>NaN</td>\n",
       "      <td>레쓰비</td>\n",
       "    </tr>\n",
       "    <tr>\n",
       "      <th>11</th>\n",
       "      <td>2</td>\n",
       "      <td>1</td>\n",
       "      <td>2</td>\n",
       "      <td>1</td>\n",
       "      <td>A03</td>\n",
       "      <td>20190728</td>\n",
       "      <td>23:35</td>\n",
       "      <td>47232</td>\n",
       "      <td>NaN</td>\n",
       "      <td>NaN</td>\n",
       "      <td>55.0</td>\n",
       "      <td>872.0</td>\n",
       "      <td>DIRECT</td>\n",
       "      <td>NaN</td>\n",
       "      <td>레쓰비</td>\n",
       "    </tr>\n",
       "    <tr>\n",
       "      <th>12</th>\n",
       "      <td>2</td>\n",
       "      <td>1</td>\n",
       "      <td>3</td>\n",
       "      <td>2</td>\n",
       "      <td>A03</td>\n",
       "      <td>20190728</td>\n",
       "      <td>23:35</td>\n",
       "      <td>48087</td>\n",
       "      <td>NaN</td>\n",
       "      <td>NaN</td>\n",
       "      <td>55.0</td>\n",
       "      <td>872.0</td>\n",
       "      <td>DIRECT</td>\n",
       "      <td>NaN</td>\n",
       "      <td>레쓰비</td>\n",
       "    </tr>\n",
       "    <tr>\n",
       "      <th>13</th>\n",
       "      <td>2</td>\n",
       "      <td>1</td>\n",
       "      <td>4</td>\n",
       "      <td>0</td>\n",
       "      <td>A03</td>\n",
       "      <td>20190728</td>\n",
       "      <td>23:35</td>\n",
       "      <td>62794</td>\n",
       "      <td>NaN</td>\n",
       "      <td>레쓰비</td>\n",
       "      <td>55.0</td>\n",
       "      <td>872.0</td>\n",
       "      <td>DIRECT</td>\n",
       "      <td>NaN</td>\n",
       "      <td>레쓰비</td>\n",
       "    </tr>\n",
       "    <tr>\n",
       "      <th>14</th>\n",
       "      <td>2</td>\n",
       "      <td>1</td>\n",
       "      <td>5</td>\n",
       "      <td>0</td>\n",
       "      <td>A03</td>\n",
       "      <td>20190728</td>\n",
       "      <td>23:36</td>\n",
       "      <td>104074</td>\n",
       "      <td>NaN</td>\n",
       "      <td>레쓰비</td>\n",
       "      <td>55.0</td>\n",
       "      <td>872.0</td>\n",
       "      <td>DIRECT</td>\n",
       "      <td>NaN</td>\n",
       "      <td>레쓰비</td>\n",
       "    </tr>\n",
       "    <tr>\n",
       "      <th>15</th>\n",
       "      <td>2</td>\n",
       "      <td>1</td>\n",
       "      <td>6</td>\n",
       "      <td>3</td>\n",
       "      <td>A03</td>\n",
       "      <td>20190728</td>\n",
       "      <td>23:36</td>\n",
       "      <td>127807</td>\n",
       "      <td>NaN</td>\n",
       "      <td>NaN</td>\n",
       "      <td>55.0</td>\n",
       "      <td>872.0</td>\n",
       "      <td>DIRECT</td>\n",
       "      <td>NaN</td>\n",
       "      <td>레쓰비</td>\n",
       "    </tr>\n",
       "    <tr>\n",
       "      <th>16</th>\n",
       "      <td>2</td>\n",
       "      <td>1</td>\n",
       "      <td>7</td>\n",
       "      <td>5</td>\n",
       "      <td>A03</td>\n",
       "      <td>20190728</td>\n",
       "      <td>23:36</td>\n",
       "      <td>136325</td>\n",
       "      <td>NaN</td>\n",
       "      <td>NaN</td>\n",
       "      <td>55.0</td>\n",
       "      <td>872.0</td>\n",
       "      <td>DIRECT</td>\n",
       "      <td>NaN</td>\n",
       "      <td>레쓰비</td>\n",
       "    </tr>\n",
       "    <tr>\n",
       "      <th>17</th>\n",
       "      <td>2</td>\n",
       "      <td>1</td>\n",
       "      <td>8</td>\n",
       "      <td>5</td>\n",
       "      <td>A03</td>\n",
       "      <td>20190728</td>\n",
       "      <td>23:37</td>\n",
       "      <td>150334</td>\n",
       "      <td>NaN</td>\n",
       "      <td>NaN</td>\n",
       "      <td>55.0</td>\n",
       "      <td>872.0</td>\n",
       "      <td>DIRECT</td>\n",
       "      <td>NaN</td>\n",
       "      <td>NaN</td>\n",
       "    </tr>\n",
       "    <tr>\n",
       "      <th>18</th>\n",
       "      <td>2</td>\n",
       "      <td>1</td>\n",
       "      <td>9</td>\n",
       "      <td>0</td>\n",
       "      <td>A03</td>\n",
       "      <td>20190728</td>\n",
       "      <td>23:37</td>\n",
       "      <td>163423</td>\n",
       "      <td>NaN</td>\n",
       "      <td>레쓰비</td>\n",
       "      <td>55.0</td>\n",
       "      <td>872.0</td>\n",
       "      <td>DIRECT</td>\n",
       "      <td>NaN</td>\n",
       "      <td>레쓰비</td>\n",
       "    </tr>\n",
       "    <tr>\n",
       "      <th>19</th>\n",
       "      <td>2</td>\n",
       "      <td>1</td>\n",
       "      <td>10</td>\n",
       "      <td>1</td>\n",
       "      <td>A03</td>\n",
       "      <td>20190728</td>\n",
       "      <td>23:37</td>\n",
       "      <td>174500</td>\n",
       "      <td>NaN</td>\n",
       "      <td>NaN</td>\n",
       "      <td>55.0</td>\n",
       "      <td>872.0</td>\n",
       "      <td>DIRECT</td>\n",
       "      <td>NaN</td>\n",
       "      <td>레쓰비</td>\n",
       "    </tr>\n",
       "  </tbody>\n",
       "</table>\n",
       "</div>"
      ],
      "text/plain": [
       "    clnt_id  sess_id  hit_seq  action_type biz_unit   sess_dt hit_tm  \\\n",
       "0         1        1        1            0      A01  20190911  16:14   \n",
       "1         1        1        2            0      A01  20190911  16:15   \n",
       "2         1        1        3            0      A01  20190911  16:15   \n",
       "3         1        2        1            0      A01  20190922  14:09   \n",
       "4         1        2        2            0      A01  20190922  14:10   \n",
       "5         1        2        3            0      A01  20190922  14:10   \n",
       "6         1        2        4            0      A01  20190922  14:11   \n",
       "7         1        2        5            0      A01  20190922  14:11   \n",
       "8         1        2        6            0      A01  20190922  14:12   \n",
       "9         1        2        7            0      A01  20190922  14:12   \n",
       "10        2        1        1            0      A03  20190728  23:35   \n",
       "11        2        1        2            1      A03  20190728  23:35   \n",
       "12        2        1        3            2      A03  20190728  23:35   \n",
       "13        2        1        4            0      A03  20190728  23:35   \n",
       "14        2        1        5            0      A03  20190728  23:36   \n",
       "15        2        1        6            3      A03  20190728  23:36   \n",
       "16        2        1        7            5      A03  20190728  23:36   \n",
       "17        2        1        8            5      A03  20190728  23:37   \n",
       "18        2        1        9            0      A03  20190728  23:37   \n",
       "19        2        1       10            1      A03  20190728  23:37   \n",
       "\n",
       "    hit_pss_tm  trans_id    sech_kwd  tot_pag_view_ct  tot_sess_hr_v trfc_src  \\\n",
       "0        11880       NaN      과일선물세트             14.0          124.0  unknown   \n",
       "1        22432       NaN  과일선물세트 백화점             14.0          124.0  unknown   \n",
       "2        36140       NaN       과일바구니             14.0          124.0  unknown   \n",
       "3        41584       NaN      초등가을잠바             45.0          424.0  unknown   \n",
       "4        56113       NaN      초등가을점퍼             45.0          424.0  unknown   \n",
       "5        70025       NaN       초등남아옷             45.0          424.0  unknown   \n",
       "6       119527       NaN      초등남아점퍼             45.0          424.0  unknown   \n",
       "7       162327       NaN     노스페이스키즈             45.0          424.0  unknown   \n",
       "8       178832       NaN     노스페이스초등             45.0          424.0  unknown   \n",
       "9       192367       NaN     노스페이스키즈             45.0          424.0  unknown   \n",
       "10       39532       NaN         레쓰비             55.0          872.0   DIRECT   \n",
       "11       47232       NaN         NaN             55.0          872.0   DIRECT   \n",
       "12       48087       NaN         NaN             55.0          872.0   DIRECT   \n",
       "13       62794       NaN         레쓰비             55.0          872.0   DIRECT   \n",
       "14      104074       NaN         레쓰비             55.0          872.0   DIRECT   \n",
       "15      127807       NaN         NaN             55.0          872.0   DIRECT   \n",
       "16      136325       NaN         NaN             55.0          872.0   DIRECT   \n",
       "17      150334       NaN         NaN             55.0          872.0   DIRECT   \n",
       "18      163423       NaN         레쓰비             55.0          872.0   DIRECT   \n",
       "19      174500       NaN         NaN             55.0          872.0   DIRECT   \n",
       "\n",
       "    dvc_ctg_nm     act_kwd  \n",
       "0   mobile_app      과일선물세트  \n",
       "1   mobile_app  과일선물세트 백화점  \n",
       "2   mobile_app       과일바구니  \n",
       "3   mobile_app      초등가을잠바  \n",
       "4   mobile_app      초등가을점퍼  \n",
       "5   mobile_app       초등남아옷  \n",
       "6   mobile_app      초등남아점퍼  \n",
       "7   mobile_app     노스페이스키즈  \n",
       "8   mobile_app     노스페이스초등  \n",
       "9   mobile_app     노스페이스키즈  \n",
       "10         NaN         레쓰비  \n",
       "11         NaN         레쓰비  \n",
       "12         NaN         레쓰비  \n",
       "13         NaN         레쓰비  \n",
       "14         NaN         레쓰비  \n",
       "15         NaN         레쓰비  \n",
       "16         NaN         레쓰비  \n",
       "17         NaN         NaN  \n",
       "18         NaN         레쓰비  \n",
       "19         NaN         레쓰비  "
      ]
     },
     "execution_count": 225,
     "metadata": {},
     "output_type": "execute_result"
    }
   ],
   "source": [
    "# # 잠시 주석처리\n",
    "# # 한번 더!\n",
    "# raw1_sorted_time['act_kwd'] = [raw1_sorted_time['act_kwd'].loc[s] if type(raw1_sorted_time['act_kwd'].loc[s]) == str \n",
    "#                                else (raw1_sorted_time['act_kwd'].loc[s-1] if raw1_sorted_time['clnt_id'].loc[s] == raw1_sorted_time['clnt_id'].loc[s-1] \n",
    "#                                      and raw1_sorted_time['sess_id'].loc[s] == raw1_sorted_time['sess_id'].loc[s-1] \n",
    "#                                      and raw1_sorted_time['biz_unit'].loc[s] == raw1_sorted_time['biz_unit'].loc[s-1] \n",
    "#                                      and raw1_sorted_time['hit_pss_tm'].loc[s]-raw1_sorted_time['hit_pss_tm'].loc[s-1] <= 180000 \n",
    "#                                      else 'bsd') for s in range(len(raw1_sorted_time['act_kwd']))]\n",
    "\n",
    "# raw1_sorted_time.head(20)"
   ]
  },
  {
   "cell_type": "code",
   "execution_count": 229,
   "metadata": {
    "collapsed": true
   },
   "outputs": [
    {
     "data": {
      "text/html": [
       "<div>\n",
       "<style scoped>\n",
       "    .dataframe tbody tr th:only-of-type {\n",
       "        vertical-align: middle;\n",
       "    }\n",
       "\n",
       "    .dataframe tbody tr th {\n",
       "        vertical-align: top;\n",
       "    }\n",
       "\n",
       "    .dataframe thead th {\n",
       "        text-align: right;\n",
       "    }\n",
       "</style>\n",
       "<table border=\"1\" class=\"dataframe\">\n",
       "  <thead>\n",
       "    <tr style=\"text-align: right;\">\n",
       "      <th></th>\n",
       "      <th>clnt_id</th>\n",
       "      <th>sess_id</th>\n",
       "      <th>hit_seq</th>\n",
       "      <th>action_type</th>\n",
       "      <th>biz_unit</th>\n",
       "      <th>sess_dt</th>\n",
       "      <th>hit_tm</th>\n",
       "      <th>hit_pss_tm</th>\n",
       "      <th>trans_id</th>\n",
       "      <th>sech_kwd</th>\n",
       "      <th>tot_pag_view_ct</th>\n",
       "      <th>tot_sess_hr_v</th>\n",
       "      <th>trfc_src</th>\n",
       "      <th>dvc_ctg_nm</th>\n",
       "      <th>act_kwd</th>\n",
       "    </tr>\n",
       "  </thead>\n",
       "  <tbody>\n",
       "    <tr>\n",
       "      <th>100</th>\n",
       "      <td>2</td>\n",
       "      <td>8</td>\n",
       "      <td>23</td>\n",
       "      <td>0</td>\n",
       "      <td>A03</td>\n",
       "      <td>20190731</td>\n",
       "      <td>20:38</td>\n",
       "      <td>437380</td>\n",
       "      <td>NaN</td>\n",
       "      <td>팥</td>\n",
       "      <td>85.0</td>\n",
       "      <td>3256.0</td>\n",
       "      <td>DIRECT</td>\n",
       "      <td>NaN</td>\n",
       "      <td>팥</td>\n",
       "    </tr>\n",
       "    <tr>\n",
       "      <th>101</th>\n",
       "      <td>2</td>\n",
       "      <td>8</td>\n",
       "      <td>24</td>\n",
       "      <td>0</td>\n",
       "      <td>A03</td>\n",
       "      <td>20190731</td>\n",
       "      <td>20:38</td>\n",
       "      <td>444324</td>\n",
       "      <td>NaN</td>\n",
       "      <td>팥빙수팥</td>\n",
       "      <td>85.0</td>\n",
       "      <td>3256.0</td>\n",
       "      <td>DIRECT</td>\n",
       "      <td>NaN</td>\n",
       "      <td>팥빙수팥</td>\n",
       "    </tr>\n",
       "    <tr>\n",
       "      <th>102</th>\n",
       "      <td>2</td>\n",
       "      <td>8</td>\n",
       "      <td>25</td>\n",
       "      <td>1</td>\n",
       "      <td>A03</td>\n",
       "      <td>20190731</td>\n",
       "      <td>20:39</td>\n",
       "      <td>447238</td>\n",
       "      <td>NaN</td>\n",
       "      <td>NaN</td>\n",
       "      <td>85.0</td>\n",
       "      <td>3256.0</td>\n",
       "      <td>DIRECT</td>\n",
       "      <td>NaN</td>\n",
       "      <td>팥빙수팥</td>\n",
       "    </tr>\n",
       "    <tr>\n",
       "      <th>103</th>\n",
       "      <td>2</td>\n",
       "      <td>8</td>\n",
       "      <td>26</td>\n",
       "      <td>2</td>\n",
       "      <td>A03</td>\n",
       "      <td>20190731</td>\n",
       "      <td>20:39</td>\n",
       "      <td>449080</td>\n",
       "      <td>NaN</td>\n",
       "      <td>NaN</td>\n",
       "      <td>85.0</td>\n",
       "      <td>3256.0</td>\n",
       "      <td>DIRECT</td>\n",
       "      <td>NaN</td>\n",
       "      <td>팥빙수팥</td>\n",
       "    </tr>\n",
       "    <tr>\n",
       "      <th>104</th>\n",
       "      <td>2</td>\n",
       "      <td>8</td>\n",
       "      <td>27</td>\n",
       "      <td>3</td>\n",
       "      <td>A03</td>\n",
       "      <td>20190731</td>\n",
       "      <td>20:41</td>\n",
       "      <td>608281</td>\n",
       "      <td>NaN</td>\n",
       "      <td>NaN</td>\n",
       "      <td>85.0</td>\n",
       "      <td>3256.0</td>\n",
       "      <td>DIRECT</td>\n",
       "      <td>NaN</td>\n",
       "      <td>NaN</td>\n",
       "    </tr>\n",
       "    <tr>\n",
       "      <th>105</th>\n",
       "      <td>2</td>\n",
       "      <td>8</td>\n",
       "      <td>28</td>\n",
       "      <td>5</td>\n",
       "      <td>A03</td>\n",
       "      <td>20190731</td>\n",
       "      <td>20:41</td>\n",
       "      <td>610918</td>\n",
       "      <td>NaN</td>\n",
       "      <td>NaN</td>\n",
       "      <td>85.0</td>\n",
       "      <td>3256.0</td>\n",
       "      <td>DIRECT</td>\n",
       "      <td>NaN</td>\n",
       "      <td>NaN</td>\n",
       "    </tr>\n",
       "    <tr>\n",
       "      <th>106</th>\n",
       "      <td>2</td>\n",
       "      <td>8</td>\n",
       "      <td>29</td>\n",
       "      <td>5</td>\n",
       "      <td>A03</td>\n",
       "      <td>20190731</td>\n",
       "      <td>20:41</td>\n",
       "      <td>616663</td>\n",
       "      <td>NaN</td>\n",
       "      <td>NaN</td>\n",
       "      <td>85.0</td>\n",
       "      <td>3256.0</td>\n",
       "      <td>DIRECT</td>\n",
       "      <td>NaN</td>\n",
       "      <td>NaN</td>\n",
       "    </tr>\n",
       "    <tr>\n",
       "      <th>107</th>\n",
       "      <td>2</td>\n",
       "      <td>8</td>\n",
       "      <td>30</td>\n",
       "      <td>1</td>\n",
       "      <td>A03</td>\n",
       "      <td>20190731</td>\n",
       "      <td>20:42</td>\n",
       "      <td>673120</td>\n",
       "      <td>NaN</td>\n",
       "      <td>NaN</td>\n",
       "      <td>85.0</td>\n",
       "      <td>3256.0</td>\n",
       "      <td>DIRECT</td>\n",
       "      <td>NaN</td>\n",
       "      <td>NaN</td>\n",
       "    </tr>\n",
       "    <tr>\n",
       "      <th>108</th>\n",
       "      <td>2</td>\n",
       "      <td>8</td>\n",
       "      <td>31</td>\n",
       "      <td>2</td>\n",
       "      <td>A03</td>\n",
       "      <td>20190731</td>\n",
       "      <td>20:42</td>\n",
       "      <td>674451</td>\n",
       "      <td>NaN</td>\n",
       "      <td>NaN</td>\n",
       "      <td>85.0</td>\n",
       "      <td>3256.0</td>\n",
       "      <td>DIRECT</td>\n",
       "      <td>NaN</td>\n",
       "      <td>NaN</td>\n",
       "    </tr>\n",
       "    <tr>\n",
       "      <th>109</th>\n",
       "      <td>2</td>\n",
       "      <td>8</td>\n",
       "      <td>32</td>\n",
       "      <td>3</td>\n",
       "      <td>A03</td>\n",
       "      <td>20190731</td>\n",
       "      <td>20:44</td>\n",
       "      <td>806007</td>\n",
       "      <td>NaN</td>\n",
       "      <td>NaN</td>\n",
       "      <td>85.0</td>\n",
       "      <td>3256.0</td>\n",
       "      <td>DIRECT</td>\n",
       "      <td>NaN</td>\n",
       "      <td>NaN</td>\n",
       "    </tr>\n",
       "    <tr>\n",
       "      <th>110</th>\n",
       "      <td>2</td>\n",
       "      <td>8</td>\n",
       "      <td>33</td>\n",
       "      <td>3</td>\n",
       "      <td>A03</td>\n",
       "      <td>20190731</td>\n",
       "      <td>20:45</td>\n",
       "      <td>806713</td>\n",
       "      <td>NaN</td>\n",
       "      <td>NaN</td>\n",
       "      <td>85.0</td>\n",
       "      <td>3256.0</td>\n",
       "      <td>DIRECT</td>\n",
       "      <td>NaN</td>\n",
       "      <td>NaN</td>\n",
       "    </tr>\n",
       "    <tr>\n",
       "      <th>111</th>\n",
       "      <td>2</td>\n",
       "      <td>8</td>\n",
       "      <td>34</td>\n",
       "      <td>0</td>\n",
       "      <td>A03</td>\n",
       "      <td>20190731</td>\n",
       "      <td>20:51</td>\n",
       "      <td>1196626</td>\n",
       "      <td>NaN</td>\n",
       "      <td>크래미</td>\n",
       "      <td>85.0</td>\n",
       "      <td>3256.0</td>\n",
       "      <td>DIRECT</td>\n",
       "      <td>NaN</td>\n",
       "      <td>크래미</td>\n",
       "    </tr>\n",
       "    <tr>\n",
       "      <th>112</th>\n",
       "      <td>2</td>\n",
       "      <td>8</td>\n",
       "      <td>35</td>\n",
       "      <td>3</td>\n",
       "      <td>A03</td>\n",
       "      <td>20190731</td>\n",
       "      <td>20:51</td>\n",
       "      <td>1199128</td>\n",
       "      <td>NaN</td>\n",
       "      <td>NaN</td>\n",
       "      <td>85.0</td>\n",
       "      <td>3256.0</td>\n",
       "      <td>DIRECT</td>\n",
       "      <td>NaN</td>\n",
       "      <td>크래미</td>\n",
       "    </tr>\n",
       "    <tr>\n",
       "      <th>113</th>\n",
       "      <td>2</td>\n",
       "      <td>8</td>\n",
       "      <td>36</td>\n",
       "      <td>0</td>\n",
       "      <td>A03</td>\n",
       "      <td>20190731</td>\n",
       "      <td>20:51</td>\n",
       "      <td>1203973</td>\n",
       "      <td>NaN</td>\n",
       "      <td>크래미맛살</td>\n",
       "      <td>85.0</td>\n",
       "      <td>3256.0</td>\n",
       "      <td>DIRECT</td>\n",
       "      <td>NaN</td>\n",
       "      <td>크래미맛살</td>\n",
       "    </tr>\n",
       "    <tr>\n",
       "      <th>114</th>\n",
       "      <td>2</td>\n",
       "      <td>8</td>\n",
       "      <td>37</td>\n",
       "      <td>1</td>\n",
       "      <td>A03</td>\n",
       "      <td>20190731</td>\n",
       "      <td>20:51</td>\n",
       "      <td>1205301</td>\n",
       "      <td>NaN</td>\n",
       "      <td>NaN</td>\n",
       "      <td>85.0</td>\n",
       "      <td>3256.0</td>\n",
       "      <td>DIRECT</td>\n",
       "      <td>NaN</td>\n",
       "      <td>크래미맛살</td>\n",
       "    </tr>\n",
       "    <tr>\n",
       "      <th>115</th>\n",
       "      <td>2</td>\n",
       "      <td>8</td>\n",
       "      <td>38</td>\n",
       "      <td>2</td>\n",
       "      <td>A03</td>\n",
       "      <td>20190731</td>\n",
       "      <td>20:51</td>\n",
       "      <td>1206404</td>\n",
       "      <td>NaN</td>\n",
       "      <td>NaN</td>\n",
       "      <td>85.0</td>\n",
       "      <td>3256.0</td>\n",
       "      <td>DIRECT</td>\n",
       "      <td>NaN</td>\n",
       "      <td>크래미맛살</td>\n",
       "    </tr>\n",
       "    <tr>\n",
       "      <th>116</th>\n",
       "      <td>2</td>\n",
       "      <td>8</td>\n",
       "      <td>39</td>\n",
       "      <td>0</td>\n",
       "      <td>A03</td>\n",
       "      <td>20190731</td>\n",
       "      <td>20:52</td>\n",
       "      <td>1229325</td>\n",
       "      <td>NaN</td>\n",
       "      <td>다진소고기</td>\n",
       "      <td>85.0</td>\n",
       "      <td>3256.0</td>\n",
       "      <td>DIRECT</td>\n",
       "      <td>NaN</td>\n",
       "      <td>다진소고기</td>\n",
       "    </tr>\n",
       "    <tr>\n",
       "      <th>117</th>\n",
       "      <td>2</td>\n",
       "      <td>8</td>\n",
       "      <td>40</td>\n",
       "      <td>1</td>\n",
       "      <td>A03</td>\n",
       "      <td>20190731</td>\n",
       "      <td>20:52</td>\n",
       "      <td>1248408</td>\n",
       "      <td>NaN</td>\n",
       "      <td>NaN</td>\n",
       "      <td>85.0</td>\n",
       "      <td>3256.0</td>\n",
       "      <td>DIRECT</td>\n",
       "      <td>NaN</td>\n",
       "      <td>다진소고기</td>\n",
       "    </tr>\n",
       "    <tr>\n",
       "      <th>118</th>\n",
       "      <td>2</td>\n",
       "      <td>8</td>\n",
       "      <td>41</td>\n",
       "      <td>2</td>\n",
       "      <td>A03</td>\n",
       "      <td>20190731</td>\n",
       "      <td>20:52</td>\n",
       "      <td>1251161</td>\n",
       "      <td>NaN</td>\n",
       "      <td>NaN</td>\n",
       "      <td>85.0</td>\n",
       "      <td>3256.0</td>\n",
       "      <td>DIRECT</td>\n",
       "      <td>NaN</td>\n",
       "      <td>다진소고기</td>\n",
       "    </tr>\n",
       "    <tr>\n",
       "      <th>119</th>\n",
       "      <td>2</td>\n",
       "      <td>8</td>\n",
       "      <td>42</td>\n",
       "      <td>2</td>\n",
       "      <td>A03</td>\n",
       "      <td>20190731</td>\n",
       "      <td>20:53</td>\n",
       "      <td>1299786</td>\n",
       "      <td>NaN</td>\n",
       "      <td>NaN</td>\n",
       "      <td>85.0</td>\n",
       "      <td>3256.0</td>\n",
       "      <td>DIRECT</td>\n",
       "      <td>NaN</td>\n",
       "      <td>NaN</td>\n",
       "    </tr>\n",
       "    <tr>\n",
       "      <th>120</th>\n",
       "      <td>2</td>\n",
       "      <td>8</td>\n",
       "      <td>43</td>\n",
       "      <td>2</td>\n",
       "      <td>A03</td>\n",
       "      <td>20190731</td>\n",
       "      <td>20:53</td>\n",
       "      <td>1302930</td>\n",
       "      <td>NaN</td>\n",
       "      <td>NaN</td>\n",
       "      <td>85.0</td>\n",
       "      <td>3256.0</td>\n",
       "      <td>DIRECT</td>\n",
       "      <td>NaN</td>\n",
       "      <td>NaN</td>\n",
       "    </tr>\n",
       "    <tr>\n",
       "      <th>121</th>\n",
       "      <td>2</td>\n",
       "      <td>8</td>\n",
       "      <td>44</td>\n",
       "      <td>3</td>\n",
       "      <td>A03</td>\n",
       "      <td>20190731</td>\n",
       "      <td>20:53</td>\n",
       "      <td>1308480</td>\n",
       "      <td>NaN</td>\n",
       "      <td>NaN</td>\n",
       "      <td>85.0</td>\n",
       "      <td>3256.0</td>\n",
       "      <td>DIRECT</td>\n",
       "      <td>NaN</td>\n",
       "      <td>NaN</td>\n",
       "    </tr>\n",
       "    <tr>\n",
       "      <th>122</th>\n",
       "      <td>2</td>\n",
       "      <td>8</td>\n",
       "      <td>45</td>\n",
       "      <td>5</td>\n",
       "      <td>A03</td>\n",
       "      <td>20190731</td>\n",
       "      <td>20:53</td>\n",
       "      <td>1311669</td>\n",
       "      <td>NaN</td>\n",
       "      <td>NaN</td>\n",
       "      <td>85.0</td>\n",
       "      <td>3256.0</td>\n",
       "      <td>DIRECT</td>\n",
       "      <td>NaN</td>\n",
       "      <td>NaN</td>\n",
       "    </tr>\n",
       "    <tr>\n",
       "      <th>123</th>\n",
       "      <td>2</td>\n",
       "      <td>8</td>\n",
       "      <td>46</td>\n",
       "      <td>5</td>\n",
       "      <td>A03</td>\n",
       "      <td>20190731</td>\n",
       "      <td>20:53</td>\n",
       "      <td>1328161</td>\n",
       "      <td>NaN</td>\n",
       "      <td>NaN</td>\n",
       "      <td>85.0</td>\n",
       "      <td>3256.0</td>\n",
       "      <td>DIRECT</td>\n",
       "      <td>NaN</td>\n",
       "      <td>NaN</td>\n",
       "    </tr>\n",
       "    <tr>\n",
       "      <th>124</th>\n",
       "      <td>2</td>\n",
       "      <td>8</td>\n",
       "      <td>47</td>\n",
       "      <td>5</td>\n",
       "      <td>A03</td>\n",
       "      <td>20190731</td>\n",
       "      <td>20:55</td>\n",
       "      <td>1412000</td>\n",
       "      <td>NaN</td>\n",
       "      <td>NaN</td>\n",
       "      <td>85.0</td>\n",
       "      <td>3256.0</td>\n",
       "      <td>DIRECT</td>\n",
       "      <td>NaN</td>\n",
       "      <td>NaN</td>\n",
       "    </tr>\n",
       "    <tr>\n",
       "      <th>125</th>\n",
       "      <td>2</td>\n",
       "      <td>8</td>\n",
       "      <td>48</td>\n",
       "      <td>5</td>\n",
       "      <td>A03</td>\n",
       "      <td>20190731</td>\n",
       "      <td>20:55</td>\n",
       "      <td>1423713</td>\n",
       "      <td>NaN</td>\n",
       "      <td>NaN</td>\n",
       "      <td>85.0</td>\n",
       "      <td>3256.0</td>\n",
       "      <td>DIRECT</td>\n",
       "      <td>NaN</td>\n",
       "      <td>NaN</td>\n",
       "    </tr>\n",
       "    <tr>\n",
       "      <th>126</th>\n",
       "      <td>2</td>\n",
       "      <td>8</td>\n",
       "      <td>49</td>\n",
       "      <td>5</td>\n",
       "      <td>A03</td>\n",
       "      <td>20190731</td>\n",
       "      <td>20:55</td>\n",
       "      <td>1430650</td>\n",
       "      <td>NaN</td>\n",
       "      <td>NaN</td>\n",
       "      <td>85.0</td>\n",
       "      <td>3256.0</td>\n",
       "      <td>DIRECT</td>\n",
       "      <td>NaN</td>\n",
       "      <td>NaN</td>\n",
       "    </tr>\n",
       "    <tr>\n",
       "      <th>127</th>\n",
       "      <td>2</td>\n",
       "      <td>8</td>\n",
       "      <td>50</td>\n",
       "      <td>5</td>\n",
       "      <td>A03</td>\n",
       "      <td>20190731</td>\n",
       "      <td>20:55</td>\n",
       "      <td>1434548</td>\n",
       "      <td>NaN</td>\n",
       "      <td>NaN</td>\n",
       "      <td>85.0</td>\n",
       "      <td>3256.0</td>\n",
       "      <td>DIRECT</td>\n",
       "      <td>NaN</td>\n",
       "      <td>NaN</td>\n",
       "    </tr>\n",
       "    <tr>\n",
       "      <th>128</th>\n",
       "      <td>2</td>\n",
       "      <td>8</td>\n",
       "      <td>51</td>\n",
       "      <td>5</td>\n",
       "      <td>A03</td>\n",
       "      <td>20190731</td>\n",
       "      <td>20:55</td>\n",
       "      <td>1442675</td>\n",
       "      <td>NaN</td>\n",
       "      <td>NaN</td>\n",
       "      <td>85.0</td>\n",
       "      <td>3256.0</td>\n",
       "      <td>DIRECT</td>\n",
       "      <td>NaN</td>\n",
       "      <td>NaN</td>\n",
       "    </tr>\n",
       "    <tr>\n",
       "      <th>129</th>\n",
       "      <td>2</td>\n",
       "      <td>8</td>\n",
       "      <td>52</td>\n",
       "      <td>4</td>\n",
       "      <td>A03</td>\n",
       "      <td>20190731</td>\n",
       "      <td>21:09</td>\n",
       "      <td>2249089</td>\n",
       "      <td>NaN</td>\n",
       "      <td>NaN</td>\n",
       "      <td>85.0</td>\n",
       "      <td>3256.0</td>\n",
       "      <td>DIRECT</td>\n",
       "      <td>NaN</td>\n",
       "      <td>bsd</td>\n",
       "    </tr>\n",
       "    <tr>\n",
       "      <th>130</th>\n",
       "      <td>2</td>\n",
       "      <td>8</td>\n",
       "      <td>53</td>\n",
       "      <td>5</td>\n",
       "      <td>A03</td>\n",
       "      <td>20190731</td>\n",
       "      <td>21:09</td>\n",
       "      <td>2250607</td>\n",
       "      <td>NaN</td>\n",
       "      <td>NaN</td>\n",
       "      <td>85.0</td>\n",
       "      <td>3256.0</td>\n",
       "      <td>DIRECT</td>\n",
       "      <td>NaN</td>\n",
       "      <td>NaN</td>\n",
       "    </tr>\n",
       "    <tr>\n",
       "      <th>131</th>\n",
       "      <td>2</td>\n",
       "      <td>8</td>\n",
       "      <td>54</td>\n",
       "      <td>4</td>\n",
       "      <td>A03</td>\n",
       "      <td>20190731</td>\n",
       "      <td>21:09</td>\n",
       "      <td>2263996</td>\n",
       "      <td>NaN</td>\n",
       "      <td>NaN</td>\n",
       "      <td>85.0</td>\n",
       "      <td>3256.0</td>\n",
       "      <td>DIRECT</td>\n",
       "      <td>NaN</td>\n",
       "      <td>NaN</td>\n",
       "    </tr>\n",
       "    <tr>\n",
       "      <th>132</th>\n",
       "      <td>2</td>\n",
       "      <td>8</td>\n",
       "      <td>55</td>\n",
       "      <td>5</td>\n",
       "      <td>A03</td>\n",
       "      <td>20190731</td>\n",
       "      <td>21:09</td>\n",
       "      <td>2265391</td>\n",
       "      <td>NaN</td>\n",
       "      <td>NaN</td>\n",
       "      <td>85.0</td>\n",
       "      <td>3256.0</td>\n",
       "      <td>DIRECT</td>\n",
       "      <td>NaN</td>\n",
       "      <td>NaN</td>\n",
       "    </tr>\n",
       "    <tr>\n",
       "      <th>133</th>\n",
       "      <td>2</td>\n",
       "      <td>8</td>\n",
       "      <td>56</td>\n",
       "      <td>5</td>\n",
       "      <td>A03</td>\n",
       "      <td>20190731</td>\n",
       "      <td>21:09</td>\n",
       "      <td>2287542</td>\n",
       "      <td>NaN</td>\n",
       "      <td>NaN</td>\n",
       "      <td>85.0</td>\n",
       "      <td>3256.0</td>\n",
       "      <td>DIRECT</td>\n",
       "      <td>NaN</td>\n",
       "      <td>NaN</td>\n",
       "    </tr>\n",
       "    <tr>\n",
       "      <th>134</th>\n",
       "      <td>2</td>\n",
       "      <td>8</td>\n",
       "      <td>57</td>\n",
       "      <td>5</td>\n",
       "      <td>A03</td>\n",
       "      <td>20190731</td>\n",
       "      <td>21:09</td>\n",
       "      <td>2290664</td>\n",
       "      <td>NaN</td>\n",
       "      <td>NaN</td>\n",
       "      <td>85.0</td>\n",
       "      <td>3256.0</td>\n",
       "      <td>DIRECT</td>\n",
       "      <td>NaN</td>\n",
       "      <td>NaN</td>\n",
       "    </tr>\n",
       "    <tr>\n",
       "      <th>135</th>\n",
       "      <td>2</td>\n",
       "      <td>8</td>\n",
       "      <td>58</td>\n",
       "      <td>5</td>\n",
       "      <td>A03</td>\n",
       "      <td>20190731</td>\n",
       "      <td>21:10</td>\n",
       "      <td>2316277</td>\n",
       "      <td>NaN</td>\n",
       "      <td>NaN</td>\n",
       "      <td>85.0</td>\n",
       "      <td>3256.0</td>\n",
       "      <td>DIRECT</td>\n",
       "      <td>NaN</td>\n",
       "      <td>NaN</td>\n",
       "    </tr>\n",
       "    <tr>\n",
       "      <th>136</th>\n",
       "      <td>2</td>\n",
       "      <td>8</td>\n",
       "      <td>59</td>\n",
       "      <td>2</td>\n",
       "      <td>A03</td>\n",
       "      <td>20190731</td>\n",
       "      <td>21:10</td>\n",
       "      <td>2325858</td>\n",
       "      <td>NaN</td>\n",
       "      <td>NaN</td>\n",
       "      <td>85.0</td>\n",
       "      <td>3256.0</td>\n",
       "      <td>DIRECT</td>\n",
       "      <td>NaN</td>\n",
       "      <td>NaN</td>\n",
       "    </tr>\n",
       "    <tr>\n",
       "      <th>137</th>\n",
       "      <td>2</td>\n",
       "      <td>8</td>\n",
       "      <td>60</td>\n",
       "      <td>2</td>\n",
       "      <td>A03</td>\n",
       "      <td>20190731</td>\n",
       "      <td>21:12</td>\n",
       "      <td>2445874</td>\n",
       "      <td>NaN</td>\n",
       "      <td>NaN</td>\n",
       "      <td>85.0</td>\n",
       "      <td>3256.0</td>\n",
       "      <td>DIRECT</td>\n",
       "      <td>NaN</td>\n",
       "      <td>NaN</td>\n",
       "    </tr>\n",
       "    <tr>\n",
       "      <th>138</th>\n",
       "      <td>2</td>\n",
       "      <td>8</td>\n",
       "      <td>61</td>\n",
       "      <td>5</td>\n",
       "      <td>A03</td>\n",
       "      <td>20190731</td>\n",
       "      <td>21:12</td>\n",
       "      <td>2467273</td>\n",
       "      <td>NaN</td>\n",
       "      <td>NaN</td>\n",
       "      <td>85.0</td>\n",
       "      <td>3256.0</td>\n",
       "      <td>DIRECT</td>\n",
       "      <td>NaN</td>\n",
       "      <td>NaN</td>\n",
       "    </tr>\n",
       "    <tr>\n",
       "      <th>139</th>\n",
       "      <td>2</td>\n",
       "      <td>8</td>\n",
       "      <td>62</td>\n",
       "      <td>5</td>\n",
       "      <td>A03</td>\n",
       "      <td>20190731</td>\n",
       "      <td>21:12</td>\n",
       "      <td>2467913</td>\n",
       "      <td>NaN</td>\n",
       "      <td>NaN</td>\n",
       "      <td>85.0</td>\n",
       "      <td>3256.0</td>\n",
       "      <td>DIRECT</td>\n",
       "      <td>NaN</td>\n",
       "      <td>NaN</td>\n",
       "    </tr>\n",
       "    <tr>\n",
       "      <th>140</th>\n",
       "      <td>2</td>\n",
       "      <td>8</td>\n",
       "      <td>63</td>\n",
       "      <td>5</td>\n",
       "      <td>A03</td>\n",
       "      <td>20190731</td>\n",
       "      <td>21:20</td>\n",
       "      <td>2927553</td>\n",
       "      <td>NaN</td>\n",
       "      <td>NaN</td>\n",
       "      <td>85.0</td>\n",
       "      <td>3256.0</td>\n",
       "      <td>DIRECT</td>\n",
       "      <td>NaN</td>\n",
       "      <td>bsd</td>\n",
       "    </tr>\n",
       "    <tr>\n",
       "      <th>141</th>\n",
       "      <td>2</td>\n",
       "      <td>8</td>\n",
       "      <td>64</td>\n",
       "      <td>5</td>\n",
       "      <td>A03</td>\n",
       "      <td>20190731</td>\n",
       "      <td>21:24</td>\n",
       "      <td>3161020</td>\n",
       "      <td>NaN</td>\n",
       "      <td>NaN</td>\n",
       "      <td>85.0</td>\n",
       "      <td>3256.0</td>\n",
       "      <td>DIRECT</td>\n",
       "      <td>NaN</td>\n",
       "      <td>bsd</td>\n",
       "    </tr>\n",
       "    <tr>\n",
       "      <th>142</th>\n",
       "      <td>2</td>\n",
       "      <td>8</td>\n",
       "      <td>65</td>\n",
       "      <td>5</td>\n",
       "      <td>A03</td>\n",
       "      <td>20190731</td>\n",
       "      <td>21:24</td>\n",
       "      <td>3167583</td>\n",
       "      <td>NaN</td>\n",
       "      <td>NaN</td>\n",
       "      <td>85.0</td>\n",
       "      <td>3256.0</td>\n",
       "      <td>DIRECT</td>\n",
       "      <td>NaN</td>\n",
       "      <td>NaN</td>\n",
       "    </tr>\n",
       "    <tr>\n",
       "      <th>143</th>\n",
       "      <td>2</td>\n",
       "      <td>8</td>\n",
       "      <td>66</td>\n",
       "      <td>5</td>\n",
       "      <td>A03</td>\n",
       "      <td>20190731</td>\n",
       "      <td>21:24</td>\n",
       "      <td>3170018</td>\n",
       "      <td>NaN</td>\n",
       "      <td>NaN</td>\n",
       "      <td>85.0</td>\n",
       "      <td>3256.0</td>\n",
       "      <td>DIRECT</td>\n",
       "      <td>NaN</td>\n",
       "      <td>NaN</td>\n",
       "    </tr>\n",
       "    <tr>\n",
       "      <th>144</th>\n",
       "      <td>2</td>\n",
       "      <td>8</td>\n",
       "      <td>67</td>\n",
       "      <td>5</td>\n",
       "      <td>A03</td>\n",
       "      <td>20190731</td>\n",
       "      <td>21:25</td>\n",
       "      <td>3248601</td>\n",
       "      <td>NaN</td>\n",
       "      <td>NaN</td>\n",
       "      <td>85.0</td>\n",
       "      <td>3256.0</td>\n",
       "      <td>DIRECT</td>\n",
       "      <td>NaN</td>\n",
       "      <td>NaN</td>\n",
       "    </tr>\n",
       "    <tr>\n",
       "      <th>145</th>\n",
       "      <td>2</td>\n",
       "      <td>8</td>\n",
       "      <td>68</td>\n",
       "      <td>6</td>\n",
       "      <td>A03</td>\n",
       "      <td>20190731</td>\n",
       "      <td>21:25</td>\n",
       "      <td>3251794</td>\n",
       "      <td>64691.0</td>\n",
       "      <td>NaN</td>\n",
       "      <td>85.0</td>\n",
       "      <td>3256.0</td>\n",
       "      <td>DIRECT</td>\n",
       "      <td>NaN</td>\n",
       "      <td>NaN</td>\n",
       "    </tr>\n",
       "    <tr>\n",
       "      <th>146</th>\n",
       "      <td>2</td>\n",
       "      <td>9</td>\n",
       "      <td>1</td>\n",
       "      <td>1</td>\n",
       "      <td>A03</td>\n",
       "      <td>20190801</td>\n",
       "      <td>02:47</td>\n",
       "      <td>47867</td>\n",
       "      <td>NaN</td>\n",
       "      <td>NaN</td>\n",
       "      <td>12.0</td>\n",
       "      <td>76.0</td>\n",
       "      <td>DIRECT</td>\n",
       "      <td>NaN</td>\n",
       "      <td>bsd</td>\n",
       "    </tr>\n",
       "    <tr>\n",
       "      <th>147</th>\n",
       "      <td>2</td>\n",
       "      <td>9</td>\n",
       "      <td>2</td>\n",
       "      <td>2</td>\n",
       "      <td>A03</td>\n",
       "      <td>20190801</td>\n",
       "      <td>02:47</td>\n",
       "      <td>49560</td>\n",
       "      <td>NaN</td>\n",
       "      <td>NaN</td>\n",
       "      <td>12.0</td>\n",
       "      <td>76.0</td>\n",
       "      <td>DIRECT</td>\n",
       "      <td>NaN</td>\n",
       "      <td>bsd</td>\n",
       "    </tr>\n",
       "    <tr>\n",
       "      <th>148</th>\n",
       "      <td>2</td>\n",
       "      <td>9</td>\n",
       "      <td>3</td>\n",
       "      <td>1</td>\n",
       "      <td>A03</td>\n",
       "      <td>20190801</td>\n",
       "      <td>02:47</td>\n",
       "      <td>53143</td>\n",
       "      <td>NaN</td>\n",
       "      <td>NaN</td>\n",
       "      <td>12.0</td>\n",
       "      <td>76.0</td>\n",
       "      <td>DIRECT</td>\n",
       "      <td>NaN</td>\n",
       "      <td>NaN</td>\n",
       "    </tr>\n",
       "    <tr>\n",
       "      <th>149</th>\n",
       "      <td>2</td>\n",
       "      <td>9</td>\n",
       "      <td>4</td>\n",
       "      <td>2</td>\n",
       "      <td>A03</td>\n",
       "      <td>20190801</td>\n",
       "      <td>02:47</td>\n",
       "      <td>54621</td>\n",
       "      <td>NaN</td>\n",
       "      <td>NaN</td>\n",
       "      <td>12.0</td>\n",
       "      <td>76.0</td>\n",
       "      <td>DIRECT</td>\n",
       "      <td>NaN</td>\n",
       "      <td>NaN</td>\n",
       "    </tr>\n",
       "    <tr>\n",
       "      <th>150</th>\n",
       "      <td>2</td>\n",
       "      <td>9</td>\n",
       "      <td>5</td>\n",
       "      <td>1</td>\n",
       "      <td>A03</td>\n",
       "      <td>20190801</td>\n",
       "      <td>02:47</td>\n",
       "      <td>71252</td>\n",
       "      <td>NaN</td>\n",
       "      <td>NaN</td>\n",
       "      <td>12.0</td>\n",
       "      <td>76.0</td>\n",
       "      <td>DIRECT</td>\n",
       "      <td>NaN</td>\n",
       "      <td>NaN</td>\n",
       "    </tr>\n",
       "  </tbody>\n",
       "</table>\n",
       "</div>"
      ],
      "text/plain": [
       "     clnt_id  sess_id  hit_seq  action_type biz_unit   sess_dt hit_tm  \\\n",
       "100        2        8       23            0      A03  20190731  20:38   \n",
       "101        2        8       24            0      A03  20190731  20:38   \n",
       "102        2        8       25            1      A03  20190731  20:39   \n",
       "103        2        8       26            2      A03  20190731  20:39   \n",
       "104        2        8       27            3      A03  20190731  20:41   \n",
       "105        2        8       28            5      A03  20190731  20:41   \n",
       "106        2        8       29            5      A03  20190731  20:41   \n",
       "107        2        8       30            1      A03  20190731  20:42   \n",
       "108        2        8       31            2      A03  20190731  20:42   \n",
       "109        2        8       32            3      A03  20190731  20:44   \n",
       "110        2        8       33            3      A03  20190731  20:45   \n",
       "111        2        8       34            0      A03  20190731  20:51   \n",
       "112        2        8       35            3      A03  20190731  20:51   \n",
       "113        2        8       36            0      A03  20190731  20:51   \n",
       "114        2        8       37            1      A03  20190731  20:51   \n",
       "115        2        8       38            2      A03  20190731  20:51   \n",
       "116        2        8       39            0      A03  20190731  20:52   \n",
       "117        2        8       40            1      A03  20190731  20:52   \n",
       "118        2        8       41            2      A03  20190731  20:52   \n",
       "119        2        8       42            2      A03  20190731  20:53   \n",
       "120        2        8       43            2      A03  20190731  20:53   \n",
       "121        2        8       44            3      A03  20190731  20:53   \n",
       "122        2        8       45            5      A03  20190731  20:53   \n",
       "123        2        8       46            5      A03  20190731  20:53   \n",
       "124        2        8       47            5      A03  20190731  20:55   \n",
       "125        2        8       48            5      A03  20190731  20:55   \n",
       "126        2        8       49            5      A03  20190731  20:55   \n",
       "127        2        8       50            5      A03  20190731  20:55   \n",
       "128        2        8       51            5      A03  20190731  20:55   \n",
       "129        2        8       52            4      A03  20190731  21:09   \n",
       "130        2        8       53            5      A03  20190731  21:09   \n",
       "131        2        8       54            4      A03  20190731  21:09   \n",
       "132        2        8       55            5      A03  20190731  21:09   \n",
       "133        2        8       56            5      A03  20190731  21:09   \n",
       "134        2        8       57            5      A03  20190731  21:09   \n",
       "135        2        8       58            5      A03  20190731  21:10   \n",
       "136        2        8       59            2      A03  20190731  21:10   \n",
       "137        2        8       60            2      A03  20190731  21:12   \n",
       "138        2        8       61            5      A03  20190731  21:12   \n",
       "139        2        8       62            5      A03  20190731  21:12   \n",
       "140        2        8       63            5      A03  20190731  21:20   \n",
       "141        2        8       64            5      A03  20190731  21:24   \n",
       "142        2        8       65            5      A03  20190731  21:24   \n",
       "143        2        8       66            5      A03  20190731  21:24   \n",
       "144        2        8       67            5      A03  20190731  21:25   \n",
       "145        2        8       68            6      A03  20190731  21:25   \n",
       "146        2        9        1            1      A03  20190801  02:47   \n",
       "147        2        9        2            2      A03  20190801  02:47   \n",
       "148        2        9        3            1      A03  20190801  02:47   \n",
       "149        2        9        4            2      A03  20190801  02:47   \n",
       "150        2        9        5            1      A03  20190801  02:47   \n",
       "\n",
       "     hit_pss_tm  trans_id sech_kwd  tot_pag_view_ct  tot_sess_hr_v trfc_src  \\\n",
       "100      437380       NaN        팥             85.0         3256.0   DIRECT   \n",
       "101      444324       NaN     팥빙수팥             85.0         3256.0   DIRECT   \n",
       "102      447238       NaN      NaN             85.0         3256.0   DIRECT   \n",
       "103      449080       NaN      NaN             85.0         3256.0   DIRECT   \n",
       "104      608281       NaN      NaN             85.0         3256.0   DIRECT   \n",
       "105      610918       NaN      NaN             85.0         3256.0   DIRECT   \n",
       "106      616663       NaN      NaN             85.0         3256.0   DIRECT   \n",
       "107      673120       NaN      NaN             85.0         3256.0   DIRECT   \n",
       "108      674451       NaN      NaN             85.0         3256.0   DIRECT   \n",
       "109      806007       NaN      NaN             85.0         3256.0   DIRECT   \n",
       "110      806713       NaN      NaN             85.0         3256.0   DIRECT   \n",
       "111     1196626       NaN      크래미             85.0         3256.0   DIRECT   \n",
       "112     1199128       NaN      NaN             85.0         3256.0   DIRECT   \n",
       "113     1203973       NaN    크래미맛살             85.0         3256.0   DIRECT   \n",
       "114     1205301       NaN      NaN             85.0         3256.0   DIRECT   \n",
       "115     1206404       NaN      NaN             85.0         3256.0   DIRECT   \n",
       "116     1229325       NaN    다진소고기             85.0         3256.0   DIRECT   \n",
       "117     1248408       NaN      NaN             85.0         3256.0   DIRECT   \n",
       "118     1251161       NaN      NaN             85.0         3256.0   DIRECT   \n",
       "119     1299786       NaN      NaN             85.0         3256.0   DIRECT   \n",
       "120     1302930       NaN      NaN             85.0         3256.0   DIRECT   \n",
       "121     1308480       NaN      NaN             85.0         3256.0   DIRECT   \n",
       "122     1311669       NaN      NaN             85.0         3256.0   DIRECT   \n",
       "123     1328161       NaN      NaN             85.0         3256.0   DIRECT   \n",
       "124     1412000       NaN      NaN             85.0         3256.0   DIRECT   \n",
       "125     1423713       NaN      NaN             85.0         3256.0   DIRECT   \n",
       "126     1430650       NaN      NaN             85.0         3256.0   DIRECT   \n",
       "127     1434548       NaN      NaN             85.0         3256.0   DIRECT   \n",
       "128     1442675       NaN      NaN             85.0         3256.0   DIRECT   \n",
       "129     2249089       NaN      NaN             85.0         3256.0   DIRECT   \n",
       "130     2250607       NaN      NaN             85.0         3256.0   DIRECT   \n",
       "131     2263996       NaN      NaN             85.0         3256.0   DIRECT   \n",
       "132     2265391       NaN      NaN             85.0         3256.0   DIRECT   \n",
       "133     2287542       NaN      NaN             85.0         3256.0   DIRECT   \n",
       "134     2290664       NaN      NaN             85.0         3256.0   DIRECT   \n",
       "135     2316277       NaN      NaN             85.0         3256.0   DIRECT   \n",
       "136     2325858       NaN      NaN             85.0         3256.0   DIRECT   \n",
       "137     2445874       NaN      NaN             85.0         3256.0   DIRECT   \n",
       "138     2467273       NaN      NaN             85.0         3256.0   DIRECT   \n",
       "139     2467913       NaN      NaN             85.0         3256.0   DIRECT   \n",
       "140     2927553       NaN      NaN             85.0         3256.0   DIRECT   \n",
       "141     3161020       NaN      NaN             85.0         3256.0   DIRECT   \n",
       "142     3167583       NaN      NaN             85.0         3256.0   DIRECT   \n",
       "143     3170018       NaN      NaN             85.0         3256.0   DIRECT   \n",
       "144     3248601       NaN      NaN             85.0         3256.0   DIRECT   \n",
       "145     3251794   64691.0      NaN             85.0         3256.0   DIRECT   \n",
       "146       47867       NaN      NaN             12.0           76.0   DIRECT   \n",
       "147       49560       NaN      NaN             12.0           76.0   DIRECT   \n",
       "148       53143       NaN      NaN             12.0           76.0   DIRECT   \n",
       "149       54621       NaN      NaN             12.0           76.0   DIRECT   \n",
       "150       71252       NaN      NaN             12.0           76.0   DIRECT   \n",
       "\n",
       "    dvc_ctg_nm act_kwd  \n",
       "100        NaN       팥  \n",
       "101        NaN    팥빙수팥  \n",
       "102        NaN    팥빙수팥  \n",
       "103        NaN    팥빙수팥  \n",
       "104        NaN     NaN  \n",
       "105        NaN     NaN  \n",
       "106        NaN     NaN  \n",
       "107        NaN     NaN  \n",
       "108        NaN     NaN  \n",
       "109        NaN     NaN  \n",
       "110        NaN     NaN  \n",
       "111        NaN     크래미  \n",
       "112        NaN     크래미  \n",
       "113        NaN   크래미맛살  \n",
       "114        NaN   크래미맛살  \n",
       "115        NaN   크래미맛살  \n",
       "116        NaN   다진소고기  \n",
       "117        NaN   다진소고기  \n",
       "118        NaN   다진소고기  \n",
       "119        NaN     NaN  \n",
       "120        NaN     NaN  \n",
       "121        NaN     NaN  \n",
       "122        NaN     NaN  \n",
       "123        NaN     NaN  \n",
       "124        NaN     NaN  \n",
       "125        NaN     NaN  \n",
       "126        NaN     NaN  \n",
       "127        NaN     NaN  \n",
       "128        NaN     NaN  \n",
       "129        NaN     bsd  \n",
       "130        NaN     NaN  \n",
       "131        NaN     NaN  \n",
       "132        NaN     NaN  \n",
       "133        NaN     NaN  \n",
       "134        NaN     NaN  \n",
       "135        NaN     NaN  \n",
       "136        NaN     NaN  \n",
       "137        NaN     NaN  \n",
       "138        NaN     NaN  \n",
       "139        NaN     NaN  \n",
       "140        NaN     bsd  \n",
       "141        NaN     bsd  \n",
       "142        NaN     NaN  \n",
       "143        NaN     NaN  \n",
       "144        NaN     NaN  \n",
       "145        NaN     NaN  \n",
       "146        NaN     bsd  \n",
       "147        NaN     bsd  \n",
       "148        NaN     NaN  \n",
       "149        NaN     NaN  \n",
       "150        NaN     NaN  "
      ]
     },
     "execution_count": 229,
     "metadata": {},
     "output_type": "execute_result"
    }
   ],
   "source": [
    "raw1_sorted_time.loc[100:150]"
   ]
  },
  {
   "cell_type": "code",
   "execution_count": 247,
   "metadata": {
    "collapsed": true
   },
   "outputs": [
    {
     "data": {
      "text/html": [
       "<div>\n",
       "<style scoped>\n",
       "    .dataframe tbody tr th:only-of-type {\n",
       "        vertical-align: middle;\n",
       "    }\n",
       "\n",
       "    .dataframe tbody tr th {\n",
       "        vertical-align: top;\n",
       "    }\n",
       "\n",
       "    .dataframe thead th {\n",
       "        text-align: right;\n",
       "    }\n",
       "</style>\n",
       "<table border=\"1\" class=\"dataframe\">\n",
       "  <thead>\n",
       "    <tr style=\"text-align: right;\">\n",
       "      <th></th>\n",
       "      <th>clnt_id</th>\n",
       "      <th>sess_id</th>\n",
       "      <th>hit_seq</th>\n",
       "      <th>action_type</th>\n",
       "      <th>biz_unit</th>\n",
       "      <th>sess_dt</th>\n",
       "      <th>hit_tm</th>\n",
       "      <th>hit_pss_tm</th>\n",
       "      <th>trans_id</th>\n",
       "      <th>sech_kwd</th>\n",
       "      <th>tot_pag_view_ct</th>\n",
       "      <th>tot_sess_hr_v</th>\n",
       "      <th>trfc_src</th>\n",
       "      <th>dvc_ctg_nm</th>\n",
       "      <th>act_kwd</th>\n",
       "    </tr>\n",
       "  </thead>\n",
       "  <tbody>\n",
       "    <tr>\n",
       "      <th>100</th>\n",
       "      <td>2</td>\n",
       "      <td>8</td>\n",
       "      <td>23</td>\n",
       "      <td>0</td>\n",
       "      <td>A03</td>\n",
       "      <td>20190731</td>\n",
       "      <td>20:38</td>\n",
       "      <td>437380</td>\n",
       "      <td>NaN</td>\n",
       "      <td>팥</td>\n",
       "      <td>85.0</td>\n",
       "      <td>3256.0</td>\n",
       "      <td>DIRECT</td>\n",
       "      <td>NaN</td>\n",
       "      <td>팥</td>\n",
       "    </tr>\n",
       "    <tr>\n",
       "      <th>101</th>\n",
       "      <td>2</td>\n",
       "      <td>8</td>\n",
       "      <td>24</td>\n",
       "      <td>0</td>\n",
       "      <td>A03</td>\n",
       "      <td>20190731</td>\n",
       "      <td>20:38</td>\n",
       "      <td>444324</td>\n",
       "      <td>NaN</td>\n",
       "      <td>팥빙수팥</td>\n",
       "      <td>85.0</td>\n",
       "      <td>3256.0</td>\n",
       "      <td>DIRECT</td>\n",
       "      <td>NaN</td>\n",
       "      <td>팥빙수팥</td>\n",
       "    </tr>\n",
       "    <tr>\n",
       "      <th>102</th>\n",
       "      <td>2</td>\n",
       "      <td>8</td>\n",
       "      <td>25</td>\n",
       "      <td>1</td>\n",
       "      <td>A03</td>\n",
       "      <td>20190731</td>\n",
       "      <td>20:39</td>\n",
       "      <td>447238</td>\n",
       "      <td>NaN</td>\n",
       "      <td>NaN</td>\n",
       "      <td>85.0</td>\n",
       "      <td>3256.0</td>\n",
       "      <td>DIRECT</td>\n",
       "      <td>NaN</td>\n",
       "      <td>팥빙수팥</td>\n",
       "    </tr>\n",
       "    <tr>\n",
       "      <th>103</th>\n",
       "      <td>2</td>\n",
       "      <td>8</td>\n",
       "      <td>26</td>\n",
       "      <td>2</td>\n",
       "      <td>A03</td>\n",
       "      <td>20190731</td>\n",
       "      <td>20:39</td>\n",
       "      <td>449080</td>\n",
       "      <td>NaN</td>\n",
       "      <td>NaN</td>\n",
       "      <td>85.0</td>\n",
       "      <td>3256.0</td>\n",
       "      <td>DIRECT</td>\n",
       "      <td>NaN</td>\n",
       "      <td>팥빙수팥</td>\n",
       "    </tr>\n",
       "    <tr>\n",
       "      <th>104</th>\n",
       "      <td>2</td>\n",
       "      <td>8</td>\n",
       "      <td>27</td>\n",
       "      <td>3</td>\n",
       "      <td>A03</td>\n",
       "      <td>20190731</td>\n",
       "      <td>20:41</td>\n",
       "      <td>608281</td>\n",
       "      <td>NaN</td>\n",
       "      <td>NaN</td>\n",
       "      <td>85.0</td>\n",
       "      <td>3256.0</td>\n",
       "      <td>DIRECT</td>\n",
       "      <td>NaN</td>\n",
       "      <td>NaN</td>\n",
       "    </tr>\n",
       "    <tr>\n",
       "      <th>105</th>\n",
       "      <td>2</td>\n",
       "      <td>8</td>\n",
       "      <td>28</td>\n",
       "      <td>5</td>\n",
       "      <td>A03</td>\n",
       "      <td>20190731</td>\n",
       "      <td>20:41</td>\n",
       "      <td>610918</td>\n",
       "      <td>NaN</td>\n",
       "      <td>NaN</td>\n",
       "      <td>85.0</td>\n",
       "      <td>3256.0</td>\n",
       "      <td>DIRECT</td>\n",
       "      <td>NaN</td>\n",
       "      <td>NaN</td>\n",
       "    </tr>\n",
       "    <tr>\n",
       "      <th>106</th>\n",
       "      <td>2</td>\n",
       "      <td>8</td>\n",
       "      <td>29</td>\n",
       "      <td>5</td>\n",
       "      <td>A03</td>\n",
       "      <td>20190731</td>\n",
       "      <td>20:41</td>\n",
       "      <td>616663</td>\n",
       "      <td>NaN</td>\n",
       "      <td>NaN</td>\n",
       "      <td>85.0</td>\n",
       "      <td>3256.0</td>\n",
       "      <td>DIRECT</td>\n",
       "      <td>NaN</td>\n",
       "      <td>NaN</td>\n",
       "    </tr>\n",
       "    <tr>\n",
       "      <th>107</th>\n",
       "      <td>2</td>\n",
       "      <td>8</td>\n",
       "      <td>30</td>\n",
       "      <td>1</td>\n",
       "      <td>A03</td>\n",
       "      <td>20190731</td>\n",
       "      <td>20:42</td>\n",
       "      <td>673120</td>\n",
       "      <td>NaN</td>\n",
       "      <td>NaN</td>\n",
       "      <td>85.0</td>\n",
       "      <td>3256.0</td>\n",
       "      <td>DIRECT</td>\n",
       "      <td>NaN</td>\n",
       "      <td>NaN</td>\n",
       "    </tr>\n",
       "  </tbody>\n",
       "</table>\n",
       "</div>"
      ],
      "text/plain": [
       "     clnt_id  sess_id  hit_seq  action_type biz_unit   sess_dt hit_tm  \\\n",
       "100        2        8       23            0      A03  20190731  20:38   \n",
       "101        2        8       24            0      A03  20190731  20:38   \n",
       "102        2        8       25            1      A03  20190731  20:39   \n",
       "103        2        8       26            2      A03  20190731  20:39   \n",
       "104        2        8       27            3      A03  20190731  20:41   \n",
       "105        2        8       28            5      A03  20190731  20:41   \n",
       "106        2        8       29            5      A03  20190731  20:41   \n",
       "107        2        8       30            1      A03  20190731  20:42   \n",
       "\n",
       "     hit_pss_tm  trans_id sech_kwd  tot_pag_view_ct  tot_sess_hr_v trfc_src  \\\n",
       "100      437380       NaN        팥             85.0         3256.0   DIRECT   \n",
       "101      444324       NaN     팥빙수팥             85.0         3256.0   DIRECT   \n",
       "102      447238       NaN      NaN             85.0         3256.0   DIRECT   \n",
       "103      449080       NaN      NaN             85.0         3256.0   DIRECT   \n",
       "104      608281       NaN      NaN             85.0         3256.0   DIRECT   \n",
       "105      610918       NaN      NaN             85.0         3256.0   DIRECT   \n",
       "106      616663       NaN      NaN             85.0         3256.0   DIRECT   \n",
       "107      673120       NaN      NaN             85.0         3256.0   DIRECT   \n",
       "\n",
       "    dvc_ctg_nm act_kwd  \n",
       "100        NaN       팥  \n",
       "101        NaN    팥빙수팥  \n",
       "102        NaN    팥빙수팥  \n",
       "103        NaN    팥빙수팥  \n",
       "104        NaN     NaN  \n",
       "105        NaN     NaN  \n",
       "106        NaN     NaN  \n",
       "107        NaN     NaN  "
      ]
     },
     "execution_count": 247,
     "metadata": {},
     "output_type": "execute_result"
    }
   ],
   "source": [
    "raw1_sorted_time.loc[100:107]"
   ]
  },
  {
   "cell_type": "code",
   "execution_count": 249,
   "metadata": {
    "collapsed": true
   },
   "outputs": [
    {
     "data": {
      "text/plain": [
       "'팥빙수팥'"
      ]
     },
     "execution_count": 249,
     "metadata": {},
     "output_type": "execute_result"
    }
   ],
   "source": [
    "raw1_sorted_time.iloc[101]['sech_kwd']"
   ]
  },
  {
   "cell_type": "code",
   "execution_count": 246,
   "metadata": {},
   "outputs": [
    {
     "data": {
      "text/plain": [
       "'1.1.4'"
      ]
     },
     "execution_count": 246,
     "metadata": {},
     "output_type": "execute_result"
    }
   ],
   "source": [
    "pd.__version__"
   ]
  },
  {
   "cell_type": "code",
   "execution_count": 13,
   "metadata": {},
   "outputs": [],
   "source": [
    "from tqdm import tqdm"
   ]
  },
  {
   "cell_type": "code",
   "execution_count": 17,
   "metadata": {},
   "outputs": [
    {
     "name": "stderr",
     "output_type": "stream",
     "text": [
      "  0%|          | 0/3196362 [00:00<?, ?it/s]<ipython-input-17-b6377f1d3dba>:15: SettingWithCopyWarning: \n",
      "A value is trying to be set on a copy of a slice from a DataFrame\n",
      "\n",
      "See the caveats in the documentation: https://pandas.pydata.org/pandas-docs/stable/user_guide/indexing.html#returning-a-view-versus-a-copy\n",
      "  raw1_sorted_time['act_kwd2'][s] = raw1_sorted_time['act_kwd2'][s-1]\n",
      "100%|██████████| 3196362/3196362 [8:12:38<00:00, 108.14it/s]  \n"
     ]
    }
   ],
   "source": [
    "# 데이터 변경\n",
    "raw1_sorted_time['act_kwd2'] = raw1_sorted_time['act_kwd']\n",
    "\n",
    "for s in tqdm(range(len(raw1_sorted_time['act_kwd']))):\n",
    "    \n",
    "    # data row에 '검색 키워드'가 NaN이면\n",
    "    if type(raw1_sorted_time['act_kwd'].loc[s]) == str:\n",
    "        # 아무것도 안함\n",
    "        pass\n",
    "        \n",
    "    elif (raw1_sorted_time['clnt_id'].loc[s] == raw1_sorted_time['clnt_id'].loc[s-1]                    # 고객 ID가 이전 데이터와 같고\n",
    "          and raw1_sorted_time['sess_id'].loc[s] == raw1_sorted_time['sess_id'].loc[s-1]                # 세션 ID가 이전 데이터와 같고\n",
    "          and raw1_sorted_time['biz_unit'].loc[s] == raw1_sorted_time['biz_unit'].loc[s-1]              # 접속 매체가 이전 데이터와 같고\n",
    "          and raw1_sorted_time['hit_pss_tm'].loc[s]-raw1_sorted_time['hit_pss_tm'].loc[s-1] <= 1800000): # 시간 간격이 30분 이내 면\n",
    "        raw1_sorted_time['act_kwd2'][s] = raw1_sorted_time['act_kwd2'][s-1]\n",
    "        "
   ]
  },
  {
   "cell_type": "code",
   "execution_count": null,
   "metadata": {},
   "outputs": [],
   "source": [
    "# 데이터 변경\n",
    "raw1_sorted_time['act_kwd2'] = raw1_sorted_time['act_kwd']\n",
    "\n",
    "for s in tqdm(range(len(raw1_sorted_time['act_kwd']))):\n",
    "    \n",
    "    # data row에 '검색 키워드'가 NaN이면\n",
    "    if type(raw1_sorted_time['act_kwd'].loc[s]) == str:\n",
    "        # 아무것도 안함\n",
    "        pass\n",
    "        \n",
    "    elif (raw1_sorted_time['clnt_id'].loc[s] == raw1_sorted_time['clnt_id'].loc[s-1]                    # 고객 ID가 이전 데이터와 같고\n",
    "          and raw1_sorted_time['sess_id'].loc[s] == raw1_sorted_time['sess_id'].loc[s-1]                # 세션 ID가 이전 데이터와 같고\n",
    "          and raw1_sorted_time['biz_unit'].loc[s] == raw1_sorted_time['biz_unit'].loc[s-1]              # 접속 매체가 이전 데이터와 같고\n",
    "          and raw1_sorted_time['hit_pss_tm'].loc[s]-raw1_sorted_time['hit_pss_tm'].loc[s-1] <= 1800000): # 시간 간격이 30분 이내 면\n",
    "        raw1_sorted_time['act_kwd2'][s] = raw1_sorted_time['act_kwd2'][s-1]\n",
    "        "
   ]
  },
  {
   "cell_type": "code",
   "execution_count": 15,
   "metadata": {},
   "outputs": [
    {
     "name": "stderr",
     "output_type": "stream",
     "text": [
      "  0%|          | 0/1000 [00:00<?, ?it/s]<ipython-input-15-7d5fc53ec5a2>:15: SettingWithCopyWarning: \n",
      "A value is trying to be set on a copy of a slice from a DataFrame\n",
      "\n",
      "See the caveats in the documentation: https://pandas.pydata.org/pandas-docs/stable/user_guide/indexing.html#returning-a-view-versus-a-copy\n",
      "  raw1_sorted_time['act_kwd2'][s] = raw1_sorted_time['act_kwd2'][s-1]\n",
      "100%|██████████| 1000/1000 [00:09<00:00, 108.41it/s]\n"
     ]
    }
   ],
   "source": [
    "# # 데이터 변경 - 시간 관계상 데이터 1000개만 미리 확인하는 코드 확인\n",
    "# raw1_sorted_time['act_kwd2'] = raw1_sorted_time['act_kwd']\n",
    "\n",
    "# for s in tqdm(range(1000)):\n",
    "    \n",
    "#     # data row에 '검색 키워드'가 NaN이면\n",
    "#     if type(raw1_sorted_time['act_kwd'].loc[s]) == str:\n",
    "#         # 아무것도 안함\n",
    "#         pass\n",
    "        \n",
    "#     elif (raw1_sorted_time['clnt_id'].loc[s] == raw1_sorted_time['clnt_id'].loc[s-1]                    # 고객 ID가 이전 데이터와 같고\n",
    "#           and raw1_sorted_time['sess_id'].loc[s] == raw1_sorted_time['sess_id'].loc[s-1]                # 세션 ID가 이전 데이터와 같고\n",
    "#           and raw1_sorted_time['biz_unit'].loc[s] == raw1_sorted_time['biz_unit'].loc[s-1]              # 접속 매체가 이전 데이터와 같고\n",
    "#           and raw1_sorted_time['hit_pss_tm'].loc[s]-raw1_sorted_time['hit_pss_tm'].loc[s-1] <= 1800000): # 시간 간격이 1800초 이내면\n",
    "#         raw1_sorted_time['act_kwd2'][s] = raw1_sorted_time['act_kwd2'][s-1]\n",
    "        "
   ]
  },
  {
   "cell_type": "code",
   "execution_count": 18,
   "metadata": {},
   "outputs": [
    {
     "data": {
      "text/html": [
       "<div>\n",
       "<style scoped>\n",
       "    .dataframe tbody tr th:only-of-type {\n",
       "        vertical-align: middle;\n",
       "    }\n",
       "\n",
       "    .dataframe tbody tr th {\n",
       "        vertical-align: top;\n",
       "    }\n",
       "\n",
       "    .dataframe thead th {\n",
       "        text-align: right;\n",
       "    }\n",
       "</style>\n",
       "<table border=\"1\" class=\"dataframe\">\n",
       "  <thead>\n",
       "    <tr style=\"text-align: right;\">\n",
       "      <th></th>\n",
       "      <th>clnt_id</th>\n",
       "      <th>sess_id</th>\n",
       "      <th>hit_seq</th>\n",
       "      <th>action_type</th>\n",
       "      <th>biz_unit</th>\n",
       "      <th>sess_dt</th>\n",
       "      <th>hit_tm</th>\n",
       "      <th>hit_pss_tm</th>\n",
       "      <th>trans_id</th>\n",
       "      <th>sech_kwd</th>\n",
       "      <th>tot_pag_view_ct</th>\n",
       "      <th>tot_sess_hr_v</th>\n",
       "      <th>trfc_src</th>\n",
       "      <th>dvc_ctg_nm</th>\n",
       "      <th>act_kwd</th>\n",
       "      <th>act_kwd2</th>\n",
       "    </tr>\n",
       "  </thead>\n",
       "  <tbody>\n",
       "    <tr>\n",
       "      <th>100</th>\n",
       "      <td>2</td>\n",
       "      <td>8</td>\n",
       "      <td>23</td>\n",
       "      <td>0</td>\n",
       "      <td>A03</td>\n",
       "      <td>20190731</td>\n",
       "      <td>20:38</td>\n",
       "      <td>437380</td>\n",
       "      <td>NaN</td>\n",
       "      <td>팥</td>\n",
       "      <td>85.0</td>\n",
       "      <td>3256.0</td>\n",
       "      <td>DIRECT</td>\n",
       "      <td>NaN</td>\n",
       "      <td>팥</td>\n",
       "      <td>팥</td>\n",
       "    </tr>\n",
       "    <tr>\n",
       "      <th>101</th>\n",
       "      <td>2</td>\n",
       "      <td>8</td>\n",
       "      <td>24</td>\n",
       "      <td>0</td>\n",
       "      <td>A03</td>\n",
       "      <td>20190731</td>\n",
       "      <td>20:38</td>\n",
       "      <td>444324</td>\n",
       "      <td>NaN</td>\n",
       "      <td>팥빙수팥</td>\n",
       "      <td>85.0</td>\n",
       "      <td>3256.0</td>\n",
       "      <td>DIRECT</td>\n",
       "      <td>NaN</td>\n",
       "      <td>팥빙수팥</td>\n",
       "      <td>팥빙수팥</td>\n",
       "    </tr>\n",
       "    <tr>\n",
       "      <th>102</th>\n",
       "      <td>2</td>\n",
       "      <td>8</td>\n",
       "      <td>25</td>\n",
       "      <td>1</td>\n",
       "      <td>A03</td>\n",
       "      <td>20190731</td>\n",
       "      <td>20:39</td>\n",
       "      <td>447238</td>\n",
       "      <td>NaN</td>\n",
       "      <td>NaN</td>\n",
       "      <td>85.0</td>\n",
       "      <td>3256.0</td>\n",
       "      <td>DIRECT</td>\n",
       "      <td>NaN</td>\n",
       "      <td>NaN</td>\n",
       "      <td>팥빙수팥</td>\n",
       "    </tr>\n",
       "    <tr>\n",
       "      <th>103</th>\n",
       "      <td>2</td>\n",
       "      <td>8</td>\n",
       "      <td>26</td>\n",
       "      <td>2</td>\n",
       "      <td>A03</td>\n",
       "      <td>20190731</td>\n",
       "      <td>20:39</td>\n",
       "      <td>449080</td>\n",
       "      <td>NaN</td>\n",
       "      <td>NaN</td>\n",
       "      <td>85.0</td>\n",
       "      <td>3256.0</td>\n",
       "      <td>DIRECT</td>\n",
       "      <td>NaN</td>\n",
       "      <td>NaN</td>\n",
       "      <td>팥빙수팥</td>\n",
       "    </tr>\n",
       "    <tr>\n",
       "      <th>104</th>\n",
       "      <td>2</td>\n",
       "      <td>8</td>\n",
       "      <td>27</td>\n",
       "      <td>3</td>\n",
       "      <td>A03</td>\n",
       "      <td>20190731</td>\n",
       "      <td>20:41</td>\n",
       "      <td>608281</td>\n",
       "      <td>NaN</td>\n",
       "      <td>NaN</td>\n",
       "      <td>85.0</td>\n",
       "      <td>3256.0</td>\n",
       "      <td>DIRECT</td>\n",
       "      <td>NaN</td>\n",
       "      <td>NaN</td>\n",
       "      <td>팥빙수팥</td>\n",
       "    </tr>\n",
       "    <tr>\n",
       "      <th>105</th>\n",
       "      <td>2</td>\n",
       "      <td>8</td>\n",
       "      <td>28</td>\n",
       "      <td>5</td>\n",
       "      <td>A03</td>\n",
       "      <td>20190731</td>\n",
       "      <td>20:41</td>\n",
       "      <td>610918</td>\n",
       "      <td>NaN</td>\n",
       "      <td>NaN</td>\n",
       "      <td>85.0</td>\n",
       "      <td>3256.0</td>\n",
       "      <td>DIRECT</td>\n",
       "      <td>NaN</td>\n",
       "      <td>NaN</td>\n",
       "      <td>팥빙수팥</td>\n",
       "    </tr>\n",
       "    <tr>\n",
       "      <th>106</th>\n",
       "      <td>2</td>\n",
       "      <td>8</td>\n",
       "      <td>29</td>\n",
       "      <td>5</td>\n",
       "      <td>A03</td>\n",
       "      <td>20190731</td>\n",
       "      <td>20:41</td>\n",
       "      <td>616663</td>\n",
       "      <td>NaN</td>\n",
       "      <td>NaN</td>\n",
       "      <td>85.0</td>\n",
       "      <td>3256.0</td>\n",
       "      <td>DIRECT</td>\n",
       "      <td>NaN</td>\n",
       "      <td>NaN</td>\n",
       "      <td>팥빙수팥</td>\n",
       "    </tr>\n",
       "    <tr>\n",
       "      <th>107</th>\n",
       "      <td>2</td>\n",
       "      <td>8</td>\n",
       "      <td>30</td>\n",
       "      <td>1</td>\n",
       "      <td>A03</td>\n",
       "      <td>20190731</td>\n",
       "      <td>20:42</td>\n",
       "      <td>673120</td>\n",
       "      <td>NaN</td>\n",
       "      <td>NaN</td>\n",
       "      <td>85.0</td>\n",
       "      <td>3256.0</td>\n",
       "      <td>DIRECT</td>\n",
       "      <td>NaN</td>\n",
       "      <td>NaN</td>\n",
       "      <td>팥빙수팥</td>\n",
       "    </tr>\n",
       "    <tr>\n",
       "      <th>108</th>\n",
       "      <td>2</td>\n",
       "      <td>8</td>\n",
       "      <td>31</td>\n",
       "      <td>2</td>\n",
       "      <td>A03</td>\n",
       "      <td>20190731</td>\n",
       "      <td>20:42</td>\n",
       "      <td>674451</td>\n",
       "      <td>NaN</td>\n",
       "      <td>NaN</td>\n",
       "      <td>85.0</td>\n",
       "      <td>3256.0</td>\n",
       "      <td>DIRECT</td>\n",
       "      <td>NaN</td>\n",
       "      <td>NaN</td>\n",
       "      <td>팥빙수팥</td>\n",
       "    </tr>\n",
       "    <tr>\n",
       "      <th>109</th>\n",
       "      <td>2</td>\n",
       "      <td>8</td>\n",
       "      <td>32</td>\n",
       "      <td>3</td>\n",
       "      <td>A03</td>\n",
       "      <td>20190731</td>\n",
       "      <td>20:44</td>\n",
       "      <td>806007</td>\n",
       "      <td>NaN</td>\n",
       "      <td>NaN</td>\n",
       "      <td>85.0</td>\n",
       "      <td>3256.0</td>\n",
       "      <td>DIRECT</td>\n",
       "      <td>NaN</td>\n",
       "      <td>NaN</td>\n",
       "      <td>팥빙수팥</td>\n",
       "    </tr>\n",
       "    <tr>\n",
       "      <th>110</th>\n",
       "      <td>2</td>\n",
       "      <td>8</td>\n",
       "      <td>33</td>\n",
       "      <td>3</td>\n",
       "      <td>A03</td>\n",
       "      <td>20190731</td>\n",
       "      <td>20:45</td>\n",
       "      <td>806713</td>\n",
       "      <td>NaN</td>\n",
       "      <td>NaN</td>\n",
       "      <td>85.0</td>\n",
       "      <td>3256.0</td>\n",
       "      <td>DIRECT</td>\n",
       "      <td>NaN</td>\n",
       "      <td>NaN</td>\n",
       "      <td>팥빙수팥</td>\n",
       "    </tr>\n",
       "    <tr>\n",
       "      <th>111</th>\n",
       "      <td>2</td>\n",
       "      <td>8</td>\n",
       "      <td>34</td>\n",
       "      <td>0</td>\n",
       "      <td>A03</td>\n",
       "      <td>20190731</td>\n",
       "      <td>20:51</td>\n",
       "      <td>1196626</td>\n",
       "      <td>NaN</td>\n",
       "      <td>크래미</td>\n",
       "      <td>85.0</td>\n",
       "      <td>3256.0</td>\n",
       "      <td>DIRECT</td>\n",
       "      <td>NaN</td>\n",
       "      <td>크래미</td>\n",
       "      <td>크래미</td>\n",
       "    </tr>\n",
       "    <tr>\n",
       "      <th>112</th>\n",
       "      <td>2</td>\n",
       "      <td>8</td>\n",
       "      <td>35</td>\n",
       "      <td>3</td>\n",
       "      <td>A03</td>\n",
       "      <td>20190731</td>\n",
       "      <td>20:51</td>\n",
       "      <td>1199128</td>\n",
       "      <td>NaN</td>\n",
       "      <td>NaN</td>\n",
       "      <td>85.0</td>\n",
       "      <td>3256.0</td>\n",
       "      <td>DIRECT</td>\n",
       "      <td>NaN</td>\n",
       "      <td>NaN</td>\n",
       "      <td>크래미</td>\n",
       "    </tr>\n",
       "    <tr>\n",
       "      <th>113</th>\n",
       "      <td>2</td>\n",
       "      <td>8</td>\n",
       "      <td>36</td>\n",
       "      <td>0</td>\n",
       "      <td>A03</td>\n",
       "      <td>20190731</td>\n",
       "      <td>20:51</td>\n",
       "      <td>1203973</td>\n",
       "      <td>NaN</td>\n",
       "      <td>크래미맛살</td>\n",
       "      <td>85.0</td>\n",
       "      <td>3256.0</td>\n",
       "      <td>DIRECT</td>\n",
       "      <td>NaN</td>\n",
       "      <td>크래미맛살</td>\n",
       "      <td>크래미맛살</td>\n",
       "    </tr>\n",
       "    <tr>\n",
       "      <th>114</th>\n",
       "      <td>2</td>\n",
       "      <td>8</td>\n",
       "      <td>37</td>\n",
       "      <td>1</td>\n",
       "      <td>A03</td>\n",
       "      <td>20190731</td>\n",
       "      <td>20:51</td>\n",
       "      <td>1205301</td>\n",
       "      <td>NaN</td>\n",
       "      <td>NaN</td>\n",
       "      <td>85.0</td>\n",
       "      <td>3256.0</td>\n",
       "      <td>DIRECT</td>\n",
       "      <td>NaN</td>\n",
       "      <td>NaN</td>\n",
       "      <td>크래미맛살</td>\n",
       "    </tr>\n",
       "    <tr>\n",
       "      <th>115</th>\n",
       "      <td>2</td>\n",
       "      <td>8</td>\n",
       "      <td>38</td>\n",
       "      <td>2</td>\n",
       "      <td>A03</td>\n",
       "      <td>20190731</td>\n",
       "      <td>20:51</td>\n",
       "      <td>1206404</td>\n",
       "      <td>NaN</td>\n",
       "      <td>NaN</td>\n",
       "      <td>85.0</td>\n",
       "      <td>3256.0</td>\n",
       "      <td>DIRECT</td>\n",
       "      <td>NaN</td>\n",
       "      <td>NaN</td>\n",
       "      <td>크래미맛살</td>\n",
       "    </tr>\n",
       "    <tr>\n",
       "      <th>116</th>\n",
       "      <td>2</td>\n",
       "      <td>8</td>\n",
       "      <td>39</td>\n",
       "      <td>0</td>\n",
       "      <td>A03</td>\n",
       "      <td>20190731</td>\n",
       "      <td>20:52</td>\n",
       "      <td>1229325</td>\n",
       "      <td>NaN</td>\n",
       "      <td>다진소고기</td>\n",
       "      <td>85.0</td>\n",
       "      <td>3256.0</td>\n",
       "      <td>DIRECT</td>\n",
       "      <td>NaN</td>\n",
       "      <td>다진소고기</td>\n",
       "      <td>다진소고기</td>\n",
       "    </tr>\n",
       "    <tr>\n",
       "      <th>117</th>\n",
       "      <td>2</td>\n",
       "      <td>8</td>\n",
       "      <td>40</td>\n",
       "      <td>1</td>\n",
       "      <td>A03</td>\n",
       "      <td>20190731</td>\n",
       "      <td>20:52</td>\n",
       "      <td>1248408</td>\n",
       "      <td>NaN</td>\n",
       "      <td>NaN</td>\n",
       "      <td>85.0</td>\n",
       "      <td>3256.0</td>\n",
       "      <td>DIRECT</td>\n",
       "      <td>NaN</td>\n",
       "      <td>NaN</td>\n",
       "      <td>다진소고기</td>\n",
       "    </tr>\n",
       "    <tr>\n",
       "      <th>118</th>\n",
       "      <td>2</td>\n",
       "      <td>8</td>\n",
       "      <td>41</td>\n",
       "      <td>2</td>\n",
       "      <td>A03</td>\n",
       "      <td>20190731</td>\n",
       "      <td>20:52</td>\n",
       "      <td>1251161</td>\n",
       "      <td>NaN</td>\n",
       "      <td>NaN</td>\n",
       "      <td>85.0</td>\n",
       "      <td>3256.0</td>\n",
       "      <td>DIRECT</td>\n",
       "      <td>NaN</td>\n",
       "      <td>NaN</td>\n",
       "      <td>다진소고기</td>\n",
       "    </tr>\n",
       "    <tr>\n",
       "      <th>119</th>\n",
       "      <td>2</td>\n",
       "      <td>8</td>\n",
       "      <td>42</td>\n",
       "      <td>2</td>\n",
       "      <td>A03</td>\n",
       "      <td>20190731</td>\n",
       "      <td>20:53</td>\n",
       "      <td>1299786</td>\n",
       "      <td>NaN</td>\n",
       "      <td>NaN</td>\n",
       "      <td>85.0</td>\n",
       "      <td>3256.0</td>\n",
       "      <td>DIRECT</td>\n",
       "      <td>NaN</td>\n",
       "      <td>NaN</td>\n",
       "      <td>다진소고기</td>\n",
       "    </tr>\n",
       "    <tr>\n",
       "      <th>120</th>\n",
       "      <td>2</td>\n",
       "      <td>8</td>\n",
       "      <td>43</td>\n",
       "      <td>2</td>\n",
       "      <td>A03</td>\n",
       "      <td>20190731</td>\n",
       "      <td>20:53</td>\n",
       "      <td>1302930</td>\n",
       "      <td>NaN</td>\n",
       "      <td>NaN</td>\n",
       "      <td>85.0</td>\n",
       "      <td>3256.0</td>\n",
       "      <td>DIRECT</td>\n",
       "      <td>NaN</td>\n",
       "      <td>NaN</td>\n",
       "      <td>다진소고기</td>\n",
       "    </tr>\n",
       "    <tr>\n",
       "      <th>121</th>\n",
       "      <td>2</td>\n",
       "      <td>8</td>\n",
       "      <td>44</td>\n",
       "      <td>3</td>\n",
       "      <td>A03</td>\n",
       "      <td>20190731</td>\n",
       "      <td>20:53</td>\n",
       "      <td>1308480</td>\n",
       "      <td>NaN</td>\n",
       "      <td>NaN</td>\n",
       "      <td>85.0</td>\n",
       "      <td>3256.0</td>\n",
       "      <td>DIRECT</td>\n",
       "      <td>NaN</td>\n",
       "      <td>NaN</td>\n",
       "      <td>다진소고기</td>\n",
       "    </tr>\n",
       "    <tr>\n",
       "      <th>122</th>\n",
       "      <td>2</td>\n",
       "      <td>8</td>\n",
       "      <td>45</td>\n",
       "      <td>5</td>\n",
       "      <td>A03</td>\n",
       "      <td>20190731</td>\n",
       "      <td>20:53</td>\n",
       "      <td>1311669</td>\n",
       "      <td>NaN</td>\n",
       "      <td>NaN</td>\n",
       "      <td>85.0</td>\n",
       "      <td>3256.0</td>\n",
       "      <td>DIRECT</td>\n",
       "      <td>NaN</td>\n",
       "      <td>NaN</td>\n",
       "      <td>다진소고기</td>\n",
       "    </tr>\n",
       "    <tr>\n",
       "      <th>123</th>\n",
       "      <td>2</td>\n",
       "      <td>8</td>\n",
       "      <td>46</td>\n",
       "      <td>5</td>\n",
       "      <td>A03</td>\n",
       "      <td>20190731</td>\n",
       "      <td>20:53</td>\n",
       "      <td>1328161</td>\n",
       "      <td>NaN</td>\n",
       "      <td>NaN</td>\n",
       "      <td>85.0</td>\n",
       "      <td>3256.0</td>\n",
       "      <td>DIRECT</td>\n",
       "      <td>NaN</td>\n",
       "      <td>NaN</td>\n",
       "      <td>다진소고기</td>\n",
       "    </tr>\n",
       "    <tr>\n",
       "      <th>124</th>\n",
       "      <td>2</td>\n",
       "      <td>8</td>\n",
       "      <td>47</td>\n",
       "      <td>5</td>\n",
       "      <td>A03</td>\n",
       "      <td>20190731</td>\n",
       "      <td>20:55</td>\n",
       "      <td>1412000</td>\n",
       "      <td>NaN</td>\n",
       "      <td>NaN</td>\n",
       "      <td>85.0</td>\n",
       "      <td>3256.0</td>\n",
       "      <td>DIRECT</td>\n",
       "      <td>NaN</td>\n",
       "      <td>NaN</td>\n",
       "      <td>다진소고기</td>\n",
       "    </tr>\n",
       "    <tr>\n",
       "      <th>125</th>\n",
       "      <td>2</td>\n",
       "      <td>8</td>\n",
       "      <td>48</td>\n",
       "      <td>5</td>\n",
       "      <td>A03</td>\n",
       "      <td>20190731</td>\n",
       "      <td>20:55</td>\n",
       "      <td>1423713</td>\n",
       "      <td>NaN</td>\n",
       "      <td>NaN</td>\n",
       "      <td>85.0</td>\n",
       "      <td>3256.0</td>\n",
       "      <td>DIRECT</td>\n",
       "      <td>NaN</td>\n",
       "      <td>NaN</td>\n",
       "      <td>다진소고기</td>\n",
       "    </tr>\n",
       "    <tr>\n",
       "      <th>126</th>\n",
       "      <td>2</td>\n",
       "      <td>8</td>\n",
       "      <td>49</td>\n",
       "      <td>5</td>\n",
       "      <td>A03</td>\n",
       "      <td>20190731</td>\n",
       "      <td>20:55</td>\n",
       "      <td>1430650</td>\n",
       "      <td>NaN</td>\n",
       "      <td>NaN</td>\n",
       "      <td>85.0</td>\n",
       "      <td>3256.0</td>\n",
       "      <td>DIRECT</td>\n",
       "      <td>NaN</td>\n",
       "      <td>NaN</td>\n",
       "      <td>다진소고기</td>\n",
       "    </tr>\n",
       "    <tr>\n",
       "      <th>127</th>\n",
       "      <td>2</td>\n",
       "      <td>8</td>\n",
       "      <td>50</td>\n",
       "      <td>5</td>\n",
       "      <td>A03</td>\n",
       "      <td>20190731</td>\n",
       "      <td>20:55</td>\n",
       "      <td>1434548</td>\n",
       "      <td>NaN</td>\n",
       "      <td>NaN</td>\n",
       "      <td>85.0</td>\n",
       "      <td>3256.0</td>\n",
       "      <td>DIRECT</td>\n",
       "      <td>NaN</td>\n",
       "      <td>NaN</td>\n",
       "      <td>다진소고기</td>\n",
       "    </tr>\n",
       "    <tr>\n",
       "      <th>128</th>\n",
       "      <td>2</td>\n",
       "      <td>8</td>\n",
       "      <td>51</td>\n",
       "      <td>5</td>\n",
       "      <td>A03</td>\n",
       "      <td>20190731</td>\n",
       "      <td>20:55</td>\n",
       "      <td>1442675</td>\n",
       "      <td>NaN</td>\n",
       "      <td>NaN</td>\n",
       "      <td>85.0</td>\n",
       "      <td>3256.0</td>\n",
       "      <td>DIRECT</td>\n",
       "      <td>NaN</td>\n",
       "      <td>NaN</td>\n",
       "      <td>다진소고기</td>\n",
       "    </tr>\n",
       "    <tr>\n",
       "      <th>129</th>\n",
       "      <td>2</td>\n",
       "      <td>8</td>\n",
       "      <td>52</td>\n",
       "      <td>4</td>\n",
       "      <td>A03</td>\n",
       "      <td>20190731</td>\n",
       "      <td>21:09</td>\n",
       "      <td>2249089</td>\n",
       "      <td>NaN</td>\n",
       "      <td>NaN</td>\n",
       "      <td>85.0</td>\n",
       "      <td>3256.0</td>\n",
       "      <td>DIRECT</td>\n",
       "      <td>NaN</td>\n",
       "      <td>NaN</td>\n",
       "      <td>다진소고기</td>\n",
       "    </tr>\n",
       "    <tr>\n",
       "      <th>130</th>\n",
       "      <td>2</td>\n",
       "      <td>8</td>\n",
       "      <td>53</td>\n",
       "      <td>5</td>\n",
       "      <td>A03</td>\n",
       "      <td>20190731</td>\n",
       "      <td>21:09</td>\n",
       "      <td>2250607</td>\n",
       "      <td>NaN</td>\n",
       "      <td>NaN</td>\n",
       "      <td>85.0</td>\n",
       "      <td>3256.0</td>\n",
       "      <td>DIRECT</td>\n",
       "      <td>NaN</td>\n",
       "      <td>NaN</td>\n",
       "      <td>다진소고기</td>\n",
       "    </tr>\n",
       "    <tr>\n",
       "      <th>131</th>\n",
       "      <td>2</td>\n",
       "      <td>8</td>\n",
       "      <td>54</td>\n",
       "      <td>4</td>\n",
       "      <td>A03</td>\n",
       "      <td>20190731</td>\n",
       "      <td>21:09</td>\n",
       "      <td>2263996</td>\n",
       "      <td>NaN</td>\n",
       "      <td>NaN</td>\n",
       "      <td>85.0</td>\n",
       "      <td>3256.0</td>\n",
       "      <td>DIRECT</td>\n",
       "      <td>NaN</td>\n",
       "      <td>NaN</td>\n",
       "      <td>다진소고기</td>\n",
       "    </tr>\n",
       "    <tr>\n",
       "      <th>132</th>\n",
       "      <td>2</td>\n",
       "      <td>8</td>\n",
       "      <td>55</td>\n",
       "      <td>5</td>\n",
       "      <td>A03</td>\n",
       "      <td>20190731</td>\n",
       "      <td>21:09</td>\n",
       "      <td>2265391</td>\n",
       "      <td>NaN</td>\n",
       "      <td>NaN</td>\n",
       "      <td>85.0</td>\n",
       "      <td>3256.0</td>\n",
       "      <td>DIRECT</td>\n",
       "      <td>NaN</td>\n",
       "      <td>NaN</td>\n",
       "      <td>다진소고기</td>\n",
       "    </tr>\n",
       "    <tr>\n",
       "      <th>133</th>\n",
       "      <td>2</td>\n",
       "      <td>8</td>\n",
       "      <td>56</td>\n",
       "      <td>5</td>\n",
       "      <td>A03</td>\n",
       "      <td>20190731</td>\n",
       "      <td>21:09</td>\n",
       "      <td>2287542</td>\n",
       "      <td>NaN</td>\n",
       "      <td>NaN</td>\n",
       "      <td>85.0</td>\n",
       "      <td>3256.0</td>\n",
       "      <td>DIRECT</td>\n",
       "      <td>NaN</td>\n",
       "      <td>NaN</td>\n",
       "      <td>다진소고기</td>\n",
       "    </tr>\n",
       "    <tr>\n",
       "      <th>134</th>\n",
       "      <td>2</td>\n",
       "      <td>8</td>\n",
       "      <td>57</td>\n",
       "      <td>5</td>\n",
       "      <td>A03</td>\n",
       "      <td>20190731</td>\n",
       "      <td>21:09</td>\n",
       "      <td>2290664</td>\n",
       "      <td>NaN</td>\n",
       "      <td>NaN</td>\n",
       "      <td>85.0</td>\n",
       "      <td>3256.0</td>\n",
       "      <td>DIRECT</td>\n",
       "      <td>NaN</td>\n",
       "      <td>NaN</td>\n",
       "      <td>다진소고기</td>\n",
       "    </tr>\n",
       "    <tr>\n",
       "      <th>135</th>\n",
       "      <td>2</td>\n",
       "      <td>8</td>\n",
       "      <td>58</td>\n",
       "      <td>5</td>\n",
       "      <td>A03</td>\n",
       "      <td>20190731</td>\n",
       "      <td>21:10</td>\n",
       "      <td>2316277</td>\n",
       "      <td>NaN</td>\n",
       "      <td>NaN</td>\n",
       "      <td>85.0</td>\n",
       "      <td>3256.0</td>\n",
       "      <td>DIRECT</td>\n",
       "      <td>NaN</td>\n",
       "      <td>NaN</td>\n",
       "      <td>다진소고기</td>\n",
       "    </tr>\n",
       "    <tr>\n",
       "      <th>136</th>\n",
       "      <td>2</td>\n",
       "      <td>8</td>\n",
       "      <td>59</td>\n",
       "      <td>2</td>\n",
       "      <td>A03</td>\n",
       "      <td>20190731</td>\n",
       "      <td>21:10</td>\n",
       "      <td>2325858</td>\n",
       "      <td>NaN</td>\n",
       "      <td>NaN</td>\n",
       "      <td>85.0</td>\n",
       "      <td>3256.0</td>\n",
       "      <td>DIRECT</td>\n",
       "      <td>NaN</td>\n",
       "      <td>NaN</td>\n",
       "      <td>다진소고기</td>\n",
       "    </tr>\n",
       "    <tr>\n",
       "      <th>137</th>\n",
       "      <td>2</td>\n",
       "      <td>8</td>\n",
       "      <td>60</td>\n",
       "      <td>2</td>\n",
       "      <td>A03</td>\n",
       "      <td>20190731</td>\n",
       "      <td>21:12</td>\n",
       "      <td>2445874</td>\n",
       "      <td>NaN</td>\n",
       "      <td>NaN</td>\n",
       "      <td>85.0</td>\n",
       "      <td>3256.0</td>\n",
       "      <td>DIRECT</td>\n",
       "      <td>NaN</td>\n",
       "      <td>NaN</td>\n",
       "      <td>다진소고기</td>\n",
       "    </tr>\n",
       "    <tr>\n",
       "      <th>138</th>\n",
       "      <td>2</td>\n",
       "      <td>8</td>\n",
       "      <td>61</td>\n",
       "      <td>5</td>\n",
       "      <td>A03</td>\n",
       "      <td>20190731</td>\n",
       "      <td>21:12</td>\n",
       "      <td>2467273</td>\n",
       "      <td>NaN</td>\n",
       "      <td>NaN</td>\n",
       "      <td>85.0</td>\n",
       "      <td>3256.0</td>\n",
       "      <td>DIRECT</td>\n",
       "      <td>NaN</td>\n",
       "      <td>NaN</td>\n",
       "      <td>다진소고기</td>\n",
       "    </tr>\n",
       "    <tr>\n",
       "      <th>139</th>\n",
       "      <td>2</td>\n",
       "      <td>8</td>\n",
       "      <td>62</td>\n",
       "      <td>5</td>\n",
       "      <td>A03</td>\n",
       "      <td>20190731</td>\n",
       "      <td>21:12</td>\n",
       "      <td>2467913</td>\n",
       "      <td>NaN</td>\n",
       "      <td>NaN</td>\n",
       "      <td>85.0</td>\n",
       "      <td>3256.0</td>\n",
       "      <td>DIRECT</td>\n",
       "      <td>NaN</td>\n",
       "      <td>NaN</td>\n",
       "      <td>다진소고기</td>\n",
       "    </tr>\n",
       "    <tr>\n",
       "      <th>140</th>\n",
       "      <td>2</td>\n",
       "      <td>8</td>\n",
       "      <td>63</td>\n",
       "      <td>5</td>\n",
       "      <td>A03</td>\n",
       "      <td>20190731</td>\n",
       "      <td>21:20</td>\n",
       "      <td>2927553</td>\n",
       "      <td>NaN</td>\n",
       "      <td>NaN</td>\n",
       "      <td>85.0</td>\n",
       "      <td>3256.0</td>\n",
       "      <td>DIRECT</td>\n",
       "      <td>NaN</td>\n",
       "      <td>NaN</td>\n",
       "      <td>다진소고기</td>\n",
       "    </tr>\n",
       "    <tr>\n",
       "      <th>141</th>\n",
       "      <td>2</td>\n",
       "      <td>8</td>\n",
       "      <td>64</td>\n",
       "      <td>5</td>\n",
       "      <td>A03</td>\n",
       "      <td>20190731</td>\n",
       "      <td>21:24</td>\n",
       "      <td>3161020</td>\n",
       "      <td>NaN</td>\n",
       "      <td>NaN</td>\n",
       "      <td>85.0</td>\n",
       "      <td>3256.0</td>\n",
       "      <td>DIRECT</td>\n",
       "      <td>NaN</td>\n",
       "      <td>NaN</td>\n",
       "      <td>다진소고기</td>\n",
       "    </tr>\n",
       "    <tr>\n",
       "      <th>142</th>\n",
       "      <td>2</td>\n",
       "      <td>8</td>\n",
       "      <td>65</td>\n",
       "      <td>5</td>\n",
       "      <td>A03</td>\n",
       "      <td>20190731</td>\n",
       "      <td>21:24</td>\n",
       "      <td>3167583</td>\n",
       "      <td>NaN</td>\n",
       "      <td>NaN</td>\n",
       "      <td>85.0</td>\n",
       "      <td>3256.0</td>\n",
       "      <td>DIRECT</td>\n",
       "      <td>NaN</td>\n",
       "      <td>NaN</td>\n",
       "      <td>다진소고기</td>\n",
       "    </tr>\n",
       "    <tr>\n",
       "      <th>143</th>\n",
       "      <td>2</td>\n",
       "      <td>8</td>\n",
       "      <td>66</td>\n",
       "      <td>5</td>\n",
       "      <td>A03</td>\n",
       "      <td>20190731</td>\n",
       "      <td>21:24</td>\n",
       "      <td>3170018</td>\n",
       "      <td>NaN</td>\n",
       "      <td>NaN</td>\n",
       "      <td>85.0</td>\n",
       "      <td>3256.0</td>\n",
       "      <td>DIRECT</td>\n",
       "      <td>NaN</td>\n",
       "      <td>NaN</td>\n",
       "      <td>다진소고기</td>\n",
       "    </tr>\n",
       "    <tr>\n",
       "      <th>144</th>\n",
       "      <td>2</td>\n",
       "      <td>8</td>\n",
       "      <td>67</td>\n",
       "      <td>5</td>\n",
       "      <td>A03</td>\n",
       "      <td>20190731</td>\n",
       "      <td>21:25</td>\n",
       "      <td>3248601</td>\n",
       "      <td>NaN</td>\n",
       "      <td>NaN</td>\n",
       "      <td>85.0</td>\n",
       "      <td>3256.0</td>\n",
       "      <td>DIRECT</td>\n",
       "      <td>NaN</td>\n",
       "      <td>NaN</td>\n",
       "      <td>다진소고기</td>\n",
       "    </tr>\n",
       "    <tr>\n",
       "      <th>145</th>\n",
       "      <td>2</td>\n",
       "      <td>8</td>\n",
       "      <td>68</td>\n",
       "      <td>6</td>\n",
       "      <td>A03</td>\n",
       "      <td>20190731</td>\n",
       "      <td>21:25</td>\n",
       "      <td>3251794</td>\n",
       "      <td>64691.0</td>\n",
       "      <td>NaN</td>\n",
       "      <td>85.0</td>\n",
       "      <td>3256.0</td>\n",
       "      <td>DIRECT</td>\n",
       "      <td>NaN</td>\n",
       "      <td>NaN</td>\n",
       "      <td>다진소고기</td>\n",
       "    </tr>\n",
       "    <tr>\n",
       "      <th>146</th>\n",
       "      <td>2</td>\n",
       "      <td>9</td>\n",
       "      <td>1</td>\n",
       "      <td>1</td>\n",
       "      <td>A03</td>\n",
       "      <td>20190801</td>\n",
       "      <td>02:47</td>\n",
       "      <td>47867</td>\n",
       "      <td>NaN</td>\n",
       "      <td>NaN</td>\n",
       "      <td>12.0</td>\n",
       "      <td>76.0</td>\n",
       "      <td>DIRECT</td>\n",
       "      <td>NaN</td>\n",
       "      <td>NaN</td>\n",
       "      <td>NaN</td>\n",
       "    </tr>\n",
       "    <tr>\n",
       "      <th>147</th>\n",
       "      <td>2</td>\n",
       "      <td>9</td>\n",
       "      <td>2</td>\n",
       "      <td>2</td>\n",
       "      <td>A03</td>\n",
       "      <td>20190801</td>\n",
       "      <td>02:47</td>\n",
       "      <td>49560</td>\n",
       "      <td>NaN</td>\n",
       "      <td>NaN</td>\n",
       "      <td>12.0</td>\n",
       "      <td>76.0</td>\n",
       "      <td>DIRECT</td>\n",
       "      <td>NaN</td>\n",
       "      <td>NaN</td>\n",
       "      <td>NaN</td>\n",
       "    </tr>\n",
       "    <tr>\n",
       "      <th>148</th>\n",
       "      <td>2</td>\n",
       "      <td>9</td>\n",
       "      <td>3</td>\n",
       "      <td>1</td>\n",
       "      <td>A03</td>\n",
       "      <td>20190801</td>\n",
       "      <td>02:47</td>\n",
       "      <td>53143</td>\n",
       "      <td>NaN</td>\n",
       "      <td>NaN</td>\n",
       "      <td>12.0</td>\n",
       "      <td>76.0</td>\n",
       "      <td>DIRECT</td>\n",
       "      <td>NaN</td>\n",
       "      <td>NaN</td>\n",
       "      <td>NaN</td>\n",
       "    </tr>\n",
       "    <tr>\n",
       "      <th>149</th>\n",
       "      <td>2</td>\n",
       "      <td>9</td>\n",
       "      <td>4</td>\n",
       "      <td>2</td>\n",
       "      <td>A03</td>\n",
       "      <td>20190801</td>\n",
       "      <td>02:47</td>\n",
       "      <td>54621</td>\n",
       "      <td>NaN</td>\n",
       "      <td>NaN</td>\n",
       "      <td>12.0</td>\n",
       "      <td>76.0</td>\n",
       "      <td>DIRECT</td>\n",
       "      <td>NaN</td>\n",
       "      <td>NaN</td>\n",
       "      <td>NaN</td>\n",
       "    </tr>\n",
       "    <tr>\n",
       "      <th>150</th>\n",
       "      <td>2</td>\n",
       "      <td>9</td>\n",
       "      <td>5</td>\n",
       "      <td>1</td>\n",
       "      <td>A03</td>\n",
       "      <td>20190801</td>\n",
       "      <td>02:47</td>\n",
       "      <td>71252</td>\n",
       "      <td>NaN</td>\n",
       "      <td>NaN</td>\n",
       "      <td>12.0</td>\n",
       "      <td>76.0</td>\n",
       "      <td>DIRECT</td>\n",
       "      <td>NaN</td>\n",
       "      <td>NaN</td>\n",
       "      <td>NaN</td>\n",
       "    </tr>\n",
       "  </tbody>\n",
       "</table>\n",
       "</div>"
      ],
      "text/plain": [
       "     clnt_id  sess_id  hit_seq  action_type biz_unit   sess_dt hit_tm  \\\n",
       "100        2        8       23            0      A03  20190731  20:38   \n",
       "101        2        8       24            0      A03  20190731  20:38   \n",
       "102        2        8       25            1      A03  20190731  20:39   \n",
       "103        2        8       26            2      A03  20190731  20:39   \n",
       "104        2        8       27            3      A03  20190731  20:41   \n",
       "105        2        8       28            5      A03  20190731  20:41   \n",
       "106        2        8       29            5      A03  20190731  20:41   \n",
       "107        2        8       30            1      A03  20190731  20:42   \n",
       "108        2        8       31            2      A03  20190731  20:42   \n",
       "109        2        8       32            3      A03  20190731  20:44   \n",
       "110        2        8       33            3      A03  20190731  20:45   \n",
       "111        2        8       34            0      A03  20190731  20:51   \n",
       "112        2        8       35            3      A03  20190731  20:51   \n",
       "113        2        8       36            0      A03  20190731  20:51   \n",
       "114        2        8       37            1      A03  20190731  20:51   \n",
       "115        2        8       38            2      A03  20190731  20:51   \n",
       "116        2        8       39            0      A03  20190731  20:52   \n",
       "117        2        8       40            1      A03  20190731  20:52   \n",
       "118        2        8       41            2      A03  20190731  20:52   \n",
       "119        2        8       42            2      A03  20190731  20:53   \n",
       "120        2        8       43            2      A03  20190731  20:53   \n",
       "121        2        8       44            3      A03  20190731  20:53   \n",
       "122        2        8       45            5      A03  20190731  20:53   \n",
       "123        2        8       46            5      A03  20190731  20:53   \n",
       "124        2        8       47            5      A03  20190731  20:55   \n",
       "125        2        8       48            5      A03  20190731  20:55   \n",
       "126        2        8       49            5      A03  20190731  20:55   \n",
       "127        2        8       50            5      A03  20190731  20:55   \n",
       "128        2        8       51            5      A03  20190731  20:55   \n",
       "129        2        8       52            4      A03  20190731  21:09   \n",
       "130        2        8       53            5      A03  20190731  21:09   \n",
       "131        2        8       54            4      A03  20190731  21:09   \n",
       "132        2        8       55            5      A03  20190731  21:09   \n",
       "133        2        8       56            5      A03  20190731  21:09   \n",
       "134        2        8       57            5      A03  20190731  21:09   \n",
       "135        2        8       58            5      A03  20190731  21:10   \n",
       "136        2        8       59            2      A03  20190731  21:10   \n",
       "137        2        8       60            2      A03  20190731  21:12   \n",
       "138        2        8       61            5      A03  20190731  21:12   \n",
       "139        2        8       62            5      A03  20190731  21:12   \n",
       "140        2        8       63            5      A03  20190731  21:20   \n",
       "141        2        8       64            5      A03  20190731  21:24   \n",
       "142        2        8       65            5      A03  20190731  21:24   \n",
       "143        2        8       66            5      A03  20190731  21:24   \n",
       "144        2        8       67            5      A03  20190731  21:25   \n",
       "145        2        8       68            6      A03  20190731  21:25   \n",
       "146        2        9        1            1      A03  20190801  02:47   \n",
       "147        2        9        2            2      A03  20190801  02:47   \n",
       "148        2        9        3            1      A03  20190801  02:47   \n",
       "149        2        9        4            2      A03  20190801  02:47   \n",
       "150        2        9        5            1      A03  20190801  02:47   \n",
       "\n",
       "     hit_pss_tm  trans_id sech_kwd  tot_pag_view_ct  tot_sess_hr_v trfc_src  \\\n",
       "100      437380       NaN        팥             85.0         3256.0   DIRECT   \n",
       "101      444324       NaN     팥빙수팥             85.0         3256.0   DIRECT   \n",
       "102      447238       NaN      NaN             85.0         3256.0   DIRECT   \n",
       "103      449080       NaN      NaN             85.0         3256.0   DIRECT   \n",
       "104      608281       NaN      NaN             85.0         3256.0   DIRECT   \n",
       "105      610918       NaN      NaN             85.0         3256.0   DIRECT   \n",
       "106      616663       NaN      NaN             85.0         3256.0   DIRECT   \n",
       "107      673120       NaN      NaN             85.0         3256.0   DIRECT   \n",
       "108      674451       NaN      NaN             85.0         3256.0   DIRECT   \n",
       "109      806007       NaN      NaN             85.0         3256.0   DIRECT   \n",
       "110      806713       NaN      NaN             85.0         3256.0   DIRECT   \n",
       "111     1196626       NaN      크래미             85.0         3256.0   DIRECT   \n",
       "112     1199128       NaN      NaN             85.0         3256.0   DIRECT   \n",
       "113     1203973       NaN    크래미맛살             85.0         3256.0   DIRECT   \n",
       "114     1205301       NaN      NaN             85.0         3256.0   DIRECT   \n",
       "115     1206404       NaN      NaN             85.0         3256.0   DIRECT   \n",
       "116     1229325       NaN    다진소고기             85.0         3256.0   DIRECT   \n",
       "117     1248408       NaN      NaN             85.0         3256.0   DIRECT   \n",
       "118     1251161       NaN      NaN             85.0         3256.0   DIRECT   \n",
       "119     1299786       NaN      NaN             85.0         3256.0   DIRECT   \n",
       "120     1302930       NaN      NaN             85.0         3256.0   DIRECT   \n",
       "121     1308480       NaN      NaN             85.0         3256.0   DIRECT   \n",
       "122     1311669       NaN      NaN             85.0         3256.0   DIRECT   \n",
       "123     1328161       NaN      NaN             85.0         3256.0   DIRECT   \n",
       "124     1412000       NaN      NaN             85.0         3256.0   DIRECT   \n",
       "125     1423713       NaN      NaN             85.0         3256.0   DIRECT   \n",
       "126     1430650       NaN      NaN             85.0         3256.0   DIRECT   \n",
       "127     1434548       NaN      NaN             85.0         3256.0   DIRECT   \n",
       "128     1442675       NaN      NaN             85.0         3256.0   DIRECT   \n",
       "129     2249089       NaN      NaN             85.0         3256.0   DIRECT   \n",
       "130     2250607       NaN      NaN             85.0         3256.0   DIRECT   \n",
       "131     2263996       NaN      NaN             85.0         3256.0   DIRECT   \n",
       "132     2265391       NaN      NaN             85.0         3256.0   DIRECT   \n",
       "133     2287542       NaN      NaN             85.0         3256.0   DIRECT   \n",
       "134     2290664       NaN      NaN             85.0         3256.0   DIRECT   \n",
       "135     2316277       NaN      NaN             85.0         3256.0   DIRECT   \n",
       "136     2325858       NaN      NaN             85.0         3256.0   DIRECT   \n",
       "137     2445874       NaN      NaN             85.0         3256.0   DIRECT   \n",
       "138     2467273       NaN      NaN             85.0         3256.0   DIRECT   \n",
       "139     2467913       NaN      NaN             85.0         3256.0   DIRECT   \n",
       "140     2927553       NaN      NaN             85.0         3256.0   DIRECT   \n",
       "141     3161020       NaN      NaN             85.0         3256.0   DIRECT   \n",
       "142     3167583       NaN      NaN             85.0         3256.0   DIRECT   \n",
       "143     3170018       NaN      NaN             85.0         3256.0   DIRECT   \n",
       "144     3248601       NaN      NaN             85.0         3256.0   DIRECT   \n",
       "145     3251794   64691.0      NaN             85.0         3256.0   DIRECT   \n",
       "146       47867       NaN      NaN             12.0           76.0   DIRECT   \n",
       "147       49560       NaN      NaN             12.0           76.0   DIRECT   \n",
       "148       53143       NaN      NaN             12.0           76.0   DIRECT   \n",
       "149       54621       NaN      NaN             12.0           76.0   DIRECT   \n",
       "150       71252       NaN      NaN             12.0           76.0   DIRECT   \n",
       "\n",
       "    dvc_ctg_nm act_kwd act_kwd2  \n",
       "100        NaN       팥        팥  \n",
       "101        NaN    팥빙수팥     팥빙수팥  \n",
       "102        NaN     NaN     팥빙수팥  \n",
       "103        NaN     NaN     팥빙수팥  \n",
       "104        NaN     NaN     팥빙수팥  \n",
       "105        NaN     NaN     팥빙수팥  \n",
       "106        NaN     NaN     팥빙수팥  \n",
       "107        NaN     NaN     팥빙수팥  \n",
       "108        NaN     NaN     팥빙수팥  \n",
       "109        NaN     NaN     팥빙수팥  \n",
       "110        NaN     NaN     팥빙수팥  \n",
       "111        NaN     크래미      크래미  \n",
       "112        NaN     NaN      크래미  \n",
       "113        NaN   크래미맛살    크래미맛살  \n",
       "114        NaN     NaN    크래미맛살  \n",
       "115        NaN     NaN    크래미맛살  \n",
       "116        NaN   다진소고기    다진소고기  \n",
       "117        NaN     NaN    다진소고기  \n",
       "118        NaN     NaN    다진소고기  \n",
       "119        NaN     NaN    다진소고기  \n",
       "120        NaN     NaN    다진소고기  \n",
       "121        NaN     NaN    다진소고기  \n",
       "122        NaN     NaN    다진소고기  \n",
       "123        NaN     NaN    다진소고기  \n",
       "124        NaN     NaN    다진소고기  \n",
       "125        NaN     NaN    다진소고기  \n",
       "126        NaN     NaN    다진소고기  \n",
       "127        NaN     NaN    다진소고기  \n",
       "128        NaN     NaN    다진소고기  \n",
       "129        NaN     NaN    다진소고기  \n",
       "130        NaN     NaN    다진소고기  \n",
       "131        NaN     NaN    다진소고기  \n",
       "132        NaN     NaN    다진소고기  \n",
       "133        NaN     NaN    다진소고기  \n",
       "134        NaN     NaN    다진소고기  \n",
       "135        NaN     NaN    다진소고기  \n",
       "136        NaN     NaN    다진소고기  \n",
       "137        NaN     NaN    다진소고기  \n",
       "138        NaN     NaN    다진소고기  \n",
       "139        NaN     NaN    다진소고기  \n",
       "140        NaN     NaN    다진소고기  \n",
       "141        NaN     NaN    다진소고기  \n",
       "142        NaN     NaN    다진소고기  \n",
       "143        NaN     NaN    다진소고기  \n",
       "144        NaN     NaN    다진소고기  \n",
       "145        NaN     NaN    다진소고기  \n",
       "146        NaN     NaN      NaN  \n",
       "147        NaN     NaN      NaN  \n",
       "148        NaN     NaN      NaN  \n",
       "149        NaN     NaN      NaN  \n",
       "150        NaN     NaN      NaN  "
      ]
     },
     "execution_count": 18,
     "metadata": {},
     "output_type": "execute_result"
    }
   ],
   "source": [
    "raw1_sorted_time.loc[100:150]"
   ]
  },
  {
   "cell_type": "code",
   "execution_count": 32,
   "metadata": {},
   "outputs": [
    {
     "data": {
      "text/plain": [
       "우유                 40425\n",
       "두부                 22558\n",
       "계란                 20698\n",
       "생수                 20005\n",
       "라면                 11326\n",
       "                   ...  \n",
       "aprilskin              1\n",
       "로지텍 키보드 마우스 375        1\n",
       "hbr                    1\n",
       "살랑드파리                  1\n",
       "곰젤리                    1\n",
       "Name: act_kwd2, Length: 101952, dtype: int64"
      ]
     },
     "execution_count": 32,
     "metadata": {},
     "output_type": "execute_result"
    }
   ],
   "source": [
    "raw1_sorted_time['act_kwd2'].value_counts()"
   ]
  },
  {
   "cell_type": "code",
   "execution_count": 33,
   "metadata": {},
   "outputs": [
    {
     "data": {
      "text/plain": [
       "1796913"
      ]
     },
     "execution_count": 33,
     "metadata": {},
     "output_type": "execute_result"
    }
   ],
   "source": [
    "raw1_sorted_time['act_kwd2'].value_counts().sum()"
   ]
  },
  {
   "cell_type": "code",
   "execution_count": 38,
   "metadata": {},
   "outputs": [
    {
     "data": {
      "text/plain": [
       "우유                 40425\n",
       "두부                 22558\n",
       "계란                 20698\n",
       "생수                 20005\n",
       "라면                 11326\n",
       "                   ...  \n",
       "aprilskin              1\n",
       "로지텍 키보드 마우스 375        1\n",
       "hbr                    1\n",
       "살랑드파리                  1\n",
       "곰젤리                    1\n",
       "Name: act_kwd2, Length: 101952, dtype: int64"
      ]
     },
     "execution_count": 38,
     "metadata": {},
     "output_type": "execute_result"
    }
   ],
   "source": [
    "act_kwd2 = raw1_sorted_time['act_kwd2'].value_counts()\n",
    "act_kwd2"
   ]
  },
  {
   "cell_type": "code",
   "execution_count": null,
   "metadata": {},
   "outputs": [],
   "source": []
  },
  {
   "cell_type": "code",
   "execution_count": null,
   "metadata": {},
   "outputs": [],
   "source": []
  },
  {
   "cell_type": "code",
   "execution_count": 41,
   "metadata": {},
   "outputs": [
    {
     "data": {
      "text/html": [
       "<div>\n",
       "<style scoped>\n",
       "    .dataframe tbody tr th:only-of-type {\n",
       "        vertical-align: middle;\n",
       "    }\n",
       "\n",
       "    .dataframe tbody tr th {\n",
       "        vertical-align: top;\n",
       "    }\n",
       "\n",
       "    .dataframe thead th {\n",
       "        text-align: right;\n",
       "    }\n",
       "</style>\n",
       "<table border=\"1\" class=\"dataframe\">\n",
       "  <thead>\n",
       "    <tr style=\"text-align: right;\">\n",
       "      <th></th>\n",
       "      <th>c1</th>\n",
       "      <th>c2</th>\n",
       "      <th>c3</th>\n",
       "    </tr>\n",
       "  </thead>\n",
       "  <tbody>\n",
       "    <tr>\n",
       "      <th>r1</th>\n",
       "      <td>1</td>\n",
       "      <td>2</td>\n",
       "      <td>3</td>\n",
       "    </tr>\n",
       "    <tr>\n",
       "      <th>r2</th>\n",
       "      <td>4</td>\n",
       "      <td>5</td>\n",
       "      <td>6</td>\n",
       "    </tr>\n",
       "    <tr>\n",
       "      <th>r3</th>\n",
       "      <td>7</td>\n",
       "      <td>8</td>\n",
       "      <td>9</td>\n",
       "    </tr>\n",
       "  </tbody>\n",
       "</table>\n",
       "</div>"
      ],
      "text/plain": [
       "    c1  c2  c3\n",
       "r1   1   2   3\n",
       "r2   4   5   6\n",
       "r3   7   8   9"
      ]
     },
     "execution_count": 41,
     "metadata": {},
     "output_type": "execute_result"
    }
   ],
   "source": [
    "# DF 연산 연습용\n",
    "a = pd.DataFrame([[1,2,3], [4,5,6], [7,8,9]], index = ['r1', 'r2', 'r3'], columns = ['c1', 'c2', 'c3'])\n",
    "a"
   ]
  },
  {
   "cell_type": "code",
   "execution_count": 45,
   "metadata": {},
   "outputs": [
    {
     "data": {
      "text/html": [
       "<div>\n",
       "<style scoped>\n",
       "    .dataframe tbody tr th:only-of-type {\n",
       "        vertical-align: middle;\n",
       "    }\n",
       "\n",
       "    .dataframe tbody tr th {\n",
       "        vertical-align: top;\n",
       "    }\n",
       "\n",
       "    .dataframe thead th {\n",
       "        text-align: right;\n",
       "    }\n",
       "</style>\n",
       "<table border=\"1\" class=\"dataframe\">\n",
       "  <thead>\n",
       "    <tr style=\"text-align: right;\">\n",
       "      <th></th>\n",
       "      <th>c1</th>\n",
       "      <th>c2</th>\n",
       "      <th>c3</th>\n",
       "      <th>pd_c</th>\n",
       "    </tr>\n",
       "  </thead>\n",
       "  <tbody>\n",
       "    <tr>\n",
       "      <th>r1</th>\n",
       "      <td>1</td>\n",
       "      <td>2</td>\n",
       "      <td>3</td>\n",
       "      <td>0</td>\n",
       "    </tr>\n",
       "    <tr>\n",
       "      <th>r2</th>\n",
       "      <td>4</td>\n",
       "      <td>5</td>\n",
       "      <td>6</td>\n",
       "      <td>0</td>\n",
       "    </tr>\n",
       "    <tr>\n",
       "      <th>r3</th>\n",
       "      <td>7</td>\n",
       "      <td>8</td>\n",
       "      <td>9</td>\n",
       "      <td>0</td>\n",
       "    </tr>\n",
       "  </tbody>\n",
       "</table>\n",
       "</div>"
      ],
      "text/plain": [
       "    c1  c2  c3  pd_c\n",
       "r1   1   2   3     0\n",
       "r2   4   5   6     0\n",
       "r3   7   8   9     0"
      ]
     },
     "execution_count": 45,
     "metadata": {},
     "output_type": "execute_result"
    }
   ],
   "source": [
    "a['pd_c'] = [0 for i in range(len(a))]\n",
    "a"
   ]
  },
  {
   "cell_type": "code",
   "execution_count": null,
   "metadata": {},
   "outputs": [],
   "source": []
  },
  {
   "cell_type": "code",
   "execution_count": null,
   "metadata": {},
   "outputs": [],
   "source": []
  },
  {
   "cell_type": "code",
   "execution_count": 20,
   "metadata": {},
   "outputs": [],
   "source": [
    "# 파일 저장\n",
    "raw1_sorted_time.to_csv(\"raw1_add_kwd.csv\", mode='w')"
   ]
  },
  {
   "cell_type": "markdown",
   "metadata": {},
   "source": [
    " * 결재시도만 연속적으로 된 경우가 많은데 이런 데이터는 1개로 줄이든 다른 방법으로 전처리를 하든 해야할 것\n",
    " => 짧은 기간내에 같은 행위가 여러번 반복된것은 크게 의미가 없다고 봄"
   ]
  },
  {
   "cell_type": "code",
   "execution_count": 31,
   "metadata": {},
   "outputs": [
    {
     "data": {
      "text/html": [
       "<div>\n",
       "<style scoped>\n",
       "    .dataframe tbody tr th:only-of-type {\n",
       "        vertical-align: middle;\n",
       "    }\n",
       "\n",
       "    .dataframe tbody tr th {\n",
       "        vertical-align: top;\n",
       "    }\n",
       "\n",
       "    .dataframe thead th {\n",
       "        text-align: right;\n",
       "    }\n",
       "</style>\n",
       "<table border=\"1\" class=\"dataframe\">\n",
       "  <thead>\n",
       "    <tr style=\"text-align: right;\">\n",
       "      <th></th>\n",
       "      <th>clnt_id</th>\n",
       "      <th>sess_id</th>\n",
       "      <th>hit_seq</th>\n",
       "      <th>action_type</th>\n",
       "      <th>biz_unit</th>\n",
       "      <th>sess_dt</th>\n",
       "      <th>hit_tm</th>\n",
       "      <th>hit_pss_tm</th>\n",
       "      <th>trans_id</th>\n",
       "      <th>sech_kwd</th>\n",
       "      <th>tot_pag_view_ct</th>\n",
       "      <th>tot_sess_hr_v</th>\n",
       "      <th>trfc_src</th>\n",
       "      <th>dvc_ctg_nm</th>\n",
       "      <th>act_kwd</th>\n",
       "      <th>act_kwd2</th>\n",
       "    </tr>\n",
       "  </thead>\n",
       "  <tbody>\n",
       "    <tr>\n",
       "      <th>636</th>\n",
       "      <td>17</td>\n",
       "      <td>3</td>\n",
       "      <td>1</td>\n",
       "      <td>3</td>\n",
       "      <td>A03</td>\n",
       "      <td>20190730</td>\n",
       "      <td>23:56</td>\n",
       "      <td>19612</td>\n",
       "      <td>NaN</td>\n",
       "      <td>NaN</td>\n",
       "      <td>7.0</td>\n",
       "      <td>148.0</td>\n",
       "      <td>DIRECT</td>\n",
       "      <td>NaN</td>\n",
       "      <td>NaN</td>\n",
       "      <td>NaN</td>\n",
       "    </tr>\n",
       "    <tr>\n",
       "      <th>637</th>\n",
       "      <td>17</td>\n",
       "      <td>3</td>\n",
       "      <td>2</td>\n",
       "      <td>5</td>\n",
       "      <td>A03</td>\n",
       "      <td>20190730</td>\n",
       "      <td>23:56</td>\n",
       "      <td>24029</td>\n",
       "      <td>NaN</td>\n",
       "      <td>NaN</td>\n",
       "      <td>7.0</td>\n",
       "      <td>148.0</td>\n",
       "      <td>DIRECT</td>\n",
       "      <td>NaN</td>\n",
       "      <td>NaN</td>\n",
       "      <td>NaN</td>\n",
       "    </tr>\n",
       "    <tr>\n",
       "      <th>638</th>\n",
       "      <td>17</td>\n",
       "      <td>3</td>\n",
       "      <td>3</td>\n",
       "      <td>5</td>\n",
       "      <td>A03</td>\n",
       "      <td>20190730</td>\n",
       "      <td>23:56</td>\n",
       "      <td>33568</td>\n",
       "      <td>NaN</td>\n",
       "      <td>NaN</td>\n",
       "      <td>7.0</td>\n",
       "      <td>148.0</td>\n",
       "      <td>DIRECT</td>\n",
       "      <td>NaN</td>\n",
       "      <td>NaN</td>\n",
       "      <td>NaN</td>\n",
       "    </tr>\n",
       "    <tr>\n",
       "      <th>639</th>\n",
       "      <td>17</td>\n",
       "      <td>3</td>\n",
       "      <td>4</td>\n",
       "      <td>5</td>\n",
       "      <td>A03</td>\n",
       "      <td>20190730</td>\n",
       "      <td>23:58</td>\n",
       "      <td>114137</td>\n",
       "      <td>NaN</td>\n",
       "      <td>NaN</td>\n",
       "      <td>7.0</td>\n",
       "      <td>148.0</td>\n",
       "      <td>DIRECT</td>\n",
       "      <td>NaN</td>\n",
       "      <td>NaN</td>\n",
       "      <td>NaN</td>\n",
       "    </tr>\n",
       "    <tr>\n",
       "      <th>640</th>\n",
       "      <td>17</td>\n",
       "      <td>3</td>\n",
       "      <td>5</td>\n",
       "      <td>5</td>\n",
       "      <td>A03</td>\n",
       "      <td>20190730</td>\n",
       "      <td>23:58</td>\n",
       "      <td>144271</td>\n",
       "      <td>NaN</td>\n",
       "      <td>NaN</td>\n",
       "      <td>7.0</td>\n",
       "      <td>148.0</td>\n",
       "      <td>DIRECT</td>\n",
       "      <td>NaN</td>\n",
       "      <td>NaN</td>\n",
       "      <td>NaN</td>\n",
       "    </tr>\n",
       "    <tr>\n",
       "      <th>641</th>\n",
       "      <td>17</td>\n",
       "      <td>3</td>\n",
       "      <td>6</td>\n",
       "      <td>5</td>\n",
       "      <td>A03</td>\n",
       "      <td>20190731</td>\n",
       "      <td>00:01</td>\n",
       "      <td>277</td>\n",
       "      <td>NaN</td>\n",
       "      <td>NaN</td>\n",
       "      <td>87.0</td>\n",
       "      <td>4012.0</td>\n",
       "      <td>DIRECT</td>\n",
       "      <td>NaN</td>\n",
       "      <td>NaN</td>\n",
       "      <td>NaN</td>\n",
       "    </tr>\n",
       "    <tr>\n",
       "      <th>642</th>\n",
       "      <td>17</td>\n",
       "      <td>3</td>\n",
       "      <td>7</td>\n",
       "      <td>5</td>\n",
       "      <td>A03</td>\n",
       "      <td>20190731</td>\n",
       "      <td>00:01</td>\n",
       "      <td>4119</td>\n",
       "      <td>NaN</td>\n",
       "      <td>NaN</td>\n",
       "      <td>87.0</td>\n",
       "      <td>4012.0</td>\n",
       "      <td>DIRECT</td>\n",
       "      <td>NaN</td>\n",
       "      <td>NaN</td>\n",
       "      <td>NaN</td>\n",
       "    </tr>\n",
       "    <tr>\n",
       "      <th>643</th>\n",
       "      <td>17</td>\n",
       "      <td>3</td>\n",
       "      <td>8</td>\n",
       "      <td>5</td>\n",
       "      <td>A03</td>\n",
       "      <td>20190731</td>\n",
       "      <td>00:01</td>\n",
       "      <td>42149</td>\n",
       "      <td>NaN</td>\n",
       "      <td>NaN</td>\n",
       "      <td>87.0</td>\n",
       "      <td>4012.0</td>\n",
       "      <td>DIRECT</td>\n",
       "      <td>NaN</td>\n",
       "      <td>NaN</td>\n",
       "      <td>NaN</td>\n",
       "    </tr>\n",
       "    <tr>\n",
       "      <th>644</th>\n",
       "      <td>17</td>\n",
       "      <td>3</td>\n",
       "      <td>9</td>\n",
       "      <td>5</td>\n",
       "      <td>A03</td>\n",
       "      <td>20190731</td>\n",
       "      <td>00:01</td>\n",
       "      <td>49452</td>\n",
       "      <td>NaN</td>\n",
       "      <td>NaN</td>\n",
       "      <td>87.0</td>\n",
       "      <td>4012.0</td>\n",
       "      <td>DIRECT</td>\n",
       "      <td>NaN</td>\n",
       "      <td>NaN</td>\n",
       "      <td>NaN</td>\n",
       "    </tr>\n",
       "    <tr>\n",
       "      <th>645</th>\n",
       "      <td>17</td>\n",
       "      <td>3</td>\n",
       "      <td>10</td>\n",
       "      <td>5</td>\n",
       "      <td>A03</td>\n",
       "      <td>20190731</td>\n",
       "      <td>00:02</td>\n",
       "      <td>87005</td>\n",
       "      <td>NaN</td>\n",
       "      <td>NaN</td>\n",
       "      <td>87.0</td>\n",
       "      <td>4012.0</td>\n",
       "      <td>DIRECT</td>\n",
       "      <td>NaN</td>\n",
       "      <td>NaN</td>\n",
       "      <td>NaN</td>\n",
       "    </tr>\n",
       "    <tr>\n",
       "      <th>646</th>\n",
       "      <td>17</td>\n",
       "      <td>3</td>\n",
       "      <td>11</td>\n",
       "      <td>5</td>\n",
       "      <td>A03</td>\n",
       "      <td>20190731</td>\n",
       "      <td>00:04</td>\n",
       "      <td>182392</td>\n",
       "      <td>NaN</td>\n",
       "      <td>NaN</td>\n",
       "      <td>87.0</td>\n",
       "      <td>4012.0</td>\n",
       "      <td>DIRECT</td>\n",
       "      <td>NaN</td>\n",
       "      <td>NaN</td>\n",
       "      <td>NaN</td>\n",
       "    </tr>\n",
       "    <tr>\n",
       "      <th>647</th>\n",
       "      <td>17</td>\n",
       "      <td>3</td>\n",
       "      <td>12</td>\n",
       "      <td>5</td>\n",
       "      <td>A03</td>\n",
       "      <td>20190731</td>\n",
       "      <td>00:04</td>\n",
       "      <td>208011</td>\n",
       "      <td>NaN</td>\n",
       "      <td>NaN</td>\n",
       "      <td>87.0</td>\n",
       "      <td>4012.0</td>\n",
       "      <td>DIRECT</td>\n",
       "      <td>NaN</td>\n",
       "      <td>NaN</td>\n",
       "      <td>NaN</td>\n",
       "    </tr>\n",
       "    <tr>\n",
       "      <th>648</th>\n",
       "      <td>17</td>\n",
       "      <td>3</td>\n",
       "      <td>13</td>\n",
       "      <td>5</td>\n",
       "      <td>A03</td>\n",
       "      <td>20190731</td>\n",
       "      <td>00:05</td>\n",
       "      <td>270733</td>\n",
       "      <td>NaN</td>\n",
       "      <td>NaN</td>\n",
       "      <td>87.0</td>\n",
       "      <td>4012.0</td>\n",
       "      <td>DIRECT</td>\n",
       "      <td>NaN</td>\n",
       "      <td>NaN</td>\n",
       "      <td>NaN</td>\n",
       "    </tr>\n",
       "    <tr>\n",
       "      <th>649</th>\n",
       "      <td>17</td>\n",
       "      <td>3</td>\n",
       "      <td>14</td>\n",
       "      <td>5</td>\n",
       "      <td>A03</td>\n",
       "      <td>20190731</td>\n",
       "      <td>00:05</td>\n",
       "      <td>297718</td>\n",
       "      <td>NaN</td>\n",
       "      <td>NaN</td>\n",
       "      <td>87.0</td>\n",
       "      <td>4012.0</td>\n",
       "      <td>DIRECT</td>\n",
       "      <td>NaN</td>\n",
       "      <td>NaN</td>\n",
       "      <td>NaN</td>\n",
       "    </tr>\n",
       "    <tr>\n",
       "      <th>650</th>\n",
       "      <td>17</td>\n",
       "      <td>3</td>\n",
       "      <td>15</td>\n",
       "      <td>4</td>\n",
       "      <td>A03</td>\n",
       "      <td>20190731</td>\n",
       "      <td>00:06</td>\n",
       "      <td>303486</td>\n",
       "      <td>NaN</td>\n",
       "      <td>NaN</td>\n",
       "      <td>87.0</td>\n",
       "      <td>4012.0</td>\n",
       "      <td>DIRECT</td>\n",
       "      <td>NaN</td>\n",
       "      <td>NaN</td>\n",
       "      <td>NaN</td>\n",
       "    </tr>\n",
       "  </tbody>\n",
       "</table>\n",
       "</div>"
      ],
      "text/plain": [
       "     clnt_id  sess_id  hit_seq  action_type biz_unit   sess_dt hit_tm  \\\n",
       "636       17        3        1            3      A03  20190730  23:56   \n",
       "637       17        3        2            5      A03  20190730  23:56   \n",
       "638       17        3        3            5      A03  20190730  23:56   \n",
       "639       17        3        4            5      A03  20190730  23:58   \n",
       "640       17        3        5            5      A03  20190730  23:58   \n",
       "641       17        3        6            5      A03  20190731  00:01   \n",
       "642       17        3        7            5      A03  20190731  00:01   \n",
       "643       17        3        8            5      A03  20190731  00:01   \n",
       "644       17        3        9            5      A03  20190731  00:01   \n",
       "645       17        3       10            5      A03  20190731  00:02   \n",
       "646       17        3       11            5      A03  20190731  00:04   \n",
       "647       17        3       12            5      A03  20190731  00:04   \n",
       "648       17        3       13            5      A03  20190731  00:05   \n",
       "649       17        3       14            5      A03  20190731  00:05   \n",
       "650       17        3       15            4      A03  20190731  00:06   \n",
       "\n",
       "     hit_pss_tm  trans_id sech_kwd  tot_pag_view_ct  tot_sess_hr_v trfc_src  \\\n",
       "636       19612       NaN      NaN              7.0          148.0   DIRECT   \n",
       "637       24029       NaN      NaN              7.0          148.0   DIRECT   \n",
       "638       33568       NaN      NaN              7.0          148.0   DIRECT   \n",
       "639      114137       NaN      NaN              7.0          148.0   DIRECT   \n",
       "640      144271       NaN      NaN              7.0          148.0   DIRECT   \n",
       "641         277       NaN      NaN             87.0         4012.0   DIRECT   \n",
       "642        4119       NaN      NaN             87.0         4012.0   DIRECT   \n",
       "643       42149       NaN      NaN             87.0         4012.0   DIRECT   \n",
       "644       49452       NaN      NaN             87.0         4012.0   DIRECT   \n",
       "645       87005       NaN      NaN             87.0         4012.0   DIRECT   \n",
       "646      182392       NaN      NaN             87.0         4012.0   DIRECT   \n",
       "647      208011       NaN      NaN             87.0         4012.0   DIRECT   \n",
       "648      270733       NaN      NaN             87.0         4012.0   DIRECT   \n",
       "649      297718       NaN      NaN             87.0         4012.0   DIRECT   \n",
       "650      303486       NaN      NaN             87.0         4012.0   DIRECT   \n",
       "\n",
       "    dvc_ctg_nm act_kwd act_kwd2  \n",
       "636        NaN     NaN      NaN  \n",
       "637        NaN     NaN      NaN  \n",
       "638        NaN     NaN      NaN  \n",
       "639        NaN     NaN      NaN  \n",
       "640        NaN     NaN      NaN  \n",
       "641        NaN     NaN      NaN  \n",
       "642        NaN     NaN      NaN  \n",
       "643        NaN     NaN      NaN  \n",
       "644        NaN     NaN      NaN  \n",
       "645        NaN     NaN      NaN  \n",
       "646        NaN     NaN      NaN  \n",
       "647        NaN     NaN      NaN  \n",
       "648        NaN     NaN      NaN  \n",
       "649        NaN     NaN      NaN  \n",
       "650        NaN     NaN      NaN  "
      ]
     },
     "execution_count": 31,
     "metadata": {},
     "output_type": "execute_result"
    }
   ],
   "source": [
    "raw1_sorted_time.loc[636:650]"
   ]
  },
  {
   "cell_type": "code",
   "execution_count": null,
   "metadata": {},
   "outputs": [],
   "source": []
  },
  {
   "cell_type": "code",
   "execution_count": null,
   "metadata": {},
   "outputs": [],
   "source": []
  },
  {
   "cell_type": "code",
   "execution_count": null,
   "metadata": {},
   "outputs": [],
   "source": []
  },
  {
   "cell_type": "code",
   "execution_count": null,
   "metadata": {},
   "outputs": [],
   "source": [
    "# # 키워드 리스트를 만들고 덮어쓰기\n",
    "# cnt = 0\n",
    "# kwd = []\n",
    "\n",
    "\n",
    "# raw1_sorted_time['act_kwd2'] = [raw1_sorted_time['act_kwd'].loc[s] if type(raw1_sorted_time['act_kwd'].loc[s]) == str \n",
    "#                                else (raw1_sorted_time['act_kwd'].loc[s-1] if raw1_sorted_time['clnt_id'].loc[s] == raw1_sorted_time['clnt_id'].loc[s-1] \n",
    "#                                      and raw1_sorted_time['sess_id'].loc[s] == raw1_sorted_time['sess_id'].loc[s-1] \n",
    "#                                      and raw1_sorted_time['biz_unit'].loc[s] == raw1_sorted_time['biz_unit'].loc[s-1] \n",
    "#                                      and raw1_sorted_time['hit_pss_tm'].loc[s]-raw1_sorted_time['hit_pss_tm'].loc[s-1] <= 180000 \n",
    "#                                      else 'bsd') for s in range(len(raw1_sorted_time['act_kwd']))]\n",
    "\n",
    "# raw1_sorted_time.head(20)"
   ]
  },
  {
   "cell_type": "code",
   "execution_count": null,
   "metadata": {},
   "outputs": [],
   "source": [
    "raw1_sorted_time['act_kwd2'] = [ s if type(s) == str else func(s) for s in raw1_sorted_time['act_kwd']]"
   ]
  },
  {
   "cell_type": "code",
   "execution_count": 147,
   "metadata": {},
   "outputs": [
    {
     "data": {
      "text/plain": [
       "'과일선물세트'"
      ]
     },
     "execution_count": 147,
     "metadata": {},
     "output_type": "execute_result"
    }
   ],
   "source": [
    "raw1_sorted_time['act_kwd'].loc[0]"
   ]
  },
  {
   "cell_type": "code",
   "execution_count": 196,
   "metadata": {},
   "outputs": [
    {
     "data": {
      "text/plain": [
       "str"
      ]
     },
     "execution_count": 196,
     "metadata": {},
     "output_type": "execute_result"
    }
   ],
   "source": [
    "\n",
    "type(raw1_sorted_time['act_kwd'].loc[0])"
   ]
  },
  {
   "cell_type": "code",
   "execution_count": 195,
   "metadata": {},
   "outputs": [
    {
     "data": {
      "text/plain": [
       "3196362"
      ]
     },
     "execution_count": 195,
     "metadata": {},
     "output_type": "execute_result"
    }
   ],
   "source": [
    "len(raw1_sorted_time)"
   ]
  },
  {
   "cell_type": "code",
   "execution_count": 198,
   "metadata": {},
   "outputs": [
    {
     "data": {
      "text/html": [
       "<div>\n",
       "<style scoped>\n",
       "    .dataframe tbody tr th:only-of-type {\n",
       "        vertical-align: middle;\n",
       "    }\n",
       "\n",
       "    .dataframe tbody tr th {\n",
       "        vertical-align: top;\n",
       "    }\n",
       "\n",
       "    .dataframe thead th {\n",
       "        text-align: right;\n",
       "    }\n",
       "</style>\n",
       "<table border=\"1\" class=\"dataframe\">\n",
       "  <thead>\n",
       "    <tr style=\"text-align: right;\">\n",
       "      <th></th>\n",
       "      <th>test</th>\n",
       "    </tr>\n",
       "  </thead>\n",
       "  <tbody>\n",
       "    <tr>\n",
       "      <th>0</th>\n",
       "      <td>과일선물세트</td>\n",
       "    </tr>\n",
       "    <tr>\n",
       "      <th>1</th>\n",
       "      <td>과일선물세트 백화점</td>\n",
       "    </tr>\n",
       "    <tr>\n",
       "      <th>2</th>\n",
       "      <td>과일바구니</td>\n",
       "    </tr>\n",
       "    <tr>\n",
       "      <th>3</th>\n",
       "      <td>초등가을잠바</td>\n",
       "    </tr>\n",
       "    <tr>\n",
       "      <th>4</th>\n",
       "      <td>초등가을점퍼</td>\n",
       "    </tr>\n",
       "    <tr>\n",
       "      <th>...</th>\n",
       "      <td>...</td>\n",
       "    </tr>\n",
       "    <tr>\n",
       "      <th>3196357</th>\n",
       "      <td>페레가모가방</td>\n",
       "    </tr>\n",
       "    <tr>\n",
       "      <th>3196358</th>\n",
       "      <td>펜디가방</td>\n",
       "    </tr>\n",
       "    <tr>\n",
       "      <th>3196359</th>\n",
       "      <td>라인에디션블라우스</td>\n",
       "    </tr>\n",
       "    <tr>\n",
       "      <th>3196360</th>\n",
       "      <td>asd</td>\n",
       "    </tr>\n",
       "    <tr>\n",
       "      <th>3196361</th>\n",
       "      <td>asd</td>\n",
       "    </tr>\n",
       "  </tbody>\n",
       "</table>\n",
       "<p>3196362 rows × 1 columns</p>\n",
       "</div>"
      ],
      "text/plain": [
       "               test\n",
       "0            과일선물세트\n",
       "1        과일선물세트 백화점\n",
       "2             과일바구니\n",
       "3            초등가을잠바\n",
       "4            초등가을점퍼\n",
       "...             ...\n",
       "3196357      페레가모가방\n",
       "3196358        펜디가방\n",
       "3196359   라인에디션블라우스\n",
       "3196360         asd\n",
       "3196361         asd\n",
       "\n",
       "[3196362 rows x 1 columns]"
      ]
     },
     "execution_count": 198,
     "metadata": {},
     "output_type": "execute_result"
    }
   ],
   "source": [
    "a = pd.DataFrame()\n",
    "a['test'] = [ raw1_sorted_time['act_kwd'].loc[s] if type(raw1_sorted_time['act_kwd'].loc[s]) == str else ('asd') for s in range(len(raw1_sorted_time))]\n",
    "a"
   ]
  },
  {
   "cell_type": "code",
   "execution_count": 220,
   "metadata": {},
   "outputs": [
    {
     "data": {
      "text/html": [
       "<div>\n",
       "<style scoped>\n",
       "    .dataframe tbody tr th:only-of-type {\n",
       "        vertical-align: middle;\n",
       "    }\n",
       "\n",
       "    .dataframe tbody tr th {\n",
       "        vertical-align: top;\n",
       "    }\n",
       "\n",
       "    .dataframe thead th {\n",
       "        text-align: right;\n",
       "    }\n",
       "</style>\n",
       "<table border=\"1\" class=\"dataframe\">\n",
       "  <thead>\n",
       "    <tr style=\"text-align: right;\">\n",
       "      <th></th>\n",
       "      <th>test</th>\n",
       "    </tr>\n",
       "  </thead>\n",
       "  <tbody>\n",
       "    <tr>\n",
       "      <th>0</th>\n",
       "      <td>과일선물세트</td>\n",
       "    </tr>\n",
       "    <tr>\n",
       "      <th>1</th>\n",
       "      <td>과일선물세트 백화점</td>\n",
       "    </tr>\n",
       "    <tr>\n",
       "      <th>2</th>\n",
       "      <td>과일바구니</td>\n",
       "    </tr>\n",
       "    <tr>\n",
       "      <th>3</th>\n",
       "      <td>초등가을잠바</td>\n",
       "    </tr>\n",
       "    <tr>\n",
       "      <th>4</th>\n",
       "      <td>초등가을점퍼</td>\n",
       "    </tr>\n",
       "    <tr>\n",
       "      <th>5</th>\n",
       "      <td>초등남아옷</td>\n",
       "    </tr>\n",
       "    <tr>\n",
       "      <th>6</th>\n",
       "      <td>초등남아점퍼</td>\n",
       "    </tr>\n",
       "    <tr>\n",
       "      <th>7</th>\n",
       "      <td>노스페이스키즈</td>\n",
       "    </tr>\n",
       "    <tr>\n",
       "      <th>8</th>\n",
       "      <td>노스페이스초등</td>\n",
       "    </tr>\n",
       "    <tr>\n",
       "      <th>9</th>\n",
       "      <td>노스페이스키즈</td>\n",
       "    </tr>\n",
       "    <tr>\n",
       "      <th>10</th>\n",
       "      <td>레쓰비</td>\n",
       "    </tr>\n",
       "    <tr>\n",
       "      <th>11</th>\n",
       "      <td>레쓰비</td>\n",
       "    </tr>\n",
       "    <tr>\n",
       "      <th>12</th>\n",
       "      <td>NaN</td>\n",
       "    </tr>\n",
       "    <tr>\n",
       "      <th>13</th>\n",
       "      <td>레쓰비</td>\n",
       "    </tr>\n",
       "    <tr>\n",
       "      <th>14</th>\n",
       "      <td>레쓰비</td>\n",
       "    </tr>\n",
       "    <tr>\n",
       "      <th>15</th>\n",
       "      <td>레쓰비</td>\n",
       "    </tr>\n",
       "    <tr>\n",
       "      <th>16</th>\n",
       "      <td>NaN</td>\n",
       "    </tr>\n",
       "    <tr>\n",
       "      <th>17</th>\n",
       "      <td>NaN</td>\n",
       "    </tr>\n",
       "    <tr>\n",
       "      <th>18</th>\n",
       "      <td>레쓰비</td>\n",
       "    </tr>\n",
       "    <tr>\n",
       "      <th>19</th>\n",
       "      <td>레쓰비</td>\n",
       "    </tr>\n",
       "  </tbody>\n",
       "</table>\n",
       "</div>"
      ],
      "text/plain": [
       "          test\n",
       "0       과일선물세트\n",
       "1   과일선물세트 백화점\n",
       "2        과일바구니\n",
       "3       초등가을잠바\n",
       "4       초등가을점퍼\n",
       "5        초등남아옷\n",
       "6       초등남아점퍼\n",
       "7      노스페이스키즈\n",
       "8      노스페이스초등\n",
       "9      노스페이스키즈\n",
       "10         레쓰비\n",
       "11         레쓰비\n",
       "12         NaN\n",
       "13         레쓰비\n",
       "14         레쓰비\n",
       "15         레쓰비\n",
       "16         NaN\n",
       "17         NaN\n",
       "18         레쓰비\n",
       "19         레쓰비"
      ]
     },
     "execution_count": 220,
     "metadata": {},
     "output_type": "execute_result"
    }
   ],
   "source": [
    "a = pd.DataFrame()\n",
    "a['test'] = [raw1_sorted_time['act_kwd'].loc[s] if type(raw1_sorted_time['act_kwd'].loc[s]) == str \n",
    "             else (raw1_sorted_time['act_kwd'].loc[s-1] if raw1_sorted_time['clnt_id'].loc[s] == raw1_sorted_time['clnt_id'].loc[s-1] \n",
    "                   and raw1_sorted_time['sess_id'].loc[s] == raw1_sorted_time['sess_id'].loc[s-1] \n",
    "                   and raw1_sorted_time['biz_unit'].loc[s] == raw1_sorted_time['biz_unit'].loc[s-1] \n",
    "                   and raw1_sorted_time['hit_pss_tm'].loc[s]-raw1_sorted_time['hit_pss_tm'].loc[s-1] <= 1800000 \n",
    "                   else 'bsd') for s in range(20)]\n",
    "a"
   ]
  },
  {
   "cell_type": "code",
   "execution_count": null,
   "metadata": {},
   "outputs": [],
   "source": []
  },
  {
   "cell_type": "code",
   "execution_count": 201,
   "metadata": {},
   "outputs": [
    {
     "data": {
      "text/html": [
       "<div>\n",
       "<style scoped>\n",
       "    .dataframe tbody tr th:only-of-type {\n",
       "        vertical-align: middle;\n",
       "    }\n",
       "\n",
       "    .dataframe tbody tr th {\n",
       "        vertical-align: top;\n",
       "    }\n",
       "\n",
       "    .dataframe thead th {\n",
       "        text-align: right;\n",
       "    }\n",
       "</style>\n",
       "<table border=\"1\" class=\"dataframe\">\n",
       "  <thead>\n",
       "    <tr style=\"text-align: right;\">\n",
       "      <th></th>\n",
       "      <th>test</th>\n",
       "    </tr>\n",
       "  </thead>\n",
       "  <tbody>\n",
       "    <tr>\n",
       "      <th>0</th>\n",
       "      <td>과일선물세트</td>\n",
       "    </tr>\n",
       "    <tr>\n",
       "      <th>1</th>\n",
       "      <td>과일선물세트 백화점</td>\n",
       "    </tr>\n",
       "    <tr>\n",
       "      <th>2</th>\n",
       "      <td>과일바구니</td>\n",
       "    </tr>\n",
       "    <tr>\n",
       "      <th>3</th>\n",
       "      <td>초등가을잠바</td>\n",
       "    </tr>\n",
       "    <tr>\n",
       "      <th>4</th>\n",
       "      <td>초등가을점퍼</td>\n",
       "    </tr>\n",
       "    <tr>\n",
       "      <th>5</th>\n",
       "      <td>초등남아옷</td>\n",
       "    </tr>\n",
       "    <tr>\n",
       "      <th>6</th>\n",
       "      <td>초등남아점퍼</td>\n",
       "    </tr>\n",
       "    <tr>\n",
       "      <th>7</th>\n",
       "      <td>노스페이스키즈</td>\n",
       "    </tr>\n",
       "    <tr>\n",
       "      <th>8</th>\n",
       "      <td>노스페이스초등</td>\n",
       "    </tr>\n",
       "    <tr>\n",
       "      <th>9</th>\n",
       "      <td>노스페이스키즈</td>\n",
       "    </tr>\n",
       "    <tr>\n",
       "      <th>10</th>\n",
       "      <td>레쓰비</td>\n",
       "    </tr>\n",
       "    <tr>\n",
       "      <th>11</th>\n",
       "      <td>bsd</td>\n",
       "    </tr>\n",
       "    <tr>\n",
       "      <th>12</th>\n",
       "      <td>bsd</td>\n",
       "    </tr>\n",
       "    <tr>\n",
       "      <th>13</th>\n",
       "      <td>레쓰비</td>\n",
       "    </tr>\n",
       "    <tr>\n",
       "      <th>14</th>\n",
       "      <td>레쓰비</td>\n",
       "    </tr>\n",
       "    <tr>\n",
       "      <th>15</th>\n",
       "      <td>bsd</td>\n",
       "    </tr>\n",
       "    <tr>\n",
       "      <th>16</th>\n",
       "      <td>bsd</td>\n",
       "    </tr>\n",
       "    <tr>\n",
       "      <th>17</th>\n",
       "      <td>bsd</td>\n",
       "    </tr>\n",
       "    <tr>\n",
       "      <th>18</th>\n",
       "      <td>레쓰비</td>\n",
       "    </tr>\n",
       "    <tr>\n",
       "      <th>19</th>\n",
       "      <td>bsd</td>\n",
       "    </tr>\n",
       "  </tbody>\n",
       "</table>\n",
       "</div>"
      ],
      "text/plain": [
       "          test\n",
       "0       과일선물세트\n",
       "1   과일선물세트 백화점\n",
       "2        과일바구니\n",
       "3       초등가을잠바\n",
       "4       초등가을점퍼\n",
       "5        초등남아옷\n",
       "6       초등남아점퍼\n",
       "7      노스페이스키즈\n",
       "8      노스페이스초등\n",
       "9      노스페이스키즈\n",
       "10         레쓰비\n",
       "11         bsd\n",
       "12         bsd\n",
       "13         레쓰비\n",
       "14         레쓰비\n",
       "15         bsd\n",
       "16         bsd\n",
       "17         bsd\n",
       "18         레쓰비\n",
       "19         bsd"
      ]
     },
     "execution_count": 201,
     "metadata": {},
     "output_type": "execute_result"
    }
   ],
   "source": [
    "a = pd.DataFrame()\n",
    "a['test'] = [raw1_sorted_time['act_kwd'].loc[s] if type(raw1_sorted_time['act_kwd'].loc[s]) == str else ('asd' if 2 == 3 else 'bsd') for s in range(20)]\n",
    "a"
   ]
  },
  {
   "cell_type": "code",
   "execution_count": null,
   "metadata": {},
   "outputs": [],
   "source": []
  },
  {
   "cell_type": "code",
   "execution_count": 187,
   "metadata": {},
   "outputs": [
    {
     "data": {
      "text/plain": [
       "'과일선물세트'"
      ]
     },
     "execution_count": 187,
     "metadata": {},
     "output_type": "execute_result"
    }
   ],
   "source": [
    "raw1_sorted_time['act_kwd'].loc[0]"
   ]
  },
  {
   "cell_type": "code",
   "execution_count": 188,
   "metadata": {},
   "outputs": [
    {
     "data": {
      "text/plain": [
       "nan"
      ]
     },
     "execution_count": 188,
     "metadata": {},
     "output_type": "execute_result"
    }
   ],
   "source": [
    "raw1_sorted_time['trans_id'].loc[0]"
   ]
  },
  {
   "cell_type": "code",
   "execution_count": 189,
   "metadata": {},
   "outputs": [
    {
     "data": {
      "text/plain": [
       "str"
      ]
     },
     "execution_count": 189,
     "metadata": {},
     "output_type": "execute_result"
    }
   ],
   "source": [
    "type(raw1_sorted_time['act_kwd'].loc[0])"
   ]
  },
  {
   "cell_type": "code",
   "execution_count": 191,
   "metadata": {},
   "outputs": [
    {
     "data": {
      "text/plain": [
       "True"
      ]
     },
     "execution_count": 191,
     "metadata": {},
     "output_type": "execute_result"
    }
   ],
   "source": [
    "type(raw1_sorted_time['act_kwd'].loc[0]) == str"
   ]
  },
  {
   "cell_type": "code",
   "execution_count": 192,
   "metadata": {},
   "outputs": [
    {
     "data": {
      "text/plain": [
       "False"
      ]
     },
     "execution_count": 192,
     "metadata": {},
     "output_type": "execute_result"
    }
   ],
   "source": [
    "type(raw1_sorted_time['trans_id'].loc[0]) == str"
   ]
  },
  {
   "cell_type": "code",
   "execution_count": 190,
   "metadata": {},
   "outputs": [
    {
     "data": {
      "text/plain": [
       "numpy.float64"
      ]
     },
     "execution_count": 190,
     "metadata": {},
     "output_type": "execute_result"
    }
   ],
   "source": [
    "type(raw1_sorted_time['trans_id'].loc[0])"
   ]
  },
  {
   "cell_type": "code",
   "execution_count": 183,
   "metadata": {},
   "outputs": [
    {
     "data": {
      "text/plain": [
       "True"
      ]
     },
     "execution_count": 183,
     "metadata": {},
     "output_type": "execute_result"
    }
   ],
   "source": [
    "np.isnan(raw1_sorted_time['trans_id'].loc[0])"
   ]
  },
  {
   "cell_type": "code",
   "execution_count": 186,
   "metadata": {},
   "outputs": [
    {
     "ename": "TypeError",
     "evalue": "ufunc 'isnan' not supported for the input types, and the inputs could not be safely coerced to any supported types according to the casting rule ''safe''",
     "output_type": "error",
     "traceback": [
      "\u001b[0;31m---------------------------------------------------------------------------\u001b[0m",
      "\u001b[0;31mTypeError\u001b[0m                                 Traceback (most recent call last)",
      "\u001b[0;32m<ipython-input-186-dc8ad84a2f48>\u001b[0m in \u001b[0;36m<module>\u001b[0;34m\u001b[0m\n\u001b[0;32m----> 1\u001b[0;31m \u001b[0mnp\u001b[0m\u001b[0;34m.\u001b[0m\u001b[0misnan\u001b[0m\u001b[0;34m(\u001b[0m\u001b[0;34m\"asd\"\u001b[0m\u001b[0;34m)\u001b[0m\u001b[0;34m\u001b[0m\u001b[0;34m\u001b[0m\u001b[0m\n\u001b[0m",
      "\u001b[0;31mTypeError\u001b[0m: ufunc 'isnan' not supported for the input types, and the inputs could not be safely coerced to any supported types according to the casting rule ''safe''"
     ]
    }
   ],
   "source": [
    "np.isnan(\"asd\")"
   ]
  },
  {
   "cell_type": "code",
   "execution_count": null,
   "metadata": {},
   "outputs": [],
   "source": []
  },
  {
   "cell_type": "code",
   "execution_count": 168,
   "metadata": {},
   "outputs": [
    {
     "data": {
      "text/plain": [
       "numpy.float64"
      ]
     },
     "execution_count": 168,
     "metadata": {},
     "output_type": "execute_result"
    }
   ],
   "source": [
    "type(raw1_sorted_time['trans_id'].loc[0])"
   ]
  },
  {
   "cell_type": "code",
   "execution_count": 171,
   "metadata": {},
   "outputs": [
    {
     "ename": "NameError",
     "evalue": "name 'NaN' is not defined",
     "output_type": "error",
     "traceback": [
      "\u001b[0;31m---------------------------------------------------------------------------\u001b[0m",
      "\u001b[0;31mNameError\u001b[0m                                 Traceback (most recent call last)",
      "\u001b[0;32m<ipython-input-171-7a373b7077a3>\u001b[0m in \u001b[0;36m<module>\u001b[0;34m\u001b[0m\n\u001b[0;32m----> 1\u001b[0;31m \u001b[0mraw1_sorted_time\u001b[0m\u001b[0;34m[\u001b[0m\u001b[0;34m'trans_id'\u001b[0m\u001b[0;34m]\u001b[0m\u001b[0;34m.\u001b[0m\u001b[0mloc\u001b[0m\u001b[0;34m[\u001b[0m\u001b[0;36m0\u001b[0m\u001b[0;34m]\u001b[0m \u001b[0;34m==\u001b[0m \u001b[0mnp\u001b[0m\u001b[0;34m.\u001b[0m\u001b[0marray\u001b[0m\u001b[0;34m(\u001b[0m\u001b[0mNaN\u001b[0m\u001b[0;34m)\u001b[0m\u001b[0;34m\u001b[0m\u001b[0;34m\u001b[0m\u001b[0m\n\u001b[0m",
      "\u001b[0;31mNameError\u001b[0m: name 'NaN' is not defined"
     ]
    }
   ],
   "source": [
    "raw1_sorted_time['trans_id'].loc[0] == np.array(NaN)"
   ]
  },
  {
   "cell_type": "code",
   "execution_count": null,
   "metadata": {},
   "outputs": [],
   "source": []
  },
  {
   "cell_type": "code",
   "execution_count": null,
   "metadata": {},
   "outputs": [],
   "source": [
    "raw1_sorted_time['act_kwd2'] = [raw1_sorted_time]"
   ]
  },
  {
   "cell_type": "code",
   "execution_count": null,
   "metadata": {},
   "outputs": [],
   "source": []
  },
  {
   "cell_type": "code",
   "execution_count": null,
   "metadata": {},
   "outputs": [],
   "source": []
  },
  {
   "cell_type": "markdown",
   "metadata": {},
   "source": [
    "### 1-1. clnt_Id : 고객 고유 식별 ID\n",
    "\n",
    " * 2-1, 3-1 clnt_id와 동일 의미"
   ]
  },
  {
   "cell_type": "markdown",
   "metadata": {},
   "source": [
    " * 고객 ID는 몇 개나 있는가?? => 7만명의 고객 ID 보유\n",
    "     * 1. 온라인 행동 데이터 내 고객ID 갯수 : 72399개\n",
    "     * 2. 거래 정보 데이터 내 고객ID 갯수 :11284개\n",
    "     * 3. 사용자 demog 정보 내 고객ID 갯수 : 72399개"
   ]
  },
  {
   "cell_type": "code",
   "execution_count": 5,
   "metadata": {},
   "outputs": [
    {
     "data": {
      "text/plain": [
       "72399"
      ]
     },
     "execution_count": 5,
     "metadata": {},
     "output_type": "execute_result"
    }
   ],
   "source": [
    "raw_data1_Online_Act['clnt_id'].nunique()"
   ]
  },
  {
   "cell_type": "markdown",
   "metadata": {},
   "source": [
    " * 고객ID 별로 온라인 행동 데이터는 몇 건이 있는지? => 최대 6600건, 최소 1건"
   ]
  },
  {
   "cell_type": "code",
   "execution_count": 6,
   "metadata": {},
   "outputs": [
    {
     "data": {
      "text/plain": [
       "61252    6663\n",
       "57915    5317\n",
       "48181    4867\n",
       "62445    4709\n",
       "49906    4131\n",
       "         ... \n",
       "22838       1\n",
       "24306       1\n",
       "26928       1\n",
       "64305       1\n",
       "49714       1\n",
       "Name: clnt_id, Length: 72399, dtype: int64"
      ]
     },
     "execution_count": 6,
     "metadata": {},
     "output_type": "execute_result"
    }
   ],
   "source": [
    "raw_data1_Online_Act['clnt_id'].value_counts()"
   ]
  },
  {
   "cell_type": "markdown",
   "metadata": {},
   "source": [
    " * 결측치 갯수 확인 => 없음"
   ]
  },
  {
   "cell_type": "code",
   "execution_count": 7,
   "metadata": {},
   "outputs": [
    {
     "data": {
      "text/plain": [
       "0"
      ]
     },
     "execution_count": 7,
     "metadata": {},
     "output_type": "execute_result"
    }
   ],
   "source": [
    "raw_data1_Online_Act['clnt_id'].isna().sum()"
   ]
  },
  {
   "cell_type": "markdown",
   "metadata": {},
   "source": [
    "### 1-2. sess_id : 세션이 시작될 때 부여되는 순번ID"
   ]
  },
  {
   "cell_type": "markdown",
   "metadata": {},
   "source": [
    " * 세션 ID는 몇 개나 있는가?? => 550개\n",
    " \n",
    "     * 고객ID 7만명에 대한 온라인 행동이 있는데, 세션은 550개 밖에 안된다??\n",
    "         * 세션ID에 결측치 많을 것을 예상 => 결측치 없음(아래 참조)\n",
    "         * 같은 세션ID에 서로다른 고객ID 존재 예상"
   ]
  },
  {
   "cell_type": "code",
   "execution_count": 8,
   "metadata": {},
   "outputs": [
    {
     "data": {
      "text/plain": [
       "550"
      ]
     },
     "execution_count": 8,
     "metadata": {},
     "output_type": "execute_result"
    }
   ],
   "source": [
    "raw_data1_Online_Act['sess_id'].nunique()"
   ]
  },
  {
   "cell_type": "markdown",
   "metadata": {},
   "source": [
    " * 세션ID 별로 온라인 행동 데이터는 몇 건이 있는지? => 최대 51만 건, 최소 1건"
   ]
  },
  {
   "cell_type": "code",
   "execution_count": 9,
   "metadata": {},
   "outputs": [
    {
     "data": {
      "text/plain": [
       "1      517024\n",
       "2      279811\n",
       "3      203178\n",
       "4      155479\n",
       "5      130391\n",
       "        ...  \n",
       "527         1\n",
       "516         1\n",
       "524         1\n",
       "518         1\n",
       "514         1\n",
       "Name: sess_id, Length: 550, dtype: int64"
      ]
     },
     "execution_count": 9,
     "metadata": {},
     "output_type": "execute_result"
    }
   ],
   "source": [
    "raw_data1_Online_Act['sess_id'].value_counts()"
   ]
  },
  {
   "cell_type": "markdown",
   "metadata": {},
   "source": [
    " * 결측치 갯수 확인 => 없음"
   ]
  },
  {
   "cell_type": "code",
   "execution_count": 10,
   "metadata": {},
   "outputs": [
    {
     "data": {
      "text/plain": [
       "0"
      ]
     },
     "execution_count": 10,
     "metadata": {},
     "output_type": "execute_result"
    }
   ],
   "source": [
    "raw_data1_Online_Act['sess_id'].isna().sum()"
   ]
  },
  {
   "cell_type": "markdown",
   "metadata": {},
   "source": [
    " * 같은 세선ID(=1) 내에 서로 다른 고객 ID 있는지 확인\n",
    "     * 세션ID == 1 에서만 약 7만개의 고객 ID가 있음\n",
    "     * 서로 다른 고객에게 유일하게 세션ID 부여되지 않는 다는 사실을 알게됨\n",
    "     * 세션ID가 정확히 어떤 기준으로 부여되는지 추가 확인이 필요함"
   ]
  },
  {
   "cell_type": "code",
   "execution_count": 11,
   "metadata": {},
   "outputs": [],
   "source": [
    "sess_is_1 = raw_data1_Online_Act['clnt_id'][raw_data1_Online_Act['sess_id']==1]"
   ]
  },
  {
   "cell_type": "code",
   "execution_count": 12,
   "metadata": {},
   "outputs": [
    {
     "data": {
      "text/plain": [
       "0    7809\n",
       "1    7809\n",
       "2    7809\n",
       "3    7809\n",
       "4    7809\n",
       "Name: clnt_id, dtype: int64"
      ]
     },
     "execution_count": 12,
     "metadata": {},
     "output_type": "execute_result"
    }
   ],
   "source": [
    "sess_is_1.head()"
   ]
  },
  {
   "cell_type": "code",
   "execution_count": 13,
   "metadata": {},
   "outputs": [
    {
     "data": {
      "text/plain": [
       "72399"
      ]
     },
     "execution_count": 13,
     "metadata": {},
     "output_type": "execute_result"
    }
   ],
   "source": [
    "sess_is_1.nunique()"
   ]
  },
  {
   "cell_type": "markdown",
   "metadata": {},
   "source": [
    "### 1-3. hit_seq : 조회 순서를 알 수 있도록 한 일련번호"
   ]
  },
  {
   "cell_type": "markdown",
   "metadata": {},
   "source": [
    " * 조회 일련번호는 몇 개나 있는가?? => 357개\n",
    " \n",
    "     * 조회 일련번호가 다르면, 조회 상품이 다른가? => 추후 확인할 것"
   ]
  },
  {
   "cell_type": "code",
   "execution_count": 14,
   "metadata": {},
   "outputs": [
    {
     "data": {
      "text/plain": [
       "357"
      ]
     },
     "execution_count": 14,
     "metadata": {},
     "output_type": "execute_result"
    }
   ],
   "source": [
    "raw_data1_Online_Act['hit_seq'].nunique()"
   ]
  },
  {
   "cell_type": "markdown",
   "metadata": {},
   "source": [
    " * 조회일련번호 별로 온라인 행동데이터는 몇 건이 있는지? => 최대 36만 건 , 최소 1건"
   ]
  },
  {
   "cell_type": "code",
   "execution_count": 15,
   "metadata": {},
   "outputs": [
    {
     "data": {
      "text/plain": [
       "1      367149\n",
       "2      246633\n",
       "3      198580\n",
       "4      167819\n",
       "5      143873\n",
       "        ...  \n",
       "282         1\n",
       "281         1\n",
       "280         1\n",
       "279         1\n",
       "357         1\n",
       "Name: hit_seq, Length: 357, dtype: int64"
      ]
     },
     "execution_count": 15,
     "metadata": {},
     "output_type": "execute_result"
    }
   ],
   "source": [
    "raw_data1_Online_Act['hit_seq'].value_counts()"
   ]
  },
  {
   "cell_type": "markdown",
   "metadata": {},
   "source": [
    " * 결측치 갯수 확인 => 없음"
   ]
  },
  {
   "cell_type": "code",
   "execution_count": 16,
   "metadata": {},
   "outputs": [
    {
     "data": {
      "text/plain": [
       "0"
      ]
     },
     "execution_count": 16,
     "metadata": {},
     "output_type": "execute_result"
    }
   ],
   "source": [
    "raw_data1_Online_Act['hit_seq'].isna().sum()"
   ]
  },
  {
   "cell_type": "markdown",
   "metadata": {},
   "source": [
    "### 1-4. action_type : 온라인 행동 유형\n",
    " *  0:검색 / 1:제품 목록 / 2:제품 세부정보 보기 / 3: 장바구니 제품 추가 / 4:장바구니 제품 삭제 \n",
    " * 5:결제 시도 / 6:구매완료 / 7:구매환불 / 8:결재 옵션"
   ]
  },
  {
   "cell_type": "markdown",
   "metadata": {},
   "source": [
    " * 온라인 행동 유형는 몇 개나 있는가?? => 8개\n",
    " \n",
    "     * class 갯수는 9개이므로 존재하지 않는 행동 하나 있음\n",
    "         * '8. 결재 옵션'은 데이터 존재하지 않음(하단 확인)"
   ]
  },
  {
   "cell_type": "code",
   "execution_count": 17,
   "metadata": {},
   "outputs": [
    {
     "data": {
      "text/plain": [
       "8"
      ]
     },
     "execution_count": 17,
     "metadata": {},
     "output_type": "execute_result"
    }
   ],
   "source": [
    "raw_data1_Online_Act['action_type'].nunique()\n"
   ]
  },
  {
   "cell_type": "markdown",
   "metadata": {},
   "source": [
    " * 온라인 행동 유형 별 온라인 행동데이터는 몇 건이 있는지? => 최대 75만 건 , 최소 5600건\n",
    "     * 제일 많은 행동은 약 75만 건의 '5. 결제 시도' 이며\n",
    "     * 제일 적은 행동은 약 5600건의 '7. 구매 환불' 임\n",
    "     * '8. 결재 옵션'은 데이터 존제하지 않음이 확인됨"
   ]
  },
  {
   "cell_type": "code",
   "execution_count": 18,
   "metadata": {},
   "outputs": [
    {
     "data": {
      "text/plain": [
       "5    750530\n",
       "2    655266\n",
       "0    651638\n",
       "3    596765\n",
       "1    307998\n",
       "4    172240\n",
       "6     56249\n",
       "7      5676\n",
       "Name: action_type, dtype: int64"
      ]
     },
     "execution_count": 18,
     "metadata": {},
     "output_type": "execute_result"
    }
   ],
   "source": [
    "raw_data1_Online_Act['action_type'].value_counts()"
   ]
  },
  {
   "cell_type": "markdown",
   "metadata": {},
   "source": [
    " * 결측치 갯수 확인 => 없음"
   ]
  },
  {
   "cell_type": "code",
   "execution_count": 19,
   "metadata": {},
   "outputs": [
    {
     "data": {
      "text/plain": [
       "0"
      ]
     },
     "execution_count": 19,
     "metadata": {},
     "output_type": "execute_result"
    }
   ],
   "source": [
    "raw_data1_Online_Act['action_type'].isna().sum()"
   ]
  },
  {
   "cell_type": "markdown",
   "metadata": {},
   "source": [
    "### 1-5. biz_unit(업종단위) : 온라인 및 오프라인 이용코드"
   ]
  },
  {
   "cell_type": "markdown",
   "metadata": {},
   "source": [
    " * 업종단위는 몇 개나 있는가?? => 3개\n",
    "     * 1. 온라인 행동 데이터 내 업종단위 갯수 : 3개 (A01, A02, A03)\n",
    "     * 2. 거래 정보 데이터 내 업종단위 갯수 : 6개 (A01, A02, A03, B01, B02, B03)"
   ]
  },
  {
   "cell_type": "code",
   "execution_count": 20,
   "metadata": {},
   "outputs": [
    {
     "data": {
      "text/plain": [
       "3"
      ]
     },
     "execution_count": 20,
     "metadata": {},
     "output_type": "execute_result"
    }
   ],
   "source": [
    "raw_data1_Online_Act['biz_unit'].nunique()"
   ]
  },
  {
   "cell_type": "markdown",
   "metadata": {},
   "source": [
    " * 업종단위 별로 온라인 행동데이터는 몇 건이 있는지? => 최대 23만 건 , 최소 19만건"
   ]
  },
  {
   "cell_type": "code",
   "execution_count": 21,
   "metadata": {},
   "outputs": [
    {
     "data": {
      "text/plain": [
       "A03    2331437\n",
       "A02     668093\n",
       "A01     196832\n",
       "Name: biz_unit, dtype: int64"
      ]
     },
     "execution_count": 21,
     "metadata": {},
     "output_type": "execute_result"
    }
   ],
   "source": [
    "raw_data1_Online_Act['biz_unit'].value_counts()"
   ]
  },
  {
   "cell_type": "markdown",
   "metadata": {},
   "source": [
    " * 결측치 갯수 확인 => 없음"
   ]
  },
  {
   "cell_type": "code",
   "execution_count": 22,
   "metadata": {},
   "outputs": [
    {
     "data": {
      "text/plain": [
       "0"
      ]
     },
     "execution_count": 22,
     "metadata": {},
     "output_type": "execute_result"
    }
   ],
   "source": [
    "raw_data1_Online_Act['biz_unit'].isna().sum()"
   ]
  },
  {
   "cell_type": "markdown",
   "metadata": {},
   "source": [
    "### 1-6. sess_dt : 세션 일자(년월일)"
   ]
  },
  {
   "cell_type": "markdown",
   "metadata": {},
   "source": [
    " * 세션 일자는 몇 개나 있는가?? => 92개\n",
    "     * 3달치 데이터가 날짜마다 있을 것을 예상됨\n",
    "         * 7,8,9월 일자 = 31 + 31 + 30 = 92"
   ]
  },
  {
   "cell_type": "code",
   "execution_count": 23,
   "metadata": {},
   "outputs": [
    {
     "data": {
      "text/plain": [
       "92"
      ]
     },
     "execution_count": 23,
     "metadata": {},
     "output_type": "execute_result"
    }
   ],
   "source": [
    "raw_data1_Online_Act['sess_dt'].nunique()"
   ]
  },
  {
   "cell_type": "markdown",
   "metadata": {},
   "source": [
    " * 세션 일자 별로 온라인 행동데이터는 몇 건이 있는지? => 최대 5.2만 건 , 최소 1.1만건\n",
    "     * 월별로 데이터 몇 개인지 확인해보기 => 추후 수행"
   ]
  },
  {
   "cell_type": "code",
   "execution_count": 24,
   "metadata": {},
   "outputs": [
    {
     "data": {
      "text/plain": [
       "20190708    52860\n",
       "20190703    47333\n",
       "20190729    46363\n",
       "20190905    44881\n",
       "20190918    43647\n",
       "            ...  \n",
       "20190811    24115\n",
       "20190831    23355\n",
       "20190915    23261\n",
       "20190912    19337\n",
       "20190913    11880\n",
       "Name: sess_dt, Length: 92, dtype: int64"
      ]
     },
     "execution_count": 24,
     "metadata": {},
     "output_type": "execute_result"
    }
   ],
   "source": [
    "raw_data1_Online_Act['sess_dt'].value_counts()"
   ]
  },
  {
   "cell_type": "markdown",
   "metadata": {},
   "source": [
    " * 결측치 갯수 확인 => 없음"
   ]
  },
  {
   "cell_type": "code",
   "execution_count": 25,
   "metadata": {},
   "outputs": [
    {
     "data": {
      "text/plain": [
       "0"
      ]
     },
     "execution_count": 25,
     "metadata": {},
     "output_type": "execute_result"
    }
   ],
   "source": [
    "raw_data1_Online_Act['sess_dt'].isna().sum()"
   ]
  },
  {
   "cell_type": "markdown",
   "metadata": {},
   "source": [
    "### 1-7. hit_tm : 조회 시각(HH:MM)"
   ]
  },
  {
   "cell_type": "markdown",
   "metadata": {},
   "source": [
    " * 조회 시각는 몇 개나 있는가?? => 1440개"
   ]
  },
  {
   "cell_type": "code",
   "execution_count": 26,
   "metadata": {},
   "outputs": [
    {
     "data": {
      "text/plain": [
       "1440"
      ]
     },
     "execution_count": 26,
     "metadata": {},
     "output_type": "execute_result"
    }
   ],
   "source": [
    "raw_data1_Online_Act['hit_tm'].nunique()"
   ]
  },
  {
   "cell_type": "markdown",
   "metadata": {},
   "source": [
    " * 조회 시각 별로 온라인 행동데이터는 몇 건이 있는지? => 최대 5500건 , 최소 180건\n",
    "     * 시간 대 별로 데이터 몇 개인지 확인해보기 => 추후 수행\n",
    "         * 대충봤을 때, 오전 11시가 제일 많고, 새벽 5시 쯤이 제일 적음\n",
    "     * 추후 시간대별로 categorcal하게 전처리 한다면 의미 도출 및 user 그룹 분류에 용이할 것을 판단됨\n",
    "         * ex) 0\\~6시=새벽, 6\\~12시=오전, 12\\~18시=오후, 18\\~24=밤"
   ]
  },
  {
   "cell_type": "code",
   "execution_count": 27,
   "metadata": {},
   "outputs": [
    {
     "data": {
      "text/plain": [
       "11:15    5548\n",
       "11:10    5504\n",
       "11:16    5437\n",
       "11:14    5431\n",
       "11:13    5401\n",
       "         ... \n",
       "04:58     208\n",
       "04:53     207\n",
       "05:01     206\n",
       "04:57     192\n",
       "05:06     181\n",
       "Name: hit_tm, Length: 1440, dtype: int64"
      ]
     },
     "execution_count": 27,
     "metadata": {},
     "output_type": "execute_result"
    }
   ],
   "source": [
    "raw_data1_Online_Act['hit_tm'].value_counts()"
   ]
  },
  {
   "cell_type": "markdown",
   "metadata": {},
   "source": [
    " * 결측치 갯수 확인 => 없음"
   ]
  },
  {
   "cell_type": "code",
   "execution_count": 28,
   "metadata": {},
   "outputs": [
    {
     "data": {
      "text/plain": [
       "0"
      ]
     },
     "execution_count": 28,
     "metadata": {},
     "output_type": "execute_result"
    }
   ],
   "source": [
    "raw_data1_Online_Act['hit_tm'].isna().sum()"
   ]
  },
  {
   "cell_type": "markdown",
   "metadata": {},
   "source": [
    "### 1-8. hit_pss_tm : 조회 경과시간\n",
    "\n",
    " * 세션의 시작 부터 조회까지 걸리시간(밀리초) / 첫번째 조회는 0으로 설정"
   ]
  },
  {
   "cell_type": "markdown",
   "metadata": {},
   "source": [
    " * 조회 경과시간는 몇 개나 있는가?? => 150만개"
   ]
  },
  {
   "cell_type": "code",
   "execution_count": 29,
   "metadata": {},
   "outputs": [
    {
     "data": {
      "text/plain": [
       "1539787"
      ]
     },
     "execution_count": 29,
     "metadata": {},
     "output_type": "execute_result"
    }
   ],
   "source": [
    "raw_data1_Online_Act['hit_pss_tm'].nunique()"
   ]
  },
  {
   "cell_type": "markdown",
   "metadata": {},
   "source": [
    " * 조회 경과시간 별로 온라인 행동데이터는 몇 건이 있는지? => 최대 14900건 , 최소 1건\n",
    " \n",
    "     * 사람이 정상적으로 조회하는데 최소 1초 걸린다고 가정하면, 현재 class 값 0~1000까지는 비정상데이터로 판단할 수 있음\n",
    "     * 1초 이하의 조회 경과시간 데이터 갯수 : 약 6만개의 데이터는 비정상 데이터\n",
    "     * 3초로 가정 시 : 8.4만개 데이터 비정상"
   ]
  },
  {
   "cell_type": "code",
   "execution_count": 30,
   "metadata": {},
   "outputs": [
    {
     "data": {
      "text/plain": [
       "0          14921\n",
       "1            953\n",
       "2            818\n",
       "3            669\n",
       "4            467\n",
       "           ...  \n",
       "1808418        1\n",
       "1728541        1\n",
       "1720345        1\n",
       "1718294        1\n",
       "2686699        1\n",
       "Name: hit_pss_tm, Length: 1539787, dtype: int64"
      ]
     },
     "execution_count": 30,
     "metadata": {},
     "output_type": "execute_result"
    }
   ],
   "source": [
    "raw_data1_Online_Act['hit_pss_tm'].value_counts()"
   ]
  },
  {
   "cell_type": "code",
   "execution_count": 31,
   "metadata": {},
   "outputs": [
    {
     "data": {
      "text/plain": [
       "60447"
      ]
     },
     "execution_count": 31,
     "metadata": {},
     "output_type": "execute_result"
    }
   ],
   "source": [
    "len(raw_data1_Online_Act[raw_data1_Online_Act['hit_pss_tm'] <= 1000])"
   ]
  },
  {
   "cell_type": "code",
   "execution_count": 32,
   "metadata": {},
   "outputs": [
    {
     "data": {
      "text/plain": [
       "72662"
      ]
     },
     "execution_count": 32,
     "metadata": {},
     "output_type": "execute_result"
    }
   ],
   "source": [
    "len(raw_data1_Online_Act[raw_data1_Online_Act['hit_pss_tm'] <= 2000])"
   ]
  },
  {
   "cell_type": "code",
   "execution_count": 33,
   "metadata": {},
   "outputs": [
    {
     "data": {
      "text/plain": [
       "84839"
      ]
     },
     "execution_count": 33,
     "metadata": {},
     "output_type": "execute_result"
    }
   ],
   "source": [
    "len(raw_data1_Online_Act[raw_data1_Online_Act['hit_pss_tm'] <= 3000])"
   ]
  },
  {
   "cell_type": "markdown",
   "metadata": {},
   "source": [
    " * 결측치 갯수 확인 => 없음"
   ]
  },
  {
   "cell_type": "code",
   "execution_count": 34,
   "metadata": {},
   "outputs": [
    {
     "data": {
      "text/plain": [
       "0"
      ]
     },
     "execution_count": 34,
     "metadata": {},
     "output_type": "execute_result"
    }
   ],
   "source": [
    "raw_data1_Online_Act['hit_pss_tm'].isna().sum()"
   ]
  },
  {
   "cell_type": "markdown",
   "metadata": {},
   "source": [
    "### 1-9. trans_id : 거래 ID(구매내역을 고유 식별할 수 있는 ID)"
   ]
  },
  {
   "cell_type": "markdown",
   "metadata": {},
   "source": [
    " * 거래 ID는 몇 개나 있는가?? => 5만개\n",
    " \n",
    "     * 총 300만의 온라인 행동 중 구매 관련 데이터는 50997개\n",
    "     * 1. 온라인 행동 데이터 내 거래ID 갯수 : 50997개\n",
    "     * 2. 거래 정보 데이터 내 거래ID 갯수 : 116440개"
   ]
  },
  {
   "cell_type": "code",
   "execution_count": 35,
   "metadata": {},
   "outputs": [
    {
     "data": {
      "text/plain": [
       "50997"
      ]
     },
     "execution_count": 35,
     "metadata": {},
     "output_type": "execute_result"
    }
   ],
   "source": [
    "raw_data1_Online_Act['trans_id'].nunique()"
   ]
  },
  {
   "cell_type": "markdown",
   "metadata": {},
   "source": [
    " * 결측치 갯수 확인 => 3139373 개\n",
    "     * 온라인 행동 데이터 총 갯수 : 3196362 개"
   ]
  },
  {
   "cell_type": "code",
   "execution_count": 36,
   "metadata": {},
   "outputs": [
    {
     "data": {
      "text/plain": [
       "3139373"
      ]
     },
     "execution_count": 36,
     "metadata": {},
     "output_type": "execute_result"
    }
   ],
   "source": [
    "raw_data1_Online_Act['trans_id'].isna().sum()"
   ]
  },
  {
   "cell_type": "markdown",
   "metadata": {},
   "source": [
    " * 거래id가 NaN 이 아닌 데이터들이 갖는 온라인 행동 정보 확인\n",
    "     * '6. 구매완료'에 대한 거래ID : 51313건\n",
    "         * 위 action_type 열의 EDA 자료를 확인하면 '6. 구매완료' 갯수는 56249개임\n",
    "         * 56249-51313 = 4936건에 대한 '6. 구매완료' 데이터는 거래ID 없음\n",
    "             => 추후확인\n",
    "     * '7. 구매환불'에 대한 거래ID : 5676건\n",
    "         * 위 action_type 열의 EDA 자료를 확인하면 '7. 구매환불' 갯수는 5676개임\n",
    "             => 갯수 일치\n",
    "         * '7. 구매환불' 데이터는 모두 거래ID 존재"
   ]
  },
  {
   "cell_type": "code",
   "execution_count": 37,
   "metadata": {},
   "outputs": [
    {
     "data": {
      "text/plain": [
       "6    51313\n",
       "7     5676\n",
       "Name: action_type, dtype: int64"
      ]
     },
     "execution_count": 37,
     "metadata": {},
     "output_type": "execute_result"
    }
   ],
   "source": [
    "raw_data1_Online_Act['action_type'][raw_data1_Online_Act['trans_id'].isna() != True].value_counts()"
   ]
  },
  {
   "cell_type": "markdown",
   "metadata": {},
   "source": [
    " * 거래ID 별로 온라인 행동데이터는 몇 건이 있는지? => 최대 62건 , 최소 1건"
   ]
  },
  {
   "cell_type": "code",
   "execution_count": 38,
   "metadata": {},
   "outputs": [
    {
     "data": {
      "text/plain": [
       "71558.0     62\n",
       "57672.0     52\n",
       "104537.0    48\n",
       "103669.0    31\n",
       "99521.0     28\n",
       "            ..\n",
       "87919.0      1\n",
       "87918.0      1\n",
       "87917.0      1\n",
       "87916.0      1\n",
       "38728.0      1\n",
       "Name: trans_id, Length: 50997, dtype: int64"
      ]
     },
     "execution_count": 38,
     "metadata": {},
     "output_type": "execute_result"
    }
   ],
   "source": [
    "raw_data1_Online_Act['trans_id'].value_counts()"
   ]
  },
  {
   "cell_type": "markdown",
   "metadata": {},
   "source": [
    "### 1-10. sech_kwd : 고객이 검색한 키워드"
   ]
  },
  {
   "cell_type": "markdown",
   "metadata": {},
   "source": [
    " * 검색키워드는 몇 개나 있는가?? => 10만개"
   ]
  },
  {
   "cell_type": "code",
   "execution_count": 39,
   "metadata": {},
   "outputs": [
    {
     "data": {
      "text/plain": [
       "101952"
      ]
     },
     "execution_count": 39,
     "metadata": {},
     "output_type": "execute_result"
    }
   ],
   "source": [
    "raw_data1_Online_Act['sech_kwd'].nunique()"
   ]
  },
  {
   "cell_type": "markdown",
   "metadata": {},
   "source": [
    " * 검색키워드 별로 온라인 행동데이터는 몇 건이 있는지? => 최대 8985건 , 최소 1건"
   ]
  },
  {
   "cell_type": "code",
   "execution_count": 40,
   "metadata": {},
   "outputs": [
    {
     "data": {
      "text/plain": [
       "우유            8985\n",
       "두부            5210\n",
       "계란            5039\n",
       "생수            4283\n",
       "수박            2694\n",
       "              ... \n",
       "삼성매직인덕션 1구       1\n",
       "이라이트             1\n",
       "벽돌단열벽지           1\n",
       "카즈미              1\n",
       "스콘믹스             1\n",
       "Name: sech_kwd, Length: 101952, dtype: int64"
      ]
     },
     "execution_count": 40,
     "metadata": {},
     "output_type": "execute_result"
    }
   ],
   "source": [
    "raw_data1_Online_Act['sech_kwd'].value_counts()"
   ]
  },
  {
   "cell_type": "code",
   "execution_count": 245,
   "metadata": {},
   "outputs": [
    {
     "ename": "TypeError",
     "evalue": "cannot convert the series to <class 'int'>",
     "output_type": "error",
     "traceback": [
      "\u001b[0;31m---------------------------------------------------------------------------\u001b[0m",
      "\u001b[0;31mTypeError\u001b[0m                                 Traceback (most recent call last)",
      "\u001b[0;32m<ipython-input-245-60d36fe2ded3>\u001b[0m in \u001b[0;36m<module>\u001b[0;34m\u001b[0m\n\u001b[0;32m----> 1\u001b[0;31m \u001b[0mraw_data1_Online_Act\u001b[0m\u001b[0;34m[\u001b[0m\u001b[0mint\u001b[0m\u001b[0;34m(\u001b[0m\u001b[0mraw_data1_Online_Act\u001b[0m\u001b[0;34m[\u001b[0m\u001b[0;34m'sech_kwd'\u001b[0m\u001b[0;34m]\u001b[0m\u001b[0;34m)\u001b[0m \u001b[0;34m>\u001b[0m \u001b[0;36m1\u001b[0m\u001b[0;34m]\u001b[0m\u001b[0;34m\u001b[0m\u001b[0;34m\u001b[0m\u001b[0m\n\u001b[0m",
      "\u001b[0;32m~/anaconda3/envs/aiffel/lib/python3.8/site-packages/pandas/core/series.py\u001b[0m in \u001b[0;36mwrapper\u001b[0;34m(self)\u001b[0m\n\u001b[1;32m    127\u001b[0m         \u001b[0;32mif\u001b[0m \u001b[0mlen\u001b[0m\u001b[0;34m(\u001b[0m\u001b[0mself\u001b[0m\u001b[0;34m)\u001b[0m \u001b[0;34m==\u001b[0m \u001b[0;36m1\u001b[0m\u001b[0;34m:\u001b[0m\u001b[0;34m\u001b[0m\u001b[0;34m\u001b[0m\u001b[0m\n\u001b[1;32m    128\u001b[0m             \u001b[0;32mreturn\u001b[0m \u001b[0mconverter\u001b[0m\u001b[0;34m(\u001b[0m\u001b[0mself\u001b[0m\u001b[0;34m.\u001b[0m\u001b[0miloc\u001b[0m\u001b[0;34m[\u001b[0m\u001b[0;36m0\u001b[0m\u001b[0;34m]\u001b[0m\u001b[0;34m)\u001b[0m\u001b[0;34m\u001b[0m\u001b[0;34m\u001b[0m\u001b[0m\n\u001b[0;32m--> 129\u001b[0;31m         \u001b[0;32mraise\u001b[0m \u001b[0mTypeError\u001b[0m\u001b[0;34m(\u001b[0m\u001b[0;34mf\"cannot convert the series to {converter}\"\u001b[0m\u001b[0;34m)\u001b[0m\u001b[0;34m\u001b[0m\u001b[0;34m\u001b[0m\u001b[0m\n\u001b[0m\u001b[1;32m    130\u001b[0m \u001b[0;34m\u001b[0m\u001b[0m\n\u001b[1;32m    131\u001b[0m     \u001b[0mwrapper\u001b[0m\u001b[0;34m.\u001b[0m\u001b[0m__name__\u001b[0m \u001b[0;34m=\u001b[0m \u001b[0;34mf\"__{converter.__name__}__\"\u001b[0m\u001b[0;34m\u001b[0m\u001b[0;34m\u001b[0m\u001b[0m\n",
      "\u001b[0;31mTypeError\u001b[0m: cannot convert the series to <class 'int'>"
     ]
    }
   ],
   "source": [
    "raw_data1_Online_Act[int(raw_data1_Online_Act['sech_kwd']) > 1]"
   ]
  },
  {
   "cell_type": "markdown",
   "metadata": {},
   "source": [
    " * 결측치 갯수 확인 => 254만개"
   ]
  },
  {
   "cell_type": "code",
   "execution_count": 41,
   "metadata": {},
   "outputs": [
    {
     "data": {
      "text/plain": [
       "2544724"
      ]
     },
     "execution_count": 41,
     "metadata": {},
     "output_type": "execute_result"
    }
   ],
   "source": [
    "raw_data1_Online_Act['sech_kwd'].isna().sum()"
   ]
  },
  {
   "cell_type": "markdown",
   "metadata": {},
   "source": [
    " * 검색 키워드가 있는 데이터만 출력\n",
    "     * 검색 키워드가 있는 데이터는 행동유형이 모두 '0. 검색'임"
   ]
  },
  {
   "cell_type": "code",
   "execution_count": 116,
   "metadata": {},
   "outputs": [
    {
     "data": {
      "text/html": [
       "<div>\n",
       "<style scoped>\n",
       "    .dataframe tbody tr th:only-of-type {\n",
       "        vertical-align: middle;\n",
       "    }\n",
       "\n",
       "    .dataframe tbody tr th {\n",
       "        vertical-align: top;\n",
       "    }\n",
       "\n",
       "    .dataframe thead th {\n",
       "        text-align: right;\n",
       "    }\n",
       "</style>\n",
       "<table border=\"1\" class=\"dataframe\">\n",
       "  <thead>\n",
       "    <tr style=\"text-align: right;\">\n",
       "      <th></th>\n",
       "      <th>clnt_id</th>\n",
       "      <th>sess_id</th>\n",
       "      <th>hit_seq</th>\n",
       "      <th>action_type</th>\n",
       "      <th>biz_unit</th>\n",
       "      <th>sess_dt</th>\n",
       "      <th>hit_tm</th>\n",
       "      <th>hit_pss_tm</th>\n",
       "      <th>trans_id</th>\n",
       "      <th>sech_kwd</th>\n",
       "      <th>tot_pag_view_ct</th>\n",
       "      <th>tot_sess_hr_v</th>\n",
       "      <th>trfc_src</th>\n",
       "      <th>dvc_ctg_nm</th>\n",
       "    </tr>\n",
       "  </thead>\n",
       "  <tbody>\n",
       "    <tr>\n",
       "      <th>2544724</th>\n",
       "      <td>30605</td>\n",
       "      <td>16</td>\n",
       "      <td>1</td>\n",
       "      <td>0</td>\n",
       "      <td>A03</td>\n",
       "      <td>20190907</td>\n",
       "      <td>22:04</td>\n",
       "      <td>14548</td>\n",
       "      <td>NaN</td>\n",
       "      <td>버터</td>\n",
       "      <td>3.0</td>\n",
       "      <td>39.0</td>\n",
       "      <td>DIRECT</td>\n",
       "      <td>NaN</td>\n",
       "    </tr>\n",
       "    <tr>\n",
       "      <th>2544725</th>\n",
       "      <td>30605</td>\n",
       "      <td>12</td>\n",
       "      <td>2</td>\n",
       "      <td>0</td>\n",
       "      <td>A03</td>\n",
       "      <td>20190821</td>\n",
       "      <td>23:36</td>\n",
       "      <td>422952</td>\n",
       "      <td>NaN</td>\n",
       "      <td>카누</td>\n",
       "      <td>5.0</td>\n",
       "      <td>467.0</td>\n",
       "      <td>DIRECT</td>\n",
       "      <td>NaN</td>\n",
       "    </tr>\n",
       "    <tr>\n",
       "      <th>2544726</th>\n",
       "      <td>30605</td>\n",
       "      <td>13</td>\n",
       "      <td>1</td>\n",
       "      <td>0</td>\n",
       "      <td>A03</td>\n",
       "      <td>20190822</td>\n",
       "      <td>14:47</td>\n",
       "      <td>0</td>\n",
       "      <td>NaN</td>\n",
       "      <td>카누</td>\n",
       "      <td>1.0</td>\n",
       "      <td>NaN</td>\n",
       "      <td>DIRECT</td>\n",
       "      <td>NaN</td>\n",
       "    </tr>\n",
       "    <tr>\n",
       "      <th>2544727</th>\n",
       "      <td>28304</td>\n",
       "      <td>1</td>\n",
       "      <td>13</td>\n",
       "      <td>0</td>\n",
       "      <td>A03</td>\n",
       "      <td>20190716</td>\n",
       "      <td>11:36</td>\n",
       "      <td>933562</td>\n",
       "      <td>NaN</td>\n",
       "      <td>비비고만두</td>\n",
       "      <td>56.0</td>\n",
       "      <td>1303.0</td>\n",
       "      <td>PUSH</td>\n",
       "      <td>mobile_web</td>\n",
       "    </tr>\n",
       "    <tr>\n",
       "      <th>2544728</th>\n",
       "      <td>28304</td>\n",
       "      <td>1</td>\n",
       "      <td>11</td>\n",
       "      <td>0</td>\n",
       "      <td>A03</td>\n",
       "      <td>20190716</td>\n",
       "      <td>11:35</td>\n",
       "      <td>820901</td>\n",
       "      <td>NaN</td>\n",
       "      <td>어묵</td>\n",
       "      <td>56.0</td>\n",
       "      <td>1303.0</td>\n",
       "      <td>PUSH</td>\n",
       "      <td>mobile_web</td>\n",
       "    </tr>\n",
       "    <tr>\n",
       "      <th>...</th>\n",
       "      <td>...</td>\n",
       "      <td>...</td>\n",
       "      <td>...</td>\n",
       "      <td>...</td>\n",
       "      <td>...</td>\n",
       "      <td>...</td>\n",
       "      <td>...</td>\n",
       "      <td>...</td>\n",
       "      <td>...</td>\n",
       "      <td>...</td>\n",
       "      <td>...</td>\n",
       "      <td>...</td>\n",
       "      <td>...</td>\n",
       "      <td>...</td>\n",
       "    </tr>\n",
       "    <tr>\n",
       "      <th>3196357</th>\n",
       "      <td>31040</td>\n",
       "      <td>1</td>\n",
       "      <td>1</td>\n",
       "      <td>0</td>\n",
       "      <td>A02</td>\n",
       "      <td>20190815</td>\n",
       "      <td>03:47</td>\n",
       "      <td>13525</td>\n",
       "      <td>NaN</td>\n",
       "      <td>다이슨 에어랩</td>\n",
       "      <td>4.0</td>\n",
       "      <td>62.0</td>\n",
       "      <td>unknown</td>\n",
       "      <td>mobile_web</td>\n",
       "    </tr>\n",
       "    <tr>\n",
       "      <th>3196358</th>\n",
       "      <td>4129</td>\n",
       "      <td>1</td>\n",
       "      <td>2</td>\n",
       "      <td>0</td>\n",
       "      <td>A02</td>\n",
       "      <td>20190721</td>\n",
       "      <td>01:22</td>\n",
       "      <td>250099</td>\n",
       "      <td>NaN</td>\n",
       "      <td>여성메탈시계</td>\n",
       "      <td>3.0</td>\n",
       "      <td>250.0</td>\n",
       "      <td>unknown</td>\n",
       "      <td>mobile_web</td>\n",
       "    </tr>\n",
       "    <tr>\n",
       "      <th>3196359</th>\n",
       "      <td>4129</td>\n",
       "      <td>1</td>\n",
       "      <td>1</td>\n",
       "      <td>0</td>\n",
       "      <td>A02</td>\n",
       "      <td>20190721</td>\n",
       "      <td>01:18</td>\n",
       "      <td>1525</td>\n",
       "      <td>NaN</td>\n",
       "      <td>여성메탈시계</td>\n",
       "      <td>3.0</td>\n",
       "      <td>250.0</td>\n",
       "      <td>unknown</td>\n",
       "      <td>mobile_web</td>\n",
       "    </tr>\n",
       "    <tr>\n",
       "      <th>3196360</th>\n",
       "      <td>54403</td>\n",
       "      <td>3</td>\n",
       "      <td>1</td>\n",
       "      <td>0</td>\n",
       "      <td>A02</td>\n",
       "      <td>20190731</td>\n",
       "      <td>20:14</td>\n",
       "      <td>16905</td>\n",
       "      <td>NaN</td>\n",
       "      <td>비비고왕교자</td>\n",
       "      <td>3.0</td>\n",
       "      <td>68.0</td>\n",
       "      <td>unknown</td>\n",
       "      <td>mobile_app</td>\n",
       "    </tr>\n",
       "    <tr>\n",
       "      <th>3196361</th>\n",
       "      <td>54403</td>\n",
       "      <td>4</td>\n",
       "      <td>1</td>\n",
       "      <td>0</td>\n",
       "      <td>A02</td>\n",
       "      <td>20190818</td>\n",
       "      <td>16:35</td>\n",
       "      <td>82700</td>\n",
       "      <td>NaN</td>\n",
       "      <td>에포테쉬볼륨팝브러쉬</td>\n",
       "      <td>5.0</td>\n",
       "      <td>101.0</td>\n",
       "      <td>unknown</td>\n",
       "      <td>mobile_app</td>\n",
       "    </tr>\n",
       "  </tbody>\n",
       "</table>\n",
       "<p>651638 rows × 14 columns</p>\n",
       "</div>"
      ],
      "text/plain": [
       "         clnt_id  sess_id  hit_seq  action_type biz_unit   sess_dt hit_tm  \\\n",
       "2544724    30605       16        1            0      A03  20190907  22:04   \n",
       "2544725    30605       12        2            0      A03  20190821  23:36   \n",
       "2544726    30605       13        1            0      A03  20190822  14:47   \n",
       "2544727    28304        1       13            0      A03  20190716  11:36   \n",
       "2544728    28304        1       11            0      A03  20190716  11:35   \n",
       "...          ...      ...      ...          ...      ...       ...    ...   \n",
       "3196357    31040        1        1            0      A02  20190815  03:47   \n",
       "3196358     4129        1        2            0      A02  20190721  01:22   \n",
       "3196359     4129        1        1            0      A02  20190721  01:18   \n",
       "3196360    54403        3        1            0      A02  20190731  20:14   \n",
       "3196361    54403        4        1            0      A02  20190818  16:35   \n",
       "\n",
       "         hit_pss_tm  trans_id    sech_kwd  tot_pag_view_ct  tot_sess_hr_v  \\\n",
       "2544724       14548       NaN          버터              3.0           39.0   \n",
       "2544725      422952       NaN          카누              5.0          467.0   \n",
       "2544726           0       NaN          카누              1.0            NaN   \n",
       "2544727      933562       NaN       비비고만두             56.0         1303.0   \n",
       "2544728      820901       NaN          어묵             56.0         1303.0   \n",
       "...             ...       ...         ...              ...            ...   \n",
       "3196357       13525       NaN     다이슨 에어랩              4.0           62.0   \n",
       "3196358      250099       NaN      여성메탈시계              3.0          250.0   \n",
       "3196359        1525       NaN      여성메탈시계              3.0          250.0   \n",
       "3196360       16905       NaN      비비고왕교자              3.0           68.0   \n",
       "3196361       82700       NaN  에포테쉬볼륨팝브러쉬              5.0          101.0   \n",
       "\n",
       "        trfc_src  dvc_ctg_nm  \n",
       "2544724   DIRECT         NaN  \n",
       "2544725   DIRECT         NaN  \n",
       "2544726   DIRECT         NaN  \n",
       "2544727     PUSH  mobile_web  \n",
       "2544728     PUSH  mobile_web  \n",
       "...          ...         ...  \n",
       "3196357  unknown  mobile_web  \n",
       "3196358  unknown  mobile_web  \n",
       "3196359  unknown  mobile_web  \n",
       "3196360  unknown  mobile_app  \n",
       "3196361  unknown  mobile_app  \n",
       "\n",
       "[651638 rows x 14 columns]"
      ]
     },
     "execution_count": 116,
     "metadata": {},
     "output_type": "execute_result"
    }
   ],
   "source": [
    "raw1_kwd = raw_data1_Online_Act[raw_data1_Online_Act['sech_kwd'].isna() == False]\n",
    "raw1_kwd"
   ]
  },
  {
   "cell_type": "code",
   "execution_count": 119,
   "metadata": {},
   "outputs": [
    {
     "data": {
      "text/plain": [
       "0    651638\n",
       "Name: action_type, dtype: int64"
      ]
     },
     "execution_count": 119,
     "metadata": {},
     "output_type": "execute_result"
    }
   ],
   "source": [
    "raw1_kwd['action_type'].value_counts()"
   ]
  },
  {
   "cell_type": "markdown",
   "metadata": {},
   "source": [
    "### 1-11. tot_pag_view_ct : 세션 내 총 페이지 수\n",
    "\n",
    " * 세션 내에 총 페이지(화면) 뷰 수"
   ]
  },
  {
   "cell_type": "markdown",
   "metadata": {},
   "source": [
    " * 페이지 수의 종류는 몇 개나 있는가?? => 425개"
   ]
  },
  {
   "cell_type": "code",
   "execution_count": 42,
   "metadata": {},
   "outputs": [
    {
     "data": {
      "text/plain": [
       "425"
      ]
     },
     "execution_count": 42,
     "metadata": {},
     "output_type": "execute_result"
    }
   ],
   "source": [
    "raw_data1_Online_Act['tot_pag_view_ct'].nunique()"
   ]
  },
  {
   "cell_type": "markdown",
   "metadata": {},
   "source": [
    " * 페이지 수 별 온라인 행동데이터는 몇 건이 있는지? => 최대 6.2만건 , 최소 2건"
   ]
  },
  {
   "cell_type": "code",
   "execution_count": 43,
   "metadata": {},
   "outputs": [
    {
     "data": {
      "text/plain": [
       "1.0      62147\n",
       "7.0      60072\n",
       "5.0      59178\n",
       "9.0      58943\n",
       "11.0     57978\n",
       "         ...  \n",
       "431.0       21\n",
       "464.0       21\n",
       "433.0        9\n",
       "423.0        6\n",
       "389.0        2\n",
       "Name: tot_pag_view_ct, Length: 425, dtype: int64"
      ]
     },
     "execution_count": 43,
     "metadata": {},
     "output_type": "execute_result"
    }
   ],
   "source": [
    "raw_data1_Online_Act['tot_pag_view_ct'].value_counts()"
   ]
  },
  {
   "cell_type": "markdown",
   "metadata": {},
   "source": [
    " * 결측치 갯수 확인 => 1428개"
   ]
  },
  {
   "cell_type": "code",
   "execution_count": 44,
   "metadata": {},
   "outputs": [
    {
     "data": {
      "text/plain": [
       "1428"
      ]
     },
     "execution_count": 44,
     "metadata": {},
     "output_type": "execute_result"
    }
   ],
   "source": [
    "raw_data1_Online_Act['tot_pag_view_ct'].isna().sum()"
   ]
  },
  {
   "cell_type": "markdown",
   "metadata": {},
   "source": [
    "### 1-12. tot_sess_hr_v : 총 세션 시간 값"
   ]
  },
  {
   "cell_type": "markdown",
   "metadata": {},
   "source": [
    " * 총 세션시간 종류는 몇 개나 있는가?? => 6646개"
   ]
  },
  {
   "cell_type": "code",
   "execution_count": 45,
   "metadata": {},
   "outputs": [
    {
     "data": {
      "text/plain": [
       "6646"
      ]
     },
     "execution_count": 45,
     "metadata": {},
     "output_type": "execute_result"
    }
   ],
   "source": [
    "raw_data1_Online_Act['tot_sess_hr_v'].nunique()"
   ]
  },
  {
   "cell_type": "markdown",
   "metadata": {},
   "source": [
    " * 총 세션시간 별 온라인 행동데이터는 몇 건이 있는지? => 최대 2236건 , 최소 1건"
   ]
  },
  {
   "cell_type": "code",
   "execution_count": 46,
   "metadata": {},
   "outputs": [
    {
     "data": {
      "text/plain": [
       "127.0     2236\n",
       "61.0      2147\n",
       "96.0      2119\n",
       "69.0      2079\n",
       "63.0      2076\n",
       "          ... \n",
       "6800.0       1\n",
       "5945.0       1\n",
       "5412.0       1\n",
       "6794.0       1\n",
       "6416.0       1\n",
       "Name: tot_sess_hr_v, Length: 6646, dtype: int64"
      ]
     },
     "execution_count": 46,
     "metadata": {},
     "output_type": "execute_result"
    }
   ],
   "source": [
    "raw_data1_Online_Act['tot_sess_hr_v'].value_counts()"
   ]
  },
  {
   "cell_type": "markdown",
   "metadata": {},
   "source": [
    " * 결측치 갯수 확인 => 57607개\n",
    "     * 단위가 시간이므로, NaN 값이 1시간 미만을 의미할 수도 있을 것이라 판단됨 => 추후 확인"
   ]
  },
  {
   "cell_type": "code",
   "execution_count": 47,
   "metadata": {},
   "outputs": [
    {
     "data": {
      "text/plain": [
       "57607"
      ]
     },
     "execution_count": 47,
     "metadata": {},
     "output_type": "execute_result"
    }
   ],
   "source": [
    "raw_data1_Online_Act['tot_sess_hr_v'].isna().sum()"
   ]
  },
  {
   "cell_type": "markdown",
   "metadata": {},
   "source": [
    " * 최대 세션시간은?? => 27635시간 = 약 1151일 = 약 3년 2개월\n",
    "     * 3년 이상 세션을 켜놓았다는 의미 : 정상데이터는 아닌것으로 예상"
   ]
  },
  {
   "cell_type": "code",
   "execution_count": 48,
   "metadata": {},
   "outputs": [
    {
     "data": {
      "text/plain": [
       "27635.0"
      ]
     },
     "execution_count": 48,
     "metadata": {},
     "output_type": "execute_result"
    }
   ],
   "source": [
    "max(raw_data1_Online_Act['tot_sess_hr_v'])"
   ]
  },
  {
   "cell_type": "markdown",
   "metadata": {},
   "source": [
    " * 최소 세션시간은?? => 1시간"
   ]
  },
  {
   "cell_type": "code",
   "execution_count": 49,
   "metadata": {},
   "outputs": [
    {
     "data": {
      "text/plain": [
       "1.0"
      ]
     },
     "execution_count": 49,
     "metadata": {},
     "output_type": "execute_result"
    }
   ],
   "source": [
    "min(raw_data1_Online_Act['tot_sess_hr_v'])"
   ]
  },
  {
   "cell_type": "markdown",
   "metadata": {},
   "source": [
    "### 1-13. trfc_src : 유입 채널 \n",
    "\n",
    " * 종류 : DIRECT / PUSH / WEBSITE / PORTAL_1 / PORTAL_2 / PORTAL_3 / unknown"
   ]
  },
  {
   "cell_type": "markdown",
   "metadata": {},
   "source": [
    " * 유입채널의 종류는 몇 개나 있는가?? => 7개"
   ]
  },
  {
   "cell_type": "code",
   "execution_count": 50,
   "metadata": {},
   "outputs": [
    {
     "data": {
      "text/plain": [
       "7"
      ]
     },
     "execution_count": 50,
     "metadata": {},
     "output_type": "execute_result"
    }
   ],
   "source": [
    "raw_data1_Online_Act['trfc_src'].nunique()"
   ]
  },
  {
   "cell_type": "markdown",
   "metadata": {},
   "source": [
    " * 유입채널 별 온라인 행동데이터는 몇 건이 있는지? => 최대 171만건 , 최소 9792건"
   ]
  },
  {
   "cell_type": "code",
   "execution_count": 51,
   "metadata": {},
   "outputs": [
    {
     "data": {
      "text/plain": [
       "DIRECT      1715541\n",
       "unknown      826946\n",
       "PUSH         523300\n",
       "WEBSITE       49472\n",
       "PORTAL_1      40669\n",
       "PORTAL_2      30642\n",
       "PORTAL_3       9792\n",
       "Name: trfc_src, dtype: int64"
      ]
     },
     "execution_count": 51,
     "metadata": {},
     "output_type": "execute_result"
    }
   ],
   "source": [
    "raw_data1_Online_Act['trfc_src'].value_counts()"
   ]
  },
  {
   "cell_type": "markdown",
   "metadata": {},
   "source": [
    " * 결측치 갯수 확인 => 없음"
   ]
  },
  {
   "cell_type": "code",
   "execution_count": 52,
   "metadata": {},
   "outputs": [
    {
     "data": {
      "text/plain": [
       "0"
      ]
     },
     "execution_count": 52,
     "metadata": {},
     "output_type": "execute_result"
    }
   ],
   "source": [
    "raw_data1_Online_Act['trfc_src'].isna().sum()"
   ]
  },
  {
   "cell_type": "markdown",
   "metadata": {},
   "source": [
    "### 1-14. dvc_ctg_nm : 기기 유형 \n",
    "\n",
    " * mobile_web / mobile_app / PC"
   ]
  },
  {
   "cell_type": "markdown",
   "metadata": {},
   "source": [
    " * 기기유형의 종류는 몇 개나 있는가?? => 3개"
   ]
  },
  {
   "cell_type": "code",
   "execution_count": 53,
   "metadata": {},
   "outputs": [
    {
     "data": {
      "text/plain": [
       "3"
      ]
     },
     "execution_count": 53,
     "metadata": {},
     "output_type": "execute_result"
    }
   ],
   "source": [
    "raw_data1_Online_Act['dvc_ctg_nm'].nunique()"
   ]
  },
  {
   "cell_type": "markdown",
   "metadata": {},
   "source": [
    " * 기기유형 별 온라인 행동데이터는 몇 건이 있는지? => 최대 67.0만건 , 최소 26.5만건\n",
    " \n",
    "     * 모바일 114만 건 / PC 26만건\n"
   ]
  },
  {
   "cell_type": "code",
   "execution_count": 54,
   "metadata": {},
   "outputs": [
    {
     "data": {
      "text/plain": [
       "mobile_web    672936\n",
       "mobile_app    474859\n",
       "PC            265990\n",
       "Name: dvc_ctg_nm, dtype: int64"
      ]
     },
     "execution_count": 54,
     "metadata": {},
     "output_type": "execute_result"
    }
   ],
   "source": [
    "raw_data1_Online_Act['dvc_ctg_nm'].value_counts()"
   ]
  },
  {
   "cell_type": "markdown",
   "metadata": {},
   "source": [
    " * 결측치 갯수 확인 => 178만 건"
   ]
  },
  {
   "cell_type": "code",
   "execution_count": 55,
   "metadata": {},
   "outputs": [
    {
     "data": {
      "text/plain": [
       "1782577"
      ]
     },
     "execution_count": 55,
     "metadata": {},
     "output_type": "execute_result"
    }
   ],
   "source": [
    "raw_data1_Online_Act['dvc_ctg_nm'].isna().sum()"
   ]
  },
  {
   "cell_type": "markdown",
   "metadata": {},
   "source": [
    "## 2. 거래 정보 데이터 확인"
   ]
  },
  {
   "cell_type": "code",
   "execution_count": 56,
   "metadata": {},
   "outputs": [
    {
     "data": {
      "text/html": [
       "<div>\n",
       "<style scoped>\n",
       "    .dataframe tbody tr th:only-of-type {\n",
       "        vertical-align: middle;\n",
       "    }\n",
       "\n",
       "    .dataframe tbody tr th {\n",
       "        vertical-align: top;\n",
       "    }\n",
       "\n",
       "    .dataframe thead th {\n",
       "        text-align: right;\n",
       "    }\n",
       "</style>\n",
       "<table border=\"1\" class=\"dataframe\">\n",
       "  <thead>\n",
       "    <tr style=\"text-align: right;\">\n",
       "      <th></th>\n",
       "      <th>clnt_id</th>\n",
       "      <th>trans_id</th>\n",
       "      <th>trans_seq</th>\n",
       "      <th>biz_unit</th>\n",
       "      <th>pd_c</th>\n",
       "      <th>de_dt</th>\n",
       "      <th>de_tm</th>\n",
       "      <th>buy_am</th>\n",
       "      <th>buy_ct</th>\n",
       "    </tr>\n",
       "  </thead>\n",
       "  <tbody>\n",
       "    <tr>\n",
       "      <th>0</th>\n",
       "      <td>21922</td>\n",
       "      <td>104999</td>\n",
       "      <td>1</td>\n",
       "      <td>A03</td>\n",
       "      <td>unknown</td>\n",
       "      <td>20190920</td>\n",
       "      <td>12:41</td>\n",
       "      <td>5990</td>\n",
       "      <td>1</td>\n",
       "    </tr>\n",
       "    <tr>\n",
       "      <th>1</th>\n",
       "      <td>21279</td>\n",
       "      <td>104907</td>\n",
       "      <td>4</td>\n",
       "      <td>A03</td>\n",
       "      <td>unknown</td>\n",
       "      <td>20190920</td>\n",
       "      <td>10:27</td>\n",
       "      <td>10900</td>\n",
       "      <td>1</td>\n",
       "    </tr>\n",
       "    <tr>\n",
       "      <th>2</th>\n",
       "      <td>39423</td>\n",
       "      <td>105124</td>\n",
       "      <td>11</td>\n",
       "      <td>A03</td>\n",
       "      <td>unknown</td>\n",
       "      <td>20190920</td>\n",
       "      <td>17:26</td>\n",
       "      <td>12900</td>\n",
       "      <td>1</td>\n",
       "    </tr>\n",
       "    <tr>\n",
       "      <th>3</th>\n",
       "      <td>18362</td>\n",
       "      <td>104010</td>\n",
       "      <td>1</td>\n",
       "      <td>A03</td>\n",
       "      <td>unknown</td>\n",
       "      <td>20190920</td>\n",
       "      <td>09:57</td>\n",
       "      <td>9900</td>\n",
       "      <td>1</td>\n",
       "    </tr>\n",
       "    <tr>\n",
       "      <th>4</th>\n",
       "      <td>39423</td>\n",
       "      <td>105124</td>\n",
       "      <td>13</td>\n",
       "      <td>A03</td>\n",
       "      <td>0565</td>\n",
       "      <td>20190920</td>\n",
       "      <td>17:26</td>\n",
       "      <td>2990</td>\n",
       "      <td>1</td>\n",
       "    </tr>\n",
       "  </tbody>\n",
       "</table>\n",
       "</div>"
      ],
      "text/plain": [
       "   clnt_id  trans_id  trans_seq biz_unit     pd_c     de_dt  de_tm  buy_am  \\\n",
       "0    21922    104999          1      A03  unknown  20190920  12:41    5990   \n",
       "1    21279    104907          4      A03  unknown  20190920  10:27   10900   \n",
       "2    39423    105124         11      A03  unknown  20190920  17:26   12900   \n",
       "3    18362    104010          1      A03  unknown  20190920  09:57    9900   \n",
       "4    39423    105124         13      A03     0565  20190920  17:26    2990   \n",
       "\n",
       "   buy_ct  \n",
       "0       1  \n",
       "1       1  \n",
       "2       1  \n",
       "3       1  \n",
       "4       1  "
      ]
     },
     "execution_count": 56,
     "metadata": {},
     "output_type": "execute_result"
    }
   ],
   "source": [
    "raw_data2_Trade_Inform.head()"
   ]
  },
  {
   "cell_type": "markdown",
   "metadata": {},
   "source": [
    " * 2-1(=1-1, 3-1). clnt_id : 고객 고유 식별 ID\n",
    " * 2-2(=1-9). trans_ID : 거래 ID(구매내역을 고유 식별할 수 있는 ID)\n",
    " * 2-3. trans_seq : 구매 내역 내 구매 순서를 알 수 있도록 한 일련번호\n",
    " * 2-4(=1-5). biz_unit(업종단위) : 온라인 및 오프라인 이용코드\n",
    " * 2-5(=4-1). pd_c : 상품의 소분류 코드\n",
    " * 2-6. de_dt : 구매일자(년월일)\n",
    " * 2-7. de_tm : 구매시각(HHMM)\n",
    " * 2-8. buy_am : 구매금액\n",
    " * 2-9. buy_ct : 구매수량"
   ]
  },
  {
   "cell_type": "code",
   "execution_count": 57,
   "metadata": {},
   "outputs": [
    {
     "data": {
      "text/plain": [
       "(599961, 9)"
      ]
     },
     "execution_count": 57,
     "metadata": {},
     "output_type": "execute_result"
    }
   ],
   "source": [
    "raw_data2_Trade_Inform.shape"
   ]
  },
  {
   "cell_type": "markdown",
   "metadata": {},
   "source": [
    " * 행 수(데이터 갯수) : 59.9만 개\n",
    " * 열 수(데이터 종류) : 9개"
   ]
  },
  {
   "cell_type": "markdown",
   "metadata": {},
   "source": [
    "### 2-1. clnt_id : 고객 고유 식별 ID\n",
    "\n",
    " * 1-1, 3-1 clnt_id와 동일 의미"
   ]
  },
  {
   "cell_type": "markdown",
   "metadata": {},
   "source": [
    " * 거래정보데이터 내 고객ID의 종류는 몇 개나 있는가?? => 11284개\n",
    "     * 1. 온라인 행동 데이터 내 고객ID 갯수 : 72399개\n",
    "     * 2. 거래 정보 데이터 내 고객ID 갯수 :11284개\n",
    "     * 3. 사용자 demog 정보 내 고객ID 갯수 : 72399개"
   ]
  },
  {
   "cell_type": "code",
   "execution_count": 58,
   "metadata": {},
   "outputs": [
    {
     "data": {
      "text/plain": [
       "11284"
      ]
     },
     "execution_count": 58,
     "metadata": {},
     "output_type": "execute_result"
    }
   ],
   "source": [
    "raw_data2_Trade_Inform['clnt_id'].nunique()"
   ]
  },
  {
   "cell_type": "markdown",
   "metadata": {},
   "source": [
    " * 고객ID 별 거래정보데이터는 몇 건이 있는지? => 최대 757건 , 최소 1건 "
   ]
  },
  {
   "cell_type": "code",
   "execution_count": 59,
   "metadata": {},
   "outputs": [
    {
     "data": {
      "text/plain": [
       "27221    757\n",
       "42575    681\n",
       "52362    623\n",
       "71243    579\n",
       "12198    565\n",
       "        ... \n",
       "32432      1\n",
       "35025      1\n",
       "27340      1\n",
       "52443      1\n",
       "14343      1\n",
       "Name: clnt_id, Length: 11284, dtype: int64"
      ]
     },
     "execution_count": 59,
     "metadata": {},
     "output_type": "execute_result"
    }
   ],
   "source": [
    "raw_data2_Trade_Inform['clnt_id'].value_counts()"
   ]
  },
  {
   "cell_type": "markdown",
   "metadata": {},
   "source": [
    " * 결측치 갯수 확인 => 없음"
   ]
  },
  {
   "cell_type": "code",
   "execution_count": 60,
   "metadata": {},
   "outputs": [
    {
     "data": {
      "text/plain": [
       "0"
      ]
     },
     "execution_count": 60,
     "metadata": {},
     "output_type": "execute_result"
    }
   ],
   "source": [
    "raw_data2_Trade_Inform['clnt_id'].isna().sum()"
   ]
  },
  {
   "cell_type": "markdown",
   "metadata": {},
   "source": [
    "### 2-2. trans_id : 거래 ID(구매내역을 고유 식별할 수 있는 ID)\n",
    "\n",
    " * 1-9 trans_id와 동일 의미"
   ]
  },
  {
   "cell_type": "markdown",
   "metadata": {},
   "source": [
    " * 거래정보데이터 내 거래ID의 종류는 몇 개나 있는가?? => 11만개\n",
    "     * 1. 온라인 행동 데이터 내 거래ID 갯수 : 50997개\n",
    "     * 2. 거래 정보 데이터 내 거래ID 갯수 : 116440개"
   ]
  },
  {
   "cell_type": "code",
   "execution_count": 61,
   "metadata": {},
   "outputs": [
    {
     "data": {
      "text/plain": [
       "116440"
      ]
     },
     "execution_count": 61,
     "metadata": {},
     "output_type": "execute_result"
    }
   ],
   "source": [
    "raw_data2_Trade_Inform['trans_id'].nunique()"
   ]
  },
  {
   "cell_type": "markdown",
   "metadata": {},
   "source": [
    " * 거래ID 별 거래정보데이터는 몇 건이 있는지? => 최대 105건 , 최소 1건 "
   ]
  },
  {
   "cell_type": "code",
   "execution_count": 62,
   "metadata": {},
   "outputs": [
    {
     "data": {
      "text/plain": [
       "132554    105\n",
       "51589     100\n",
       "102723     72\n",
       "132637     72\n",
       "137451     65\n",
       "         ... \n",
       "122815      1\n",
       "4720        1\n",
       "64109       1\n",
       "114929      1\n",
       "102596      1\n",
       "Name: trans_id, Length: 116440, dtype: int64"
      ]
     },
     "execution_count": 62,
     "metadata": {},
     "output_type": "execute_result"
    }
   ],
   "source": [
    "raw_data2_Trade_Inform['trans_id'].value_counts()"
   ]
  },
  {
   "cell_type": "markdown",
   "metadata": {},
   "source": [
    " * 결측치 갯수 확인 => 없음"
   ]
  },
  {
   "cell_type": "code",
   "execution_count": 63,
   "metadata": {},
   "outputs": [
    {
     "data": {
      "text/plain": [
       "0"
      ]
     },
     "execution_count": 63,
     "metadata": {},
     "output_type": "execute_result"
    }
   ],
   "source": [
    "raw_data2_Trade_Inform['trans_id'].isna().sum()"
   ]
  },
  {
   "cell_type": "markdown",
   "metadata": {},
   "source": [
    "### 2-3. trans_seq : 구매 내역 내 구매 순서를 알 수 있도록 한 일련번호"
   ]
  },
  {
   "cell_type": "markdown",
   "metadata": {},
   "source": [
    " * 거래정보데이터 내 구매일련번호의 종류는 몇 개나 있는가?? => 105개"
   ]
  },
  {
   "cell_type": "code",
   "execution_count": 64,
   "metadata": {},
   "outputs": [
    {
     "data": {
      "text/plain": [
       "105"
      ]
     },
     "execution_count": 64,
     "metadata": {},
     "output_type": "execute_result"
    }
   ],
   "source": [
    "raw_data2_Trade_Inform['trans_seq'].nunique()"
   ]
  },
  {
   "cell_type": "markdown",
   "metadata": {},
   "source": [
    " * 구매일련번호 별 거래정보데이터는 몇 건이 있는지? => 최대 11만건 , 최소 1건 "
   ]
  },
  {
   "cell_type": "code",
   "execution_count": 65,
   "metadata": {},
   "outputs": [
    {
     "data": {
      "text/plain": [
       "1      116440\n",
       "2       80693\n",
       "3       66071\n",
       "4       56049\n",
       "5       48138\n",
       "        ...  \n",
       "102         1\n",
       "103         1\n",
       "104         1\n",
       "101         1\n",
       "105         1\n",
       "Name: trans_seq, Length: 105, dtype: int64"
      ]
     },
     "execution_count": 65,
     "metadata": {},
     "output_type": "execute_result"
    }
   ],
   "source": [
    "raw_data2_Trade_Inform['trans_seq'].value_counts()"
   ]
  },
  {
   "cell_type": "markdown",
   "metadata": {},
   "source": [
    " * 결측치 갯수 확인 => 없음"
   ]
  },
  {
   "cell_type": "code",
   "execution_count": 66,
   "metadata": {},
   "outputs": [
    {
     "data": {
      "text/plain": [
       "0"
      ]
     },
     "execution_count": 66,
     "metadata": {},
     "output_type": "execute_result"
    }
   ],
   "source": [
    "raw_data2_Trade_Inform['trans_seq'].isna().sum()"
   ]
  },
  {
   "cell_type": "markdown",
   "metadata": {},
   "source": [
    "### 2-4. biz_unit(업종단위) : 온라인 및 오프라인 이용코드\n",
    "\n",
    " * 1-5. biz_unit 데이터와 의미 동일"
   ]
  },
  {
   "cell_type": "markdown",
   "metadata": {},
   "source": [
    " * 거래정보데이터 내 업종단위의 종류는 몇 개나 있는가?? => 6개\n",
    "     * 1. 온라인 행동 데이터 내 업종단위 갯수 : 3개 (A01, A02, A03)\n",
    "     * 2. 거래 정보 데이터 내 업종단위 갯수 : 6개 (A01, A02, A03, B01, B02, B03)"
   ]
  },
  {
   "cell_type": "code",
   "execution_count": 67,
   "metadata": {},
   "outputs": [
    {
     "data": {
      "text/plain": [
       "6"
      ]
     },
     "execution_count": 67,
     "metadata": {},
     "output_type": "execute_result"
    }
   ],
   "source": [
    "raw_data2_Trade_Inform['biz_unit'].nunique()"
   ]
  },
  {
   "cell_type": "markdown",
   "metadata": {},
   "source": [
    " * 업종단위 별 거래정보데이터는 몇 건이 있는지? => 최대 20만건 , 최소 3000건 "
   ]
  },
  {
   "cell_type": "code",
   "execution_count": 68,
   "metadata": {},
   "outputs": [
    {
     "data": {
      "text/plain": [
       "A03    201982\n",
       "B01    200781\n",
       "B02    168803\n",
       "A02     19850\n",
       "A01      5126\n",
       "B03      3419\n",
       "Name: biz_unit, dtype: int64"
      ]
     },
     "execution_count": 68,
     "metadata": {},
     "output_type": "execute_result"
    }
   ],
   "source": [
    "raw_data2_Trade_Inform['biz_unit'].value_counts()"
   ]
  },
  {
   "cell_type": "markdown",
   "metadata": {},
   "source": [
    " * 결측치 갯수 확인 => 없음"
   ]
  },
  {
   "cell_type": "code",
   "execution_count": 69,
   "metadata": {},
   "outputs": [
    {
     "data": {
      "text/plain": [
       "0"
      ]
     },
     "execution_count": 69,
     "metadata": {},
     "output_type": "execute_result"
    }
   ],
   "source": [
    "raw_data2_Trade_Inform['biz_unit'].isna().sum()"
   ]
  },
  {
   "cell_type": "markdown",
   "metadata": {},
   "source": [
    "### 2-5. pd_c : 상품의 소분류 코드\n",
    "\n",
    " * 4-1. pd_c 데이터와 의미 동일"
   ]
  },
  {
   "cell_type": "markdown",
   "metadata": {},
   "source": [
    " * 거래정보데이터 내 소분류 코드의 종류는 몇 개나 있는가?? => 1668개\n",
    "     * 2. 거래 정보 데이터 내 소분류 갯수 : 1668개\n",
    "     * 4. 상품 대중소 분류 데이터 내 소분류 갯수 : 1667개\n",
    "     * 1개 차이는 'unknown' 유무로 예상"
   ]
  },
  {
   "cell_type": "code",
   "execution_count": 70,
   "metadata": {},
   "outputs": [
    {
     "data": {
      "text/plain": [
       "1668"
      ]
     },
     "execution_count": 70,
     "metadata": {},
     "output_type": "execute_result"
    }
   ],
   "source": [
    "raw_data2_Trade_Inform['pd_c'].nunique()"
   ]
  },
  {
   "cell_type": "markdown",
   "metadata": {},
   "source": [
    " * 소분류코드 별 거래정보데이터는 몇 건이 있는지? => 최대 1.5만건 , 최소 1건 "
   ]
  },
  {
   "cell_type": "code",
   "execution_count": 71,
   "metadata": {},
   "outputs": [
    {
     "data": {
      "text/plain": [
       "unknown    17652\n",
       "1213       15518\n",
       "0347       12914\n",
       "0964       11115\n",
       "1395       11083\n",
       "           ...  \n",
       "1150           1\n",
       "1042           1\n",
       "0057           1\n",
       "0433           1\n",
       "0042           1\n",
       "Name: pd_c, Length: 1668, dtype: int64"
      ]
     },
     "execution_count": 71,
     "metadata": {},
     "output_type": "execute_result"
    }
   ],
   "source": [
    "raw_data2_Trade_Inform['pd_c'].value_counts()"
   ]
  },
  {
   "cell_type": "markdown",
   "metadata": {},
   "source": [
    " * 결측치 갯수 확인 => 17652개 (unknown)"
   ]
  },
  {
   "cell_type": "markdown",
   "metadata": {},
   "source": [
    "### 2-6. de_dt : 구매일자(년월일)"
   ]
  },
  {
   "cell_type": "markdown",
   "metadata": {},
   "source": [
    " * 구매 일자는 몇 개나 있는가?? => 92개\n",
    "     * 3달치 데이터가 날짜마다 있을 것을 예상됨\n",
    "         * 7,8,9월 일자 = 31 + 31 + 30 = 92\n",
    "         \n",
    " * 1. 온라인 행동 정보 데이터 내 '1-6. sess_dt 세션일자'와 연관 지을수 있음"
   ]
  },
  {
   "cell_type": "code",
   "execution_count": 72,
   "metadata": {},
   "outputs": [
    {
     "data": {
      "text/plain": [
       "92"
      ]
     },
     "execution_count": 72,
     "metadata": {},
     "output_type": "execute_result"
    }
   ],
   "source": [
    "raw_data2_Trade_Inform['de_dt'].nunique()"
   ]
  },
  {
   "cell_type": "markdown",
   "metadata": {},
   "source": [
    " * 구매일자 별 거래정보데이터는 몇 건이 있는지? => 최대 9357건 , 최소 1979건\n",
    "     * 월별로 데이터 몇 개인지 확인해보기 => 추후 수행"
   ]
  },
  {
   "cell_type": "code",
   "execution_count": 73,
   "metadata": {},
   "outputs": [
    {
     "data": {
      "text/plain": [
       "20190911    9357\n",
       "20190713    8707\n",
       "20190720    8658\n",
       "20190727    8603\n",
       "20190921    8467\n",
       "            ... \n",
       "20190922    3042\n",
       "20190811    2806\n",
       "20190728    2705\n",
       "20190825    2462\n",
       "20190913    1979\n",
       "Name: de_dt, Length: 92, dtype: int64"
      ]
     },
     "execution_count": 73,
     "metadata": {},
     "output_type": "execute_result"
    }
   ],
   "source": [
    "raw_data2_Trade_Inform['de_dt'].value_counts()"
   ]
  },
  {
   "cell_type": "markdown",
   "metadata": {},
   "source": [
    " * 결측치 갯수 확인 => 없음"
   ]
  },
  {
   "cell_type": "code",
   "execution_count": 74,
   "metadata": {},
   "outputs": [
    {
     "data": {
      "text/plain": [
       "0"
      ]
     },
     "execution_count": 74,
     "metadata": {},
     "output_type": "execute_result"
    }
   ],
   "source": [
    "raw_data2_Trade_Inform['de_dt'].isna().sum()"
   ]
  },
  {
   "cell_type": "markdown",
   "metadata": {},
   "source": [
    "### 2-7. de_tm : 구매시각(HHMM)"
   ]
  },
  {
   "cell_type": "markdown",
   "metadata": {},
   "source": [
    " * 구매 시각는 몇 개나 있는가?? => 1436개"
   ]
  },
  {
   "cell_type": "code",
   "execution_count": 75,
   "metadata": {},
   "outputs": [
    {
     "data": {
      "text/plain": [
       "1436"
      ]
     },
     "execution_count": 75,
     "metadata": {},
     "output_type": "execute_result"
    }
   ],
   "source": [
    "raw_data2_Trade_Inform['de_tm'].nunique()"
   ]
  },
  {
   "cell_type": "markdown",
   "metadata": {},
   "source": [
    " * 구매시각 거래정보데이터는 몇 건이 있는지? => 최대 1094건 , 최소 1건\n",
    " * 1-7 조회 시각 데이터와 연관지어볼 수 있음 => 추후 분석"
   ]
  },
  {
   "cell_type": "code",
   "execution_count": 76,
   "metadata": {},
   "outputs": [
    {
     "data": {
      "text/plain": [
       "16:17    1094\n",
       "18:03    1033\n",
       "17:11    1012\n",
       "17:27     992\n",
       "17:18     985\n",
       "         ... \n",
       "04:29       1\n",
       "03:27       1\n",
       "05:12       1\n",
       "03:37       1\n",
       "05:26       1\n",
       "Name: de_tm, Length: 1436, dtype: int64"
      ]
     },
     "execution_count": 76,
     "metadata": {},
     "output_type": "execute_result"
    }
   ],
   "source": [
    "raw_data2_Trade_Inform['de_tm'].value_counts()"
   ]
  },
  {
   "cell_type": "markdown",
   "metadata": {},
   "source": [
    " * 결측치 갯수 확인 => 없음"
   ]
  },
  {
   "cell_type": "code",
   "execution_count": 77,
   "metadata": {},
   "outputs": [
    {
     "data": {
      "text/plain": [
       "0"
      ]
     },
     "execution_count": 77,
     "metadata": {},
     "output_type": "execute_result"
    }
   ],
   "source": [
    "raw_data2_Trade_Inform['de_tm'].isna().sum()"
   ]
  },
  {
   "cell_type": "markdown",
   "metadata": {},
   "source": [
    "### 2-8. buy_am : 구매금액"
   ]
  },
  {
   "cell_type": "markdown",
   "metadata": {},
   "source": [
    " * 구매 금액은 몇 개나 있는가?? => 14810개"
   ]
  },
  {
   "cell_type": "code",
   "execution_count": 78,
   "metadata": {},
   "outputs": [
    {
     "data": {
      "text/plain": [
       "14810"
      ]
     },
     "execution_count": 78,
     "metadata": {},
     "output_type": "execute_result"
    }
   ],
   "source": [
    "raw_data2_Trade_Inform['buy_am'].nunique()"
   ]
  },
  {
   "cell_type": "markdown",
   "metadata": {},
   "source": [
    " * 구매금액 별 거래정보데이터는 몇 건이 있는지? => 최대 1.8만건 , 최소 1건"
   ]
  },
  {
   "cell_type": "code",
   "execution_count": 79,
   "metadata": {},
   "outputs": [
    {
     "data": {
      "text/plain": [
       "2990      18064\n",
       "1000      16200\n",
       "1990      15745\n",
       "3990      14652\n",
       "990       14087\n",
       "          ...  \n",
       "969000        1\n",
       "150200        1\n",
       "113350        1\n",
       "39650         1\n",
       "4094          1\n",
       "Name: buy_am, Length: 14810, dtype: int64"
      ]
     },
     "execution_count": 79,
     "metadata": {},
     "output_type": "execute_result"
    }
   ],
   "source": [
    "raw_data2_Trade_Inform['buy_am'].value_counts()"
   ]
  },
  {
   "cell_type": "markdown",
   "metadata": {},
   "source": [
    " * 결측치 갯수 확인 => 최소 금액 0을 결측치로 봐야할지 공짜로 봐야할지 추후 고려"
   ]
  },
  {
   "cell_type": "code",
   "execution_count": 80,
   "metadata": {},
   "outputs": [
    {
     "data": {
      "text/plain": [
       "0"
      ]
     },
     "execution_count": 80,
     "metadata": {},
     "output_type": "execute_result"
    }
   ],
   "source": [
    "raw_data2_Trade_Inform['buy_am'].isna().sum()"
   ]
  },
  {
   "cell_type": "markdown",
   "metadata": {},
   "source": [
    " * 최대 금액은?? => 1천억"
   ]
  },
  {
   "cell_type": "code",
   "execution_count": 81,
   "metadata": {},
   "outputs": [
    {
     "data": {
      "text/plain": [
       "100000016899"
      ]
     },
     "execution_count": 81,
     "metadata": {},
     "output_type": "execute_result"
    }
   ],
   "source": [
    "max(raw_data2_Trade_Inform['buy_am'])"
   ]
  },
  {
   "cell_type": "markdown",
   "metadata": {},
   "source": [
    " * 최소금액은?? => 0\n",
    "     * 공짜로 봐야할 지, 결측치로 봐야할 지 추후 고려"
   ]
  },
  {
   "cell_type": "code",
   "execution_count": 82,
   "metadata": {},
   "outputs": [
    {
     "data": {
      "text/plain": [
       "0"
      ]
     },
     "execution_count": 82,
     "metadata": {},
     "output_type": "execute_result"
    }
   ],
   "source": [
    "min(raw_data2_Trade_Inform['buy_am'])"
   ]
  },
  {
   "cell_type": "markdown",
   "metadata": {},
   "source": [
    "### 2-9. buy_ct : 구매 수량"
   ]
  },
  {
   "cell_type": "markdown",
   "metadata": {},
   "source": [
    " * 구매수량은 몇 종류나 있는가?? => 338개"
   ]
  },
  {
   "cell_type": "code",
   "execution_count": 83,
   "metadata": {},
   "outputs": [
    {
     "data": {
      "text/plain": [
       "338"
      ]
     },
     "execution_count": 83,
     "metadata": {},
     "output_type": "execute_result"
    }
   ],
   "source": [
    "raw_data2_Trade_Inform['buy_ct'].nunique()"
   ]
  },
  {
   "cell_type": "markdown",
   "metadata": {},
   "source": [
    " * 구매수량 별 거래정보데이터는 몇 건이 있는지? => 최대 49만건 , 최소 1건"
   ]
  },
  {
   "cell_type": "code",
   "execution_count": 84,
   "metadata": {},
   "outputs": [
    {
     "data": {
      "text/plain": [
       "1      497831\n",
       "2       62837\n",
       "3       12371\n",
       "0        6775\n",
       "4        6377\n",
       "        ...  \n",
       "210         1\n",
       "207         1\n",
       "717         1\n",
       "204         1\n",
       "155         1\n",
       "Name: buy_ct, Length: 338, dtype: int64"
      ]
     },
     "execution_count": 84,
     "metadata": {},
     "output_type": "execute_result"
    }
   ],
   "source": [
    "raw_data2_Trade_Inform['buy_ct'].value_counts()"
   ]
  },
  {
   "cell_type": "markdown",
   "metadata": {},
   "source": [
    " * NaN 갯수 확인 => 없음\n",
    "     * 위 최소 수량 0을 결측치로 고려 => 6775개"
   ]
  },
  {
   "cell_type": "code",
   "execution_count": 85,
   "metadata": {},
   "outputs": [
    {
     "data": {
      "text/plain": [
       "0"
      ]
     },
     "execution_count": 85,
     "metadata": {},
     "output_type": "execute_result"
    }
   ],
   "source": [
    "raw_data2_Trade_Inform['buy_ct'].isna().sum()"
   ]
  },
  {
   "cell_type": "markdown",
   "metadata": {},
   "source": [
    " * 최대 수량은?? => 3600개"
   ]
  },
  {
   "cell_type": "code",
   "execution_count": 86,
   "metadata": {},
   "outputs": [
    {
     "data": {
      "text/plain": [
       "3600"
      ]
     },
     "execution_count": 86,
     "metadata": {},
     "output_type": "execute_result"
    }
   ],
   "source": [
    "max(raw_data2_Trade_Inform['buy_ct'])"
   ]
  },
  {
   "cell_type": "markdown",
   "metadata": {},
   "source": [
    " * 최소 수량은?? => 0\n",
    "     * 결측치로 고려"
   ]
  },
  {
   "cell_type": "code",
   "execution_count": 87,
   "metadata": {},
   "outputs": [
    {
     "data": {
      "text/plain": [
       "0"
      ]
     },
     "execution_count": 87,
     "metadata": {},
     "output_type": "execute_result"
    }
   ],
   "source": [
    "min(raw_data2_Trade_Inform['buy_ct'])"
   ]
  },
  {
   "cell_type": "markdown",
   "metadata": {},
   "source": [
    " ## 3. 사용자 demo 정보(나이, 성별) 확인"
   ]
  },
  {
   "cell_type": "code",
   "execution_count": 88,
   "metadata": {},
   "outputs": [
    {
     "data": {
      "text/html": [
       "<div>\n",
       "<style scoped>\n",
       "    .dataframe tbody tr th:only-of-type {\n",
       "        vertical-align: middle;\n",
       "    }\n",
       "\n",
       "    .dataframe tbody tr th {\n",
       "        vertical-align: top;\n",
       "    }\n",
       "\n",
       "    .dataframe thead th {\n",
       "        text-align: right;\n",
       "    }\n",
       "</style>\n",
       "<table border=\"1\" class=\"dataframe\">\n",
       "  <thead>\n",
       "    <tr style=\"text-align: right;\">\n",
       "      <th></th>\n",
       "      <th>clnt_id</th>\n",
       "      <th>clnt_gender</th>\n",
       "      <th>clnt_age</th>\n",
       "    </tr>\n",
       "  </thead>\n",
       "  <tbody>\n",
       "    <tr>\n",
       "      <th>0</th>\n",
       "      <td>1</td>\n",
       "      <td>unknown</td>\n",
       "      <td>unknown</td>\n",
       "    </tr>\n",
       "    <tr>\n",
       "      <th>1</th>\n",
       "      <td>2</td>\n",
       "      <td>F</td>\n",
       "      <td>30</td>\n",
       "    </tr>\n",
       "    <tr>\n",
       "      <th>2</th>\n",
       "      <td>3</td>\n",
       "      <td>unknown</td>\n",
       "      <td>unknown</td>\n",
       "    </tr>\n",
       "    <tr>\n",
       "      <th>3</th>\n",
       "      <td>4</td>\n",
       "      <td>unknown</td>\n",
       "      <td>unknown</td>\n",
       "    </tr>\n",
       "    <tr>\n",
       "      <th>4</th>\n",
       "      <td>5</td>\n",
       "      <td>unknown</td>\n",
       "      <td>unknown</td>\n",
       "    </tr>\n",
       "  </tbody>\n",
       "</table>\n",
       "</div>"
      ],
      "text/plain": [
       "   clnt_id clnt_gender clnt_age\n",
       "0        1     unknown  unknown\n",
       "1        2           F       30\n",
       "2        3     unknown  unknown\n",
       "3        4     unknown  unknown\n",
       "4        5     unknown  unknown"
      ]
     },
     "execution_count": 88,
     "metadata": {},
     "output_type": "execute_result"
    }
   ],
   "source": [
    "raw_data3_Demog.head()"
   ]
  },
  {
   "cell_type": "markdown",
   "metadata": {},
   "source": [
    " * 3-1(=2-1, 1-1). clnt_id : 고객 고유 식별 ID\n",
    " * 3-2. clnt_gender : 고객 성별\n",
    " * 3-3. clnt_age : 고객 연령대( 10단위:  10대 이하 / 20대 / 30대 / 40대 / 50대 / 60대 / unknown)"
   ]
  },
  {
   "cell_type": "code",
   "execution_count": 89,
   "metadata": {},
   "outputs": [
    {
     "data": {
      "text/plain": [
       "(72399, 3)"
      ]
     },
     "execution_count": 89,
     "metadata": {},
     "output_type": "execute_result"
    }
   ],
   "source": [
    "raw_data3_Demog.shape"
   ]
  },
  {
   "cell_type": "markdown",
   "metadata": {},
   "source": [
    " * 행 수(데이터 갯수) : 7.2만 개\n",
    " * 열 수(데이터 종류) : 3개"
   ]
  },
  {
   "cell_type": "markdown",
   "metadata": {},
   "source": [
    "### 3-1. clnt_Id : 고객 고유 식별 ID\n",
    "\n",
    " * 1-1, 2-1 clnt_id와 동일 의미"
   ]
  },
  {
   "cell_type": "markdown",
   "metadata": {},
   "source": [
    " * 고객 ID는 몇 개나 있는가?? => 7만명의 고객 ID 보유\n",
    "     * 1. 온라인 행동 데이터 내 고객ID 갯수 : 72399개\n",
    "     * 2. 거래 정보 데이터 내 고객ID 갯수 :11284개\n",
    "     * 3. 사용자 demog 정보 내 고객ID 갯수 : 72399개"
   ]
  },
  {
   "cell_type": "code",
   "execution_count": 90,
   "metadata": {},
   "outputs": [
    {
     "data": {
      "text/plain": [
       "72399"
      ]
     },
     "execution_count": 90,
     "metadata": {},
     "output_type": "execute_result"
    }
   ],
   "source": [
    "raw_data3_Demog['clnt_id'].nunique()"
   ]
  },
  {
   "cell_type": "markdown",
   "metadata": {},
   "source": [
    " * 고객ID 별로 사용자 demog 데이터는 몇 건이 있는지? => 1건\n",
    "     * 서로 다른 사람이 같은 ID를 공유하는 오류데이터는 없음"
   ]
  },
  {
   "cell_type": "code",
   "execution_count": 91,
   "metadata": {},
   "outputs": [
    {
     "data": {
      "text/plain": [
       "2047     1\n",
       "27288    1\n",
       "14994    1\n",
       "12947    1\n",
       "2708     1\n",
       "        ..\n",
       "25958    1\n",
       "32101    1\n",
       "30052    1\n",
       "19811    1\n",
       "2049     1\n",
       "Name: clnt_id, Length: 72399, dtype: int64"
      ]
     },
     "execution_count": 91,
     "metadata": {},
     "output_type": "execute_result"
    }
   ],
   "source": [
    "raw_data3_Demog['clnt_id'].value_counts()"
   ]
  },
  {
   "cell_type": "markdown",
   "metadata": {},
   "source": [
    " * 결측치 갯수 확인 => 없음"
   ]
  },
  {
   "cell_type": "code",
   "execution_count": 92,
   "metadata": {},
   "outputs": [
    {
     "data": {
      "text/plain": [
       "0"
      ]
     },
     "execution_count": 92,
     "metadata": {},
     "output_type": "execute_result"
    }
   ],
   "source": [
    "raw_data3_Demog['clnt_id'].isna().sum()"
   ]
  },
  {
   "cell_type": "markdown",
   "metadata": {},
   "source": [
    "### 3-2. clnt_gender : 고객 성별"
   ]
  },
  {
   "cell_type": "markdown",
   "metadata": {},
   "source": [
    " * 성별은 몇 개나 있는가?? => 3개 (남, 여, 알수 없음)"
   ]
  },
  {
   "cell_type": "code",
   "execution_count": 93,
   "metadata": {},
   "outputs": [
    {
     "data": {
      "text/plain": [
       "3"
      ]
     },
     "execution_count": 93,
     "metadata": {},
     "output_type": "execute_result"
    }
   ],
   "source": [
    "raw_data3_Demog['clnt_gender'].nunique()"
   ]
  },
  {
   "cell_type": "markdown",
   "metadata": {},
   "source": [
    " * 성별 별로 사용자 demog 데이터는 몇 건이 있는지? => 알 수없음 6만, 여성 1만, 남성 1800"
   ]
  },
  {
   "cell_type": "code",
   "execution_count": 94,
   "metadata": {},
   "outputs": [
    {
     "data": {
      "text/plain": [
       "unknown    60154\n",
       "F          10352\n",
       "M           1893\n",
       "Name: clnt_gender, dtype: int64"
      ]
     },
     "execution_count": 94,
     "metadata": {},
     "output_type": "execute_result"
    }
   ],
   "source": [
    "raw_data3_Demog['clnt_gender'].value_counts()"
   ]
  },
  {
   "cell_type": "markdown",
   "metadata": {},
   "source": [
    " * 결측치 갯수 확인 => 60154개"
   ]
  },
  {
   "cell_type": "markdown",
   "metadata": {},
   "source": [
    "### 3-3. clnt_age : 고객 연령대\n",
    "\n",
    " * 10단위: 10대 이하 / 20대 / 30대 / 40대 / 50대 / 60대 / unknown"
   ]
  },
  {
   "cell_type": "markdown",
   "metadata": {},
   "source": [
    " * 연령대는 몇 종류나 있는가?? => 7종"
   ]
  },
  {
   "cell_type": "code",
   "execution_count": 95,
   "metadata": {},
   "outputs": [
    {
     "data": {
      "text/plain": [
       "7"
      ]
     },
     "execution_count": 95,
     "metadata": {},
     "output_type": "execute_result"
    }
   ],
   "source": [
    "raw_data3_Demog['clnt_age'].nunique()"
   ]
  },
  {
   "cell_type": "markdown",
   "metadata": {},
   "source": [
    " * 연령 별로 사용자 demog 데이터는 몇 건이 있는지?\n",
    " \n",
    "     * 10대 : 46\n",
    "     * 20대 : 924\n",
    "     * 30대 : 4307\n",
    "     * 40대 : 4948\n",
    "     * 50대 : 1694\n",
    "     * 60대 : 326\n",
    "     * 알 수 없음 : 60154"
   ]
  },
  {
   "cell_type": "code",
   "execution_count": 96,
   "metadata": {},
   "outputs": [
    {
     "data": {
      "text/plain": [
       "unknown    60154\n",
       "40          4948\n",
       "30          4307\n",
       "50          1694\n",
       "20           924\n",
       "60           326\n",
       "10            46\n",
       "Name: clnt_age, dtype: int64"
      ]
     },
     "execution_count": 96,
     "metadata": {},
     "output_type": "execute_result"
    }
   ],
   "source": [
    "raw_data3_Demog['clnt_age'].value_counts()"
   ]
  },
  {
   "cell_type": "markdown",
   "metadata": {},
   "source": [
    " * 결측치 갯수 확인 => 60154개"
   ]
  },
  {
   "cell_type": "markdown",
   "metadata": {},
   "source": [
    "## 4. 상품 대중소 분류 정보"
   ]
  },
  {
   "cell_type": "code",
   "execution_count": 97,
   "metadata": {},
   "outputs": [
    {
     "data": {
      "text/html": [
       "<div>\n",
       "<style scoped>\n",
       "    .dataframe tbody tr th:only-of-type {\n",
       "        vertical-align: middle;\n",
       "    }\n",
       "\n",
       "    .dataframe tbody tr th {\n",
       "        vertical-align: top;\n",
       "    }\n",
       "\n",
       "    .dataframe thead th {\n",
       "        text-align: right;\n",
       "    }\n",
       "</style>\n",
       "<table border=\"1\" class=\"dataframe\">\n",
       "  <thead>\n",
       "    <tr style=\"text-align: right;\">\n",
       "      <th></th>\n",
       "      <th>pd_c</th>\n",
       "      <th>clac_nm1</th>\n",
       "      <th>clac_nm2</th>\n",
       "      <th>clac_nm3</th>\n",
       "    </tr>\n",
       "  </thead>\n",
       "  <tbody>\n",
       "    <tr>\n",
       "      <th>0</th>\n",
       "      <td>1</td>\n",
       "      <td>Automotive Products</td>\n",
       "      <td>Automotive Replacement Repair / Maintanance Kits</td>\n",
       "      <td>Automobile Oil / Additives</td>\n",
       "    </tr>\n",
       "    <tr>\n",
       "      <th>1</th>\n",
       "      <td>2</td>\n",
       "      <td>Automotive Products</td>\n",
       "      <td>Automotive Replacement Repair / Maintanance Kits</td>\n",
       "      <td>Car Lights</td>\n",
       "    </tr>\n",
       "    <tr>\n",
       "      <th>2</th>\n",
       "      <td>3</td>\n",
       "      <td>Automotive Products</td>\n",
       "      <td>Automotive Replacement Repair / Maintanance Kits</td>\n",
       "      <td>Car Paint</td>\n",
       "    </tr>\n",
       "    <tr>\n",
       "      <th>3</th>\n",
       "      <td>4</td>\n",
       "      <td>Automotive Products</td>\n",
       "      <td>Automotive Replacement Repair / Maintanance Kits</td>\n",
       "      <td>Filters</td>\n",
       "    </tr>\n",
       "    <tr>\n",
       "      <th>4</th>\n",
       "      <td>5</td>\n",
       "      <td>Automotive Products</td>\n",
       "      <td>Automotive Replacement Repair / Maintanance Kits</td>\n",
       "      <td>Wiper Blades</td>\n",
       "    </tr>\n",
       "  </tbody>\n",
       "</table>\n",
       "</div>"
      ],
      "text/plain": [
       "   pd_c             clac_nm1  \\\n",
       "0     1  Automotive Products   \n",
       "1     2  Automotive Products   \n",
       "2     3  Automotive Products   \n",
       "3     4  Automotive Products   \n",
       "4     5  Automotive Products   \n",
       "\n",
       "                                           clac_nm2  \\\n",
       "0  Automotive Replacement Repair / Maintanance Kits   \n",
       "1  Automotive Replacement Repair / Maintanance Kits   \n",
       "2  Automotive Replacement Repair / Maintanance Kits   \n",
       "3  Automotive Replacement Repair / Maintanance Kits   \n",
       "4  Automotive Replacement Repair / Maintanance Kits   \n",
       "\n",
       "                     clac_nm3  \n",
       "0  Automobile Oil / Additives  \n",
       "1                  Car Lights  \n",
       "2                   Car Paint  \n",
       "3                     Filters  \n",
       "4                Wiper Blades  "
      ]
     },
     "execution_count": 97,
     "metadata": {},
     "output_type": "execute_result"
    }
   ],
   "source": [
    "raw_data4_Item_Class.head()"
   ]
  },
  {
   "cell_type": "markdown",
   "metadata": {},
   "source": [
    "* 4-1. pd_c : 상품 소분류 코드\n",
    "* 4-2. clac_nm1 : 상품 대분류명\n",
    "* 4-3. clac_nm2 : 상품 중분류명\n",
    "* 4-4. clac_nm3 : 상품 소분류명"
   ]
  },
  {
   "cell_type": "code",
   "execution_count": 98,
   "metadata": {},
   "outputs": [
    {
     "data": {
      "text/plain": [
       "(1667, 4)"
      ]
     },
     "execution_count": 98,
     "metadata": {},
     "output_type": "execute_result"
    }
   ],
   "source": [
    "raw_data4_Item_Class.shape"
   ]
  },
  {
   "cell_type": "markdown",
   "metadata": {},
   "source": [
    " * 행 수(데이터 갯수) : 1667개\n",
    " * 열 수(데이터 종류) : 4개"
   ]
  },
  {
   "cell_type": "markdown",
   "metadata": {},
   "source": [
    "### 4-1. pd_c : 상품의 소분류 코드\n",
    "\n",
    " * 2-5. pd_c 데이터와 의미 동일"
   ]
  },
  {
   "cell_type": "markdown",
   "metadata": {},
   "source": [
    " * 상품분류데이터 내 소분류 코드의 종류는 몇 개나 있는가?? => 1667개\n",
    "     * 2. 거래 정보 데이터 내 소분류 갯수 : 1668개\n",
    "     * 4. 상품 대중소 분류 데이터 내 소분류 갯수 : 1667개\n",
    "     * 1개 차이는 'unknown' 유무로 예상"
   ]
  },
  {
   "cell_type": "code",
   "execution_count": 99,
   "metadata": {},
   "outputs": [
    {
     "data": {
      "text/plain": [
       "1667"
      ]
     },
     "execution_count": 99,
     "metadata": {},
     "output_type": "execute_result"
    }
   ],
   "source": [
    "raw_data4_Item_Class['pd_c'].nunique()"
   ]
  },
  {
   "cell_type": "markdown",
   "metadata": {},
   "source": [
    " * 소분류코드 별 상품분류데이터는 몇 건이 있는지? => 각 1건"
   ]
  },
  {
   "cell_type": "code",
   "execution_count": 100,
   "metadata": {},
   "outputs": [
    {
     "data": {
      "text/plain": [
       "1667    1\n",
       "834     1\n",
       "1098    1\n",
       "1100    1\n",
       "1102    1\n",
       "       ..\n",
       "563     1\n",
       "565     1\n",
       "567     1\n",
       "569     1\n",
       "2       1\n",
       "Name: pd_c, Length: 1667, dtype: int64"
      ]
     },
     "execution_count": 100,
     "metadata": {},
     "output_type": "execute_result"
    }
   ],
   "source": [
    "raw_data4_Item_Class['pd_c'].value_counts()"
   ]
  },
  {
   "cell_type": "markdown",
   "metadata": {},
   "source": [
    " * 결측치 갯수 확인 => 없음"
   ]
  },
  {
   "cell_type": "code",
   "execution_count": 101,
   "metadata": {},
   "outputs": [
    {
     "data": {
      "text/plain": [
       "0"
      ]
     },
     "execution_count": 101,
     "metadata": {},
     "output_type": "execute_result"
    }
   ],
   "source": [
    "raw_data4_Item_Class['pd_c'].isna().sum()"
   ]
  },
  {
   "cell_type": "markdown",
   "metadata": {},
   "source": [
    "### 4-2. clac_nm1 : 상품 대분류명"
   ]
  },
  {
   "cell_type": "markdown",
   "metadata": {},
   "source": [
    " * 상품분류데이터 내 대분류명의 종류는 몇 개나 있는가?? => 60개"
   ]
  },
  {
   "cell_type": "code",
   "execution_count": 102,
   "metadata": {},
   "outputs": [
    {
     "data": {
      "text/plain": [
       "60"
      ]
     },
     "execution_count": 102,
     "metadata": {},
     "output_type": "execute_result"
    }
   ],
   "source": [
    "raw_data4_Item_Class['clac_nm1'].nunique()"
   ]
  },
  {
   "cell_type": "markdown",
   "metadata": {},
   "source": [
    " * 대분류명 별 상품분류데이터는 몇 건이 있는지? => 최대 100건, 최소 1건"
   ]
  },
  {
   "cell_type": "code",
   "execution_count": 103,
   "metadata": {},
   "outputs": [
    {
     "data": {
      "text/plain": [
       "Fashion Accessories                          100\n",
       "Meats                                         80\n",
       "Sea Foods                                     76\n",
       "Vegetables                                    70\n",
       "Kids' Clothing                                67\n",
       "Stationary / Office Supplies                  61\n",
       "Fruits                                        56\n",
       "Underwear / Socks and Hosiery / Homewear      53\n",
       "Sport Fashion                                 52\n",
       "Spices / Seasonings                           49\n",
       "Cosmetics / Beauty Care                       48\n",
       "Personal Care                                 38\n",
       "Snack Foods                                   36\n",
       "Tableware / Cooking Utensils                  35\n",
       "Gardening / Pets                              35\n",
       "Cooked Foods                                  35\n",
       "Home / Kitchen Appliances                     33\n",
       "Chilled Foods                                 32\n",
       "Cleaning / Laundry / Bathroom Accessories     30\n",
       "Bedding / Handicraft                          30\n",
       "Kitchenware                                   30\n",
       "Automotive Products                           29\n",
       "Health Foods                                  29\n",
       "Toy                                           29\n",
       "Detergents / Hygiene Goods                    28\n",
       "Ball Game / Field Sports                      28\n",
       "Dried Sea Foods                               27\n",
       "Furniture                                     26\n",
       "Substitute Foods                              26\n",
       "Outdoor / Leisure Activities                  26\n",
       "Birth Supplies / Baby Products                26\n",
       "Women's Clothing                              25\n",
       "Beverages                                     23\n",
       "Health Care                                   21\n",
       "Liquors / Alcoholic Beverages                 21\n",
       "Frozen Foods                                  20\n",
       "Men's Clothing                                20\n",
       "Coffee / Tea                                  18\n",
       "Home Decor / Lighting                         18\n",
       "Tenants / Restaurants                         17\n",
       "Seasonal Sports                               17\n",
       "Canned / Jarred Foods                         15\n",
       "Grains                                        15\n",
       "Video / Audio System Electronics              14\n",
       "Tools / Safety Supplies                       13\n",
       "Computers                                     13\n",
       "Health / Fitness Training                     12\n",
       "Dairy Products                                 9\n",
       "Heating / Cooling Electronics                  9\n",
       "Books / Records / Instruments                  9\n",
       "Living / Rental Services                       6\n",
       "Cell Phones / Accessories                      6\n",
       "Refrigerators and Washing Machines             5\n",
       "Gift Certificates / Cards                      5\n",
       "Baby Foods                                     4\n",
       "Tobacco                                        3\n",
       "Finance / Insurance Service                    3\n",
       "Travel / Leisure Services                      3\n",
       "Others (Non-Products)                          2\n",
       "Other Products                                 1\n",
       "Name: clac_nm1, dtype: int64"
      ]
     },
     "execution_count": 103,
     "metadata": {},
     "output_type": "execute_result"
    }
   ],
   "source": [
    "raw_data4_Item_Class['clac_nm1'].value_counts()"
   ]
  },
  {
   "cell_type": "markdown",
   "metadata": {},
   "source": [
    " * 결측치 갯수 확인 => 없음"
   ]
  },
  {
   "cell_type": "code",
   "execution_count": 104,
   "metadata": {},
   "outputs": [
    {
     "data": {
      "text/plain": [
       "0"
      ]
     },
     "execution_count": 104,
     "metadata": {},
     "output_type": "execute_result"
    }
   ],
   "source": [
    "raw_data4_Item_Class['clac_nm1'].isna().sum()"
   ]
  },
  {
   "cell_type": "markdown",
   "metadata": {},
   "source": [
    "### 4-3. clac_nm2 : 상품 중분류명"
   ]
  },
  {
   "cell_type": "markdown",
   "metadata": {},
   "source": [
    " * 상품분류데이터 내 중분류명의 종류는 몇 개나 있는가?? => 332개"
   ]
  },
  {
   "cell_type": "code",
   "execution_count": 105,
   "metadata": {},
   "outputs": [
    {
     "data": {
      "text/plain": [
       "332"
      ]
     },
     "execution_count": 105,
     "metadata": {},
     "output_type": "execute_result"
    }
   ],
   "source": [
    "raw_data4_Item_Class['clac_nm2'].nunique()"
   ]
  },
  {
   "cell_type": "markdown",
   "metadata": {},
   "source": [
    " * 중분류명 별 상품분류데이터는 몇 건이 있는지? => 최대 19건, 최소 1건"
   ]
  },
  {
   "cell_type": "code",
   "execution_count": 106,
   "metadata": {},
   "outputs": [
    {
     "data": {
      "text/plain": [
       "Fish                          19\n",
       "Kitchen Appliances            17\n",
       "Leaf Vegetables               16\n",
       "Imported Fruits               16\n",
       "Domestic Fruits               16\n",
       "                              ..\n",
       "Income from leasing            1\n",
       "Men's Special Use Clothing     1\n",
       "Bag Sets                       1\n",
       "Special Cigarettes             1\n",
       "Boys' Clothing Sets            1\n",
       "Name: clac_nm2, Length: 332, dtype: int64"
      ]
     },
     "execution_count": 106,
     "metadata": {},
     "output_type": "execute_result"
    }
   ],
   "source": [
    "raw_data4_Item_Class['clac_nm2'].value_counts()"
   ]
  },
  {
   "cell_type": "markdown",
   "metadata": {},
   "source": [
    " * 결측치 갯수 확인 => 없음"
   ]
  },
  {
   "cell_type": "code",
   "execution_count": 107,
   "metadata": {},
   "outputs": [
    {
     "data": {
      "text/plain": [
       "0"
      ]
     },
     "execution_count": 107,
     "metadata": {},
     "output_type": "execute_result"
    }
   ],
   "source": [
    "raw_data4_Item_Class['clac_nm2'].isna().sum()"
   ]
  },
  {
   "cell_type": "markdown",
   "metadata": {},
   "source": [
    "### 4-4. clac_nm3 : 상품 소분류명"
   ]
  },
  {
   "cell_type": "markdown",
   "metadata": {},
   "source": [
    " * 상품분류데이터 내 소분류명의 종류는 몇 개나 있는가?? => 1662개\n",
    "     * 4-1. 소분류코드 종류 갯수 : 1667개\n",
    "     * 1662 + 3(같은이름 다른코드) + 2(결측치) = 1667"
   ]
  },
  {
   "cell_type": "code",
   "execution_count": 108,
   "metadata": {},
   "outputs": [
    {
     "data": {
      "text/plain": [
       "1662"
      ]
     },
     "execution_count": 108,
     "metadata": {},
     "output_type": "execute_result"
    }
   ],
   "source": [
    "raw_data4_Item_Class['clac_nm3'].nunique()"
   ]
  },
  {
   "cell_type": "markdown",
   "metadata": {},
   "source": [
    " * 소분류명 별 상품분류데이터는 몇 건이 있는지? => 최대 2건, 최소 1건\n",
    "     * 같은 상품 이름에 서로다른 소분류 코드 존재(Salads, Peppers, Lunch Boxes)"
   ]
  },
  {
   "cell_type": "code",
   "execution_count": 109,
   "metadata": {},
   "outputs": [
    {
     "data": {
      "text/plain": [
       "Peppers                                  2\n",
       "Lunch Boxes                              2\n",
       "Salads                                   2\n",
       "Post It Notes                            1\n",
       "Infant / Toddlers' Button-Down Shirts    1\n",
       "                                        ..\n",
       "Bookcases / File Cabinets                1\n",
       "Half-Dried Fish                          1\n",
       "Adults' Pads / Bed Spread                1\n",
       "Beans                                    1\n",
       "Movies / Cultures Mobile Gift Cards      1\n",
       "Name: clac_nm3, Length: 1662, dtype: int64"
      ]
     },
     "execution_count": 109,
     "metadata": {},
     "output_type": "execute_result"
    }
   ],
   "source": [
    "raw_data4_Item_Class['clac_nm3'].value_counts()"
   ]
  },
  {
   "cell_type": "markdown",
   "metadata": {},
   "source": [
    " * 결측치 갯수 확인 => 2개"
   ]
  },
  {
   "cell_type": "code",
   "execution_count": 110,
   "metadata": {},
   "outputs": [
    {
     "data": {
      "text/plain": [
       "2"
      ]
     },
     "execution_count": 110,
     "metadata": {},
     "output_type": "execute_result"
    }
   ],
   "source": [
    "raw_data4_Item_Class['clac_nm3'].isna().sum()"
   ]
  },
  {
   "cell_type": "markdown",
   "metadata": {},
   "source": [
    "* 시각화 예시 - 막대 그래프"
   ]
  },
  {
   "cell_type": "code",
   "execution_count": 111,
   "metadata": {},
   "outputs": [
    {
     "data": {
      "image/png": "[encoded data removed]",
      "text/plain": [
       "<Figure size 432x288 with 1 Axes>"
      ]
     },
     "metadata": {},
     "output_type": "display_data"
    }
   ],
   "source": [
    "plt.style.use('ggplot')\n",
    "\n",
    "fig = plt.figure()\n",
    "\n",
    "ax = fig.add_subplot()\n",
    "ax.bar(raw_data1_Online_Act['biz_unit'].unique(), raw_data1_Online_Act['biz_unit'].value_counts())\n",
    "\n",
    "plt.show()"
   ]
  }
 ],
 "metadata": {
  "kernelspec": {
   "display_name": "aiffel",
   "language": "python",
   "name": "aiffel"
  },
  "language_info": {
   "codemirror_mode": {
    "name": "ipython",
    "version": 3
   },
   "file_extension": ".py",
   "mimetype": "text/x-python",
   "name": "python",
   "nbconvert_exporter": "python",
   "pygments_lexer": "ipython3",
   "version": "3.8.5"
  }
 },
 "nbformat": 4,
 "nbformat_minor": 4
}
